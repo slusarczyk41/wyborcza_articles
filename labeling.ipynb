{
  "cells": [
    {
      "metadata": {
        "trusted": true
      },
      "cell_type": "code",
      "source": "# theory: https://www.youtube.com/watch?v=ERibwqs9p38 stanford lectures about NLP\n\n# algorithms: \n# SG - Skip grams (predit context based on word)\n# CBOW - Countinous bag of words (predict word based on context)\n\n# I will use it to create vectors (or use SVD or GloVe)\n# Do pca to draw a graph\n# Pick a few words for each emotion\n# Mark them on chart and pick surrouding words\n# The more close it is the bigger weight has\n\n# And then I have more emotionaly sensed words for classification \n# from which I can label each comment\n# And train model to classify comment based on TF*ITF\n\n# practice: ",
      "execution_count": 1,
      "outputs": []
    },
    {
      "metadata": {},
      "cell_type": "markdown",
      "source": "# Emotions and corresponding words"
    },
    {
      "metadata": {
        "trusted": true
      },
      "cell_type": "code",
      "source": "# Articles about terrorism or murder\nrage = ['nienawidze', 'zabic', 'zniszczyc', 'nienawisc', 'denerwuje']\n# Goverment changes something to bettter\njoy = ['dziekuje', 'swietnie', 'ciesze', 'super']\n# Tragedy\nsadness = ['dolujace', 'smutne', 'szkoda', 'zaluje']\n# Celebretities gossips\nsurprise = ['zaskoczylo', 'dziwne', 'niesamowite', 'zaskakujace', 'ciekawe']\n# Scary news\nfear = ['boje', 'strach', 'straszne']\n\nall_flag_words = rage + joy + sadness + surprise + fear ",
      "execution_count": 2,
      "outputs": []
    },
    {
      "metadata": {},
      "cell_type": "markdown",
      "source": "## SVD\nhttps://www.youtube.com/watch?v=ASn7ExxLZws"
    },
    {
      "metadata": {},
      "cell_type": "markdown",
      "source": "### Data (matrix) preparation"
    },
    {
      "metadata": {
        "trusted": true
      },
      "cell_type": "code",
      "source": "import pandas as pd",
      "execution_count": 3,
      "outputs": []
    },
    {
      "metadata": {
        "trusted": true
      },
      "cell_type": "code",
      "source": "import numpy as np",
      "execution_count": 4,
      "outputs": []
    },
    {
      "metadata": {
        "trusted": true
      },
      "cell_type": "code",
      "source": "df = pd.read_csv('processed_comments_1.csv', nrows = 2000)[['words']]",
      "execution_count": 5,
      "outputs": []
    },
    {
      "metadata": {
        "trusted": true
      },
      "cell_type": "code",
      "source": "df = df[df['words'].str.contains(r'|'.join(all_flag_words))]",
      "execution_count": 6,
      "outputs": []
    },
    {
      "metadata": {
        "trusted": true
      },
      "cell_type": "code",
      "source": "words_dict_counter = {}\nstep = 3\n\nfor comment in df['words']:\n    listed_comment = eval(comment)\n    contains_word_flag = False\n\n    for i, word in enumerate(listed_comment):\n\n        if word not in words_dict_counter.keys():\n            words_dict_counter[word] = {}\n\n        if i-step < 0:\n            first_index = 0\n            to_delete = i\n        else:\n            first_index = i-step\n            to_delete = step\n\n        corresponding_words = listed_comment[first_index: i+step+1]\n        del corresponding_words[to_delete]\n\n        for corresponding_word in corresponding_words:\n            if corresponding_word not in words_dict_counter[word].keys():\n                words_dict_counter[word][corresponding_word] = 1\n            else:\n                words_dict_counter[word][corresponding_word] += 1",
      "execution_count": 7,
      "outputs": []
    },
    {
      "metadata": {
        "trusted": true
      },
      "cell_type": "code",
      "source": "word_order = words_dict_counter.keys()",
      "execution_count": 8,
      "outputs": []
    },
    {
      "metadata": {
        "trusted": true
      },
      "cell_type": "code",
      "source": "words_to_stay_in_matrix = []\nfor needed_word in all_flag_words:\n    if needed_word in words_dict_counter.keys():\n        words_to_stay_in_matrix.append(needed_word)\n        for found_word in words_dict_counter[needed_word]:\n            words_to_stay_in_matrix.append(found_word)",
      "execution_count": 9,
      "outputs": []
    },
    {
      "metadata": {
        "trusted": true
      },
      "cell_type": "code",
      "source": "matrix = []\nfor i, ordered_word_i in enumerate(words_to_stay_in_matrix):\n    proximity = words_dict_counter[ordered_word_i]\n    ordered_row = []\n    for j, ordered_word_j in enumerate(words_to_stay_in_matrix):\n        if i == j:\n            ordered_row.append(0)\n            continue\n        if ordered_word_j in proximity.keys():\n            ordered_row.append(proximity[ordered_word_j])\n        else:\n            ordered_row.append(0)\n    matrix.append(ordered_row)",
      "execution_count": 10,
      "outputs": []
    },
    {
      "metadata": {
        "trusted": true
      },
      "cell_type": "code",
      "source": "word_matrix = np.array(matrix).astype('float32')",
      "execution_count": 11,
      "outputs": []
    },
    {
      "metadata": {
        "trusted": true
      },
      "cell_type": "code",
      "source": "word_matrix.shape",
      "execution_count": 12,
      "outputs": [
        {
          "output_type": "execute_result",
          "execution_count": 12,
          "data": {
            "text/plain": "(348, 348)"
          },
          "metadata": {}
        }
      ]
    },
    {
      "metadata": {},
      "cell_type": "markdown",
      "source": "### SVD evaluation"
    },
    {
      "metadata": {
        "trusted": true
      },
      "cell_type": "code",
      "source": "import matplotlib.pyplot as plt",
      "execution_count": 13,
      "outputs": []
    },
    {
      "metadata": {
        "trusted": true
      },
      "cell_type": "code",
      "source": "U, s, V = np.linalg.svd(word_matrix, full_matrices=False)",
      "execution_count": 14,
      "outputs": []
    },
    {
      "metadata": {
        "trusted": true
      },
      "cell_type": "code",
      "source": "U.shape",
      "execution_count": 15,
      "outputs": [
        {
          "output_type": "execute_result",
          "execution_count": 15,
          "data": {
            "text/plain": "(348, 348)"
          },
          "metadata": {}
        }
      ]
    },
    {
      "metadata": {
        "trusted": true
      },
      "cell_type": "code",
      "source": "a = 0.5\nfor i, word in enumerate(words_to_stay_in_matrix):\n    if word in all_flag_words:\n        plt.text(U[i, 0], U[i, 1], word, color='r')\n    else:\n        plt.text(U[i, 0], U[i, 1], word)\nplt.axis([-a, a, -a, a])",
      "execution_count": 16,
      "outputs": [
        {
          "output_type": "execute_result",
          "execution_count": 16,
          "data": {
            "text/plain": "[-0.5, 0.5, -0.5, 0.5]"
          },
          "metadata": {}
        },
        {
          "output_type": "display_data",
          "data": {
            "image/png": "[encoded data removed]",
            "text/plain": "<matplotlib.figure.Figure at 0x7f82482cdbe0>"
          },
          "metadata": {}
        }
      ]
    },
    {
      "metadata": {},
      "cell_type": "markdown",
      "source": "Having so many comments it is not possible for me to make it work for whole dataset, and it seems that it won't give me a good results. Let's try another ones."
    },
    {
      "metadata": {},
      "cell_type": "markdown",
      "source": "## Word2Vec\n\nhttps://towardsdatascience.com/learn-word2vec-by-implementing-it-in-tensorflow-45641adaf2ac\n"
    },
    {
      "metadata": {
        "trusted": true
      },
      "cell_type": "code",
      "source": "import tensorflow as tf",
      "execution_count": 17,
      "outputs": []
    },
    {
      "metadata": {},
      "cell_type": "markdown",
      "source": "### Data (pairs) preparation"
    },
    {
      "metadata": {
        "trusted": true
      },
      "cell_type": "code",
      "source": "from random import shuffle",
      "execution_count": 18,
      "outputs": []
    },
    {
      "metadata": {
        "trusted": true
      },
      "cell_type": "code",
      "source": "pairs = []\nwords = []\nfor middle_word, proximity in words_dict_counter.items():\n    words.append(middle_word)\n    for proximity_word, num_of_occurences in proximity.items():\n        words.append(proximity_word)\n        for i in range(num_of_occurences):\n            pairs.append([proximity_word, middle_word])",
      "execution_count": 19,
      "outputs": []
    },
    {
      "metadata": {
        "trusted": true
      },
      "cell_type": "code",
      "source": "shuffle(pairs) # to shuffle duplicates",
      "execution_count": 20,
      "outputs": []
    },
    {
      "metadata": {
        "trusted": true
      },
      "cell_type": "code",
      "source": "pairs[:10]",
      "execution_count": 21,
      "outputs": [
        {
          "output_type": "execute_result",
          "execution_count": 21,
          "data": {
            "text/plain": "[['sygnalu', 'ludzie'],\n ['rozpoznawaniu', 'polsce'],\n ['antyutleniaczem', 'niezbedna'],\n ['jest', 'nieladnie'],\n ['nowoscia', 'wiec'],\n ['przecietny', 'czasu'],\n ['dolinie', 'morawiecki'],\n ['o', 'r'],\n ['woli', 'znicz'],\n ['procesy', 'placimy']]"
          },
          "metadata": {}
        }
      ]
    },
    {
      "metadata": {
        "trusted": true
      },
      "cell_type": "code",
      "source": "word2int = {}\nint2word = {}\nfor i,word in enumerate(list(set(words))):\n    word2int[word] = i\n    int2word[i] = word",
      "execution_count": 22,
      "outputs": []
    },
    {
      "metadata": {
        "trusted": true
      },
      "cell_type": "code",
      "source": "vocab_size = len(set(words))",
      "execution_count": 23,
      "outputs": []
    },
    {
      "metadata": {
        "trusted": true
      },
      "cell_type": "code",
      "source": "def to_one_hot(data_point_index, vocab_size):\n    temp = np.zeros(vocab_size)\n    temp[data_point_index] = 1\n    return temp",
      "execution_count": 24,
      "outputs": []
    },
    {
      "metadata": {
        "trusted": true
      },
      "cell_type": "code",
      "source": "x_train = [] \ny_train = [] ",
      "execution_count": 25,
      "outputs": []
    },
    {
      "metadata": {
        "trusted": true
      },
      "cell_type": "code",
      "source": "for pair in pairs:\n    x_train.append(to_one_hot(word2int[ pair[0] ], vocab_size))\n    y_train.append(to_one_hot(word2int[ pair[1] ], vocab_size))",
      "execution_count": 26,
      "outputs": []
    },
    {
      "metadata": {
        "trusted": true
      },
      "cell_type": "code",
      "source": "x_train = np.asarray(x_train)\ny_train = np.asarray(y_train)",
      "execution_count": 27,
      "outputs": []
    },
    {
      "metadata": {
        "trusted": true
      },
      "cell_type": "code",
      "source": "print(x_train.shape, y_train.shape)",
      "execution_count": 28,
      "outputs": [
        {
          "output_type": "stream",
          "text": "(14252, 2049) (14252, 2049)\n",
          "name": "stdout"
        }
      ]
    },
    {
      "metadata": {
        "trusted": true
      },
      "cell_type": "code",
      "source": "x = tf.placeholder(tf.float32, shape=(None, vocab_size))\ny_label = tf.placeholder(tf.float32, shape=(None, vocab_size))",
      "execution_count": 29,
      "outputs": []
    },
    {
      "metadata": {
        "trusted": true
      },
      "cell_type": "code",
      "source": "EMBEDDING_DIM = step",
      "execution_count": 30,
      "outputs": []
    },
    {
      "metadata": {
        "trusted": true
      },
      "cell_type": "code",
      "source": "W1 = tf.Variable(tf.random_normal([vocab_size, EMBEDDING_DIM]))\nb1 = tf.Variable(tf.random_normal([EMBEDDING_DIM]))\nhidden_representation = tf.add(tf.matmul(x,W1), b1)",
      "execution_count": 31,
      "outputs": []
    },
    {
      "metadata": {
        "trusted": true
      },
      "cell_type": "code",
      "source": "W2 = tf.Variable(tf.random_normal([EMBEDDING_DIM, vocab_size]))\nb2 = tf.Variable(tf.random_normal([vocab_size]))\nprediction = tf.nn.softmax(tf.add( tf.matmul(hidden_representation, W2), b2))",
      "execution_count": 32,
      "outputs": []
    },
    {
      "metadata": {
        "trusted": true
      },
      "cell_type": "code",
      "source": "sess = tf.Session()\ninit = tf.global_variables_initializer()\nsess.run(init)",
      "execution_count": 33,
      "outputs": []
    },
    {
      "metadata": {
        "trusted": true
      },
      "cell_type": "code",
      "source": "cross_entropy_loss = tf.reduce_mean(-tf.reduce_sum(y_label * tf.log(prediction), reduction_indices=[1]))",
      "execution_count": 34,
      "outputs": []
    },
    {
      "metadata": {
        "trusted": true
      },
      "cell_type": "code",
      "source": "train_step = tf.train.GradientDescentOptimizer(0.05).minimize(cross_entropy_loss)",
      "execution_count": 35,
      "outputs": []
    },
    {
      "metadata": {
        "trusted": true
      },
      "cell_type": "code",
      "source": "n_iters = 1000",
      "execution_count": 36,
      "outputs": []
    },
    {
      "metadata": {
        "trusted": true
      },
      "cell_type": "code",
      "source": "for _ in range(n_iters):\n    sess.run(train_step, feed_dict={x: x_train, y_label: y_train})\n    #print('loss is : ', sess.run(cross_entropy_loss, feed_dict={x: x_train, y_label: y_train}))",
      "execution_count": 37,
      "outputs": []
    },
    {
      "metadata": {
        "trusted": true
      },
      "cell_type": "code",
      "source": "vectors = sess.run(W1 + b1)",
      "execution_count": 38,
      "outputs": []
    },
    {
      "metadata": {
        "trusted": true
      },
      "cell_type": "code",
      "source": "from sklearn.manifold import TSNE",
      "execution_count": 39,
      "outputs": []
    },
    {
      "metadata": {
        "trusted": true
      },
      "cell_type": "code",
      "source": "model = TSNE(n_components=2, random_state=0)\nnp.set_printoptions(suppress=True)\nvectors = model.fit_transform(vectors)",
      "execution_count": 40,
      "outputs": []
    },
    {
      "metadata": {
        "trusted": true
      },
      "cell_type": "code",
      "source": "from sklearn import preprocessing",
      "execution_count": 41,
      "outputs": []
    },
    {
      "metadata": {
        "trusted": true
      },
      "cell_type": "code",
      "source": "normalizer = preprocessing.Normalizer()\nvectors =  normalizer.fit_transform(vectors, 'l2')",
      "execution_count": 42,
      "outputs": []
    },
    {
      "metadata": {
        "trusted": true
      },
      "cell_type": "code",
      "source": "import matplotlib.pyplot as plt\nfig, ax = plt.subplots()\nfor word in words:\n    ax.annotate(word, (vectors[word2int[word]][0],vectors[word2int[word]][1] ))\nplt.show()",
      "execution_count": 43,
      "outputs": [
        {
          "output_type": "display_data",
          "data": {
            "image/png": "[encoded data removed]",
            "text/plain": "<matplotlib.figure.Figure at 0x7f8244eaa8d0>"
          },
          "metadata": {}
        }
      ]
    },
    {
      "metadata": {
        "trusted": true
      },
      "cell_type": "code",
      "source": "",
      "execution_count": null,
      "outputs": []
    },
    {
      "metadata": {
        "trusted": true
      },
      "cell_type": "code",
      "source": "",
      "execution_count": null,
      "outputs": []
    },
    {
      "metadata": {},
      "cell_type": "markdown",
      "source": "## GloVe"
    },
    {
      "metadata": {
        "trusted": true
      },
      "cell_type": "code",
      "source": "",
      "execution_count": null,
      "outputs": []
    },
    {
      "metadata": {
        "trusted": true
      },
      "cell_type": "code",
      "source": "",
      "execution_count": null,
      "outputs": []
    },
    {
      "metadata": {},
      "cell_type": "markdown",
      "source": "## Pick a few emotion words and their proimity from models"
    },
    {
      "metadata": {
        "trusted": true
      },
      "cell_type": "code",
      "source": "",
      "execution_count": null,
      "outputs": []
    },
    {
      "metadata": {
        "trusted": true
      },
      "cell_type": "code",
      "source": "",
      "execution_count": null,
      "outputs": []
    },
    {
      "metadata": {},
      "cell_type": "markdown",
      "source": "## Assign labels to comments"
    },
    {
      "metadata": {
        "trusted": true
      },
      "cell_type": "code",
      "source": "",
      "execution_count": null,
      "outputs": []
    },
    {
      "metadata": {
        "trusted": true
      },
      "cell_type": "code",
      "source": "",
      "execution_count": null,
      "outputs": []
    }
  ],
  "metadata": {
    "kernelspec": {
      "name": "python3",
      "display_name": "Python 3",
      "language": "python"
    },
    "language_info": {
      "mimetype": "text/x-python",
      "nbconvert_exporter": "python",
      "name": "python",
      "pygments_lexer": "ipython3",
      "version": "3.5.4",
      "file_extension": ".py",
      "codemirror_mode": {
        "version": 3,
        "name": "ipython"
      }
    }
  },
  "nbformat": 4,
  "nbformat_minor": 2
}