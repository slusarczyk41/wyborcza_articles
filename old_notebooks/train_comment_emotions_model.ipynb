{
 "cells": [
  {
   "cell_type": "code",
   "execution_count": 1,
   "metadata": {},
   "outputs": [],
   "source": [
    "# Thats our five classes\n",
    "from labeling.emotions import rage, joy, sadness, surprise, fear, all_flag_words"
   ]
  },
  {
   "cell_type": "code",
   "execution_count": 2,
   "metadata": {},
   "outputs": [],
   "source": [
    "xd = 20000"
   ]
  },
  {
   "cell_type": "code",
   "execution_count": 3,
   "metadata": {},
   "outputs": [],
   "source": [
    "import numpy as np"
   ]
  },
  {
   "cell_type": "code",
   "execution_count": 4,
   "metadata": {},
   "outputs": [],
   "source": [
    "import pandas as pd"
   ]
  },
  {
   "cell_type": "code",
   "execution_count": 5,
   "metadata": {},
   "outputs": [],
   "source": [
    "df = pd.read_csv('data/processed_comments_1.csv', nrows = xd)"
   ]
  },
  {
   "cell_type": "code",
   "execution_count": 6,
   "metadata": {},
   "outputs": [],
   "source": [
    "comments = df['words'].str.strip('[]').str.replace(\"'\", '').str.split(',').values"
   ]
  },
  {
   "cell_type": "code",
   "execution_count": 7,
   "metadata": {},
   "outputs": [],
   "source": [
    "strip_com = []\n",
    "for comment in comments:\n",
    "    strip_tmp = []\n",
    "    for word in comment:\n",
    "        strip_tmp.append(word.strip())\n",
    "    strip_com.append(strip_tmp)"
   ]
  },
  {
   "cell_type": "code",
   "execution_count": 8,
   "metadata": {},
   "outputs": [],
   "source": [
    "comments = strip_com"
   ]
  },
  {
   "cell_type": "code",
   "execution_count": 9,
   "metadata": {},
   "outputs": [],
   "source": [
    "urls = df['url'].values"
   ]
  },
  {
   "cell_type": "markdown",
   "metadata": {},
   "source": [
    "### Calculate log TF-IDF\n",
    "https://en.wikipedia.org/wiki/Tf%E2%80%93idf"
   ]
  },
  {
   "cell_type": "code",
   "execution_count": 10,
   "metadata": {},
   "outputs": [],
   "source": [
    "words = [word for com_list in [com for com in comments] for word in com_list]"
   ]
  },
  {
   "cell_type": "code",
   "execution_count": 11,
   "metadata": {},
   "outputs": [],
   "source": [
    "from collections import Counter"
   ]
  },
  {
   "cell_type": "code",
   "execution_count": 12,
   "metadata": {},
   "outputs": [],
   "source": [
    "word_freq = dict(Counter(words))"
   ]
  },
  {
   "cell_type": "code",
   "execution_count": 13,
   "metadata": {},
   "outputs": [],
   "source": [
    "# I do not need words which occur in the whole document just once or two\n",
    "word_freq_filter = {word: freq for word, freq in word_freq.items() if freq > round(xd*0.001) or word in all_flag_words}.keys()"
   ]
  },
  {
   "cell_type": "code",
   "execution_count": 14,
   "metadata": {},
   "outputs": [],
   "source": [
    "unique_words = word_freq_filter"
   ]
  },
  {
   "cell_type": "code",
   "execution_count": 15,
   "metadata": {},
   "outputs": [],
   "source": [
    "vocab_size = len(unique_words)"
   ]
  },
  {
   "cell_type": "code",
   "execution_count": 16,
   "metadata": {},
   "outputs": [
    {
     "data": {
      "text/plain": [
       "2285"
      ]
     },
     "execution_count": 16,
     "metadata": {},
     "output_type": "execute_result"
    }
   ],
   "source": [
    "vocab_size"
   ]
  },
  {
   "cell_type": "code",
   "execution_count": 17,
   "metadata": {},
   "outputs": [],
   "source": [
    "word2int = {}\n",
    "int2word = {}\n",
    "for i,word in enumerate(unique_words):\n",
    "    word2int[word] = i\n",
    "    int2word[i] = word"
   ]
  },
  {
   "cell_type": "code",
   "execution_count": 18,
   "metadata": {},
   "outputs": [],
   "source": [
    "comments_tf_idf = []\n",
    "labels = []\n",
    "\n",
    "for comment in comments:\n",
    "    tmp_vec = np.zeros(vocab_size)\n",
    "    tmp_labels = np.zeros(5)\n",
    "    \n",
    "    tmp_word_freq = dict(Counter(comment))\n",
    "    for word, count in tmp_word_freq.items():\n",
    "        # for each comment calculate\n",
    "        \n",
    "        # label\n",
    "        for i, emotion in enumerate([rage, joy, sadness, surprise, fear]):\n",
    "            for flag_word in emotion:\n",
    "                if word == flag_word:\n",
    "                    tmp_labels[i] += 1\n",
    "        \n",
    "        # and vector with tf-idf features\n",
    "        if word in word_freq_filter:\n",
    "            tmp_vec[word2int[word]] = np.log(1 + count / word_freq[word])\n",
    "    comments_tf_idf.append(tmp_vec)\n",
    "    # sqrt to soften labels where there was a lot of emotions\n",
    "    labels.append(np.sqrt(tmp_labels))"
   ]
  },
  {
   "cell_type": "code",
   "execution_count": 19,
   "metadata": {},
   "outputs": [],
   "source": [
    "del comments"
   ]
  },
  {
   "cell_type": "code",
   "execution_count": 20,
   "metadata": {},
   "outputs": [],
   "source": [
    "x = np.asarray(comments_tf_idf)\n",
    "y = np.asarray(labels)"
   ]
  },
  {
   "cell_type": "code",
   "execution_count": 21,
   "metadata": {},
   "outputs": [],
   "source": [
    "del comments_tf_idf\n",
    "del labels"
   ]
  },
  {
   "cell_type": "code",
   "execution_count": 22,
   "metadata": {},
   "outputs": [
    {
     "name": "stdout",
     "output_type": "stream",
     "text": [
      "(20000, 2285) (20000, 5)\n"
     ]
    }
   ],
   "source": [
    "print(x.shape, y.shape)"
   ]
  },
  {
   "cell_type": "markdown",
   "metadata": {},
   "source": [
    "### Modeling"
   ]
  },
  {
   "cell_type": "code",
   "execution_count": 23,
   "metadata": {},
   "outputs": [],
   "source": [
    "from tensorflow.keras import Sequential\n",
    "from tensorflow.keras.layers import Dense\n",
    "from tensorflow.nn import relu"
   ]
  },
  {
   "cell_type": "code",
   "execution_count": 24,
   "metadata": {},
   "outputs": [
    {
     "name": "stderr",
     "output_type": "stream",
     "text": [
      "WARNING: Logging before flag parsing goes to stderr.\n",
      "W0624 20:45:21.718288 140385189427008 deprecation.py:506] From /home/jacek/anaconda3/lib/python3.7/site-packages/tensorflow/python/ops/init_ops.py:1251: calling VarianceScaling.__init__ (from tensorflow.python.ops.init_ops) with dtype is deprecated and will be removed in a future version.\n",
      "Instructions for updating:\n",
      "Call initializer instance with the dtype argument instead of passing it to the constructor\n"
     ]
    }
   ],
   "source": [
    "model = Sequential([\n",
    "    Dense(vocab_size/50, activation=relu, input_shape=[vocab_size]),\n",
    "    Dense(vocab_size/50, activation=relu),\n",
    "    Dense(5)\n",
    "])"
   ]
  },
  {
   "cell_type": "code",
   "execution_count": 25,
   "metadata": {},
   "outputs": [],
   "source": [
    "from tensorflow.keras.optimizers import RMSprop"
   ]
  },
  {
   "cell_type": "code",
   "execution_count": 26,
   "metadata": {},
   "outputs": [],
   "source": [
    "optimizer = RMSprop(0.003)"
   ]
  },
  {
   "cell_type": "code",
   "execution_count": 27,
   "metadata": {},
   "outputs": [],
   "source": [
    "model.compile(\n",
    "    loss='mean_squared_error',\n",
    "    optimizer=optimizer,\n",
    "    metrics=['mean_absolute_error']\n",
    ")"
   ]
  },
  {
   "cell_type": "code",
   "execution_count": 28,
   "metadata": {},
   "outputs": [],
   "source": [
    "b = int(0.8 * len(x))"
   ]
  },
  {
   "cell_type": "code",
   "execution_count": 29,
   "metadata": {},
   "outputs": [],
   "source": [
    "train_x = x[:b]\n",
    "train_y = y[:b]\n",
    "\n",
    "test_x = x[b:]\n",
    "test_y = y[b:]"
   ]
  },
  {
   "cell_type": "code",
   "execution_count": 30,
   "metadata": {},
   "outputs": [],
   "source": [
    "del x\n",
    "del y"
   ]
  },
  {
   "cell_type": "code",
   "execution_count": 31,
   "metadata": {},
   "outputs": [
    {
     "name": "stdout",
     "output_type": "stream",
     "text": [
      "[[ 4.9589266e-04  1.7207773e-05  3.8272803e-04 -2.0513443e-04\n",
      "  -3.8568505e-05]\n",
      " [ 1.7561684e-03 -7.9847923e-05  2.1354892e-04 -1.2549100e-03\n",
      "   4.5660147e-04]]\n"
     ]
    }
   ],
   "source": [
    "example_batch = test_x[:2]\n",
    "print(model.predict(example_batch))"
   ]
  },
  {
   "cell_type": "code",
   "execution_count": 32,
   "metadata": {},
   "outputs": [],
   "source": [
    "EPOCHS = 200"
   ]
  },
  {
   "cell_type": "code",
   "execution_count": 33,
   "metadata": {},
   "outputs": [],
   "source": [
    "from tensorflow.keras.callbacks import EarlyStopping"
   ]
  },
  {
   "cell_type": "code",
   "execution_count": 34,
   "metadata": {},
   "outputs": [],
   "source": [
    "early_stop = EarlyStopping(monitor='val_loss', patience=25)"
   ]
  },
  {
   "cell_type": "code",
   "execution_count": 35,
   "metadata": {},
   "outputs": [],
   "source": [
    "history = model.fit(\n",
    "    train_x, train_y,\n",
    "    epochs=EPOCHS, \n",
    "    validation_split = 0.2, \n",
    "    verbose=0,\n",
    "    callbacks=[early_stop]\n",
    ")"
   ]
  },
  {
   "cell_type": "code",
   "execution_count": 36,
   "metadata": {},
   "outputs": [],
   "source": [
    "from datetime import datetime as dt"
   ]
  },
  {
   "cell_type": "code",
   "execution_count": 37,
   "metadata": {},
   "outputs": [],
   "source": [
    "model.save('models/all_data'+dt.now().date().strftime('%Y_%m_%d'))"
   ]
  },
  {
   "cell_type": "code",
   "execution_count": 38,
   "metadata": {},
   "outputs": [],
   "source": [
    "import pandas as pd\n",
    "import matplotlib.pyplot as plt"
   ]
  },
  {
   "cell_type": "code",
   "execution_count": 39,
   "metadata": {},
   "outputs": [],
   "source": [
    "def plot_history(history):\n",
    "    hist = pd.DataFrame(history.history)\n",
    "    hist['epoch'] = history.epoch\n",
    "\n",
    "    plt.figure()\n",
    "    plt.xlabel('Epoch')\n",
    "    plt.ylabel('Mean Abs Error [MPG]')\n",
    "    plt.plot(hist['epoch'], hist['mean_absolute_error'],\n",
    "           label='Train Error')\n",
    "    plt.plot(hist['epoch'], hist['val_mean_absolute_error'],\n",
    "           label = 'Val Error')\n",
    "    m = max(max([history.history['mean_absolute_error'] + history.history['val_mean_absolute_error']]))\n",
    "    plt.ylim([0,m * 1.1])\n",
    "    plt.legend()"
   ]
  },
  {
   "cell_type": "code",
   "execution_count": 40,
   "metadata": {},
   "outputs": [],
   "source": [
    "loss, mae = model.evaluate(test_x, test_y, verbose=0)"
   ]
  },
  {
   "cell_type": "code",
   "execution_count": 41,
   "metadata": {},
   "outputs": [
    {
     "data": {
      "text/plain": [
       "0.006543288"
      ]
     },
     "execution_count": 41,
     "metadata": {},
     "output_type": "execute_result"
    }
   ],
   "source": [
    "mae"
   ]
  },
  {
   "cell_type": "code",
   "execution_count": 42,
   "metadata": {},
   "outputs": [
    {
     "data": {
      "image/png": "[encoded data removed]",
      "text/plain": [
       "<Figure size 432x288 with 1 Axes>"
      ]
     },
     "metadata": {
      "needs_background": "light"
     },
     "output_type": "display_data"
    }
   ],
   "source": [
    "plot_history(history)"
   ]
  },
  {
   "cell_type": "code",
   "execution_count": 43,
   "metadata": {},
   "outputs": [],
   "source": [
    "pred = model.predict(test_x)"
   ]
  },
  {
   "cell_type": "code",
   "execution_count": 44,
   "metadata": {},
   "outputs": [],
   "source": [
    "res = pd.concat([pd.DataFrame(pred), pd.DataFrame(test_y)], axis = 1)"
   ]
  },
  {
   "cell_type": "code",
   "execution_count": 45,
   "metadata": {},
   "outputs": [],
   "source": [
    "res.columns = ['pred_1', 'pred_2', 'pred_3', 'pred_4', 'pred_5',\n",
    "               'real_1', 'real_2', 'real_3', 'real_4', 'real_5']"
   ]
  },
  {
   "cell_type": "code",
   "execution_count": 46,
   "metadata": {},
   "outputs": [
    {
     "data": {
      "text/html": [
       "<div>\n",
       "<style scoped>\n",
       "    .dataframe tbody tr th:only-of-type {\n",
       "        vertical-align: middle;\n",
       "    }\n",
       "\n",
       "    .dataframe tbody tr th {\n",
       "        vertical-align: top;\n",
       "    }\n",
       "\n",
       "    .dataframe thead th {\n",
       "        text-align: right;\n",
       "    }\n",
       "</style>\n",
       "<table border=\"1\" class=\"dataframe\">\n",
       "  <thead>\n",
       "    <tr style=\"text-align: right;\">\n",
       "      <th></th>\n",
       "      <th>pred_1</th>\n",
       "      <th>pred_2</th>\n",
       "      <th>pred_3</th>\n",
       "      <th>pred_4</th>\n",
       "      <th>pred_5</th>\n",
       "      <th>real_1</th>\n",
       "      <th>real_2</th>\n",
       "      <th>real_3</th>\n",
       "      <th>real_4</th>\n",
       "      <th>real_5</th>\n",
       "    </tr>\n",
       "  </thead>\n",
       "  <tbody>\n",
       "    <tr>\n",
       "      <th>119</th>\n",
       "      <td>-0.014421</td>\n",
       "      <td>0.066199</td>\n",
       "      <td>0.144626</td>\n",
       "      <td>-0.005577</td>\n",
       "      <td>0.016024</td>\n",
       "      <td>0.0</td>\n",
       "      <td>0.0</td>\n",
       "      <td>1.0</td>\n",
       "      <td>0.0</td>\n",
       "      <td>0.0</td>\n",
       "    </tr>\n",
       "    <tr>\n",
       "      <th>125</th>\n",
       "      <td>-0.014421</td>\n",
       "      <td>0.066199</td>\n",
       "      <td>0.144626</td>\n",
       "      <td>-0.005577</td>\n",
       "      <td>0.016024</td>\n",
       "      <td>0.0</td>\n",
       "      <td>0.0</td>\n",
       "      <td>1.0</td>\n",
       "      <td>0.0</td>\n",
       "      <td>0.0</td>\n",
       "    </tr>\n",
       "    <tr>\n",
       "      <th>263</th>\n",
       "      <td>-0.019377</td>\n",
       "      <td>0.000908</td>\n",
       "      <td>1.097227</td>\n",
       "      <td>-0.004275</td>\n",
       "      <td>-0.008005</td>\n",
       "      <td>0.0</td>\n",
       "      <td>0.0</td>\n",
       "      <td>1.0</td>\n",
       "      <td>0.0</td>\n",
       "      <td>0.0</td>\n",
       "    </tr>\n",
       "    <tr>\n",
       "      <th>273</th>\n",
       "      <td>-0.010034</td>\n",
       "      <td>0.001600</td>\n",
       "      <td>0.710902</td>\n",
       "      <td>-0.016988</td>\n",
       "      <td>-0.004224</td>\n",
       "      <td>0.0</td>\n",
       "      <td>0.0</td>\n",
       "      <td>1.0</td>\n",
       "      <td>0.0</td>\n",
       "      <td>0.0</td>\n",
       "    </tr>\n",
       "    <tr>\n",
       "      <th>440</th>\n",
       "      <td>-0.026382</td>\n",
       "      <td>0.013662</td>\n",
       "      <td>0.892707</td>\n",
       "      <td>-0.002564</td>\n",
       "      <td>-0.006373</td>\n",
       "      <td>0.0</td>\n",
       "      <td>0.0</td>\n",
       "      <td>1.0</td>\n",
       "      <td>0.0</td>\n",
       "      <td>0.0</td>\n",
       "    </tr>\n",
       "    <tr>\n",
       "      <th>462</th>\n",
       "      <td>-0.012013</td>\n",
       "      <td>-0.001367</td>\n",
       "      <td>1.036732</td>\n",
       "      <td>-0.013936</td>\n",
       "      <td>-0.005480</td>\n",
       "      <td>0.0</td>\n",
       "      <td>0.0</td>\n",
       "      <td>1.0</td>\n",
       "      <td>0.0</td>\n",
       "      <td>0.0</td>\n",
       "    </tr>\n",
       "    <tr>\n",
       "      <th>611</th>\n",
       "      <td>0.014703</td>\n",
       "      <td>0.114243</td>\n",
       "      <td>0.289973</td>\n",
       "      <td>-0.006271</td>\n",
       "      <td>-0.008956</td>\n",
       "      <td>0.0</td>\n",
       "      <td>0.0</td>\n",
       "      <td>1.0</td>\n",
       "      <td>0.0</td>\n",
       "      <td>0.0</td>\n",
       "    </tr>\n",
       "    <tr>\n",
       "      <th>651</th>\n",
       "      <td>-0.015793</td>\n",
       "      <td>-0.001679</td>\n",
       "      <td>1.090519</td>\n",
       "      <td>-0.008724</td>\n",
       "      <td>-0.006877</td>\n",
       "      <td>0.0</td>\n",
       "      <td>0.0</td>\n",
       "      <td>1.0</td>\n",
       "      <td>0.0</td>\n",
       "      <td>0.0</td>\n",
       "    </tr>\n",
       "    <tr>\n",
       "      <th>661</th>\n",
       "      <td>-0.002502</td>\n",
       "      <td>-0.001907</td>\n",
       "      <td>0.910853</td>\n",
       "      <td>-0.018741</td>\n",
       "      <td>-0.003458</td>\n",
       "      <td>0.0</td>\n",
       "      <td>0.0</td>\n",
       "      <td>1.0</td>\n",
       "      <td>0.0</td>\n",
       "      <td>0.0</td>\n",
       "    </tr>\n",
       "    <tr>\n",
       "      <th>790</th>\n",
       "      <td>-0.016349</td>\n",
       "      <td>0.001087</td>\n",
       "      <td>1.053363</td>\n",
       "      <td>-0.008127</td>\n",
       "      <td>-0.006981</td>\n",
       "      <td>0.0</td>\n",
       "      <td>0.0</td>\n",
       "      <td>1.0</td>\n",
       "      <td>0.0</td>\n",
       "      <td>0.0</td>\n",
       "    </tr>\n",
       "  </tbody>\n",
       "</table>\n",
       "</div>"
      ],
      "text/plain": [
       "       pred_1    pred_2    pred_3    pred_4    pred_5  real_1  real_2  real_3  \\\n",
       "119 -0.014421  0.066199  0.144626 -0.005577  0.016024     0.0     0.0     1.0   \n",
       "125 -0.014421  0.066199  0.144626 -0.005577  0.016024     0.0     0.0     1.0   \n",
       "263 -0.019377  0.000908  1.097227 -0.004275 -0.008005     0.0     0.0     1.0   \n",
       "273 -0.010034  0.001600  0.710902 -0.016988 -0.004224     0.0     0.0     1.0   \n",
       "440 -0.026382  0.013662  0.892707 -0.002564 -0.006373     0.0     0.0     1.0   \n",
       "462 -0.012013 -0.001367  1.036732 -0.013936 -0.005480     0.0     0.0     1.0   \n",
       "611  0.014703  0.114243  0.289973 -0.006271 -0.008956     0.0     0.0     1.0   \n",
       "651 -0.015793 -0.001679  1.090519 -0.008724 -0.006877     0.0     0.0     1.0   \n",
       "661 -0.002502 -0.001907  0.910853 -0.018741 -0.003458     0.0     0.0     1.0   \n",
       "790 -0.016349  0.001087  1.053363 -0.008127 -0.006981     0.0     0.0     1.0   \n",
       "\n",
       "     real_4  real_5  \n",
       "119     0.0     0.0  \n",
       "125     0.0     0.0  \n",
       "263     0.0     0.0  \n",
       "273     0.0     0.0  \n",
       "440     0.0     0.0  \n",
       "462     0.0     0.0  \n",
       "611     0.0     0.0  \n",
       "651     0.0     0.0  \n",
       "661     0.0     0.0  \n",
       "790     0.0     0.0  "
      ]
     },
     "execution_count": 46,
     "metadata": {},
     "output_type": "execute_result"
    }
   ],
   "source": [
    "res[res['real_3'] != 0].head(10)"
   ]
  },
  {
   "cell_type": "code",
   "execution_count": null,
   "metadata": {},
   "outputs": [],
   "source": []
  }
 ],
 "metadata": {
  "kernelspec": {
   "display_name": "Python 3",
   "language": "python",
   "name": "python3"
  },
  "language_info": {
   "codemirror_mode": {
    "name": "ipython",
    "version": 3
   },
   "file_extension": ".py",
   "mimetype": "text/x-python",
   "name": "python",
   "nbconvert_exporter": "python",
   "pygments_lexer": "ipython3",
   "version": "3.7.2"
  }
 },
 "nbformat": 4,
 "nbformat_minor": 2
}
