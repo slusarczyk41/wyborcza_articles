{
 "cells": [
  {
   "cell_type": "code",
   "execution_count": 1,
   "metadata": {},
   "outputs": [],
   "source": [
    "# author, division, idf from raw comments\n",
    "# and labels like {comment_id: {\"rage\": 2, \"replies\": 3 ...}}\n",
    "# get the most frequent words as well to be able to filter word2vec file\n",
    "\n",
    "# out files:\n",
    "# - author_dict\n",
    "# - division_dict\n",
    "# - idf_dict\n",
    "\n",
    "# - file with x and y "
   ]
  },
  {
   "cell_type": "code",
   "execution_count": 2,
   "metadata": {},
   "outputs": [],
   "source": [
    "from os import listdir\n",
    "import pandas as pd\n",
    "from labeling.emotions import rage, joy, sadness, surprise, fear"
   ]
  },
  {
   "cell_type": "code",
   "execution_count": 3,
   "metadata": {},
   "outputs": [],
   "source": [
    "months = {\n",
    "    'stycznia': 1,\n",
    "    'lutego': 2,\n",
    "    'marca': 3,\n",
    "    'kwietnia': 4,\n",
    "    'maja': 5,\n",
    "    'czerwca': 6,\n",
    "    'lipca': 7,\n",
    "    'sierpnia': 8,\n",
    "    'września': 9,\n",
    "    'października': 10,\n",
    "    'listopada': 11,\n",
    "    'grudnia': 12\n",
    "}"
   ]
  },
  {
   "cell_type": "code",
   "execution_count": 4,
   "metadata": {},
   "outputs": [],
   "source": [
    "def process_date(months, date):\n",
    "    year = date.split('|')[0].split(' ')[2].strip()\n",
    "    month = str(months[date.split('|')[0].split(' ')[1].strip()])\n",
    "    day = date.split('|')[0].split(' ')[0].strip()\n",
    "    \n",
    "    try:\n",
    "        hour = date.split('|')[1].strip()\n",
    "        return pd.to_datetime(\" \".join([year, month, day, hour]))\n",
    "    except:\n",
    "        return None\n",
    "    \n",
    "    "
   ]
  },
  {
   "cell_type": "code",
   "execution_count": 5,
   "metadata": {},
   "outputs": [],
   "source": [
    "from re import search, sub\n",
    "from unidecode import unidecode"
   ]
  },
  {
   "cell_type": "code",
   "execution_count": 6,
   "metadata": {},
   "outputs": [],
   "source": [
    "rage_regex = \"|\".join(rage)\n",
    "joy_regex = \"|\".join(joy)\n",
    "sadness_regex = \"|\".join(sadness)\n",
    "surprise_regex = \"|\".join(surprise)\n",
    "fear_regex = \"|\".join(fear)"
   ]
  },
  {
   "cell_type": "code",
   "execution_count": 7,
   "metadata": {},
   "outputs": [],
   "source": [
    "def find_emotions(emotions, body):\n",
    "    for i, emotion_regex in enumerate([rage_regex, joy_regex, sadness_regex, surprise_regex, fear_regex]):\n",
    "        if search(emotion_regex, body):\n",
    "            emotions[i] += 1\n",
    "    return emotions"
   ]
  },
  {
   "cell_type": "code",
   "execution_count": 8,
   "metadata": {},
   "outputs": [],
   "source": [
    "def label(comments):\n",
    "    replies = 0\n",
    "\n",
    "    upvotes = 0\n",
    "    downvotes = 0\n",
    "\n",
    "    emotions = [0,0,0,0,0]\n",
    "    for comment in a['comments']:\n",
    "        main = comment['main_comment']\n",
    "\n",
    "        upvotes += int(main['upvotes'])\n",
    "        downvotes += int(main['downvotes'])\n",
    "        replies += 1\n",
    "\n",
    "        emotions = find_emotions(emotions, sub(r\"[^a-z| ]\", \"\", unidecode(main['body']).lower()))\n",
    "        for subcomment in comment['sub_comments']:\n",
    "            try:\n",
    "                upvotes += int(subcomment['upvotes'])\n",
    "                downvotes += int(subcomment['downvotes'])\n",
    "                replies += 1\n",
    "            except:\n",
    "                return None\n",
    "            emotions = find_emotions(emotions, sub(r\"[^a-z| ]\", \"\", unidecode(main['body']).lower()))\n",
    "    return [replies, upvotes, downvotes] + [emotion for emotion in emotions]"
   ]
  },
  {
   "cell_type": "code",
   "execution_count": 9,
   "metadata": {},
   "outputs": [],
   "source": [
    "def remove_specials(body):\n",
    "    return sub(r\"[^a-z| ]\", \"\", unidecode(body).lower())"
   ]
  },
  {
   "cell_type": "code",
   "execution_count": 10,
   "metadata": {},
   "outputs": [],
   "source": [
    "with open('data/polish.stopwords.txt', 'r') as f:\n",
    "    stop_words = f.read().split('\\n')"
   ]
  },
  {
   "cell_type": "code",
   "execution_count": 11,
   "metadata": {},
   "outputs": [],
   "source": [
    "def remove_stop_words(body):\n",
    "    return [word for word in body.split(' ') if word not in stop_words and len(word) > 1]"
   ]
  },
  {
   "cell_type": "code",
   "execution_count": 12,
   "metadata": {},
   "outputs": [],
   "source": [
    "def clean_words(body):\n",
    "    return \" \".join(remove_stop_words(remove_specials(body)))"
   ]
  },
  {
   "cell_type": "code",
   "execution_count": 13,
   "metadata": {},
   "outputs": [],
   "source": [
    "all_articles =[]\n",
    "for article in listdir('data/comments/'):\n",
    "    with open('data/comments/'+article) as f:\n",
    "        articles = []\n",
    "        a = eval(f.read())['row']['comments']\n",
    "        if a['comments'] != []:\n",
    "        \n",
    "            articles.append(article)\n",
    "            articles.append(a['division'])\n",
    "            articles.append(process_date(months, a['pub_date']))\n",
    "            articles.append(a['author'].split(',')[0])\n",
    "\n",
    "            articles.append(clean_words(a['title']))\n",
    "            articles.append(clean_words(a['highlight']))\n",
    "            articles.append(clean_words(a['content']))\n",
    "            articles.append(clean_words(a['media_desc']))\n",
    "\n",
    "            articles.append(a['media_type'])\n",
    "            labels = label(a['comments'])\n",
    "            if labels:\n",
    "                for return_label in labels:\n",
    "                    articles.append(return_label)\n",
    "                all_articles.append(articles)"
   ]
  },
  {
   "cell_type": "code",
   "execution_count": 14,
   "metadata": {},
   "outputs": [],
   "source": [
    "df = pd.DataFrame(all_articles, columns = [\n",
    "    'id', 'div', 'date', 'author', 'title', \n",
    "    'highlight', 'content', 'media_desc', 'media_type',\n",
    "    'replies', 'upvotes', 'downvotes', \n",
    "    'rage', 'joy', 'sadness', 'surprise', 'fear'\n",
    "])\n",
    "df['reactions'] = df['upvotes'] + df['downvotes']\n",
    "df['reactions_sentiment'] = round(df['upvotes'] / df['reactions'], 2)"
   ]
  },
  {
   "cell_type": "code",
   "execution_count": 15,
   "metadata": {},
   "outputs": [
    {
     "data": {
      "text/plain": [
       "14412"
      ]
     },
     "execution_count": 15,
     "metadata": {},
     "output_type": "execute_result"
    }
   ],
   "source": [
    "len(df)"
   ]
  },
  {
   "cell_type": "code",
   "execution_count": 16,
   "metadata": {},
   "outputs": [
    {
     "data": {
      "text/html": [
       "<div>\n",
       "<style scoped>\n",
       "    .dataframe tbody tr th:only-of-type {\n",
       "        vertical-align: middle;\n",
       "    }\n",
       "\n",
       "    .dataframe tbody tr th {\n",
       "        vertical-align: top;\n",
       "    }\n",
       "\n",
       "    .dataframe thead th {\n",
       "        text-align: right;\n",
       "    }\n",
       "</style>\n",
       "<table border=\"1\" class=\"dataframe\">\n",
       "  <thead>\n",
       "    <tr style=\"text-align: right;\">\n",
       "      <th></th>\n",
       "      <th>id</th>\n",
       "      <th>div</th>\n",
       "      <th>date</th>\n",
       "      <th>author</th>\n",
       "      <th>title</th>\n",
       "      <th>highlight</th>\n",
       "      <th>content</th>\n",
       "      <th>media_desc</th>\n",
       "      <th>media_type</th>\n",
       "      <th>replies</th>\n",
       "      <th>upvotes</th>\n",
       "      <th>downvotes</th>\n",
       "      <th>rage</th>\n",
       "      <th>joy</th>\n",
       "      <th>sadness</th>\n",
       "      <th>surprise</th>\n",
       "      <th>fear</th>\n",
       "      <th>reactions</th>\n",
       "      <th>reactions_sentiment</th>\n",
       "    </tr>\n",
       "  </thead>\n",
       "  <tbody>\n",
       "    <tr>\n",
       "      <th>0</th>\n",
       "      <td>24162636</td>\n",
       "      <td>Wiadomości z Poznania</td>\n",
       "      <td>2018-11-13 12:31:00</td>\n",
       "      <td>Tomasz Cylka</td>\n",
       "      <td>poznaniu powroci ul lutego wojewoda zbigniew h...</td>\n",
       "      <td>ostateczna decyzja nazwa ul lutego wrocic mape...</td>\n",
       "      <td>rok temu wojewoda wielkopolski zbigniew hoffma...</td>\n",
       "      <td>poznaniu najwieksze kontrowersje wzbudzila zmi...</td>\n",
       "      <td>image</td>\n",
       "      <td>10</td>\n",
       "      <td>123</td>\n",
       "      <td>0</td>\n",
       "      <td>0</td>\n",
       "      <td>1</td>\n",
       "      <td>0</td>\n",
       "      <td>0</td>\n",
       "      <td>0</td>\n",
       "      <td>123</td>\n",
       "      <td>1.00</td>\n",
       "    </tr>\n",
       "    <tr>\n",
       "      <th>1</th>\n",
       "      <td>24573799</td>\n",
       "      <td>brexit</td>\n",
       "      <td>2019-03-22 10:02:00</td>\n",
       "      <td>Tomasz Bielecki</td>\n",
       "      <td>merkel macrona chcesz zebysmy przeszli histori...</td>\n",
       "      <td>ue odsunie brexit maja izba gmin poprze umowe ...</td>\n",
       "      <td>szef rady europejskiej donald tusk oglosil dec...</td>\n",
       "      <td>brexitowy uber jada brytyjczycy</td>\n",
       "      <td>video</td>\n",
       "      <td>98</td>\n",
       "      <td>655</td>\n",
       "      <td>297</td>\n",
       "      <td>0</td>\n",
       "      <td>0</td>\n",
       "      <td>2</td>\n",
       "      <td>0</td>\n",
       "      <td>0</td>\n",
       "      <td>952</td>\n",
       "      <td>0.69</td>\n",
       "    </tr>\n",
       "    <tr>\n",
       "      <th>2</th>\n",
       "      <td>24760624</td>\n",
       "      <td>cyrk</td>\n",
       "      <td>2019-05-08 07:02:00</td>\n",
       "      <td>Anna Dobiegała</td>\n",
       "      <td>cyrk zwierzetami gdansku mieszkancy oburzeni b...</td>\n",
       "      <td>mieszkancy osowej chca oknami wystepowal cyrk ...</td>\n",
       "      <td>wtorek gdansku wystapil cyrk zalewski udzialem...</td>\n",
       "      <td></td>\n",
       "      <td>image</td>\n",
       "      <td>5</td>\n",
       "      <td>51</td>\n",
       "      <td>9</td>\n",
       "      <td>0</td>\n",
       "      <td>0</td>\n",
       "      <td>0</td>\n",
       "      <td>0</td>\n",
       "      <td>0</td>\n",
       "      <td>60</td>\n",
       "      <td>0.85</td>\n",
       "    </tr>\n",
       "  </tbody>\n",
       "</table>\n",
       "</div>"
      ],
      "text/plain": [
       "         id                    div                date           author  \\\n",
       "0  24162636  Wiadomości z Poznania 2018-11-13 12:31:00     Tomasz Cylka   \n",
       "1  24573799                 brexit 2019-03-22 10:02:00  Tomasz Bielecki   \n",
       "2  24760624                   cyrk 2019-05-08 07:02:00   Anna Dobiegała   \n",
       "\n",
       "                                               title  \\\n",
       "0  poznaniu powroci ul lutego wojewoda zbigniew h...   \n",
       "1  merkel macrona chcesz zebysmy przeszli histori...   \n",
       "2  cyrk zwierzetami gdansku mieszkancy oburzeni b...   \n",
       "\n",
       "                                           highlight  \\\n",
       "0  ostateczna decyzja nazwa ul lutego wrocic mape...   \n",
       "1  ue odsunie brexit maja izba gmin poprze umowe ...   \n",
       "2  mieszkancy osowej chca oknami wystepowal cyrk ...   \n",
       "\n",
       "                                             content  \\\n",
       "0  rok temu wojewoda wielkopolski zbigniew hoffma...   \n",
       "1  szef rady europejskiej donald tusk oglosil dec...   \n",
       "2  wtorek gdansku wystapil cyrk zalewski udzialem...   \n",
       "\n",
       "                                          media_desc media_type  replies  \\\n",
       "0  poznaniu najwieksze kontrowersje wzbudzila zmi...      image       10   \n",
       "1                    brexitowy uber jada brytyjczycy      video       98   \n",
       "2                                                         image        5   \n",
       "\n",
       "   upvotes  downvotes  rage  joy  sadness  surprise  fear  reactions  \\\n",
       "0      123          0     0    1        0         0     0        123   \n",
       "1      655        297     0    0        2         0     0        952   \n",
       "2       51          9     0    0        0         0     0         60   \n",
       "\n",
       "   reactions_sentiment  \n",
       "0                 1.00  \n",
       "1                 0.69  \n",
       "2                 0.85  "
      ]
     },
     "execution_count": 16,
     "metadata": {},
     "output_type": "execute_result"
    }
   ],
   "source": [
    "df.head(3)"
   ]
  },
  {
   "cell_type": "code",
   "execution_count": 17,
   "metadata": {},
   "outputs": [
    {
     "name": "stdout",
     "output_type": "stream",
     "text": [
      "<class 'pandas.core.frame.DataFrame'>\n",
      "RangeIndex: 14412 entries, 0 to 14411\n",
      "Data columns (total 19 columns):\n",
      "id                     14412 non-null object\n",
      "div                    14412 non-null object\n",
      "date                   14411 non-null datetime64[ns]\n",
      "author                 14412 non-null object\n",
      "title                  14412 non-null object\n",
      "highlight              14412 non-null object\n",
      "content                14412 non-null object\n",
      "media_desc             14412 non-null object\n",
      "media_type             14412 non-null object\n",
      "replies                14412 non-null int64\n",
      "upvotes                14412 non-null int64\n",
      "downvotes              14412 non-null int64\n",
      "rage                   14412 non-null int64\n",
      "joy                    14412 non-null int64\n",
      "sadness                14412 non-null int64\n",
      "surprise               14412 non-null int64\n",
      "fear                   14412 non-null int64\n",
      "reactions              14412 non-null int64\n",
      "reactions_sentiment    14131 non-null float64\n",
      "dtypes: datetime64[ns](1), float64(1), int64(9), object(8)\n",
      "memory usage: 2.1+ MB\n"
     ]
    }
   ],
   "source": [
    "df.info()"
   ]
  },
  {
   "cell_type": "code",
   "execution_count": 18,
   "metadata": {},
   "outputs": [],
   "source": [
    "def create_dict(unique):\n",
    "    return { key: value for value, key in enumerate(unique) }"
   ]
  },
  {
   "cell_type": "code",
   "execution_count": 19,
   "metadata": {},
   "outputs": [],
   "source": [
    "division_dict = create_dict(df['div'].unique())"
   ]
  },
  {
   "cell_type": "code",
   "execution_count": 20,
   "metadata": {},
   "outputs": [],
   "source": [
    "author_dict = create_dict(df['author'].unique())"
   ]
  },
  {
   "cell_type": "code",
   "execution_count": 21,
   "metadata": {},
   "outputs": [],
   "source": [
    "media_dict = create_dict(df['media_type'].unique())"
   ]
  },
  {
   "cell_type": "code",
   "execution_count": 22,
   "metadata": {},
   "outputs": [],
   "source": [
    "from json import dump"
   ]
  },
  {
   "cell_type": "code",
   "execution_count": 23,
   "metadata": {},
   "outputs": [],
   "source": [
    "with open('labeling/division_dict', 'w') as f:\n",
    "    dump(division_dict, f)"
   ]
  },
  {
   "cell_type": "code",
   "execution_count": 24,
   "metadata": {},
   "outputs": [],
   "source": [
    "# df['div'] = df['div'].map(division_dict)"
   ]
  },
  {
   "cell_type": "code",
   "execution_count": 25,
   "metadata": {},
   "outputs": [],
   "source": [
    "with open('labeling/author_dict', 'w') as f:\n",
    "    dump(author_dict, f)"
   ]
  },
  {
   "cell_type": "code",
   "execution_count": 26,
   "metadata": {},
   "outputs": [],
   "source": [
    "# df['author'] = df['author'].map(author_dict)"
   ]
  },
  {
   "cell_type": "code",
   "execution_count": 27,
   "metadata": {},
   "outputs": [],
   "source": [
    "with open('labeling/media_dict', 'w') as f:\n",
    "    dump(media_dict, f)"
   ]
  },
  {
   "cell_type": "code",
   "execution_count": 28,
   "metadata": {},
   "outputs": [],
   "source": [
    "# df['media_type'] = df['media_type'].map(media_dict)"
   ]
  },
  {
   "cell_type": "code",
   "execution_count": 29,
   "metadata": {},
   "outputs": [
    {
     "data": {
      "text/html": [
       "<div>\n",
       "<style scoped>\n",
       "    .dataframe tbody tr th:only-of-type {\n",
       "        vertical-align: middle;\n",
       "    }\n",
       "\n",
       "    .dataframe tbody tr th {\n",
       "        vertical-align: top;\n",
       "    }\n",
       "\n",
       "    .dataframe thead th {\n",
       "        text-align: right;\n",
       "    }\n",
       "</style>\n",
       "<table border=\"1\" class=\"dataframe\">\n",
       "  <thead>\n",
       "    <tr style=\"text-align: right;\">\n",
       "      <th></th>\n",
       "      <th>id</th>\n",
       "      <th>div</th>\n",
       "      <th>date</th>\n",
       "      <th>author</th>\n",
       "      <th>title</th>\n",
       "      <th>highlight</th>\n",
       "      <th>content</th>\n",
       "      <th>media_desc</th>\n",
       "      <th>media_type</th>\n",
       "      <th>replies</th>\n",
       "      <th>upvotes</th>\n",
       "      <th>downvotes</th>\n",
       "      <th>rage</th>\n",
       "      <th>joy</th>\n",
       "      <th>sadness</th>\n",
       "      <th>surprise</th>\n",
       "      <th>fear</th>\n",
       "      <th>reactions</th>\n",
       "      <th>reactions_sentiment</th>\n",
       "    </tr>\n",
       "  </thead>\n",
       "  <tbody>\n",
       "    <tr>\n",
       "      <th>0</th>\n",
       "      <td>24162636</td>\n",
       "      <td>Wiadomości z Poznania</td>\n",
       "      <td>2018-11-13 12:31:00</td>\n",
       "      <td>Tomasz Cylka</td>\n",
       "      <td>poznaniu powroci ul lutego wojewoda zbigniew h...</td>\n",
       "      <td>ostateczna decyzja nazwa ul lutego wrocic mape...</td>\n",
       "      <td>rok temu wojewoda wielkopolski zbigniew hoffma...</td>\n",
       "      <td>poznaniu najwieksze kontrowersje wzbudzila zmi...</td>\n",
       "      <td>image</td>\n",
       "      <td>10</td>\n",
       "      <td>123</td>\n",
       "      <td>0</td>\n",
       "      <td>0</td>\n",
       "      <td>1</td>\n",
       "      <td>0</td>\n",
       "      <td>0</td>\n",
       "      <td>0</td>\n",
       "      <td>123</td>\n",
       "      <td>1.00</td>\n",
       "    </tr>\n",
       "    <tr>\n",
       "      <th>1</th>\n",
       "      <td>24573799</td>\n",
       "      <td>brexit</td>\n",
       "      <td>2019-03-22 10:02:00</td>\n",
       "      <td>Tomasz Bielecki</td>\n",
       "      <td>merkel macrona chcesz zebysmy przeszli histori...</td>\n",
       "      <td>ue odsunie brexit maja izba gmin poprze umowe ...</td>\n",
       "      <td>szef rady europejskiej donald tusk oglosil dec...</td>\n",
       "      <td>brexitowy uber jada brytyjczycy</td>\n",
       "      <td>video</td>\n",
       "      <td>98</td>\n",
       "      <td>655</td>\n",
       "      <td>297</td>\n",
       "      <td>0</td>\n",
       "      <td>0</td>\n",
       "      <td>2</td>\n",
       "      <td>0</td>\n",
       "      <td>0</td>\n",
       "      <td>952</td>\n",
       "      <td>0.69</td>\n",
       "    </tr>\n",
       "    <tr>\n",
       "      <th>2</th>\n",
       "      <td>24760624</td>\n",
       "      <td>cyrk</td>\n",
       "      <td>2019-05-08 07:02:00</td>\n",
       "      <td>Anna Dobiegała</td>\n",
       "      <td>cyrk zwierzetami gdansku mieszkancy oburzeni b...</td>\n",
       "      <td>mieszkancy osowej chca oknami wystepowal cyrk ...</td>\n",
       "      <td>wtorek gdansku wystapil cyrk zalewski udzialem...</td>\n",
       "      <td></td>\n",
       "      <td>image</td>\n",
       "      <td>5</td>\n",
       "      <td>51</td>\n",
       "      <td>9</td>\n",
       "      <td>0</td>\n",
       "      <td>0</td>\n",
       "      <td>0</td>\n",
       "      <td>0</td>\n",
       "      <td>0</td>\n",
       "      <td>60</td>\n",
       "      <td>0.85</td>\n",
       "    </tr>\n",
       "  </tbody>\n",
       "</table>\n",
       "</div>"
      ],
      "text/plain": [
       "         id                    div                date           author  \\\n",
       "0  24162636  Wiadomości z Poznania 2018-11-13 12:31:00     Tomasz Cylka   \n",
       "1  24573799                 brexit 2019-03-22 10:02:00  Tomasz Bielecki   \n",
       "2  24760624                   cyrk 2019-05-08 07:02:00   Anna Dobiegała   \n",
       "\n",
       "                                               title  \\\n",
       "0  poznaniu powroci ul lutego wojewoda zbigniew h...   \n",
       "1  merkel macrona chcesz zebysmy przeszli histori...   \n",
       "2  cyrk zwierzetami gdansku mieszkancy oburzeni b...   \n",
       "\n",
       "                                           highlight  \\\n",
       "0  ostateczna decyzja nazwa ul lutego wrocic mape...   \n",
       "1  ue odsunie brexit maja izba gmin poprze umowe ...   \n",
       "2  mieszkancy osowej chca oknami wystepowal cyrk ...   \n",
       "\n",
       "                                             content  \\\n",
       "0  rok temu wojewoda wielkopolski zbigniew hoffma...   \n",
       "1  szef rady europejskiej donald tusk oglosil dec...   \n",
       "2  wtorek gdansku wystapil cyrk zalewski udzialem...   \n",
       "\n",
       "                                          media_desc media_type  replies  \\\n",
       "0  poznaniu najwieksze kontrowersje wzbudzila zmi...      image       10   \n",
       "1                    brexitowy uber jada brytyjczycy      video       98   \n",
       "2                                                         image        5   \n",
       "\n",
       "   upvotes  downvotes  rage  joy  sadness  surprise  fear  reactions  \\\n",
       "0      123          0     0    1        0         0     0        123   \n",
       "1      655        297     0    0        2         0     0        952   \n",
       "2       51          9     0    0        0         0     0         60   \n",
       "\n",
       "   reactions_sentiment  \n",
       "0                 1.00  \n",
       "1                 0.69  \n",
       "2                 0.85  "
      ]
     },
     "execution_count": 29,
     "metadata": {},
     "output_type": "execute_result"
    }
   ],
   "source": [
    "df.head(3)"
   ]
  },
  {
   "cell_type": "code",
   "execution_count": 30,
   "metadata": {},
   "outputs": [],
   "source": [
    "df.to_csv('labeling/fresh_data.csv', index = False)"
   ]
  },
  {
   "cell_type": "code",
   "execution_count": null,
   "metadata": {},
   "outputs": [],
   "source": []
  }
 ],
 "metadata": {
  "kernelspec": {
   "display_name": "Python 3",
   "language": "python",
   "name": "python3"
  },
  "language_info": {
   "codemirror_mode": {
    "name": "ipython",
    "version": 3
   },
   "file_extension": ".py",
   "mimetype": "text/x-python",
   "name": "python",
   "nbconvert_exporter": "python",
   "pygments_lexer": "ipython3",
   "version": "3.7.2"
  }
 },
 "nbformat": 4,
 "nbformat_minor": 2
}
