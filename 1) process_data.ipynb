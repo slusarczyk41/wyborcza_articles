{
 "cells": [
  {
   "cell_type": "code",
   "execution_count": 102,
   "metadata": {},
   "outputs": [],
   "source": [
    "# author, division, idf from raw comments\n",
    "# and labels like {comment_id: {\"rage\": 2, \"replies\": 3 ...}}\n",
    "# get the most frequent words as well to be able to filter word2vec file\n",
    "\n",
    "# out files:\n",
    "# - author_dict\n",
    "# - division_dict\n",
    "# - idf_dict\n",
    "\n",
    "# - file with x and y "
   ]
  },
  {
   "cell_type": "code",
   "execution_count": 103,
   "metadata": {},
   "outputs": [],
   "source": [
    "from os import listdir\n",
    "import pandas as pd\n",
    "from labeling.emotions import rage, joy, sadness, surprise, fear"
   ]
  },
  {
   "cell_type": "code",
   "execution_count": 104,
   "metadata": {},
   "outputs": [],
   "source": [
    "months = {\n",
    "    'stycznia': 1,\n",
    "    'lutego': 2,\n",
    "    'marca': 3,\n",
    "    'kwietnia': 4,\n",
    "    'maja': 5,\n",
    "    'czerwca': 6,\n",
    "    'lipca': 7,\n",
    "    'sierpnia': 8,\n",
    "    'września': 9,\n",
    "    'października': 10,\n",
    "    'listopada': 11,\n",
    "    'grudnia': 12\n",
    "}"
   ]
  },
  {
   "cell_type": "code",
   "execution_count": 105,
   "metadata": {},
   "outputs": [],
   "source": [
    "def process_date(months, date):\n",
    "    year = date.split('|')[0].split(' ')[2].strip()\n",
    "    month = str(months[date.split('|')[0].split(' ')[1].strip()])\n",
    "    day = date.split('|')[0].split(' ')[0].strip()\n",
    "    \n",
    "    try:\n",
    "        hour = date.split('|')[1].strip()\n",
    "        return pd.to_datetime(\" \".join([year, month, day, hour]))\n",
    "    except:\n",
    "        return None\n",
    "    \n",
    "    "
   ]
  },
  {
   "cell_type": "code",
   "execution_count": 106,
   "metadata": {},
   "outputs": [],
   "source": [
    "from re import search, sub\n",
    "from unidecode import unidecode"
   ]
  },
  {
   "cell_type": "code",
   "execution_count": 107,
   "metadata": {},
   "outputs": [],
   "source": [
    "rage_regex = \"|\".join(rage)\n",
    "joy_regex = \"|\".join(joy)\n",
    "sadness_regex = \"|\".join(sadness)\n",
    "surprise_regex = \"|\".join(surprise)\n",
    "fear_regex = \"|\".join(fear)"
   ]
  },
  {
   "cell_type": "code",
   "execution_count": 108,
   "metadata": {},
   "outputs": [],
   "source": [
    "def find_emotions(emotions, body):\n",
    "    for i, emotion_regex in enumerate([rage_regex, joy_regex, sadness_regex, surprise_regex, fear_regex]):\n",
    "        if search(emotion_regex, body):\n",
    "            emotions[i] += 1\n",
    "    return emotions"
   ]
  },
  {
   "cell_type": "code",
   "execution_count": 109,
   "metadata": {},
   "outputs": [],
   "source": [
    "def label(comments):\n",
    "    replies = 0\n",
    "\n",
    "    upvotes = 0\n",
    "    downvotes = 0\n",
    "\n",
    "    emotions = [0,0,0,0,0]\n",
    "    for comment in a['comments']:\n",
    "        main = comment['main_comment']\n",
    "\n",
    "        upvotes += int(main['upvotes'])\n",
    "        downvotes += int(main['downvotes'])\n",
    "        replies += 1\n",
    "\n",
    "        emotions = find_emotions(emotions, sub(r\"[^a-z| ]\", \"\", unidecode(main['body']).lower()))\n",
    "        for subcomment in comment['sub_comments']:\n",
    "            try:\n",
    "                upvotes += int(subcomment['upvotes'])\n",
    "                downvotes += int(subcomment['downvotes'])\n",
    "                replies += 1\n",
    "            except:\n",
    "                print(comments)\n",
    "            emotions = find_emotions(emotions, sub(r\"[^a-z| ]\", \"\", unidecode(main['body']).lower()))\n",
    "    return [replies, upvotes, downvotes] + [emotion for emotion in emotions]"
   ]
  },
  {
   "cell_type": "code",
   "execution_count": 110,
   "metadata": {},
   "outputs": [],
   "source": [
    "def remove_specials(body):\n",
    "    return sub(r\"[^a-z| ]\", \"\", unidecode(body).lower())"
   ]
  },
  {
   "cell_type": "code",
   "execution_count": 111,
   "metadata": {},
   "outputs": [],
   "source": [
    "with open('data/polish.stopwords.txt', 'r') as f:\n",
    "    stop_words = f.read().split('\\n')"
   ]
  },
  {
   "cell_type": "code",
   "execution_count": 112,
   "metadata": {},
   "outputs": [],
   "source": [
    "def remove_stop_words(body):\n",
    "    return [word for word in body.split(' ') if word not in stop_words and len(word) > 1]"
   ]
  },
  {
   "cell_type": "code",
   "execution_count": 113,
   "metadata": {},
   "outputs": [],
   "source": [
    "def clean_words(body):\n",
    "    return \" \".join(remove_stop_words(remove_specials(body)))"
   ]
  },
  {
   "cell_type": "code",
   "execution_count": 114,
   "metadata": {},
   "outputs": [],
   "source": [
    "all_articles =[]\n",
    "for article in listdir('data/comments/'):\n",
    "    with open('data/comments/'+article) as f:\n",
    "        articles = []\n",
    "        a = eval(f.read())['row']['comments']\n",
    "        if a['comments'] != []:\n",
    "        \n",
    "            articles.append(article)\n",
    "            articles.append(a['division'])\n",
    "            articles.append(process_date(months, a['pub_date']))\n",
    "            articles.append(a['author'].split(',')[0])\n",
    "\n",
    "            articles.append(clean_words(a['title']))\n",
    "            articles.append(clean_words(a['highlight']))\n",
    "            articles.append(clean_words(a['content']))\n",
    "            articles.append(clean_words(a['media_desc']))\n",
    "\n",
    "            articles.append(a['media_type'])\n",
    "            for return_label in label(a['comments']):\n",
    "                articles.append(return_label)\n",
    "            all_articles.append(articles)"
   ]
  },
  {
   "cell_type": "code",
   "execution_count": 115,
   "metadata": {},
   "outputs": [],
   "source": [
    "df = pd.DataFrame(all_articles, columns = [\n",
    "    'id', 'div', 'date', 'author', 'title', \n",
    "    'highlight', 'content', 'media_desc', 'media_type',\n",
    "    'replies', 'upvotes', 'downvotes', \n",
    "    'rage', 'joy', 'sadness', 'surprise', 'fear'\n",
    "])\n",
    "df['reactions'] = df['upvotes'] + df['downvotes']\n",
    "df['reactions_sentiment'] = round(df['upvotes'] / df['reactions'], 2)"
   ]
  },
  {
   "cell_type": "code",
   "execution_count": 116,
   "metadata": {},
   "outputs": [
    {
     "data": {
      "text/html": [
       "<div>\n",
       "<style scoped>\n",
       "    .dataframe tbody tr th:only-of-type {\n",
       "        vertical-align: middle;\n",
       "    }\n",
       "\n",
       "    .dataframe tbody tr th {\n",
       "        vertical-align: top;\n",
       "    }\n",
       "\n",
       "    .dataframe thead th {\n",
       "        text-align: right;\n",
       "    }\n",
       "</style>\n",
       "<table border=\"1\" class=\"dataframe\">\n",
       "  <thead>\n",
       "    <tr style=\"text-align: right;\">\n",
       "      <th></th>\n",
       "      <th>id</th>\n",
       "      <th>div</th>\n",
       "      <th>date</th>\n",
       "      <th>author</th>\n",
       "      <th>title</th>\n",
       "      <th>highlight</th>\n",
       "      <th>content</th>\n",
       "      <th>media_desc</th>\n",
       "      <th>media_type</th>\n",
       "      <th>replies</th>\n",
       "      <th>upvotes</th>\n",
       "      <th>downvotes</th>\n",
       "      <th>rage</th>\n",
       "      <th>joy</th>\n",
       "      <th>sadness</th>\n",
       "      <th>surprise</th>\n",
       "      <th>fear</th>\n",
       "      <th>reactions</th>\n",
       "      <th>reactions_sentiment</th>\n",
       "    </tr>\n",
       "  </thead>\n",
       "  <tbody>\n",
       "    <tr>\n",
       "      <th>0</th>\n",
       "      <td>24760624</td>\n",
       "      <td>cyrk</td>\n",
       "      <td>2019-05-08 07:02:00</td>\n",
       "      <td>Anna Dobiegała</td>\n",
       "      <td>cyrk zwierzetami gdansku mieszkancy oburzeni b...</td>\n",
       "      <td>mieszkancy osowej chca oknami wystepowal cyrk ...</td>\n",
       "      <td>wtorek gdansku wystapil cyrk zalewski udzialem...</td>\n",
       "      <td></td>\n",
       "      <td>image</td>\n",
       "      <td>5</td>\n",
       "      <td>51</td>\n",
       "      <td>9</td>\n",
       "      <td>0</td>\n",
       "      <td>0</td>\n",
       "      <td>0</td>\n",
       "      <td>0</td>\n",
       "      <td>0</td>\n",
       "      <td>60</td>\n",
       "      <td>0.85</td>\n",
       "    </tr>\n",
       "    <tr>\n",
       "      <th>1</th>\n",
       "      <td>24788214</td>\n",
       "      <td>porodówka</td>\n",
       "      <td>2019-05-15 16:30:00</td>\n",
       "      <td>mag</td>\n",
       "      <td>matka obwinia ginekologa smierc coreczki izba ...</td>\n",
       "      <td>natalia zaczela rodzic tygodniu ciazy porodu d...</td>\n",
       "      <td>decyzja rzecznika oznacza lekarz krzysztof pon...</td>\n",
       "      <td>wczesniak inkubatorze gramowej nadii dane traf...</td>\n",
       "      <td>image</td>\n",
       "      <td>5</td>\n",
       "      <td>52</td>\n",
       "      <td>27</td>\n",
       "      <td>0</td>\n",
       "      <td>0</td>\n",
       "      <td>0</td>\n",
       "      <td>0</td>\n",
       "      <td>0</td>\n",
       "      <td>79</td>\n",
       "      <td>0.66</td>\n",
       "    </tr>\n",
       "    <tr>\n",
       "      <th>2</th>\n",
       "      <td>24801435</td>\n",
       "      <td>Świat</td>\n",
       "      <td>2019-05-19 08:43:00</td>\n",
       "      <td>Maciej Czarnecki</td>\n",
       "      <td>sensacja australii centroprawica dwoch przegry...</td>\n",
       "      <td>wierzylem cuda powiedzial ogloszeniu wynikow p...</td>\n",
       "      <td>sobotnich wyborach australijczycy wybierali cz...</td>\n",
       "      <td>premier australii scott morrison</td>\n",
       "      <td>image</td>\n",
       "      <td>15</td>\n",
       "      <td>82</td>\n",
       "      <td>27</td>\n",
       "      <td>0</td>\n",
       "      <td>0</td>\n",
       "      <td>0</td>\n",
       "      <td>0</td>\n",
       "      <td>0</td>\n",
       "      <td>109</td>\n",
       "      <td>0.75</td>\n",
       "    </tr>\n",
       "  </tbody>\n",
       "</table>\n",
       "</div>"
      ],
      "text/plain": [
       "         id        div                date            author  \\\n",
       "0  24760624       cyrk 2019-05-08 07:02:00    Anna Dobiegała   \n",
       "1  24788214  porodówka 2019-05-15 16:30:00               mag   \n",
       "2  24801435      Świat 2019-05-19 08:43:00  Maciej Czarnecki   \n",
       "\n",
       "                                               title  \\\n",
       "0  cyrk zwierzetami gdansku mieszkancy oburzeni b...   \n",
       "1  matka obwinia ginekologa smierc coreczki izba ...   \n",
       "2  sensacja australii centroprawica dwoch przegry...   \n",
       "\n",
       "                                           highlight  \\\n",
       "0  mieszkancy osowej chca oknami wystepowal cyrk ...   \n",
       "1  natalia zaczela rodzic tygodniu ciazy porodu d...   \n",
       "2  wierzylem cuda powiedzial ogloszeniu wynikow p...   \n",
       "\n",
       "                                             content  \\\n",
       "0  wtorek gdansku wystapil cyrk zalewski udzialem...   \n",
       "1  decyzja rzecznika oznacza lekarz krzysztof pon...   \n",
       "2  sobotnich wyborach australijczycy wybierali cz...   \n",
       "\n",
       "                                          media_desc media_type  replies  \\\n",
       "0                                                         image        5   \n",
       "1  wczesniak inkubatorze gramowej nadii dane traf...      image        5   \n",
       "2                   premier australii scott morrison      image       15   \n",
       "\n",
       "   upvotes  downvotes  rage  joy  sadness  surprise  fear  reactions  \\\n",
       "0       51          9     0    0        0         0     0         60   \n",
       "1       52         27     0    0        0         0     0         79   \n",
       "2       82         27     0    0        0         0     0        109   \n",
       "\n",
       "   reactions_sentiment  \n",
       "0                 0.85  \n",
       "1                 0.66  \n",
       "2                 0.75  "
      ]
     },
     "execution_count": 116,
     "metadata": {},
     "output_type": "execute_result"
    }
   ],
   "source": [
    "df.head(3)"
   ]
  },
  {
   "cell_type": "code",
   "execution_count": 117,
   "metadata": {},
   "outputs": [
    {
     "name": "stdout",
     "output_type": "stream",
     "text": [
      "<class 'pandas.core.frame.DataFrame'>\n",
      "RangeIndex: 1090 entries, 0 to 1089\n",
      "Data columns (total 19 columns):\n",
      "id                     1090 non-null object\n",
      "div                    1090 non-null object\n",
      "date                   1089 non-null datetime64[ns]\n",
      "author                 1090 non-null object\n",
      "title                  1090 non-null object\n",
      "highlight              1090 non-null object\n",
      "content                1090 non-null object\n",
      "media_desc             1090 non-null object\n",
      "media_type             1090 non-null object\n",
      "replies                1090 non-null int64\n",
      "upvotes                1090 non-null int64\n",
      "downvotes              1090 non-null int64\n",
      "rage                   1090 non-null int64\n",
      "joy                    1090 non-null int64\n",
      "sadness                1090 non-null int64\n",
      "surprise               1090 non-null int64\n",
      "fear                   1090 non-null int64\n",
      "reactions              1090 non-null int64\n",
      "reactions_sentiment    1073 non-null float64\n",
      "dtypes: datetime64[ns](1), float64(1), int64(9), object(8)\n",
      "memory usage: 161.9+ KB\n"
     ]
    }
   ],
   "source": [
    "df.info()"
   ]
  },
  {
   "cell_type": "code",
   "execution_count": 118,
   "metadata": {},
   "outputs": [],
   "source": [
    "def create_dict(unique):\n",
    "    return { key: value for value, key in enumerate(unique) }"
   ]
  },
  {
   "cell_type": "code",
   "execution_count": 119,
   "metadata": {},
   "outputs": [],
   "source": [
    "division_dict = create_dict(df['div'].unique())"
   ]
  },
  {
   "cell_type": "code",
   "execution_count": 120,
   "metadata": {},
   "outputs": [],
   "source": [
    "author_dict = create_dict(df['author'].unique())"
   ]
  },
  {
   "cell_type": "code",
   "execution_count": 121,
   "metadata": {},
   "outputs": [],
   "source": [
    "media_dict = create_dict(df['media_type'].unique())"
   ]
  },
  {
   "cell_type": "code",
   "execution_count": 125,
   "metadata": {},
   "outputs": [],
   "source": [
    "from json import dump"
   ]
  },
  {
   "cell_type": "code",
   "execution_count": 126,
   "metadata": {},
   "outputs": [],
   "source": [
    "with open('labeling/division_dict', 'w') as f:\n",
    "    dump(division_dict, f)"
   ]
  },
  {
   "cell_type": "code",
   "execution_count": 127,
   "metadata": {},
   "outputs": [],
   "source": [
    "# df['div'] = df['div'].map(division_dict)"
   ]
  },
  {
   "cell_type": "code",
   "execution_count": 128,
   "metadata": {},
   "outputs": [],
   "source": [
    "with open('labeling/author_dict', 'w') as f:\n",
    "    dump(author_dict, f)"
   ]
  },
  {
   "cell_type": "code",
   "execution_count": 129,
   "metadata": {},
   "outputs": [],
   "source": [
    "# df['author'] = df['author'].map(author_dict)"
   ]
  },
  {
   "cell_type": "code",
   "execution_count": 131,
   "metadata": {},
   "outputs": [],
   "source": [
    "with open('labeling/media_dict', 'w') as f:\n",
    "    dump(media_dict, f)"
   ]
  },
  {
   "cell_type": "code",
   "execution_count": 132,
   "metadata": {},
   "outputs": [],
   "source": [
    "# df['media_type'] = df['media_type'].map(media_dict)"
   ]
  },
  {
   "cell_type": "code",
   "execution_count": 133,
   "metadata": {},
   "outputs": [
    {
     "data": {
      "text/html": [
       "<div>\n",
       "<style scoped>\n",
       "    .dataframe tbody tr th:only-of-type {\n",
       "        vertical-align: middle;\n",
       "    }\n",
       "\n",
       "    .dataframe tbody tr th {\n",
       "        vertical-align: top;\n",
       "    }\n",
       "\n",
       "    .dataframe thead th {\n",
       "        text-align: right;\n",
       "    }\n",
       "</style>\n",
       "<table border=\"1\" class=\"dataframe\">\n",
       "  <thead>\n",
       "    <tr style=\"text-align: right;\">\n",
       "      <th></th>\n",
       "      <th>id</th>\n",
       "      <th>div</th>\n",
       "      <th>date</th>\n",
       "      <th>author</th>\n",
       "      <th>title</th>\n",
       "      <th>highlight</th>\n",
       "      <th>content</th>\n",
       "      <th>media_desc</th>\n",
       "      <th>media_type</th>\n",
       "      <th>replies</th>\n",
       "      <th>upvotes</th>\n",
       "      <th>downvotes</th>\n",
       "      <th>rage</th>\n",
       "      <th>joy</th>\n",
       "      <th>sadness</th>\n",
       "      <th>surprise</th>\n",
       "      <th>fear</th>\n",
       "      <th>reactions</th>\n",
       "      <th>reactions_sentiment</th>\n",
       "    </tr>\n",
       "  </thead>\n",
       "  <tbody>\n",
       "    <tr>\n",
       "      <th>0</th>\n",
       "      <td>24760624</td>\n",
       "      <td>cyrk</td>\n",
       "      <td>2019-05-08 07:02:00</td>\n",
       "      <td>Anna Dobiegała</td>\n",
       "      <td>cyrk zwierzetami gdansku mieszkancy oburzeni b...</td>\n",
       "      <td>mieszkancy osowej chca oknami wystepowal cyrk ...</td>\n",
       "      <td>wtorek gdansku wystapil cyrk zalewski udzialem...</td>\n",
       "      <td></td>\n",
       "      <td>image</td>\n",
       "      <td>5</td>\n",
       "      <td>51</td>\n",
       "      <td>9</td>\n",
       "      <td>0</td>\n",
       "      <td>0</td>\n",
       "      <td>0</td>\n",
       "      <td>0</td>\n",
       "      <td>0</td>\n",
       "      <td>60</td>\n",
       "      <td>0.85</td>\n",
       "    </tr>\n",
       "    <tr>\n",
       "      <th>1</th>\n",
       "      <td>24788214</td>\n",
       "      <td>porodówka</td>\n",
       "      <td>2019-05-15 16:30:00</td>\n",
       "      <td>mag</td>\n",
       "      <td>matka obwinia ginekologa smierc coreczki izba ...</td>\n",
       "      <td>natalia zaczela rodzic tygodniu ciazy porodu d...</td>\n",
       "      <td>decyzja rzecznika oznacza lekarz krzysztof pon...</td>\n",
       "      <td>wczesniak inkubatorze gramowej nadii dane traf...</td>\n",
       "      <td>image</td>\n",
       "      <td>5</td>\n",
       "      <td>52</td>\n",
       "      <td>27</td>\n",
       "      <td>0</td>\n",
       "      <td>0</td>\n",
       "      <td>0</td>\n",
       "      <td>0</td>\n",
       "      <td>0</td>\n",
       "      <td>79</td>\n",
       "      <td>0.66</td>\n",
       "    </tr>\n",
       "    <tr>\n",
       "      <th>2</th>\n",
       "      <td>24801435</td>\n",
       "      <td>Świat</td>\n",
       "      <td>2019-05-19 08:43:00</td>\n",
       "      <td>Maciej Czarnecki</td>\n",
       "      <td>sensacja australii centroprawica dwoch przegry...</td>\n",
       "      <td>wierzylem cuda powiedzial ogloszeniu wynikow p...</td>\n",
       "      <td>sobotnich wyborach australijczycy wybierali cz...</td>\n",
       "      <td>premier australii scott morrison</td>\n",
       "      <td>image</td>\n",
       "      <td>15</td>\n",
       "      <td>82</td>\n",
       "      <td>27</td>\n",
       "      <td>0</td>\n",
       "      <td>0</td>\n",
       "      <td>0</td>\n",
       "      <td>0</td>\n",
       "      <td>0</td>\n",
       "      <td>109</td>\n",
       "      <td>0.75</td>\n",
       "    </tr>\n",
       "  </tbody>\n",
       "</table>\n",
       "</div>"
      ],
      "text/plain": [
       "         id        div                date            author  \\\n",
       "0  24760624       cyrk 2019-05-08 07:02:00    Anna Dobiegała   \n",
       "1  24788214  porodówka 2019-05-15 16:30:00               mag   \n",
       "2  24801435      Świat 2019-05-19 08:43:00  Maciej Czarnecki   \n",
       "\n",
       "                                               title  \\\n",
       "0  cyrk zwierzetami gdansku mieszkancy oburzeni b...   \n",
       "1  matka obwinia ginekologa smierc coreczki izba ...   \n",
       "2  sensacja australii centroprawica dwoch przegry...   \n",
       "\n",
       "                                           highlight  \\\n",
       "0  mieszkancy osowej chca oknami wystepowal cyrk ...   \n",
       "1  natalia zaczela rodzic tygodniu ciazy porodu d...   \n",
       "2  wierzylem cuda powiedzial ogloszeniu wynikow p...   \n",
       "\n",
       "                                             content  \\\n",
       "0  wtorek gdansku wystapil cyrk zalewski udzialem...   \n",
       "1  decyzja rzecznika oznacza lekarz krzysztof pon...   \n",
       "2  sobotnich wyborach australijczycy wybierali cz...   \n",
       "\n",
       "                                          media_desc media_type  replies  \\\n",
       "0                                                         image        5   \n",
       "1  wczesniak inkubatorze gramowej nadii dane traf...      image        5   \n",
       "2                   premier australii scott morrison      image       15   \n",
       "\n",
       "   upvotes  downvotes  rage  joy  sadness  surprise  fear  reactions  \\\n",
       "0       51          9     0    0        0         0     0         60   \n",
       "1       52         27     0    0        0         0     0         79   \n",
       "2       82         27     0    0        0         0     0        109   \n",
       "\n",
       "   reactions_sentiment  \n",
       "0                 0.85  \n",
       "1                 0.66  \n",
       "2                 0.75  "
      ]
     },
     "execution_count": 133,
     "metadata": {},
     "output_type": "execute_result"
    }
   ],
   "source": [
    "df.head(3)"
   ]
  },
  {
   "cell_type": "code",
   "execution_count": 134,
   "metadata": {},
   "outputs": [],
   "source": [
    "df.to_csv('labeling/fresh_data.csv', index = False)"
   ]
  },
  {
   "cell_type": "code",
   "execution_count": null,
   "metadata": {},
   "outputs": [],
   "source": []
  }
 ],
 "metadata": {
  "kernelspec": {
   "display_name": "Python 3",
   "language": "python",
   "name": "python3"
  },
  "language_info": {
   "codemirror_mode": {
    "name": "ipython",
    "version": 3
   },
   "file_extension": ".py",
   "mimetype": "text/x-python",
   "name": "python",
   "nbconvert_exporter": "python",
   "pygments_lexer": "ipython3",
   "version": "3.7.2"
  }
 },
 "nbformat": 4,
 "nbformat_minor": 2
}
