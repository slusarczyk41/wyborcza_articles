{
 "cells": [
  {
   "cell_type": "code",
   "execution_count": 1,
   "metadata": {},
   "outputs": [],
   "source": [
    "with open('/home/jacek/word2vec_test', 'r') as f:\n",
    "    raw_file = f.readlines()"
   ]
  },
  {
   "cell_type": "code",
   "execution_count": 2,
   "metadata": {},
   "outputs": [],
   "source": [
    "word2vec = {}\n",
    "for row in raw_file:\n",
    "    word2vec[row.split(' ')[0]] = [float(x) for x in row.split(' ')[1:]]"
   ]
  },
  {
   "cell_type": "code",
   "execution_count": 3,
   "metadata": {},
   "outputs": [],
   "source": [
    "vocabulary = list(word2vec.keys())"
   ]
  },
  {
   "cell_type": "code",
   "execution_count": 4,
   "metadata": {},
   "outputs": [],
   "source": [
    "import pandas as pd\n",
    "import numpy as np"
   ]
  },
  {
   "cell_type": "code",
   "execution_count": 5,
   "metadata": {},
   "outputs": [],
   "source": [
    "df = pd.read_csv('labeling/lemmatized_articles.csv')"
   ]
  },
  {
   "cell_type": "code",
   "execution_count": 6,
   "metadata": {},
   "outputs": [
    {
     "data": {
      "text/html": [
       "<div>\n",
       "<style scoped>\n",
       "    .dataframe tbody tr th:only-of-type {\n",
       "        vertical-align: middle;\n",
       "    }\n",
       "\n",
       "    .dataframe tbody tr th {\n",
       "        vertical-align: top;\n",
       "    }\n",
       "\n",
       "    .dataframe thead th {\n",
       "        text-align: right;\n",
       "    }\n",
       "</style>\n",
       "<table border=\"1\" class=\"dataframe\">\n",
       "  <thead>\n",
       "    <tr style=\"text-align: right;\">\n",
       "      <th></th>\n",
       "      <th>content</th>\n",
       "      <th>highlight</th>\n",
       "      <th>media_desc</th>\n",
       "      <th>title</th>\n",
       "      <th>id</th>\n",
       "    </tr>\n",
       "  </thead>\n",
       "  <tbody>\n",
       "    <tr>\n",
       "      <th>0</th>\n",
       "      <td>rok ten wojewoda wielkopolski zbigniew hoffman...</td>\n",
       "      <td>ostateczny decyzja nazwa ul luty wrocic mape p...</td>\n",
       "      <td>poznanie najwieksze kontrowersja wzbudzila zmi...</td>\n",
       "      <td>poznanie powroci ul luty wojewoda zbigniew hof...</td>\n",
       "      <td>24162636</td>\n",
       "    </tr>\n",
       "  </tbody>\n",
       "</table>\n",
       "</div>"
      ],
      "text/plain": [
       "                                             content  \\\n",
       "0  rok ten wojewoda wielkopolski zbigniew hoffman...   \n",
       "\n",
       "                                           highlight  \\\n",
       "0  ostateczny decyzja nazwa ul luty wrocic mape p...   \n",
       "\n",
       "                                          media_desc  \\\n",
       "0  poznanie najwieksze kontrowersja wzbudzila zmi...   \n",
       "\n",
       "                                               title        id  \n",
       "0  poznanie powroci ul luty wojewoda zbigniew hof...  24162636  "
      ]
     },
     "execution_count": 6,
     "metadata": {},
     "output_type": "execute_result"
    }
   ],
   "source": [
    "df.head(1)"
   ]
  },
  {
   "cell_type": "code",
   "execution_count": 7,
   "metadata": {},
   "outputs": [],
   "source": [
    "df = df.fillna(' ')"
   ]
  },
  {
   "cell_type": "code",
   "execution_count": 8,
   "metadata": {},
   "outputs": [],
   "source": [
    "def calculate_vec(column):\n",
    "    series = []\n",
    "    \n",
    "    for record in column:\n",
    "        n_words = 0\n",
    "        vec = np.zeros(300, dtype = 'float32')\n",
    "        if record != ' ':\n",
    "            try:\n",
    "                for word in record.split(' '):\n",
    "                    if word in vocabulary:\n",
    "                        vec = np.add(vec, word2vec[word])\n",
    "                        n_words += 1\n",
    "            except:\n",
    "                print(record)\n",
    "\n",
    "        if n_words:\n",
    "            vec = np.divide(vec, n_words)\n",
    "        series.append(vec)\n",
    "    \n",
    "    return series"
   ]
  },
  {
   "cell_type": "code",
   "execution_count": 9,
   "metadata": {},
   "outputs": [],
   "source": [
    "for column in ['content', 'highlight', 'media_desc', 'title']:\n",
    "    pd.DataFrame(calculate_vec(df[column]), index = df['id']).to_csv('labeling/'+column+'_vec')"
   ]
  },
  {
   "cell_type": "code",
   "execution_count": null,
   "metadata": {},
   "outputs": [],
   "source": []
  }
 ],
 "metadata": {
  "kernelspec": {
   "display_name": "Python 3",
   "language": "python",
   "name": "python3"
  },
  "language_info": {
   "codemirror_mode": {
    "name": "ipython",
    "version": 3
   },
   "file_extension": ".py",
   "mimetype": "text/x-python",
   "name": "python",
   "nbconvert_exporter": "python",
   "pygments_lexer": "ipython3",
   "version": "3.7.2"
  }
 },
 "nbformat": 4,
 "nbformat_minor": 2
}
