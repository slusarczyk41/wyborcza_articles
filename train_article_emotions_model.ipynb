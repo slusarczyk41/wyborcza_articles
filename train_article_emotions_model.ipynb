{
 "cells": [
  {
   "cell_type": "code",
   "execution_count": 120,
   "metadata": {},
   "outputs": [],
   "source": [
    "import pandas as pd\n",
    "from unidecode import unidecode\n",
    "from collections import Counter\n",
    "import numpy as np"
   ]
  },
  {
   "cell_type": "code",
   "execution_count": 79,
   "metadata": {},
   "outputs": [],
   "source": [
    "articles = pd.read_csv('data/processed_articles.csv', nrows = 10000)"
   ]
  },
  {
   "cell_type": "code",
   "execution_count": 80,
   "metadata": {},
   "outputs": [
    {
     "data": {
      "text/html": [
       "<div>\n",
       "<style scoped>\n",
       "    .dataframe tbody tr th:only-of-type {\n",
       "        vertical-align: middle;\n",
       "    }\n",
       "\n",
       "    .dataframe tbody tr th {\n",
       "        vertical-align: top;\n",
       "    }\n",
       "\n",
       "    .dataframe thead th {\n",
       "        text-align: right;\n",
       "    }\n",
       "</style>\n",
       "<table border=\"1\" class=\"dataframe\">\n",
       "  <thead>\n",
       "    <tr style=\"text-align: right;\">\n",
       "      <th></th>\n",
       "      <th>content</th>\n",
       "      <th>division</th>\n",
       "      <th>highlight</th>\n",
       "      <th>media_desc</th>\n",
       "      <th>title</th>\n",
       "      <th>url</th>\n",
       "    </tr>\n",
       "  </thead>\n",
       "  <tbody>\n",
       "    <tr>\n",
       "      <th>0</th>\n",
       "      <td>najwyzsza izba kontroli zwraca uwage problem z...</td>\n",
       "      <td>zus emerytura</td>\n",
       "      <td>tysiace polakow zanizone emerytury wystapilo z...</td>\n",
       "      <td>osob maja dopisanych skladek emerytalnych czas...</td>\n",
       "      <td>nik alarmuje polacy maja zanizone emerytury</td>\n",
       "      <td>http://wyborcza.biz/biznes/7,147880,23632593,n...</td>\n",
       "    </tr>\n",
       "  </tbody>\n",
       "</table>\n",
       "</div>"
      ],
      "text/plain": [
       "                                             content       division  \\\n",
       "0  najwyzsza izba kontroli zwraca uwage problem z...  zus emerytura   \n",
       "\n",
       "                                           highlight  \\\n",
       "0  tysiace polakow zanizone emerytury wystapilo z...   \n",
       "\n",
       "                                          media_desc  \\\n",
       "0  osob maja dopisanych skladek emerytalnych czas...   \n",
       "\n",
       "                                         title  \\\n",
       "0  nik alarmuje polacy maja zanizone emerytury   \n",
       "\n",
       "                                                 url  \n",
       "0  http://wyborcza.biz/biznes/7,147880,23632593,n...  "
      ]
     },
     "execution_count": 80,
     "metadata": {},
     "output_type": "execute_result"
    }
   ],
   "source": [
    "articles.head(1)"
   ]
  },
  {
   "cell_type": "code",
   "execution_count": 81,
   "metadata": {},
   "outputs": [
    {
     "data": {
      "text/plain": [
       "10000"
      ]
     },
     "execution_count": 81,
     "metadata": {},
     "output_type": "execute_result"
    }
   ],
   "source": [
    "len(articles)"
   ]
  },
  {
   "cell_type": "code",
   "execution_count": 82,
   "metadata": {},
   "outputs": [],
   "source": [
    "articles = articles.dropna()"
   ]
  },
  {
   "cell_type": "code",
   "execution_count": 83,
   "metadata": {},
   "outputs": [
    {
     "data": {
      "text/plain": [
       "9984"
      ]
     },
     "execution_count": 83,
     "metadata": {},
     "output_type": "execute_result"
    }
   ],
   "source": [
    "len(articles)"
   ]
  },
  {
   "cell_type": "markdown",
   "metadata": {},
   "source": [
    "## Prepare input for model"
   ]
  },
  {
   "cell_type": "code",
   "execution_count": 116,
   "metadata": {},
   "outputs": [],
   "source": [
    "def concat_x_string(columns):\n",
    "    a = pd.Series('', index = articles.index)\n",
    "    for column in columns:\n",
    "        a = a + articles[column] + ' '\n",
    "    return a.str.strip().str.split(' ').values"
   ]
  },
  {
   "cell_type": "markdown",
   "metadata": {},
   "source": [
    "##### Chose columns for model input"
   ]
  },
  {
   "cell_type": "code",
   "execution_count": 117,
   "metadata": {},
   "outputs": [],
   "source": [
    "string_columns = concat_x_string(['title', 'media_desc'])"
   ]
  },
  {
   "cell_type": "code",
   "execution_count": 164,
   "metadata": {},
   "outputs": [
    {
     "data": {
      "text/plain": [
       "['katalonia',\n",
       " 'premiera',\n",
       " 'parlament',\n",
       " 'barcelonie',\n",
       " 'przeglosowal',\n",
       " 'kandydature',\n",
       " 'secesjonisty',\n",
       " 'quima',\n",
       " 'torry',\n",
       " 'parlament',\n",
       " 'barcelonie',\n",
       " 'zatwierdzil',\n",
       " 'quima',\n",
       " 'torre',\n",
       " 'nowego',\n",
       " 'premiera',\n",
       " 'katalonii',\n",
       " 'maja',\n",
       " 'r']"
      ]
     },
     "execution_count": 164,
     "metadata": {},
     "output_type": "execute_result"
    }
   ],
   "source": [
    "string_columns[1]"
   ]
  },
  {
   "cell_type": "code",
   "execution_count": 165,
   "metadata": {},
   "outputs": [],
   "source": [
    "idf = dict(Counter([word for content in string_columns for word in content]))"
   ]
  },
  {
   "cell_type": "code",
   "execution_count": 166,
   "metadata": {},
   "outputs": [],
   "source": [
    "filtered_idf = {word: freq for word, freq in idf.items() if freq > len(articles) * 0.001}"
   ]
  },
  {
   "cell_type": "markdown",
   "metadata": {},
   "source": [
    "##### Ignore words which appear very rare - they won't be very useful (and dataset won't fit into my ram)"
   ]
  },
  {
   "cell_type": "code",
   "execution_count": 167,
   "metadata": {},
   "outputs": [],
   "source": [
    "# I want only words which appear in number of 0.1% times number of articles\n",
    "def filter_not_frequent(string_columns, filtered_idf):\n",
    "    filtered = []\n",
    "    for record in string_columns:\n",
    "        filtered.append([word for word in record if word in filtered_idf.keys()])\n",
    "    return filtered"
   ]
  },
  {
   "cell_type": "code",
   "execution_count": 168,
   "metadata": {},
   "outputs": [],
   "source": [
    "filtered = filter_not_frequent(string_columns, filtered_idf)"
   ]
  },
  {
   "cell_type": "code",
   "execution_count": 169,
   "metadata": {},
   "outputs": [
    {
     "data": {
      "text/plain": [
       "['premiera', 'parlament', 'parlament', 'nowego', 'premiera', 'maja', 'r']"
      ]
     },
     "execution_count": 169,
     "metadata": {},
     "output_type": "execute_result"
    }
   ],
   "source": [
    "filtered[1]"
   ]
  },
  {
   "cell_type": "code",
   "execution_count": 176,
   "metadata": {},
   "outputs": [],
   "source": [
    "unique_words = list(set(filtered_idf.keys()))\n",
    "vocab_size = len(unique_words)"
   ]
  },
  {
   "cell_type": "code",
   "execution_count": 177,
   "metadata": {},
   "outputs": [
    {
     "data": {
      "text/plain": [
       "2679"
      ]
     },
     "execution_count": 177,
     "metadata": {},
     "output_type": "execute_result"
    }
   ],
   "source": [
    "vocab_size"
   ]
  },
  {
   "cell_type": "code",
   "execution_count": 178,
   "metadata": {},
   "outputs": [],
   "source": [
    "word2int = {}\n",
    "int2word = {}\n",
    "\n",
    "for i,word in enumerate(unique_words):\n",
    "    word2int[word] = i\n",
    "    int2word[i] = word"
   ]
  },
  {
   "cell_type": "markdown",
   "metadata": {},
   "source": [
    "##### Change words to vectors"
   ]
  },
  {
   "cell_type": "code",
   "execution_count": 181,
   "metadata": {},
   "outputs": [],
   "source": [
    "def string_x_to_tf_idf(records, idf, vocab_size, word2int):\n",
    "    dataset = []\n",
    "    for record in records:\n",
    "        tmp_vector = np.zeros(vocab_size)\n",
    "        for word, counter in Counter(record).items():\n",
    "            tmp_vector[word2int[word]] = counter / idf[word]\n",
    "        dataset.append(tmp_vector)\n",
    "    \n",
    "    return np.asarray(dataset)"
   ]
  },
  {
   "cell_type": "code",
   "execution_count": 188,
   "metadata": {},
   "outputs": [],
   "source": [
    "x = string_x_to_tf_idf(filtered, filtered_idf, vocab_size, word2int)"
   ]
  },
  {
   "cell_type": "code",
   "execution_count": 189,
   "metadata": {},
   "outputs": [
    {
     "data": {
      "text/plain": [
       "9984"
      ]
     },
     "execution_count": 189,
     "metadata": {},
     "output_type": "execute_result"
    }
   ],
   "source": [
    "len(x)"
   ]
  },
  {
   "cell_type": "code",
   "execution_count": 190,
   "metadata": {},
   "outputs": [
    {
     "data": {
      "text/plain": [
       "9984"
      ]
     },
     "execution_count": 190,
     "metadata": {},
     "output_type": "execute_result"
    }
   ],
   "source": [
    "len(articles['url'])"
   ]
  },
  {
   "cell_type": "markdown",
   "metadata": {},
   "source": [
    "## Prepare labels"
   ]
  },
  {
   "cell_type": "code",
   "execution_count": 196,
   "metadata": {},
   "outputs": [],
   "source": [
    "from labeling.emotions import rage, joy, sadness, surprise, fear, all_flag_words"
   ]
  },
  {
   "cell_type": "code",
   "execution_count": 237,
   "metadata": {},
   "outputs": [],
   "source": [
    "comments_raw = pd.concat([\n",
    "    pd.read_csv('data/processed_comments_1.csv'),\n",
    "    pd.read_csv('data/processed_comments_2.csv')\n",
    "])[['url', 'downvotes', 'upvotes', 'words']]"
   ]
  },
  {
   "cell_type": "code",
   "execution_count": 238,
   "metadata": {},
   "outputs": [
    {
     "data": {
      "text/html": [
       "<div>\n",
       "<style scoped>\n",
       "    .dataframe tbody tr th:only-of-type {\n",
       "        vertical-align: middle;\n",
       "    }\n",
       "\n",
       "    .dataframe tbody tr th {\n",
       "        vertical-align: top;\n",
       "    }\n",
       "\n",
       "    .dataframe thead th {\n",
       "        text-align: right;\n",
       "    }\n",
       "</style>\n",
       "<table border=\"1\" class=\"dataframe\">\n",
       "  <thead>\n",
       "    <tr style=\"text-align: right;\">\n",
       "      <th></th>\n",
       "      <th>url</th>\n",
       "      <th>downvotes</th>\n",
       "      <th>upvotes</th>\n",
       "      <th>words</th>\n",
       "    </tr>\n",
       "  </thead>\n",
       "  <tbody>\n",
       "    <tr>\n",
       "      <th>0</th>\n",
       "      <td>http://wyborcza.biz/biznes/7,147880,23632593,n...</td>\n",
       "      <td>0</td>\n",
       "      <td>10</td>\n",
       "      <td>['brak', 'kwartalnych', 'waloryzacji', 'kapita...</td>\n",
       "    </tr>\n",
       "  </tbody>\n",
       "</table>\n",
       "</div>"
      ],
      "text/plain": [
       "                                                 url  downvotes  upvotes  \\\n",
       "0  http://wyborcza.biz/biznes/7,147880,23632593,n...          0       10   \n",
       "\n",
       "                                               words  \n",
       "0  ['brak', 'kwartalnych', 'waloryzacji', 'kapita...  "
      ]
     },
     "execution_count": 238,
     "metadata": {},
     "output_type": "execute_result"
    }
   ],
   "source": [
    "comments_raw.head(1)"
   ]
  },
  {
   "cell_type": "code",
   "execution_count": 239,
   "metadata": {},
   "outputs": [],
   "source": [
    "comment_emotions = []\n",
    "for comment in comments_raw['words'].values:\n",
    "    record_labels = [0, 0, 0, 0, 0, 0]\n",
    "    eval_comment = eval(comment)\n",
    "    \n",
    "    for i, emotion in enumerate([rage, joy, sadness, surprise, fear]):\n",
    "        for flag_word in emotion:\n",
    "            if flag_word in eval_comment:\n",
    "                record_labels[i] += 1\n",
    "        if record_labels[i] != 0:\n",
    "            record_labels[5] += 1\n",
    "                \n",
    "    comment_emotions.append(record_labels)"
   ]
  },
  {
   "cell_type": "code",
   "execution_count": 240,
   "metadata": {},
   "outputs": [],
   "source": [
    "emotions_df = pd.DataFrame(comment_emotions, index = comments_raw.index)\n",
    "emotions_df.columns = ['rage', 'joy', 'sadness', 'surprise', 'fear', 'emotions_count']"
   ]
  },
  {
   "cell_type": "code",
   "execution_count": 241,
   "metadata": {},
   "outputs": [],
   "source": [
    "comments = pd.concat([comments_raw, emotions_df], axis = 1).drop('words', axis = 1)"
   ]
  },
  {
   "cell_type": "code",
   "execution_count": 242,
   "metadata": {},
   "outputs": [
    {
     "data": {
      "text/html": [
       "<div>\n",
       "<style scoped>\n",
       "    .dataframe tbody tr th:only-of-type {\n",
       "        vertical-align: middle;\n",
       "    }\n",
       "\n",
       "    .dataframe tbody tr th {\n",
       "        vertical-align: top;\n",
       "    }\n",
       "\n",
       "    .dataframe thead th {\n",
       "        text-align: right;\n",
       "    }\n",
       "</style>\n",
       "<table border=\"1\" class=\"dataframe\">\n",
       "  <thead>\n",
       "    <tr style=\"text-align: right;\">\n",
       "      <th></th>\n",
       "      <th>url</th>\n",
       "      <th>downvotes</th>\n",
       "      <th>upvotes</th>\n",
       "      <th>rage</th>\n",
       "      <th>joy</th>\n",
       "      <th>sadness</th>\n",
       "      <th>surprise</th>\n",
       "      <th>fear</th>\n",
       "      <th>emotions_count</th>\n",
       "    </tr>\n",
       "  </thead>\n",
       "  <tbody>\n",
       "    <tr>\n",
       "      <th>221003</th>\n",
       "      <td>http://bialystok.wyborcza.pl/bialystok/7,35241...</td>\n",
       "      <td>2</td>\n",
       "      <td>14</td>\n",
       "      <td>0</td>\n",
       "      <td>0</td>\n",
       "      <td>0</td>\n",
       "      <td>0</td>\n",
       "      <td>0</td>\n",
       "      <td>0</td>\n",
       "    </tr>\n",
       "    <tr>\n",
       "      <th>221004</th>\n",
       "      <td>http://bialystok.wyborcza.pl/bialystok/7,35241...</td>\n",
       "      <td>9</td>\n",
       "      <td>6</td>\n",
       "      <td>0</td>\n",
       "      <td>0</td>\n",
       "      <td>0</td>\n",
       "      <td>0</td>\n",
       "      <td>0</td>\n",
       "      <td>0</td>\n",
       "    </tr>\n",
       "    <tr>\n",
       "      <th>221005</th>\n",
       "      <td>http://bialystok.wyborcza.pl/bialystok/7,35241...</td>\n",
       "      <td>8</td>\n",
       "      <td>1</td>\n",
       "      <td>0</td>\n",
       "      <td>0</td>\n",
       "      <td>0</td>\n",
       "      <td>0</td>\n",
       "      <td>0</td>\n",
       "      <td>0</td>\n",
       "    </tr>\n",
       "    <tr>\n",
       "      <th>221006</th>\n",
       "      <td>http://bialystok.wyborcza.pl/bialystok/7,35241...</td>\n",
       "      <td>1</td>\n",
       "      <td>4</td>\n",
       "      <td>0</td>\n",
       "      <td>0</td>\n",
       "      <td>0</td>\n",
       "      <td>0</td>\n",
       "      <td>0</td>\n",
       "      <td>0</td>\n",
       "    </tr>\n",
       "  </tbody>\n",
       "</table>\n",
       "</div>"
      ],
      "text/plain": [
       "                                                      url  downvotes  upvotes  \\\n",
       "221003  http://bialystok.wyborcza.pl/bialystok/7,35241...          2       14   \n",
       "221004  http://bialystok.wyborcza.pl/bialystok/7,35241...          9        6   \n",
       "221005  http://bialystok.wyborcza.pl/bialystok/7,35241...          8        1   \n",
       "221006  http://bialystok.wyborcza.pl/bialystok/7,35241...          1        4   \n",
       "\n",
       "        rage  joy  sadness  surprise  fear  emotions_count  \n",
       "221003     0    0        0         0     0               0  \n",
       "221004     0    0        0         0     0               0  \n",
       "221005     0    0        0         0     0               0  \n",
       "221006     0    0        0         0     0               0  "
      ]
     },
     "execution_count": 242,
     "metadata": {},
     "output_type": "execute_result"
    }
   ],
   "source": [
    "comments[comments['url'] == 'http://bialystok.wyborcza.pl/bialystok/7,35241,23042200,komorowski-budowanie-dumy-z-polskiej-historii-konczy-sie-wstydem.html']"
   ]
  },
  {
   "cell_type": "code",
   "execution_count": 243,
   "metadata": {},
   "outputs": [],
   "source": [
    "sums = comments\\\n",
    "    .groupby('url')\\\n",
    "    .sum()"
   ]
  },
  {
   "cell_type": "code",
   "execution_count": 244,
   "metadata": {},
   "outputs": [],
   "source": [
    "counts = comments\\\n",
    "    [['url', 'downvotes']]\\\n",
    "    .groupby('url')\\\n",
    "    .count()\n",
    "counts.columns = ['counter']"
   ]
  },
  {
   "cell_type": "code",
   "execution_count": 253,
   "metadata": {},
   "outputs": [
    {
     "data": {
      "text/plain": [
       "19469"
      ]
     },
     "execution_count": 253,
     "metadata": {},
     "output_type": "execute_result"
    }
   ],
   "source": [
    "len(labels)"
   ]
  },
  {
   "cell_type": "code",
   "execution_count": 258,
   "metadata": {},
   "outputs": [],
   "source": [
    "labels = pd.concat([counts, sums], axis = 1).reindex(articles['url'])"
   ]
  },
  {
   "cell_type": "code",
   "execution_count": 259,
   "metadata": {},
   "outputs": [
    {
     "data": {
      "text/plain": [
       "9984"
      ]
     },
     "execution_count": 259,
     "metadata": {},
     "output_type": "execute_result"
    }
   ],
   "source": [
    "len(labels)"
   ]
  },
  {
   "cell_type": "code",
   "execution_count": 260,
   "metadata": {},
   "outputs": [
    {
     "data": {
      "text/html": [
       "<div>\n",
       "<style scoped>\n",
       "    .dataframe tbody tr th:only-of-type {\n",
       "        vertical-align: middle;\n",
       "    }\n",
       "\n",
       "    .dataframe tbody tr th {\n",
       "        vertical-align: top;\n",
       "    }\n",
       "\n",
       "    .dataframe thead th {\n",
       "        text-align: right;\n",
       "    }\n",
       "</style>\n",
       "<table border=\"1\" class=\"dataframe\">\n",
       "  <thead>\n",
       "    <tr style=\"text-align: right;\">\n",
       "      <th></th>\n",
       "      <th>counter</th>\n",
       "      <th>downvotes</th>\n",
       "      <th>upvotes</th>\n",
       "      <th>rage</th>\n",
       "      <th>joy</th>\n",
       "      <th>sadness</th>\n",
       "      <th>surprise</th>\n",
       "      <th>fear</th>\n",
       "      <th>emotions_count</th>\n",
       "    </tr>\n",
       "    <tr>\n",
       "      <th>url</th>\n",
       "      <th></th>\n",
       "      <th></th>\n",
       "      <th></th>\n",
       "      <th></th>\n",
       "      <th></th>\n",
       "      <th></th>\n",
       "      <th></th>\n",
       "      <th></th>\n",
       "      <th></th>\n",
       "    </tr>\n",
       "  </thead>\n",
       "  <tbody>\n",
       "    <tr>\n",
       "      <th>http://wyborcza.biz/biznes/7,147880,23632593,nik-alarmuje-polacy-maja-zanizone-emerytury.html</th>\n",
       "      <td>2.0</td>\n",
       "      <td>0.0</td>\n",
       "      <td>11.0</td>\n",
       "      <td>0.0</td>\n",
       "      <td>0.0</td>\n",
       "      <td>0.0</td>\n",
       "      <td>0.0</td>\n",
       "      <td>0.0</td>\n",
       "      <td>0.0</td>\n",
       "    </tr>\n",
       "    <tr>\n",
       "      <th>http://wyborcza.pl/7,75399,23398351,katalonia-ma-premiera-parlament-w-barcelonie-przeglosowal-kandydature.html</th>\n",
       "      <td>5.0</td>\n",
       "      <td>5.0</td>\n",
       "      <td>2.0</td>\n",
       "      <td>0.0</td>\n",
       "      <td>0.0</td>\n",
       "      <td>0.0</td>\n",
       "      <td>0.0</td>\n",
       "      <td>0.0</td>\n",
       "      <td>0.0</td>\n",
       "    </tr>\n",
       "  </tbody>\n",
       "</table>\n",
       "</div>"
      ],
      "text/plain": [
       "                                                    counter  downvotes  \\\n",
       "url                                                                      \n",
       "http://wyborcza.biz/biznes/7,147880,23632593,ni...      2.0        0.0   \n",
       "http://wyborcza.pl/7,75399,23398351,katalonia-m...      5.0        5.0   \n",
       "\n",
       "                                                    upvotes  rage  joy  \\\n",
       "url                                                                      \n",
       "http://wyborcza.biz/biznes/7,147880,23632593,ni...     11.0   0.0  0.0   \n",
       "http://wyborcza.pl/7,75399,23398351,katalonia-m...      2.0   0.0  0.0   \n",
       "\n",
       "                                                    sadness  surprise  fear  \\\n",
       "url                                                                           \n",
       "http://wyborcza.biz/biznes/7,147880,23632593,ni...      0.0       0.0   0.0   \n",
       "http://wyborcza.pl/7,75399,23398351,katalonia-m...      0.0       0.0   0.0   \n",
       "\n",
       "                                                    emotions_count  \n",
       "url                                                                 \n",
       "http://wyborcza.biz/biznes/7,147880,23632593,ni...             0.0  \n",
       "http://wyborcza.pl/7,75399,23398351,katalonia-m...             0.0  "
      ]
     },
     "execution_count": 260,
     "metadata": {},
     "output_type": "execute_result"
    }
   ],
   "source": [
    "labels.head(2)"
   ]
  },
  {
   "cell_type": "code",
   "execution_count": null,
   "metadata": {},
   "outputs": [],
   "source": []
  },
  {
   "cell_type": "code",
   "execution_count": null,
   "metadata": {},
   "outputs": [],
   "source": []
  }
 ],
 "metadata": {
  "kernelspec": {
   "display_name": "Python 3",
   "language": "python",
   "name": "python3"
  },
  "language_info": {
   "codemirror_mode": {
    "name": "ipython",
    "version": 3
   },
   "file_extension": ".py",
   "mimetype": "text/x-python",
   "name": "python",
   "nbconvert_exporter": "python",
   "pygments_lexer": "ipython3",
   "version": "3.7.2"
  }
 },
 "nbformat": 4,
 "nbformat_minor": 2
}
