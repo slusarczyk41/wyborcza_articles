{
 "cells": [
  {
   "cell_type": "code",
   "execution_count": 1,
   "metadata": {},
   "outputs": [],
   "source": [
    "from scrap_article import scrap_article\n",
    "from selenium import webdriver"
   ]
  },
  {
   "cell_type": "code",
   "execution_count": 2,
   "metadata": {},
   "outputs": [],
   "source": [
    "chrome_options = webdriver.ChromeOptions()\n",
    "chrome_options.add_argument('--headless')\n",
    "chrome_options.add_argument('--executable_path=/usr/bin/chromedriver')\n",
    "chrome = webdriver.Chrome(options=chrome_options)"
   ]
  },
  {
   "cell_type": "code",
   "execution_count": 3,
   "metadata": {},
   "outputs": [],
   "source": [
    "url = \"http://wyborcza.pl/7,155168,24837122,prezes-psl-non-possumus-jesli-biedron-wejdzie-do-koalicji.html#S.DT-K.C-B.1-L.1.duzy\""
   ]
  },
  {
   "cell_type": "code",
   "execution_count": 26,
   "metadata": {},
   "outputs": [
    {
     "data": {
      "text/plain": [
       "'http://wyborcza.pl/7,155168,24837122,prezes-psl-non-possumus-jesli-biedron-wejdzie-do-koalicji.html#S.DT-K.C-B.1-L.1.duzy'"
      ]
     },
     "execution_count": 26,
     "metadata": {},
     "output_type": "execute_result"
    }
   ],
   "source": [
    "url"
   ]
  },
  {
   "cell_type": "code",
   "execution_count": 4,
   "metadata": {},
   "outputs": [],
   "source": [
    "article = scrap_article(chrome, url, True)"
   ]
  },
  {
   "cell_type": "code",
   "execution_count": 5,
   "metadata": {},
   "outputs": [],
   "source": [
    "from unidecode import unidecode"
   ]
  },
  {
   "cell_type": "code",
   "execution_count": 6,
   "metadata": {},
   "outputs": [],
   "source": [
    "from json import loads, dumps"
   ]
  },
  {
   "cell_type": "code",
   "execution_count": 7,
   "metadata": {},
   "outputs": [
    {
     "data": {
      "text/plain": [
       "dict"
      ]
     },
     "execution_count": 7,
     "metadata": {},
     "output_type": "execute_result"
    }
   ],
   "source": [
    "type(article)"
   ]
  },
  {
   "cell_type": "code",
   "execution_count": 20,
   "metadata": {},
   "outputs": [],
   "source": [
    "j = loads(dumps(article, ensure_ascii=False))"
   ]
  },
  {
   "cell_type": "code",
   "execution_count": 27,
   "metadata": {},
   "outputs": [],
   "source": [
    "with open('test_json', 'w') as f:\n",
    "    f.write(str({'row': {\n",
    "       'comments': j['comments'],\n",
    "       'timestamp': 'nowxD'\n",
    "       }\n",
    "    }))"
   ]
  },
  {
   "cell_type": "code",
   "execution_count": 28,
   "metadata": {},
   "outputs": [],
   "source": [
    "from json import load"
   ]
  },
  {
   "cell_type": "code",
   "execution_count": 34,
   "metadata": {},
   "outputs": [],
   "source": [
    "with open('test_json', 'r') as f:\n",
    "    s = f.read()"
   ]
  },
  {
   "cell_type": "code",
   "execution_count": 39,
   "metadata": {},
   "outputs": [
    {
     "data": {
      "text/plain": [
       "'{\\'row\\': {\\'comments\\': [{\\'main_comment\\': {\\'id\\': \\'101643333\\', \\'author\\': \\'kulson\\', \\'date\\': \\'28.05.2019, 17:25\\', \\'body\\': \\'No i git. Krzyżyk na drogę. Koalicja z Wiosną lepiej na tym wyjdzie. A PSL zdechnie pod progiem.\\', \\'upvotes\\': \\'80\\', \\'downvotes\\': \\'10\\', \\'suspicious\\': False}, \\'sub_comments\\': [{\\'id\\': \\'101643440\\', \\'author\\': \\'just_a_number\\', \\'date\\': \\'28.05.2019, 17:48\\', \\'reply_to\\': \\'kulson\\', \\'body\\': \\'dokładnie, wychodząc z koalicji PSL strzeli sobie w skroń. I nikt po nich płakał nie będzie, bo przestarzała forma partii agrarnej nikomu już nie jest potrzebna. Na zachodzie partie chłopskie dawno przekształciły się w chadecje - gdy chłopstwa zabrakło. PSL uparcie trwa przy formule wiejskiej szkodząc Polsce przez 30 lat. Wystarczy.\\', \\'upvotes\\': \\'22\\', \\'downvotes\\': \\'1\\', \\'suspicious\\': False}, {\\'id\\': \\'101643577\\', \\'author\\': \\'hardy\\', \\'date\\': \\'28.05.2019, 18:20\\', \\'reply_to\\': \\'kulson\\', \\'body\\': \\'Politygy PSL zawsze postepowali jak qrwy!!!\\', \\'upvotes\\': \\'10\\', \\'downvotes\\': \\'1\\', \\'suspicious\\': True}, {\\'id\\': \\'101643585\\', \\'author\\': \\'parazydek\\', \\'date\\': \\'28.05.2019, 18:21\\', \\'reply_to\\': \\'\"Jeśli Biedroń wejdzie do Koalicji, PSL-u w niej nie będzie.\"\\', \\'body\\': \\'Im szybciej tym lepiej!\\', \\'upvotes\\': \\'14\\', \\'downvotes\\': \\'0\\', \\'suspicious\\': False}, {\\'id\\': \\'101643733\\', \\'author\\': \\'wierny_nie_poddany\\', \\'date\\': \\'28.05.2019, 19:09\\', \\'reply_to\\': \\'kulson\\', \\'body\\': \\'Pełna zgoda. na miejscu działaczy PSL podpisałbym jeszcze umowę z ePISkopatem, że na chrzcinach dziecka jakiś pleban zakpi i z dziecka, i z rodziny.\\', \\'upvotes\\': \\'7\\', \\'downvotes\\': \\'0\\', \\'suspicious\\': False}, {\\'id\\': \\'101643842\\', \\'author\\': \\'Marcin__76\\', \\'date\\': \\'28.05.2019, 19:34\\', \\'reply_to\\': \\'kulson\\', \\'body\\': \\'\"Cel został osiągnięty\", trzech prominentów PSL dostało intrantną fuchę i europarlamentarną emeryturę na resztę życia. Reszta , w tym społeczeństwo domagające się przestrzegania prawa przez rządzących niech spada na drzewo. Pozamiatane.\\', \\'upvotes\\': \\'5\\', \\'downvotes\\': \\'0\\', \\'suspicious\\': False}]}, {\\'main_comment\\': {\\'id\\': \\'101643349\\', \\'author\\': \\'style\\', \\'date\\': \\'28.05.2019, 17:29\\', \\'body\\': \\'Antydemokratyczny zwykly szantaz PSLu. Sami nie sa w stanie stawic czola pisim, ale szantazuja, szarzuja. Poza kleczeniem przed kk nie maja programu nawet dla wsi. Zdobyli w ukartowanych listach koalicji 3 mandaty, tyle samo co istniejaca od 3,5 miesiaca Wiosna w pojedynke. Biedron ma spojny program i charyzme. Na miejscu Schetyny walczylbym o Biedronia w koalicji, bo klekanie przed kk obsluguja juz pisi.\\', \\'upvotes\\': \\'64\\', \\'downvotes\\': \\'5\\', \\'suspicious\\': False}, \\'sub_comments\\': [{\\'id\\': \\'101643485\\', \\'author\\': \\'brokrak\\', \\'date\\': \\'28.05.2019, 17:59\\', \\'reply_to\\': \\'style\\', \\'body\\': \\'W tym przypadku, to zwykła kalkulacja polityczna. Wiadomo, że PSL nie może żądać rozdziału kościoła i państwa, bo chłopstwo tego nie zaakceptuje. Nie może też tworzyć z takowymi koalicji, bo dodane odrębne wyniki utworzą sumę niestety mniejszą. Ratunkiem dla PSL, jest pójście własną drogą. WIOSNA też w obecnej sytuacji nie może przystąpić do koalicji z automatu.Takie połączenie w sposób oczywisty zmniejszy poparcie i z jednej i drugiej strony. Połączenie sprzecznych programów da w efekcie 35 + 12 =40 . Musi więc PO dostosować swój program do WIOSNY - albo opozycja wystąpi w trzech blokach - WIOSNA - KO - PSL - przy założeniu że wszystkie ugrupowania przekroczą próg. W takim ukladzie, nawet jeśli PiS zwycięży, nic nie zyska z systemu wyborczego. Nie byłoby głupio, gdyby Wiosna utworzyła koalicję z Nowoczesną i Teraz a do KO dołączyło Razem.\\', \\'upvotes\\': \\'2\\', \\'downvotes\\': \\'0\\', \\'suspicious\\': False}, {\\'id\\': \\'101643507\\', \\'author\\': \\'frywolnik\\', \\'date\\': \\'28.05.2019, 18:05\\', \\'reply_to\\': \\'style\\', \\'body\\': \\'Zandberg też ma charyzmę oraz program. I co?\\', \\'upvotes\\': \\'7\\', \\'downvotes\\': \\'1\\', \\'suspicious\\': False}, {\\'id\\': \\'101643565\\', \\'author\\': \\'style\\', \\'date\\': \\'28.05.2019, 18:17\\', \\'reply_to\\': \\'brokrak\\', \\'body\\': \\'Wiosna w systemie przeliczania procentow na madaty, miala mnoznik 1,5, PSL w koalicji 5,3. wiec mandaty Wiosny sa bardziej wywalczone. Idea trzech blokow godna rozwazenia, choc Zandberga, ZL widze blizej Wiosny.\\', \\'upvotes\\': \\'3\\', \\'downvotes\\': \\'0\\', \\'suspicious\\': False}, {\\'id\\': \\'101643731\\', \\'author\\': \\'brokrak\\', \\'date\\': \\'28.05.2019, 19:09\\', \\'reply_to\\': \\'style\\', \\'body\\': \\'Ja uważam, że Nowoczesna i Teraz - wprowadziłyby nieco realizmu gospodarczego do wiosennej koalicji a RAZEM nieco ociepliło wizerunek KO w oczach pracujących. -Ale to oni mają ekspertów i doradców oraz wiedzę o wzajemnych niuansach - więc mam nadzieję podejmą własciwe decyzje. Ciekaw jestem czy korzystają z doradztwa Radosława Markowskiego - sadzę, że powinni.\\', \\'upvotes\\': \\'3\\', \\'downvotes\\': \\'1\\', \\'suspicious\\': False}]}, {\\'main_comment\\': {\\'id\\': \\'101643382\\', \\'author\\': \\'jerjar\\', \\'date\\': \\'28.05.2019, 17:36\\', \\'body\\': \\'Sorry, ale taki mamy naród. Dla polskiego chłopa gej to ktoś, kogo trzeba pogonić kłonicą. Co innego ksiundz, choćby i pedofil, ale nasz.\\', \\'upvotes\\': \\'66\\', \\'downvotes\\': \\'2\\', \\'suspicious\\': False}, \\'sub_comments\\': [{\\'id\\': \\'101643464\\', \\'author\\': \\'adres_na_swinstwa\\', \\'date\\': \\'28.05.2019, 17:54\\', \\'reply_to\\': \\'jerjar\\', \\'body\\': \\'W takim razie, wolę PiS. Niech i inni mają prze...ne.\\', \\'upvotes\\': \\'0\\', \\'downvotes\\': \\'3\\', \\'suspicious\\': False}, {\\'id\\': \\'101643489\\', \\'author\\': \\'kaprill\\', \\'date\\': \\'28.05.2019, 18:00\\', \\'reply_to\\': \\'jerjar\\', \\'body\\': \\'...sz.Mieszkam na wsi kaszubskiej i światopogląd to może w mazowieckim decyduje.Prędzej Głódź do PISu przekona niż mój ksiądz.Ta połowa wygranej KE obejmuje też wsiunów takich jak ja.\\', \\'upvotes\\': \\'7\\', \\'downvotes\\': \\'0\\', \\'suspicious\\': False}, {\\'id\\': \\'101643573\\', \\'author\\': \\'style\\', \\'date\\': \\'28.05.2019, 18:19\\', \\'reply_to\\': \\'jerjar\\', \\'body\\': \\'Tak jakby na wsi gejow nie bylo?\\', \\'upvotes\\': \\'8\\', \\'downvotes\\': \\'0\\', \\'suspicious\\': False}]}, {\\'main_comment\\': {\\'id\\': \\'101643351\\', \\'author\\': \\'budyn222\\', \\'date\\': \\'28.05.2019, 17:29\\', \\'body\\': \\'Przed wyborami zrobiłem sobie, na jednej ze stron internetowych, \"test zbieżności\" z kandydatami z KE w moim okręgu wyborczym. Nie chciałem głosować na kopacza piłki, który był nr 1 na liście. Okazało się, że pani z PSL, nr 2 na liście, ma wszystkie odpowiedzi na pytania światopoglądowe zaznaczone odwrotnie niż ja. I dlatego tej pani też powiedziałem good bye. Nich się PSL dalej próbuje kumać z klechami, to w następnych wtborach są poza parlamentem, bo wieś i tak już stracili na rzecz piss.\\', \\'upvotes\\': \\'52\\', \\'downvotes\\': \\'2\\', \\'suspicious\\': False}, \\'sub_comments\\': [{\\'id\\': \\'101643409\\', \\'author\\': \\'Yaybazranga\\', \\'date\\': \\'28.05.2019, 17:42\\', \\'reply_to\\': \\'budyn222\\', \\'body\\': \\'to polityczny trup\\', \\'upvotes\\': \\'8\\', \\'downvotes\\': \\'0\\', \\'suspicious\\': True}]}, {\\'main_comment\\': {\\'id\\': \\'101643366\\', \\'author\\': \\'bielinek_kapustnik\\', \\'date\\': \\'28.05.2019, 17:32\\', \\'body\\': \\'Nic się nie zmieniliście: od lat szantażyści rodem spod wiejskiej remizy.\\', \\'upvotes\\': \\'47\\', \\'downvotes\\': \\'2\\', \\'suspicious\\': False}, \\'sub_comments\\': []}, {\\'main_comment\\': {\\'id\\': \\'101643371\\', \\'author\\': \\'najgorszy.sort\\', \\'date\\': \\'28.05.2019, 17:34\\', \\'body\\': \\'Czyli już na horyzoncie koalicja PiS-PSL..\\', \\'upvotes\\': \\'33\\', \\'downvotes\\': \\'3\\', \\'suspicious\\': False}, \\'sub_comments\\': [{\\'id\\': \\'101643424\\', \\'author\\': \\'luc22\\', \\'date\\': \\'28.05.2019, 17:46\\', \\'reply_to\\': \\'najgorszy.sort\\', \\'body\\': \\'oni o tym marzą, ale kaczor nie jest aż tak głupi - nie weźmie psl\\', \\'upvotes\\': \\'5\\', \\'downvotes\\': \\'1\\', \\'suspicious\\': False}, {\\'id\\': \\'101643455\\', \\'author\\': \\'just_a_number\\', \\'date\\': \\'28.05.2019, 17:51\\', \\'reply_to\\': \\'najgorszy.sort\\', \\'body\\': \\'no way. Pis nie weźmie PSLu bo wzięło już ich elektorat. PSL nie jest im potrzebny, nikomu innemu zdaje się też nie, więc nadszedł wreszcie czas by przeszedł do historii.\\', \\'upvotes\\': \\'9\\', \\'downvotes\\': \\'1\\', \\'suspicious\\': False}, {\\'id\\': \\'101643476\\', \\'author\\': \\'bajobongo.online\\', \\'date\\': \\'28.05.2019, 17:56\\', \\'reply_to\\': \\'najgorszy.sort\\', \\'body\\': \\'Żartujesz. Przejmą resztki elektoratu bez żadnej koalicji!\\', \\'upvotes\\': \\'2\\', \\'downvotes\\': \\'1\\', \\'suspicious\\': False}]}, {\\'main_comment\\': {\\'id\\': \\'101643357\\', \\'author\\': \\'petronelladelacruz\\', \\'date\\': \\'28.05.2019, 17:31\\', \\'body\\': \\'Partia rozwiedzionych polskich katolików. Nie ma nad czym płakać.\\', \\'upvotes\\': \\'32\\', \\'downvotes\\': \\'2\\', \\'suspicious\\': False}, \\'sub_comments\\': []}, {\\'main_comment\\': {\\'id\\': \\'101643450\\', \\'author\\': \\'he219\\', \\'date\\': \\'28.05.2019, 17:50\\', \\'body\\': \\'I bardzo dobrze. Niech wychodzą. Wiosna bardziej się przyda.\\', \\'upvotes\\': \\'27\\', \\'downvotes\\': \\'3\\', \\'suspicious\\': False}, \\'sub_comments\\': []}, {\\'main_comment\\': {\\'id\\': \\'101643417\\', \\'author\\': \\'rucklaufer\\', \\'date\\': \\'28.05.2019, 17:45\\', \\'body\\': \\'Tak drogie dzieci wyglada „polityk” szykujący się do szybkiego numerku z bandytami z pisu\\', \\'upvotes\\': \\'27\\', \\'downvotes\\': \\'2\\', \\'suspicious\\': False}, \\'sub_comments\\': []}, {\\'main_comment\\': {\\'id\\': \\'101643429\\', \\'author\\': \\'CalmT\\', \\'date\\': \\'28.05.2019, 17:46\\', \\'body\\': \\'Panie Kosiniak, czy Pan sobie nie zdaje sprawy z tego, że nie będzie nam żal i że w sumie oczy bolały od pslu na liście KE?\\', \\'upvotes\\': \\'25\\', \\'downvotes\\': \\'2\\', \\'suspicious\\': False}, \\'sub_comments\\': []}, {\\'main_comment\\': {\\'id\\': \\'101643443\\', \\'author\\': \\'scarcies1\\', \\'date\\': \\'28.05.2019, 17:49\\', \\'body\\': \\'A niech wypieprzają do PISu te homofoby - tam ich miejsce\\', \\'upvotes\\': \\'24\\', \\'downvotes\\': \\'3\\', \\'suspicious\\': True}, \\'sub_comments\\': []}, {\\'main_comment\\': {\\'id\\': \\'101643405\\', \\'author\\': \\'ityle\\', \\'date\\': \\'28.05.2019, 17:41\\', \\'body\\': \\'Sami byliby pod progiem. Hetman w Lublinie nigdy nie dostałby tylu głosów jako PSL.  Są dwie kategorie: 1. klerykalna ciemnota, która z jakiegoś powodu nie głosuje na PIS, a oburza się na waginę w koronie 2. racjonaliści i liberałowie, którzy turlają się ze śmiechu na widok nabzdyczenia wywołanego waginą w koronie, którzy zagłosowaliby na KE, gdyby pogonić z niej klerykałów  Sam Palikot to było za mało, ale wierzę, że liberalna światopoglądowo partia z mocnym skrzydłem antyklerykalnym działałaby o wiele lepiej niż ten fałszywy przekaz i klerykałowie w jednym szeregu z racjonalistami ciągle gryzącymi się w język.\\', \\'upvotes\\': \\'20\\', \\'downvotes\\': \\'4\\', \\'suspicious\\': False}, \\'sub_comments\\': []}, {\\'main_comment\\': {\\'id\\': \\'101643400\\', \\'author\\': \\'Yaybazranga\\', \\'date\\': \\'28.05.2019, 17:41\\', \\'body\\': \\'psl dla dowolnego koalicjanta jest kamieniem młyńskim u szyi\\', \\'upvotes\\': \\'22\\', \\'downvotes\\': \\'1\\', \\'suspicious\\': False}, \\'sub_comments\\': [{\\'id\\': \\'101643596\\', \\'author\\': \\'hardy\\', \\'date\\': \\'28.05.2019, 18:24\\', \\'reply_to\\': \\'Yaybazranga\\', \\'body\\': \\'Obawiam sie, ze za rok, lub dwa PSL wejdzie w koalicje z PiS i zostanie wchloniety!!!\\', \\'upvotes\\': \\'1\\', \\'downvotes\\': \\'0\\', \\'suspicious\\': False}]}, {\\'main_comment\\': {\\'id\\': \\'101643383\\', \\'author\\': \\'Azzo\\', \\'date\\': \\'28.05.2019, 17:36\\', \\'body\\': \\'\"Liczmy, że my mamy 5-6, SLD ma 5-6, Platforma 20. To jest 32, a jest 38. Jest premia za zjednoczenie!\"  Dziwaczny sposób liczenia. Prezes \"zapomniał\", że w skład KE wchodzi jeszcze szereg innych bytów politycznych, Nowoczesna, Teraz, Inicjatywa, Zieloni. Pół roku temu w wyborach do sejmików wojewódzkich koalicjanci dostali znacznie więcej niż te 38%, bo 47%. To przykład dobry do porównania, bo tam też głosowało się na listy partyjne. Gdzie on tu widzi jakąś premię za zjednoczenie???\\', \\'upvotes\\': \\'16\\', \\'downvotes\\': \\'4\\', \\'suspicious\\': False}, \\'sub_comments\\': []}, {\\'main_comment\\': {\\'id\\': \\'101643445\\', \\'author\\': \\'karol.sk\\', \\'date\\': \\'28.05.2019, 17:49\\', \\'body\\': \\'Wsiok się odezwał. Niestety trochę go rozumiem, bo w Polsce póki co, rządzi kler z wsiokami, którzy niczego poza gazetką z Biedronki w dorosłym życiu nie przeczytali (patrz wybory do PE).\\', \\'upvotes\\': \\'16\\', \\'downvotes\\': \\'3\\', \\'suspicious\\': True}, \\'sub_comments\\': []}, {\\'main_comment\\': {\\'id\\': \\'101643433\\', \\'author\\': \\'4605\\', \\'date\\': \\'28.05.2019, 17:47\\', \\'body\\': \\'PSL-zbiorowisko karierowiczow, ktorzy dla kariery sa skorzy sprzedac wlasna matke. Ludzie na wsiach poznali juz sie na ich oddaniu dla dobra wsi. Wielkie slowa,wielkie aspiracje a w sumie to wielki G.\\', \\'upvotes\\': \\'16\\', \\'downvotes\\': \\'2\\', \\'suspicious\\': False}, \\'sub_comments\\': []}, {\\'main_comment\\': {\\'id\\': \\'101643490\\', \\'author\\': \\'bajobongo.online\\', \\'date\\': \\'28.05.2019, 18:00\\', \\'body\\': \\'Zastanawia mnie widoczna na forumi nie tylko pogarda Jaśnie Państwa Intelektualistów dla inaczej myślących a w szczególności dla elektoratu ze wsi i małych miast.. Takie określenia jak \"ciemny lud\", \"Janusze i Grażyny\", wolacy, nazywanie patriotów nazistami to chleb powszedni. To poczucie wyższosci jest często zupełnie nieuzasadnione. Mam Pacjentki z tzw. \" zapadłej wsi\" które korzystają z internetu i wiecej wiedzą o swiecie niż lemingowaty ćwiercinteligent z wyższym wykształceniem czy pracownica korporacji. Niejedna położna czy pielęgniarka jest bystrzejsza niz pracujacy z nia lekarz. Wiele też jest jadu i chamstwa wobec \" prostaków kupionych 500+\" i pierwszą uczciwą rewaloryzacją emerytury. Zamożne lemingi nie stać na zrozumienie biednych moherów i ludzi dla których te sumy mają istotne znaczenie. A \" ciemny lud\" to widzi i czuje. Odwdzięcza się przy urnach. I to jest zaleta demokracji.\\', \\'upvotes\\': \\'7\\', \\'downvotes\\': \\'11\\', \\'suspicious\\': False}, \\'sub_comments\\': [{\\'id\\': \\'101643691\\', \\'author\\': \\'manka\\', \\'date\\': \\'28.05.2019, 18:56\\', \\'reply_to\\': \\'bajobongo.online\\', \\'body\\': \\'Lemingowaty cwiercinteligent należy do ciemnego ludu. Wykształcony i fachowy rolnik już niekoniecznie.\\', \\'upvotes\\': \\'4\\', \\'downvotes\\': \\'0\\', \\'suspicious\\': False}, {\\'id\\': \\'101643804\\', \\'author\\': \\'jaroslaw.kucypera\\', \\'date\\': \\'28.05.2019, 19:25\\', \\'reply_to\\': \\'bajobongo.online\\', \\'body\\': \\'Problem w tym, że pis tym ludziom, dla których \"te sumy mają istotne znaczenie\" robi tak na prawdę krzywdę, bo robi z nich jeszcze bardziej nieporadną klientelę socjalu. I to jest problem - a nie zaleta - demokracji, gdyż jest ona nieodporna na ciemnotę o ile ta występuję w odpowiedniej ilości. A ostatnie wybory pokazały, że niestety występuje.\\', \\'upvotes\\': \\'2\\', \\'downvotes\\': \\'0\\', \\'suspicious\\': False}, {\\'id\\': \\'101643829\\', \\'author\\': \\'just_a_number\\', \\'date\\': \\'28.05.2019, 19:31\\', \\'reply_to\\': \\'bajobongo.online\\', \\'body\\': \\'pacjentki? Jesteś znachorem? Bo na pewno nie lekarzem, z taką „ynteligencją”. Może leczysz dotykiem?\\', \\'upvotes\\': \\'2\\', \\'downvotes\\': \\'0\\', \\'suspicious\\': False}]}, {\\'main_comment\\': {\\'id\\': \\'101643524\\', \\'author\\': \\'akst1@gazeta.pl\\', \\'date\\': \\'28.05.2019, 18:08\\', \\'body\\': \\'Panie Kosiniak, na wsi masz już niewiele do ugrania. Albo zaakceptujesz Biedronia i dostaniesz od pana Schetyny jakieś dziesiąte miejsce na jakiejś liście, albo pójdziesz bajki na dobranoc rolnikom trochę poopowiadać. Daleś się podejść panu Tuskowi. Powiedział ci kiedyś komplement, to ty za nim jak w dym. Gdzie się podzial stary dobry PSL, który zalapywał się w każdych wyborach? Poszedł za tyłkiem pana Donalda Tuska?\\', \\'upvotes\\': \\'4\\', \\'downvotes\\': \\'12\\', \\'suspicious\\': False}, \\'sub_comments\\': []}, {\\'main_comment\\': {\\'id\\': \\'101643435\\', \\'author\\': \\'xyz-18\\', \\'date\\': \\'28.05.2019, 17:47\\', \\'body\\': \\'Nie miał jak usprawiedliwić klęski na wsi, to wymyśli, że przyczyną porażki był atak na wspólnotę kościoła. Dokładnie ściągnął ze srebrnego dewelopera. Zobaczycie, jeszcze pis i PSL mogą się zjednoczyć.\\', \\'upvotes\\': \\'11\\', \\'downvotes\\': \\'2\\', \\'suspicious\\': False}, \\'sub_comments\\': []}, {\\'main_comment\\': {\\'id\\': \\'101643393\\', \\'author\\': \\'tomi00768\\', \\'date\\': \\'28.05.2019, 17:39\\', \\'body\\': \\'No i Biedroń do KE nie chce, i jak teraz wymiksować się z koalicji\\', \\'upvotes\\': \\'12\\', \\'downvotes\\': \\'0\\', \\'suspicious\\': False}, \\'sub_comments\\': []}, {\\'main_comment\\': {\\'id\\': \\'101643419\\', \\'author\\': \\'wyborca66\\', \\'date\\': \\'28.05.2019, 17:45\\', \\'body\\': \\'Pan Kosiniak to grzeczny, ułożony SŁABEUSZ. Tacy dziś nie wygrywają. PSLowi potrzebny jest przywódca o silnej osobowości, odważny i skuteczny.\\', \\'upvotes\\': \\'8\\', \\'downvotes\\': \\'1\\', \\'suspicious\\': False}, \\'sub_comments\\': []}, {\\'main_comment\\': {\\'id\\': \\'101643468\\', \\'author\\': \\'bajobongo.online\\', \\'date\\': \\'28.05.2019, 17:55\\', \\'body\\': \\'A co to jest PSL? Kiedyś była taka partia z tradycjami. Czy to Ci sami?\\', \\'upvotes\\': \\'5\\', \\'downvotes\\': \\'4\\', \\'suspicious\\': False}, \\'sub_comments\\': []}, {\\'main_comment\\': {\\'id\\': \\'101643496\\', \\'author\\': \\'kaprill\\', \\'date\\': \\'28.05.2019, 18:02\\', \\'body\\': \\'Biedroń byłby idiotą wchodząc do KE.\\', \\'upvotes\\': \\'4\\', \\'downvotes\\': \\'4\\', \\'suspicious\\': True}, \\'sub_comments\\': []}, {\\'main_comment\\': {\\'id\\': \\'101643515\\', \\'author\\': \\'teef\\', \\'date\\': \\'28.05.2019, 18:06\\', \\'body\\': \\'\"granica, której nie przekroczymy\" I spoza tej granicy na długo do sejmu nie powrócicie.\\', \\'upvotes\\': \\'5\\', \\'downvotes\\': \\'1\\', \\'suspicious\\': False}, \\'sub_comments\\': []}, {\\'main_comment\\': {\\'id\\': \\'101643781\\', \\'author\\': \\'tokamak\\', \\'date\\': \\'28.05.2019, 19:21\\', \\'body\\': \\'Jeżeli chłopki z PSL liczą na romans z PiS, to się zawiodą. PiS was już nie potrzebuje, poradzili sobie sami.\\', \\'upvotes\\': \\'5\\', \\'downvotes\\': \\'0\\', \\'suspicious\\': False}, \\'sub_comments\\': []}, {\\'main_comment\\': {\\'id\\': \\'101643717\\', \\'author\\': \\'akst1@gazeta.pl\\', \\'date\\': \\'28.05.2019, 19:03\\', \\'body\\': \\'Kosiniak-Kamysz dal się wymanewrować. Wyszedł niby na chwilę ze wsi za wonią roztaczaną przez pana Donalda Tuska, a wieś zostala w tym czasie przejeta przez innych sympatyków wsi. Coś mi się wydaje, że pan Waldemar Pawlak zachowałby więcej zdrowego rozsądku.\\', \\'upvotes\\': \\'1\\', \\'downvotes\\': \\'4\\', \\'suspicious\\': False}, \\'sub_comments\\': []}, {\\'main_comment\\': {\\'id\\': \\'101643492\\', \\'author\\': \\'xymoxon null\\', \\'date\\': \\'28.05.2019, 18:00\\', \\'body\\': \\'Zawsze możesz wstąpić do pisowców, albo rumakować samemu i zniknąć...raz na zawsze!\\', \\'upvotes\\': \\'5\\', \\'downvotes\\': \\'0\\', \\'suspicious\\': False}, \\'sub_comments\\': []}, {\\'main_comment\\': {\\'id\\': \\'101643512\\', \\'author\\': \\'piotr56\\', \\'date\\': \\'28.05.2019, 18:06\\', \\'body\\': \\'Proszę pana, po prawej stronie sceny nie ma już dla was miejsca. Lepiej zostańcie z lewej strony, i pomóżcie robić rozliczenia z kościołem. Wbrew pozorom na wsiach i w małych miasteczkach jest dużo ludzi dla których kściół to tylko i wyłącznie budynek. Ale jeżeli odchodzicie, to dobrej drogi.\\', \\'upvotes\\': \\'4\\', \\'downvotes\\': \\'1\\', \\'suspicious\\': False}, \\'sub_comments\\': []}, {\\'main_comment\\': {\\'id\\': \\'101643852\\', \\'author\\': \\'MobyDick\\', \\'date\\': \\'28.05.2019, 19:37\\', \\'body\\': \\'Władek na ministranta!\\', \\'upvotes\\': \\'3\\', \\'downvotes\\': \\'1\\', \\'suspicious\\': False}, \\'sub_comments\\': []}, {\\'main_comment\\': {\\'id\\': \\'101643855\\', \\'author\\': \\'tepasa\\', \\'date\\': \\'28.05.2019, 19:38\\', \\'body\\': \\'Szczęśliwej drogi już czas\\', \\'upvotes\\': \\'3\\', \\'downvotes\\': \\'1\\', \\'suspicious\\': False}, \\'sub_comments\\': []}, {\\'main_comment\\': {\\'id\\': \\'101643618\\', \\'author\\': \\'starowin\\', \\'date\\': \\'28.05.2019, 18:30\\', \\'body\\': \\'>Non possumus... Non possumus? Czy to takie nowo-chamskie \"ja pier**lę\"?\\', \\'upvotes\\': \\'3\\', \\'downvotes\\': \\'1\\', \\'suspicious\\': False}, \\'sub_comments\\': []}, {\\'main_comment\\': {\\'id\\': \\'101643834\\', \\'author\\': \\'HI_polit\\', \\'date\\': \\'28.05.2019, 19:33\\', \\'body\\': \\'PiS moim zdaniem znacząco zawładnął wsią i miasteczkami, stawiając na sojusz z lokalnymi \"Plebanami\" indoktrynującymi przed komunijne dzieci chrzestne i żadne PSL po wystąpieniu z Koalicji Europejskiej tego już nie odmieni - przy sprytnym dosypaniu przez Jarosława Kaczyńskiego przedwyborczych judaszowych srebrników PSL zapowiadający ewentualne wyjście z koalicji w przypadku wejścia do niej \"Wiosny\" pragnie dotrzeć do duszy wieśniaka i tym samym staje na rozdrożu po to by odżegnywać się od tęczowej fali oraz od osób o orientacji LGBT zapominając, że to przecież Pan Bóg też stworzył taki \"model\" człowieka. Takimi metodami PSL niczego nie zwojuje i znajdzie się po przegranej stronie podobnie jak Kukiz 15 i Konfederacja. Na PSL jak sądzę już nie można liczyć, skoro nie potrafi pozbyć się starej ideologii. Jeśli Platforma nie postawi jednoznacznie na współczesne światopoglądy to też z kretesem przegra kolejną batalię.\\', \\'upvotes\\': \\'2\\', \\'downvotes\\': \\'1\\', \\'suspicious\\': False}, \\'sub_comments\\': []}, {\\'main_comment\\': {\\'id\\': \\'101643619\\', \\'author\\': \\'fizyl21\\', \\'date\\': \\'28.05.2019, 18:31\\', \\'body\\': \\'I bardzo dobrze. Wypierdziocha!!!\\', \\'upvotes\\': \\'1\\', \\'downvotes\\': \\'2\\', \\'suspicious\\': True}, \\'sub_comments\\': []}, {\\'main_comment\\': {\\'id\\': \\'101643668\\', \\'author\\': \\'frajtak\\', \\'date\\': \\'28.05.2019, 18:47\\', \\'body\\': \\'I tak was nie będzie - PiS czeka, polityczne sucze!\\', \\'upvotes\\': \\'2\\', \\'downvotes\\': \\'1\\', \\'suspicious\\': False}, \\'sub_comments\\': []}, {\\'main_comment\\': {\\'id\\': \\'101643798\\', \\'author\\': \\'doktorFreud\\', \\'date\\': \\'28.05.2019, 19:24\\', \\'body\\': \\'A wśród mieszkańców wsi nie ma gejów, feministek, ekologów, lesbijek?\\', \\'upvotes\\': \\'2\\', \\'downvotes\\': \\'0\\', \\'suspicious\\': False}, \\'sub_comments\\': [{\\'id\\': \\'101643837\\', \\'author\\': \\'just_a_number\\', \\'date\\': \\'28.05.2019, 19:33\\', \\'reply_to\\': \\'doktorFreud\\', \\'body\\': \\'nie. Jakby się taki pokazał, toby widłami zarąbali. U nich same katoliki.\\', \\'upvotes\\': \\'1\\', \\'downvotes\\': \\'0\\', \\'suspicious\\': False}, {\\'id\\': \\'101643953\\', \\'author\\': \\'Azzo\\', \\'date\\': \\'28.05.2019, 20:09\\', \\'reply_to\\': \\'just_a_number\\', \\'body\\': \\'Dobór naturalny :)\\', \\'upvotes\\': \\'0\\', \\'downvotes\\': \\'0\\', \\'suspicious\\': False}]}, {\\'main_comment\\': {\\'id\\': \\'101643568\\', \\'author\\': \\'mala_mysz\\', \\'date\\': \\'28.05.2019, 18:18\\', \\'body\\': \\'I tak do za.....bania....jaki to kraj wspaniały lecz naród s...wialy\\', \\'upvotes\\': \\'2\\', \\'downvotes\\': \\'0\\', \\'suspicious\\': False}, \\'sub_comments\\': []}, {\\'main_comment\\': {\\'id\\': \\'101643629\\', \\'author\\': \\'ja_europejczyk\\', \\'date\\': \\'28.05.2019, 18:33\\', \\'body\\': \\'Władek, weź nie pytaj, weź ..\\', \\'upvotes\\': \\'2\\', \\'downvotes\\': \\'0\\', \\'suspicious\\': False}, \\'sub_comments\\': []}, {\\'main_comment\\': {\\'id\\': \\'101643729\\', \\'author\\': \\'eoz\\', \\'date\\': \\'28.05.2019, 19:07\\', \\'body\\': \\'Panie Kosiniak prosze o trochę ROZUMU !!!!\\', \\'upvotes\\': \\'1\\', \\'downvotes\\': \\'1\\', \\'suspicious\\': False}, \\'sub_comments\\': []}, {\\'main_comment\\': {\\'id\\': \\'101643632\\', \\'author\\': \\'DiplozoonParadoxum\\', \\'date\\': \\'28.05.2019, 18:34\\', \\'body\\': \\'Ho ho ho! Piknie! Bo geje to dla panów z PSLu widać jak trędowaci! Ręce chociaż panowie z PSLu świętszego od papieża w ogóle są w stanie podać?!\\', \\'upvotes\\': \\'1\\', \\'downvotes\\': \\'0\\', \\'suspicious\\': False}, \\'sub_comments\\': []}, {\\'main_comment\\': {\\'id\\': \\'101643517\\', \\'author\\': \\'cityremade\\', \\'date\\': \\'28.05.2019, 18:07\\', \\'body\\': \\'Znowu podły tytuł. O tylu rzeczach mowa w tym wywiadzie a tytuł od razu ze biedroń :(\\', \\'upvotes\\': \\'0\\', \\'downvotes\\': \\'1\\', \\'suspicious\\': False}, \\'sub_comments\\': []}, {\\'main_comment\\': {\\'id\\': \\'101643903\\', \\'author\\': \\'is71\\', \\'date\\': \\'28.05.2019, 19:51\\', \\'body\\': \\'Stare przysłowie mówi: PSL jest jak .... pójdzie z każdym, tylko żeby dobrze płacił :(\\', \\'upvotes\\': \\'0\\', \\'downvotes\\': \\'0\\', \\'suspicious\\': False}, \\'sub_comments\\': []}, {\\'main_comment\\': {\\'id\\': \\'101643951\\', \\'author\\': \\'ostatnisort\\', \\'date\\': \\'28.05.2019, 20:08\\', \\'body\\': \\'Kosiniak-Kamysz pokazuje czym jest dla niego Polska i gdzie ją ma. Jak będzie Biedroń to mnie nie będzie. Rozkapryszone małe dzieciątko.\\', \\'upvotes\\': \\'0\\', \\'downvotes\\': \\'0\\', \\'suspicious\\': False}, \\'sub_comments\\': []}], \\'timestamp\\': \\'nowxD\\'}}'"
      ]
     },
     "execution_count": 39,
     "metadata": {},
     "output_type": "execute_result"
    }
   ],
   "source": [
    "loads(dumps(s))"
   ]
  },
  {
   "cell_type": "code",
   "execution_count": null,
   "metadata": {},
   "outputs": [],
   "source": []
  }
 ],
 "metadata": {
  "kernelspec": {
   "display_name": "Python 3",
   "language": "python",
   "name": "python3"
  },
  "language_info": {
   "codemirror_mode": {
    "name": "ipython",
    "version": 3
   },
   "file_extension": ".py",
   "mimetype": "text/x-python",
   "name": "python",
   "nbconvert_exporter": "python",
   "pygments_lexer": "ipython3",
   "version": "3.7.2"
  }
 },
 "nbformat": 4,
 "nbformat_minor": 2
}
