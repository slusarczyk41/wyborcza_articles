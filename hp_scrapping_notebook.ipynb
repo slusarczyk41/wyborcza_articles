{
 "cells": [
  {
   "cell_type": "code",
   "execution_count": 1,
   "metadata": {},
   "outputs": [],
   "source": [
    "from selenium import webdriver\n",
    "import pandas as pd\n",
    "from scrap_article_new_tab import scrap_article\n",
    "# from threading import Thread\n",
    "\n",
    "from datetime import datetime as dt\n",
    "from datetime import timedelta as td\n",
    "from os import makedirs\n",
    "from os.path import exists\n",
    "from time import sleep\n",
    "from json import loads"
   ]
  },
  {
   "cell_type": "code",
   "execution_count": 2,
   "metadata": {},
   "outputs": [],
   "source": [
    "now = dt.now()\n",
    "year = now.year\n",
    "month = now.month\n",
    "day = now.day\n",
    "ts = str(int(round(now.timestamp())))"
   ]
  },
  {
   "cell_type": "code",
   "execution_count": 3,
   "metadata": {},
   "outputs": [],
   "source": [
    "options = webdriver.ChromeOptions()\n",
    "options.add_argument('--headless')\n",
    "chrome = webdriver.Chrome(options=options)"
   ]
  },
  {
   "cell_type": "code",
   "execution_count": 4,
   "metadata": {},
   "outputs": [],
   "source": [
    "# chrome = webdriver.Chrome()",
    "#chrome = webdriver.Chrome()"
   ]
  },
  {
   "cell_type": "code",
   "execution_count": 5,
   "metadata": {},
   "outputs": [],
   "source": [
    "chrome.get(url = 'http://wyborcza.pl/0,75248.html')"
   ]
  },
  {
   "cell_type": "code",
   "execution_count": 6,
   "metadata": {},
   "outputs": [],
   "source": [
    "entries = []\n",
    "for entry in chrome\\\n",
    "    .find_element_by_xpath('//*[@id=\"pagetype_index\"]/section[5]/div/main/div/div[2]/div/div[2]/ul')\\\n",
    "    .find_elements_by_class_name('entry'):\n",
    "    entryContainer = {}\n",
    "    \n",
    "    entryContainer['author'] = entry.find_element_by_class_name('author').text.replace('|', '').strip()\n",
    "    header = entry.find_element_by_tag_name('h3')\\\n",
    "                .find_element_by_tag_name('a')\n",
    "    entryContainer['title'] = header.get_attribute('title')\n",
    "    entryContainer['url'] = header.get_attribute('href')\n",
    "    entryContainer['article_id'] = entryContainer['url'].split('/')[-1].split(',')[2]\n",
    "    entryContainer['lead'] = entry.find_element_by_tag_name('p').text\n",
    "    entryContainer['date'] = entry.find_element_by_class_name('when').text\n",
    "    \n",
    "    entries.append(entryContainer)"
   ]
  },
  {
   "cell_type": "code",
   "execution_count": 7,
   "metadata": {},
   "outputs": [],
   "source": [
    "# try to click rodo (first click opens sometimes an ad)\n",
    "for i in range(3):\n",
    "    try:\n",
    "        sleep(3)\n",
    "        chrome.find_element_by_xpath('//*[@id=\"rodoNotificationWrapper\"]/div[1]/div/p[2]')\\\n",
    "            .click()\n",
    "    except:\n",
    "        pass"
   ]
  },
  {
   "cell_type": "code",
   "execution_count": 8,
   "metadata": {},
   "outputs": [],
   "source": [
    "# close new window\n",
    "try:\n",
    "    chrome.switch_to.window(chrome.window_handles[1])\n",
    "    chrome.close()\n",
    "except:\n",
    "    pass"
   ]
  },
  {
   "cell_type": "code",
   "execution_count": null,
   "metadata": {},
   "outputs": [],
   "source": []
  },
  {
   "cell_type": "code",
   "execution_count": 9,
   "metadata": {},
   "outputs": [],
   "source": [
    "scrapped_articles = pd.DataFrame(entries)\n",
    "scrapped_articles['is_new'] = True\n",
    "scrapped_articles['content'] = None"
   ]
  },
  {
   "cell_type": "code",
   "execution_count": 10,
   "metadata": {},
   "outputs": [
    {
     "data": {
      "text/html": [
       "<div>\n",
       "<style scoped>\n",
       "    .dataframe tbody tr th:only-of-type {\n",
       "        vertical-align: middle;\n",
       "    }\n",
       "\n",
       "    .dataframe tbody tr th {\n",
       "        vertical-align: top;\n",
       "    }\n",
       "\n",
       "    .dataframe thead th {\n",
       "        text-align: right;\n",
       "    }\n",
       "</style>\n",
       "<table border=\"1\" class=\"dataframe\">\n",
       "  <thead>\n",
       "    <tr style=\"text-align: right;\">\n",
       "      <th></th>\n",
       "      <th>article_id</th>\n",
       "      <th>author</th>\n",
       "      <th>date</th>\n",
       "      <th>lead</th>\n",
       "      <th>title</th>\n",
       "      <th>url</th>\n",
       "      <th>is_new</th>\n",
       "      <th>content</th>\n",
       "    </tr>\n",
       "  </thead>\n",
       "  <tbody>\n",
       "    <tr>\n",
       "      <th>0</th>\n",
       "      <td>24814732</td>\n",
       "      <td>Jolanta Kowalewska</td>\n",
       "      <td>22-05-2019 18:39</td>\n",
       "      <td>Klub informuje, że to tylko część roszczeń. Za...</td>\n",
       "      <td>Siatkarski klub Stocznia Szczecin pozwał Stocz...</td>\n",
       "      <td>http://szczecin.wyborcza.pl/szczecin/7,34939,2...</td>\n",
       "      <td>True</td>\n",
       "      <td>None</td>\n",
       "    </tr>\n",
       "    <tr>\n",
       "      <th>1</th>\n",
       "      <td>24814846</td>\n",
       "      <td>Piotr Szostak</td>\n",
       "      <td>22-05-2019 18:42</td>\n",
       "      <td>\"Nie uczyniliśmy wszystkiego, aby zapobiec krz...</td>\n",
       "      <td>Episkopat: Nie ma słów, aby wyrazić nasz wstyd...</td>\n",
       "      <td>http://wyborcza.pl/7,75398,24814846,episkopat-...</td>\n",
       "      <td>True</td>\n",
       "      <td>None</td>\n",
       "    </tr>\n",
       "    <tr>\n",
       "      <th>2</th>\n",
       "      <td>24814740</td>\n",
       "      <td>Maciej Czarnecki</td>\n",
       "      <td>22-05-2019 18:26</td>\n",
       "      <td>W ostatnich sondażach na Wyspach Brytyjskich p...</td>\n",
       "      <td>Eurowybory wstrząsną sceną polityczną w Wielki...</td>\n",
       "      <td>http://wyborcza.pl/7,75399,24814740,eurowybory...</td>\n",
       "      <td>True</td>\n",
       "      <td>None</td>\n",
       "    </tr>\n",
       "    <tr>\n",
       "      <th>3</th>\n",
       "      <td>24814686</td>\n",
       "      <td>Wojciech Karpieszuk</td>\n",
       "      <td>22-05-2019 18:10</td>\n",
       "      <td>Radni na najbliższej sesji nie zagłosują w spr...</td>\n",
       "      <td>Głódź i Hoser na razie pozostaną honorowymi ob...</td>\n",
       "      <td>http://warszawa.wyborcza.pl/warszawa/7,54420,2...</td>\n",
       "      <td>True</td>\n",
       "      <td>None</td>\n",
       "    </tr>\n",
       "    <tr>\n",
       "      <th>4</th>\n",
       "      <td>24814733</td>\n",
       "      <td>Marek Deryło</td>\n",
       "      <td>22-05-2019 17:46</td>\n",
       "      <td>We wtorek w Warszawie odsłonięto pomnik Feliks...</td>\n",
       "      <td>Oglądałem, jak łomotaliście Ruskich. Czy Felik...</td>\n",
       "      <td>http://wyborcza.pl/7,154903,24814733,ogladalem...</td>\n",
       "      <td>True</td>\n",
       "      <td>None</td>\n",
       "    </tr>\n",
       "  </tbody>\n",
       "</table>\n",
       "</div>"
      ],
      "text/plain": [
       "  article_id               author              date  \\\n",
       "0   24814732   Jolanta Kowalewska  22-05-2019 18:39   \n",
       "1   24814846        Piotr Szostak  22-05-2019 18:42   \n",
       "2   24814740     Maciej Czarnecki  22-05-2019 18:26   \n",
       "3   24814686  Wojciech Karpieszuk  22-05-2019 18:10   \n",
       "4   24814733         Marek Deryło  22-05-2019 17:46   \n",
       "\n",
       "                                                lead  \\\n",
       "0  Klub informuje, że to tylko część roszczeń. Za...   \n",
       "1  \"Nie uczyniliśmy wszystkiego, aby zapobiec krz...   \n",
       "2  W ostatnich sondażach na Wyspach Brytyjskich p...   \n",
       "3  Radni na najbliższej sesji nie zagłosują w spr...   \n",
       "4  We wtorek w Warszawie odsłonięto pomnik Feliks...   \n",
       "\n",
       "                                               title  \\\n",
       "0  Siatkarski klub Stocznia Szczecin pozwał Stocz...   \n",
       "1  Episkopat: Nie ma słów, aby wyrazić nasz wstyd...   \n",
       "2  Eurowybory wstrząsną sceną polityczną w Wielki...   \n",
       "3  Głódź i Hoser na razie pozostaną honorowymi ob...   \n",
       "4  Oglądałem, jak łomotaliście Ruskich. Czy Felik...   \n",
       "\n",
       "                                                 url  is_new content  \n",
       "0  http://szczecin.wyborcza.pl/szczecin/7,34939,2...    True    None  \n",
       "1  http://wyborcza.pl/7,75398,24814846,episkopat-...    True    None  \n",
       "2  http://wyborcza.pl/7,75399,24814740,eurowybory...    True    None  \n",
       "3  http://warszawa.wyborcza.pl/warszawa/7,54420,2...    True    None  \n",
       "4  http://wyborcza.pl/7,154903,24814733,ogladalem...    True    None  "
      ]
     },
     "execution_count": 10,
     "metadata": {},
     "output_type": "execute_result"
    }
   ],
   "source": [
    "#scrapped_articles.head(5)"
   ]
  },
  {
   "cell_type": "code",
   "execution_count": 11,
   "metadata": {},
   "outputs": [],
   "source": [
    "existing_articles = pd.read_csv('articles.csv')"
   ]
  },
  {
   "cell_type": "code",
   "execution_count": 12,
   "metadata": {},
   "outputs": [
    {
     "data": {
      "text/html": [
       "<div>\n",
       "<style scoped>\n",
       "    .dataframe tbody tr th:only-of-type {\n",
       "        vertical-align: middle;\n",
       "    }\n",
       "\n",
       "    .dataframe tbody tr th {\n",
       "        vertical-align: top;\n",
       "    }\n",
       "\n",
       "    .dataframe thead th {\n",
       "        text-align: right;\n",
       "    }\n",
       "</style>\n",
       "<table border=\"1\" class=\"dataframe\">\n",
       "  <thead>\n",
       "    <tr style=\"text-align: right;\">\n",
       "      <th></th>\n",
       "      <th>article_id</th>\n",
       "      <th>author</th>\n",
       "      <th>content</th>\n",
       "      <th>date</th>\n",
       "      <th>division</th>\n",
       "      <th>highlight</th>\n",
       "      <th>is_new</th>\n",
       "      <th>last_date</th>\n",
       "      <th>lead</th>\n",
       "      <th>media_desc</th>\n",
       "      <th>media_src</th>\n",
       "      <th>media_type</th>\n",
       "      <th>title</th>\n",
       "      <th>url</th>\n",
       "    </tr>\n",
       "  </thead>\n",
       "  <tbody>\n",
       "    <tr>\n",
       "      <th>0</th>\n",
       "      <td>24793013</td>\n",
       "      <td>Piotr Andrusieczko</td>\n",
       "      <td>Wyznaczenie terminu zaprzysiężenia prezydenta ...</td>\n",
       "      <td>2019-05-16 16:51:00.000000</td>\n",
       "      <td>Świat</td>\n",
       "      <td>W czwartek Rada Najwyższa Ukrainy wyznaczyła i...</td>\n",
       "      <td>False</td>\n",
       "      <td>2019-05-20 19:02:21.381542</td>\n",
       "      <td>W czwartek Rada Najwyższa Ukrainy wyznaczyła i...</td>\n",
       "      <td>Ukraiński prezydent elekt Wołodymyr Zełenski</td>\n",
       "      <td>https://bi.im-g.pl/im/95/a4/17/z24792725V,Ukra...</td>\n",
       "      <td>multiple_images</td>\n",
       "      <td>Data inauguracji Wołodymyra Zełenskiego w końc...</td>\n",
       "      <td>http://wyborcza.pl/7,75399,24793013,data-inaug...</td>\n",
       "    </tr>\n",
       "    <tr>\n",
       "      <th>1</th>\n",
       "      <td>24792595</td>\n",
       "      <td>Magdalena Mach</td>\n",
       "      <td>O pierwszym ataku policjanci zostali poinformo...</td>\n",
       "      <td>2019-05-16 16:26:00.000000</td>\n",
       "      <td>podkarpacka policja</td>\n",
       "      <td>Policjanci zatrzymali mężczyznę podejrzanego o...</td>\n",
       "      <td>False</td>\n",
       "      <td>2019-05-20 19:02:21.381542</td>\n",
       "      <td>Policjanci zatrzymali mężczyznę podejrzanego o...</td>\n",
       "      <td>Zatrzymanie mężczyzny, podejrzanego o ataki na...</td>\n",
       "      <td>https://bi.im-g.pl/im/30/a4/17/z24792624V,Zatr...</td>\n",
       "      <td>image</td>\n",
       "      <td>Atakował kobiety w parku w centrum Rzeszowa. B...</td>\n",
       "      <td>http://rzeszow.wyborcza.pl/rzeszow/7,34962,247...</td>\n",
       "    </tr>\n",
       "    <tr>\n",
       "      <th>2</th>\n",
       "      <td>24791353</td>\n",
       "      <td>Jarosław Bińczyk</td>\n",
       "      <td>Gdy reprezentacja zdobywała dwa razy mistrzost...</td>\n",
       "      <td>2019-05-16 16:35:00.000000</td>\n",
       "      <td>siatkówka</td>\n",
       "      <td>Z siatkarskiej PlusLigi znikają znani włoscy t...</td>\n",
       "      <td>False</td>\n",
       "      <td>2019-05-20 19:02:21.381542</td>\n",
       "      <td>Z siatkarskiej PlusLigi znikają znani włoscy t...</td>\n",
       "      <td>NaN</td>\n",
       "      <td>https://bi.im-g.pl/im/47/a4/17/z24791111V.jpg</td>\n",
       "      <td>image</td>\n",
       "      <td>Schyłek ery w siatkówce? Polska jako etap prze...</td>\n",
       "      <td>http://wyborcza.pl/7,154903,24791353,schylek-e...</td>\n",
       "    </tr>\n",
       "    <tr>\n",
       "      <th>3</th>\n",
       "      <td>24792543</td>\n",
       "      <td>Maciej Stasiński</td>\n",
       "      <td>Na rozmowy mediacyjne do Oslo zaprosił Wenezue...</td>\n",
       "      <td>2019-05-16 15:47:00.000000</td>\n",
       "      <td>Świat</td>\n",
       "      <td>To kolejna próba namówienia obu stron - od trz...</td>\n",
       "      <td>False</td>\n",
       "      <td>2019-05-20 19:02:21.381542</td>\n",
       "      <td>To kolejna próba namówienia obu stron - od trz...</td>\n",
       "      <td>Przywódca wenezuelskiej opozycji, tymczasowy p...</td>\n",
       "      <td>https://bi.im-g.pl/im/41/a4/17/z24792129V,Przy...</td>\n",
       "      <td>image</td>\n",
       "      <td>W Norwegii poufne rokowania z reżimem Nicolása...</td>\n",
       "      <td>http://wyborcza.pl/7,75399,24792543,w-norwegii...</td>\n",
       "    </tr>\n",
       "    <tr>\n",
       "      <th>4</th>\n",
       "      <td>24793246</td>\n",
       "      <td>key</td>\n",
       "      <td>Na bydgoskiego biskupa Jana Tyrawę spadły grom...</td>\n",
       "      <td>2019-05-16 15:34:00.000000</td>\n",
       "      <td>Wiadomości z Bydgoszczy</td>\n",
       "      <td>Coraz więcej trudnych pytań do bydgoskiego bis...</td>\n",
       "      <td>False</td>\n",
       "      <td>2019-05-20 19:02:21.381542</td>\n",
       "      <td>Coraz więcej trudnych pytań do bydgoskiego bis...</td>\n",
       "      <td>Biskup Jan Tyrawa</td>\n",
       "      <td>https://bi.im-g.pl/im/78/1a/17/z24226168V,Bisk...</td>\n",
       "      <td>image</td>\n",
       "      <td>Bydgoski poseł pyta biskupa Tyrawę o jeszcze j...</td>\n",
       "      <td>http://bydgoszcz.wyborcza.pl/bydgoszcz/7,48722...</td>\n",
       "    </tr>\n",
       "  </tbody>\n",
       "</table>\n",
       "</div>"
      ],
      "text/plain": [
       "   article_id              author  \\\n",
       "0    24793013  Piotr Andrusieczko   \n",
       "1    24792595      Magdalena Mach   \n",
       "2    24791353    Jarosław Bińczyk   \n",
       "3    24792543    Maciej Stasiński   \n",
       "4    24793246                 key   \n",
       "\n",
       "                                             content  \\\n",
       "0  Wyznaczenie terminu zaprzysiężenia prezydenta ...   \n",
       "1  O pierwszym ataku policjanci zostali poinformo...   \n",
       "2  Gdy reprezentacja zdobywała dwa razy mistrzost...   \n",
       "3  Na rozmowy mediacyjne do Oslo zaprosił Wenezue...   \n",
       "4  Na bydgoskiego biskupa Jana Tyrawę spadły grom...   \n",
       "\n",
       "                         date                 division  \\\n",
       "0  2019-05-16 16:51:00.000000                    Świat   \n",
       "1  2019-05-16 16:26:00.000000      podkarpacka policja   \n",
       "2  2019-05-16 16:35:00.000000                siatkówka   \n",
       "3  2019-05-16 15:47:00.000000                    Świat   \n",
       "4  2019-05-16 15:34:00.000000  Wiadomości z Bydgoszczy   \n",
       "\n",
       "                                           highlight  is_new  \\\n",
       "0  W czwartek Rada Najwyższa Ukrainy wyznaczyła i...   False   \n",
       "1  Policjanci zatrzymali mężczyznę podejrzanego o...   False   \n",
       "2  Z siatkarskiej PlusLigi znikają znani włoscy t...   False   \n",
       "3  To kolejna próba namówienia obu stron - od trz...   False   \n",
       "4  Coraz więcej trudnych pytań do bydgoskiego bis...   False   \n",
       "\n",
       "                    last_date  \\\n",
       "0  2019-05-20 19:02:21.381542   \n",
       "1  2019-05-20 19:02:21.381542   \n",
       "2  2019-05-20 19:02:21.381542   \n",
       "3  2019-05-20 19:02:21.381542   \n",
       "4  2019-05-20 19:02:21.381542   \n",
       "\n",
       "                                                lead  \\\n",
       "0  W czwartek Rada Najwyższa Ukrainy wyznaczyła i...   \n",
       "1  Policjanci zatrzymali mężczyznę podejrzanego o...   \n",
       "2  Z siatkarskiej PlusLigi znikają znani włoscy t...   \n",
       "3  To kolejna próba namówienia obu stron - od trz...   \n",
       "4  Coraz więcej trudnych pytań do bydgoskiego bis...   \n",
       "\n",
       "                                          media_desc  \\\n",
       "0       Ukraiński prezydent elekt Wołodymyr Zełenski   \n",
       "1  Zatrzymanie mężczyzny, podejrzanego o ataki na...   \n",
       "2                                                NaN   \n",
       "3  Przywódca wenezuelskiej opozycji, tymczasowy p...   \n",
       "4                                  Biskup Jan Tyrawa   \n",
       "\n",
       "                                           media_src       media_type  \\\n",
       "0  https://bi.im-g.pl/im/95/a4/17/z24792725V,Ukra...  multiple_images   \n",
       "1  https://bi.im-g.pl/im/30/a4/17/z24792624V,Zatr...            image   \n",
       "2      https://bi.im-g.pl/im/47/a4/17/z24791111V.jpg            image   \n",
       "3  https://bi.im-g.pl/im/41/a4/17/z24792129V,Przy...            image   \n",
       "4  https://bi.im-g.pl/im/78/1a/17/z24226168V,Bisk...            image   \n",
       "\n",
       "                                               title  \\\n",
       "0  Data inauguracji Wołodymyra Zełenskiego w końc...   \n",
       "1  Atakował kobiety w parku w centrum Rzeszowa. B...   \n",
       "2  Schyłek ery w siatkówce? Polska jako etap prze...   \n",
       "3  W Norwegii poufne rokowania z reżimem Nicolása...   \n",
       "4  Bydgoski poseł pyta biskupa Tyrawę o jeszcze j...   \n",
       "\n",
       "                                                 url  \n",
       "0  http://wyborcza.pl/7,75399,24793013,data-inaug...  \n",
       "1  http://rzeszow.wyborcza.pl/rzeszow/7,34962,247...  \n",
       "2  http://wyborcza.pl/7,154903,24791353,schylek-e...  \n",
       "3  http://wyborcza.pl/7,75399,24792543,w-norwegii...  \n",
       "4  http://bydgoszcz.wyborcza.pl/bydgoszcz/7,48722...  "
      ]
     },
     "execution_count": 12,
     "metadata": {},
     "output_type": "execute_result"
    }
   ],
   "source": [
    "#existing_articles.head(5)"
   ]
  },
  {
   "cell_type": "code",
   "execution_count": 13,
   "metadata": {},
   "outputs": [
    {
     "data": {
      "text/plain": [
       "25"
      ]
     },
     "execution_count": 13,
     "metadata": {},
     "output_type": "execute_result"
    }
   ],
   "source": [
    "len(scrapped_articles[~scrapped_articles['article_id'].isin(existing_articles['article_id'].unique())])"
   ]
  },
  {
   "cell_type": "code",
   "execution_count": 14,
   "metadata": {},
   "outputs": [
    {
     "data": {
      "text/plain": [
       "5"
      ]
     },
     "execution_count": 14,
     "metadata": {},
     "output_type": "execute_result"
    }
   ],
   "source": [
    "len(existing_articles)"
   ]
  },
  {
   "cell_type": "code",
   "execution_count": 15,
   "metadata": {},
   "outputs": [],
   "source": [
    "combined_articles = existing_articles.append(scrapped_articles, sort=False)"
   ]
  },
  {
   "cell_type": "code",
   "execution_count": 16,
   "metadata": {},
   "outputs": [
    {
     "data": {
      "text/plain": [
       "30"
      ]
     },
     "execution_count": 16,
     "metadata": {},
     "output_type": "execute_result"
    }
   ],
   "source": [
    "len(combined_articles)"
   ]
  },
  {
   "cell_type": "code",
   "execution_count": 17,
   "metadata": {},
   "outputs": [],
   "source": [
    "all_articles = combined_articles.drop_duplicates(keep='first')"
   ]
  },
  {
   "cell_type": "code",
   "execution_count": 18,
   "metadata": {},
   "outputs": [],
   "source": [
    "all_articles['date'] = pd.to_datetime(all_articles['date'])"
   ]
  },
  {
   "cell_type": "code",
   "execution_count": 19,
   "metadata": {},
   "outputs": [],
   "source": [
    "articles_to_drop = all_articles[\n",
    "    all_articles['date'] <= dt.now() - td(days=7)\n",
    "]"
   ]
  },
  {
   "cell_type": "code",
   "execution_count": 24,
   "metadata": {},
   "outputs": [],
   "source": [
    "if articles_to_drop.empty == True:\n",
    "    pass\n",
    "else:\n",
    "    existing_articles_to_drop = pd.read_csv('old_articles.csv')\n",
    "    existing_articles_to_drop = existing_articles_to_drop.append(articles_to_drop)\n",
    "    # backup file\n",
    "    filename_to_save = 'data/backup/old/{}/{}/{}/{}.csv'.format(\n",
    "        year, month, day, ts\n",
    "    )\n",
    "    if not exists(filename_to_save):\n",
    "        makedirs(filename_to_save)\n",
    "    existing_articles_to_drop.to_csv(filename_to_save, index=False)\n",
    "    # save used in script file\n",
    "    existing_articles_to_drop.to_csv('data/old_articles.csv', index=False)"
   ]
  },
  {
   "cell_type": "code",
   "execution_count": 21,
   "metadata": {},
   "outputs": [],
   "source": [
    "articles_to_continue = all_articles[\n",
    "    all_articles['date'] > dt.now() - td(days=7)\n",
    "]"
   ]
  },
  {
   "cell_type": "code",
   "execution_count": 22,
   "metadata": {},
   "outputs": [],
   "source": [
    "#  --------------------- TMP ---------------------\n",
    "articles_to_continue['is_new'] = True\n",
    "articles_to_continue['last_date'] = dt.now() - td(minutes=60)"
   ]
  },
  {
   "cell_type": "code",
   "execution_count": 23,
   "metadata": {},
   "outputs": [
    {
     "data": {
      "text/html": [
       "<div>\n",
       "<style scoped>\n",
       "    .dataframe tbody tr th:only-of-type {\n",
       "        vertical-align: middle;\n",
       "    }\n",
       "\n",
       "    .dataframe tbody tr th {\n",
       "        vertical-align: top;\n",
       "    }\n",
       "\n",
       "    .dataframe thead th {\n",
       "        text-align: right;\n",
       "    }\n",
       "</style>\n",
       "<table border=\"1\" class=\"dataframe\">\n",
       "  <thead>\n",
       "    <tr style=\"text-align: right;\">\n",
       "      <th></th>\n",
       "      <th>article_id</th>\n",
       "      <th>author</th>\n",
       "      <th>content</th>\n",
       "      <th>date</th>\n",
       "      <th>division</th>\n",
       "      <th>highlight</th>\n",
       "      <th>is_new</th>\n",
       "      <th>last_date</th>\n",
       "      <th>lead</th>\n",
       "      <th>media_desc</th>\n",
       "      <th>media_src</th>\n",
       "      <th>media_type</th>\n",
       "      <th>title</th>\n",
       "      <th>url</th>\n",
       "    </tr>\n",
       "  </thead>\n",
       "  <tbody>\n",
       "    <tr>\n",
       "      <th>0</th>\n",
       "      <td>24793013</td>\n",
       "      <td>Piotr Andrusieczko</td>\n",
       "      <td>Wyznaczenie terminu zaprzysiężenia prezydenta ...</td>\n",
       "      <td>2019-05-16 16:51:00</td>\n",
       "      <td>Świat</td>\n",
       "      <td>W czwartek Rada Najwyższa Ukrainy wyznaczyła i...</td>\n",
       "      <td>True</td>\n",
       "      <td>2019-05-22 18:50:15.493092</td>\n",
       "      <td>W czwartek Rada Najwyższa Ukrainy wyznaczyła i...</td>\n",
       "      <td>Ukraiński prezydent elekt Wołodymyr Zełenski</td>\n",
       "      <td>https://bi.im-g.pl/im/95/a4/17/z24792725V,Ukra...</td>\n",
       "      <td>multiple_images</td>\n",
       "      <td>Data inauguracji Wołodymyra Zełenskiego w końc...</td>\n",
       "      <td>http://wyborcza.pl/7,75399,24793013,data-inaug...</td>\n",
       "    </tr>\n",
       "  </tbody>\n",
       "</table>\n",
       "</div>"
      ],
      "text/plain": [
       "  article_id              author  \\\n",
       "0   24793013  Piotr Andrusieczko   \n",
       "\n",
       "                                             content                date  \\\n",
       "0  Wyznaczenie terminu zaprzysiężenia prezydenta ... 2019-05-16 16:51:00   \n",
       "\n",
       "  division                                          highlight  is_new  \\\n",
       "0    Świat  W czwartek Rada Najwyższa Ukrainy wyznaczyła i...    True   \n",
       "\n",
       "                   last_date  \\\n",
       "0 2019-05-22 18:50:15.493092   \n",
       "\n",
       "                                                lead  \\\n",
       "0  W czwartek Rada Najwyższa Ukrainy wyznaczyła i...   \n",
       "\n",
       "                                     media_desc  \\\n",
       "0  Ukraiński prezydent elekt Wołodymyr Zełenski   \n",
       "\n",
       "                                           media_src       media_type  \\\n",
       "0  https://bi.im-g.pl/im/95/a4/17/z24792725V,Ukra...  multiple_images   \n",
       "\n",
       "                                               title  \\\n",
       "0  Data inauguracji Wołodymyra Zełenskiego w końc...   \n",
       "\n",
       "                                                 url  \n",
       "0  http://wyborcza.pl/7,75399,24793013,data-inaug...  "
      ]
     },
     "execution_count": 23,
     "metadata": {},
     "output_type": "execute_result"
    }
   ],
   "source": [
    "#articles_to_continue.head(1)"
   ]
  },
  {
   "cell_type": "code",
   "execution_count": 30,
   "metadata": {},
   "outputs": [],
   "source": [
    "def check_date(last_date, pub_date):\n",
    "    hours_since_pub = (dt.now() - pub_date).total_seconds() / 60 / 60\n",
    "    if hours_since_pub < 2:\n",
    "        interval = 5 # in minutes\n",
    "    elif hours_since_pub < 5:\n",
    "        interval = 10\n",
    "    elif hours_since_pub < 10:\n",
    "        interval = 20\n",
    "    else:\n",
    "        interval = 30\n",
    "    \n",
    "    if dt.now() - td(minutes=interval) < last_date:\n",
    "        return True\n",
    "    else:\n",
    "        return False"
   ]
  },
  {
   "cell_type": "code",
   "execution_count": 27,
   "metadata": {},
   "outputs": [],
   "source": [
    "def check_date(pub_date):\n",
    "    days_since_pub = (dt.now() - pub_date).total_seconds() / 60 / 60 / 24\n",
    "    if days_since_pub > 5:\n",
    "        return True\n",
    "    else:\n",
    "        return False"
   ]
  },
  {
   "cell_type": "code",
   "execution_count": 28,
   "metadata": {},
   "outputs": [],
   "source": [
    "articles_list = articles_to_continue.to_dict('rows')"
   ]
  },
  {
   "cell_type": "code",
   "execution_count": 29,
   "metadata": {},
   "outputs": [],
   "source": [
    "# TMP\n",
    "#options = webdriver.ChromeOptions()\n",
    "#options.add_argument(\"--disable-popup-blocking\")\n",
    "#chrome = webdriver.Chrome()\n",
    "\n"
   ]
  },
  {
   "cell_type": "code",
   "execution_count": 30,
   "metadata": {},
   "outputs": [],
   "source": [
    "#chrome.execute_script(\"window.close();\")"
   ]
  },
  {
   "cell_type": "code",
   "execution_count": 31,
   "metadata": {},
   "outputs": [],
   "source": [
    "#chrome.close()"
   ]
  },
  {
   "cell_type": "code",
   "execution_count": 32,
   "metadata": {},
   "outputs": [],
   "source": [
    "# chrome.execute_script(\"window.open('{}','_blank');\".format(article['url']))\n",
    "# for i in range(10):\n",
    "#     if chrome.execute_script(\"return document.readyState\") != 'complete':\n",
    "#         print('not ready')"
   ]
  },
  {
   "cell_type": "code",
   "execution_count": null,
   "metadata": {},
   "outputs": [],
   "source": []
  },
  {
   "cell_type": "code",
   "execution_count": 33,
   "metadata": {},
   "outputs": [],
   "source": [
    "#chrome.switch_to.window(chrome.window_handles[0])"
   ]
  },
  {
   "cell_type": "code",
   "execution_count": 37,
   "metadata": {},
   "outputs": [],
   "source": [
    "chrome.switch_to.window(chrome.window_handles[0])"
   ]
  },
  {
   "cell_type": "code",
   "execution_count": 42,
   "metadata": {},
   "outputs": [
    {
     "ename": "KeyboardInterrupt",
     "evalue": "",
     "output_type": "error",
     "traceback": [
      "\u001b[0;31m---------------------------------------------------------------------------\u001b[0m",
      "\u001b[0;31mKeyboardInterrupt\u001b[0m                         Traceback (most recent call last)",
      "\u001b[0;32m<ipython-input-42-180d51acc5b9>\u001b[0m in \u001b[0;36m<module>\u001b[0;34m()\u001b[0m\n\u001b[1;32m      6\u001b[0m     \u001b[0mchrome\u001b[0m\u001b[0;34m.\u001b[0m\u001b[0mclose\u001b[0m\u001b[0;34m(\u001b[0m\u001b[0;34m)\u001b[0m\u001b[0;34m\u001b[0m\u001b[0;34m\u001b[0m\u001b[0m\n\u001b[1;32m      7\u001b[0m     \u001b[0mchrome\u001b[0m\u001b[0;34m.\u001b[0m\u001b[0mswitch_to\u001b[0m\u001b[0;34m.\u001b[0m\u001b[0mwindow\u001b[0m\u001b[0;34m(\u001b[0m\u001b[0mchrome\u001b[0m\u001b[0;34m.\u001b[0m\u001b[0mwindow_handles\u001b[0m\u001b[0;34m[\u001b[0m\u001b[0;36m0\u001b[0m\u001b[0;34m]\u001b[0m\u001b[0;34m)\u001b[0m\u001b[0;34m\u001b[0m\u001b[0;34m\u001b[0m\u001b[0m\n\u001b[0;32m----> 8\u001b[0;31m     \u001b[0msleep\u001b[0m\u001b[0;34m(\u001b[0m\u001b[0;36m7\u001b[0m\u001b[0;34m)\u001b[0m\u001b[0;34m\u001b[0m\u001b[0;34m\u001b[0m\u001b[0m\n\u001b[0m\u001b[1;32m      9\u001b[0m \u001b[0;34m\u001b[0m\u001b[0m\n\u001b[1;32m     10\u001b[0m     \u001b[0;32mif\u001b[0m \u001b[0mcheck_date\u001b[0m\u001b[0;34m(\u001b[0m\u001b[0marticle\u001b[0m\u001b[0;34m[\u001b[0m\u001b[0;34m'date'\u001b[0m\u001b[0;34m]\u001b[0m\u001b[0;34m)\u001b[0m\u001b[0;34m:\u001b[0m\u001b[0;34m\u001b[0m\u001b[0;34m\u001b[0m\u001b[0m\n",
      "\u001b[0;31mKeyboardInterrupt\u001b[0m: "
     ]
    }
   ],
   "source": [
    "container = []\n",
    "first = True\n",
    "for article in articles_list:\n",
    "    article_id = article['url'].split('/')[-1].split(',')[2]\n",
    "    chrome.execute_script(\"window.open('{}','_blank');\".format(article['url']))\n",
    "    chrome.close()\n",
    "    chrome.switch_to.window(chrome.window_handles[0])\n",
    "    sleep(7)\n",
    "    \n",
    "    \n",
    "        \n",
    "    if check_date(article['date']):\n",
    "        if article['is_new']:\n",
    "            a = loads(scrap_article(chrome=chrome, first_time=True))\n",
    "            article['article_id'] = article_id\n",
    "            article['content'] = a['content']\n",
    "            article['division'] = a['division']\n",
    "            article['highlight'] = a['highlight']\n",
    "            article['media_type'] = a['media_type']\n",
    "            article['media_src'] = a['media_src']\n",
    "            article['media_desc'] = a['media_desc']\n",
    "            article['is_new'] = False\n",
    "            with open('data/comments/'+article_id, 'w') as f:\n",
    "                f.write(str({'row': {\n",
    "                   'comments': a['comments'],\n",
    "                   'timestamp': dt.timestamp(dt.now())\n",
    "                   }\n",
    "                }))\n",
    "    container.append(article)\n"
  ]
  },
  {
   "cell_type": "code",
   "execution_count": 43,
   "metadata": {},
   "outputs": [],
   "source": [
    "articles_updated = pd.DataFrame(container)"
   ]
  },
  {
   "cell_type": "code",
   "execution_count": 44,
   "metadata": {},
   "outputs": [],
   "source": [
    "if 'Unnamed: 0' in articles_updated.columns:\n",
    "    articles_updated = articles_updated.drop('Unnamed: 0', axis=1)"
   ]
  },
  {
   "cell_type": "code",
   "execution_count": 45,
   "metadata": {},
   "outputs": [
    {
     "data": {
      "text/html": [
       "<div>\n",
       "<style scoped>\n",
       "    .dataframe tbody tr th:only-of-type {\n",
       "        vertical-align: middle;\n",
       "    }\n",
       "\n",
       "    .dataframe tbody tr th {\n",
       "        vertical-align: top;\n",
       "    }\n",
       "\n",
       "    .dataframe thead th {\n",
       "        text-align: right;\n",
       "    }\n",
       "</style>\n",
       "<table border=\"1\" class=\"dataframe\">\n",
       "  <thead>\n",
       "    <tr style=\"text-align: right;\">\n",
       "      <th></th>\n",
       "      <th>article_id</th>\n",
       "      <th>author</th>\n",
       "      <th>content</th>\n",
       "      <th>date</th>\n",
       "      <th>division</th>\n",
       "      <th>highlight</th>\n",
       "      <th>is_new</th>\n",
       "      <th>last_date</th>\n",
       "      <th>lead</th>\n",
       "      <th>media_desc</th>\n",
       "      <th>media_src</th>\n",
       "      <th>media_type</th>\n",
       "      <th>title</th>\n",
       "      <th>url</th>\n",
       "    </tr>\n",
       "  </thead>\n",
       "  <tbody>\n",
       "    <tr>\n",
       "      <th>0</th>\n",
       "      <td>24793013</td>\n",
       "      <td>Piotr Andrusieczko</td>\n",
       "      <td>Wyznaczenie terminu zaprzysiężenia prezydenta ...</td>\n",
       "      <td>2019-05-16 16:51:00</td>\n",
       "      <td>Świat</td>\n",
       "      <td>W czwartek Rada Najwyższa Ukrainy wyznaczyła i...</td>\n",
       "      <td>False</td>\n",
       "      <td>2019-05-22 18:50:15.493092</td>\n",
       "      <td>W czwartek Rada Najwyższa Ukrainy wyznaczyła i...</td>\n",
       "      <td>Ukraiński prezydent elekt Wołodymyr Zełenski</td>\n",
       "      <td>https://bi.im-g.pl/im/95/a4/17/z24792725V,Ukra...</td>\n",
       "      <td>multiple_images</td>\n",
       "      <td>Data inauguracji Wołodymyra Zełenskiego w końc...</td>\n",
       "      <td>http://wyborcza.pl/7,75399,24793013,data-inaug...</td>\n",
       "    </tr>\n",
       "    <tr>\n",
       "      <th>1</th>\n",
       "      <td>24792595</td>\n",
       "      <td>Magdalena Mach</td>\n",
       "      <td>O pierwszym ataku policjanci zostali poinformo...</td>\n",
       "      <td>2019-05-16 16:26:00</td>\n",
       "      <td>podkarpacka policja</td>\n",
       "      <td>Policjanci zatrzymali mężczyznę podejrzanego o...</td>\n",
       "      <td>False</td>\n",
       "      <td>2019-05-22 18:50:15.493092</td>\n",
       "      <td>Policjanci zatrzymali mężczyznę podejrzanego o...</td>\n",
       "      <td>Zatrzymanie mężczyzny, podejrzanego o ataki na...</td>\n",
       "      <td>https://bi.im-g.pl/im/30/a4/17/z24792624V,Zatr...</td>\n",
       "      <td>image</td>\n",
       "      <td>Atakował kobiety w parku w centrum Rzeszowa. B...</td>\n",
       "      <td>http://rzeszow.wyborcza.pl/rzeszow/7,34962,247...</td>\n",
       "    </tr>\n",
       "    <tr>\n",
       "      <th>2</th>\n",
       "      <td>24791353</td>\n",
       "      <td>Jarosław Bińczyk</td>\n",
       "      <td>Gdy reprezentacja zdobywała dwa razy mistrzost...</td>\n",
       "      <td>2019-05-16 16:35:00</td>\n",
       "      <td>siatkówka</td>\n",
       "      <td>Z siatkarskiej PlusLigi znikają znani włoscy t...</td>\n",
       "      <td>False</td>\n",
       "      <td>2019-05-22 18:50:15.493092</td>\n",
       "      <td>Z siatkarskiej PlusLigi znikają znani włoscy t...</td>\n",
       "      <td></td>\n",
       "      <td>https://bi.im-g.pl/im/47/a4/17/z24791111V.jpg</td>\n",
       "      <td>image</td>\n",
       "      <td>Schyłek ery w siatkówce? Polska jako etap prze...</td>\n",
       "      <td>http://wyborcza.pl/7,154903,24791353,schylek-e...</td>\n",
       "    </tr>\n",
       "  </tbody>\n",
       "</table>\n",
       "</div>"
      ],
      "text/plain": [
       "  article_id              author  \\\n",
       "0   24793013  Piotr Andrusieczko   \n",
       "1   24792595      Magdalena Mach   \n",
       "2   24791353    Jarosław Bińczyk   \n",
       "\n",
       "                                             content                date  \\\n",
       "0  Wyznaczenie terminu zaprzysiężenia prezydenta ... 2019-05-16 16:51:00   \n",
       "1  O pierwszym ataku policjanci zostali poinformo... 2019-05-16 16:26:00   \n",
       "2  Gdy reprezentacja zdobywała dwa razy mistrzost... 2019-05-16 16:35:00   \n",
       "\n",
       "              division                                          highlight  \\\n",
       "0                Świat  W czwartek Rada Najwyższa Ukrainy wyznaczyła i...   \n",
       "1  podkarpacka policja  Policjanci zatrzymali mężczyznę podejrzanego o...   \n",
       "2            siatkówka  Z siatkarskiej PlusLigi znikają znani włoscy t...   \n",
       "\n",
       "   is_new                  last_date  \\\n",
       "0   False 2019-05-22 18:50:15.493092   \n",
       "1   False 2019-05-22 18:50:15.493092   \n",
       "2   False 2019-05-22 18:50:15.493092   \n",
       "\n",
       "                                                lead  \\\n",
       "0  W czwartek Rada Najwyższa Ukrainy wyznaczyła i...   \n",
       "1  Policjanci zatrzymali mężczyznę podejrzanego o...   \n",
       "2  Z siatkarskiej PlusLigi znikają znani włoscy t...   \n",
       "\n",
       "                                          media_desc  \\\n",
       "0       Ukraiński prezydent elekt Wołodymyr Zełenski   \n",
       "1  Zatrzymanie mężczyzny, podejrzanego o ataki na...   \n",
       "2                                                      \n",
       "\n",
       "                                           media_src       media_type  \\\n",
       "0  https://bi.im-g.pl/im/95/a4/17/z24792725V,Ukra...  multiple_images   \n",
       "1  https://bi.im-g.pl/im/30/a4/17/z24792624V,Zatr...            image   \n",
       "2      https://bi.im-g.pl/im/47/a4/17/z24791111V.jpg            image   \n",
       "\n",
       "                                               title  \\\n",
       "0  Data inauguracji Wołodymyra Zełenskiego w końc...   \n",
       "1  Atakował kobiety w parku w centrum Rzeszowa. B...   \n",
       "2  Schyłek ery w siatkówce? Polska jako etap prze...   \n",
       "\n",
       "                                                 url  \n",
       "0  http://wyborcza.pl/7,75399,24793013,data-inaug...  \n",
       "1  http://rzeszow.wyborcza.pl/rzeszow/7,34962,247...  \n",
       "2  http://wyborcza.pl/7,154903,24791353,schylek-e...  "
      ]
     },
     "execution_count": 45,
     "metadata": {},
     "output_type": "execute_result"
    }
   ],
   "source": [
    "articles_updated.head()"
   ]
  },
  {
   "cell_type": "code",
   "execution_count": 46,
   "metadata": {},
   "outputs": [],
   "source": [
    "filename_to_save = 'data/backup/existing/{}/{}/{}'.format(\n",
    "        year, month, day, ts\n",
    "    )\n",
    "if not exists(filename_to_save):\n",
    "    makedirs(filename_to_save)"
   ]
  },
  {
   "cell_type": "code",
   "execution_count": 47,
   "metadata": {},
   "outputs": [],
   "source": [
    "articles_updated.to_csv('data/backup/existing/{}/{}/{}/{}.csv'.format(\n",
    "        year, month, day, ts\n",
    "    )\n",
    ")"
   ]
  },
  {
   "cell_type": "code",
   "execution_count": 48,
   "metadata": {},
   "outputs": [],
   "source": [
    "articles_updated.to_csv('articles.csv', index = False)"
   ]
  },
  {
   "cell_type": "code",
   "execution_count": null,
   "metadata": {},
   "outputs": [],
   "source": []
  }
 ],
 "metadata": {
  "kernelspec": {
   "display_name": "Python 3",
   "language": "python",
   "name": "python3"
  },
  "language_info": {
   "codemirror_mode": {
    "name": "ipython",
    "version": 3
   },
   "file_extension": ".py",
   "mimetype": "text/x-python",
   "name": "python",
   "nbconvert_exporter": "python",
   "pygments_lexer": "ipython3",
   "version": "3.7.2"
  }
 },
 "nbformat": 4,
 "nbformat_minor": 2
}
