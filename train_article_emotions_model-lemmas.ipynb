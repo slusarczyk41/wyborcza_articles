{
 "cells": [
  {
   "cell_type": "code",
   "execution_count": 1,
   "metadata": {},
   "outputs": [],
   "source": [
    "# http://sgjp.pl/morfeusz/dopobrania.html.en\n",
    "# https://bulldogjob.pl/news/650-przeglad-pakietu-datatable-pythona"
   ]
  },
  {
   "cell_type": "code",
   "execution_count": 11,
   "metadata": {},
   "outputs": [],
   "source": [
    "selected_labels = ['replies_cat']\n",
    "# ['rage_cat', 'joy_cat', 'surprise_cat', 'fear_cat', 'sadness_cat']\n",
    "selected_features = ['title', 'media_desc', 'highlight', 'division']\n",
    "# ['title', 'media_desc', 'highlight', 'division', 'content']\n",
    "normalize_emotion_label = None\n",
    "# 'cut', 'multiply', None, 'weights'\n",
    "input_articles = 'lemmatized_articles.csv' # lemmatized_articles.csv"
   ]
  },
  {
   "cell_type": "code",
   "execution_count": 12,
   "metadata": {},
   "outputs": [],
   "source": [
    "import pandas as pd\n",
    "from unidecode import unidecode\n",
    "from collections import Counter\n",
    "import numpy as np"
   ]
  },
  {
   "cell_type": "code",
   "execution_count": 13,
   "metadata": {},
   "outputs": [],
   "source": [
    "articles = pd.read_csv('data/'+input_articles, nrows = 20000)"
   ]
  },
  {
   "cell_type": "code",
   "execution_count": 14,
   "metadata": {},
   "outputs": [
    {
     "data": {
      "text/html": [
       "<div>\n",
       "<style scoped>\n",
       "    .dataframe tbody tr th:only-of-type {\n",
       "        vertical-align: middle;\n",
       "    }\n",
       "\n",
       "    .dataframe tbody tr th {\n",
       "        vertical-align: top;\n",
       "    }\n",
       "\n",
       "    .dataframe thead th {\n",
       "        text-align: right;\n",
       "    }\n",
       "</style>\n",
       "<table border=\"1\" class=\"dataframe\">\n",
       "  <thead>\n",
       "    <tr style=\"text-align: right;\">\n",
       "      <th></th>\n",
       "      <th>content</th>\n",
       "      <th>division</th>\n",
       "      <th>highlight</th>\n",
       "      <th>media_desc</th>\n",
       "      <th>title</th>\n",
       "      <th>url</th>\n",
       "    </tr>\n",
       "  </thead>\n",
       "  <tbody>\n",
       "    <tr>\n",
       "      <th>0</th>\n",
       "      <td>najwyzsza izba kontrola zwracac uwage problem ...</td>\n",
       "      <td>zus emerytura</td>\n",
       "      <td>tysiace polakow zanizone emerytura wystapilo z...</td>\n",
       "      <td>osoba maja dopisac skladek emerytalny czas stu...</td>\n",
       "      <td>nik alarmowac polak maja zanizone emerytura</td>\n",
       "      <td>http://wyborcza.biz/biznes/7,147880,23632593,n...</td>\n",
       "    </tr>\n",
       "  </tbody>\n",
       "</table>\n",
       "</div>"
      ],
      "text/plain": [
       "                                             content       division  \\\n",
       "0  najwyzsza izba kontrola zwracac uwage problem ...  zus emerytura   \n",
       "\n",
       "                                           highlight  \\\n",
       "0  tysiace polakow zanizone emerytura wystapilo z...   \n",
       "\n",
       "                                          media_desc  \\\n",
       "0  osoba maja dopisac skladek emerytalny czas stu...   \n",
       "\n",
       "                                         title  \\\n",
       "0  nik alarmowac polak maja zanizone emerytura   \n",
       "\n",
       "                                                 url  \n",
       "0  http://wyborcza.biz/biznes/7,147880,23632593,n...  "
      ]
     },
     "execution_count": 14,
     "metadata": {},
     "output_type": "execute_result"
    }
   ],
   "source": [
    "articles.head(1)"
   ]
  },
  {
   "cell_type": "code",
   "execution_count": 15,
   "metadata": {},
   "outputs": [
    {
     "data": {
      "text/plain": [
       "19087"
      ]
     },
     "execution_count": 15,
     "metadata": {},
     "output_type": "execute_result"
    }
   ],
   "source": [
    "len(articles)"
   ]
  },
  {
   "cell_type": "code",
   "execution_count": 16,
   "metadata": {},
   "outputs": [],
   "source": [
    "articles = articles.dropna()"
   ]
  },
  {
   "cell_type": "code",
   "execution_count": 17,
   "metadata": {},
   "outputs": [
    {
     "data": {
      "text/plain": [
       "19056"
      ]
     },
     "execution_count": 17,
     "metadata": {},
     "output_type": "execute_result"
    }
   ],
   "source": [
    "len(articles)"
   ]
  },
  {
   "cell_type": "markdown",
   "metadata": {},
   "source": [
    "## Prepare input for model"
   ]
  },
  {
   "cell_type": "code",
   "execution_count": 18,
   "metadata": {},
   "outputs": [],
   "source": [
    "def concat_x_string(columns):\n",
    "    a = pd.Series('', index = articles.index)\n",
    "    for column in columns:\n",
    "        a = a + articles[column] + ' '\n",
    "    return a.str.strip().str.split(' ').values"
   ]
  },
  {
   "cell_type": "markdown",
   "metadata": {},
   "source": [
    "##### Chose columns for model input"
   ]
  },
  {
   "cell_type": "code",
   "execution_count": 19,
   "metadata": {},
   "outputs": [],
   "source": [
    "string_columns = concat_x_string(selected_features)"
   ]
  },
  {
   "cell_type": "code",
   "execution_count": 20,
   "metadata": {},
   "outputs": [],
   "source": [
    "idf = dict(Counter([word for content in string_columns for word in content]))"
   ]
  },
  {
   "cell_type": "code",
   "execution_count": 21,
   "metadata": {},
   "outputs": [],
   "source": [
    "filtered_idf = {word: freq for word, freq in idf.items() if freq > 3}"
   ]
  },
  {
   "cell_type": "code",
   "execution_count": 22,
   "metadata": {},
   "outputs": [],
   "source": [
    "word_freq_df = pd.DataFrame(list(dict({word: freq for word, freq in idf.items()}).items()), columns = ['word', 'freq'])"
   ]
  },
  {
   "cell_type": "code",
   "execution_count": 24,
   "metadata": {},
   "outputs": [
    {
     "data": {
      "text/plain": [
       "<matplotlib.axes._subplots.AxesSubplot at 0x7f19c9f0aa58>"
      ]
     },
     "execution_count": 24,
     "metadata": {},
     "output_type": "execute_result"
    },
    {
     "data": {
      "image/png": "[encoded data removed]",
      "text/plain": [
       "<Figure size 432x288 with 1 Axes>"
      ]
     },
     "metadata": {
      "needs_background": "light"
     },
     "output_type": "display_data"
    }
   ],
   "source": [
    "word_freq_df['cleaned_freq'] = word_freq_df['freq']\n",
    "word_freq_df.loc[word_freq_df['freq'] > 20, 'cleaned_freq'] = 20\n",
    "\n",
    "word_freq_df\\\n",
    "    ['cleaned_freq']\\\n",
    "    .plot(kind = 'hist', bins = 100)"
   ]
  },
  {
   "cell_type": "markdown",
   "metadata": {},
   "source": [
    "##### Ignore words which appear very rare - they won't be very useful (and dataset won't fit into my ram)"
   ]
  },
  {
   "cell_type": "code",
   "execution_count": 25,
   "metadata": {},
   "outputs": [],
   "source": [
    "# I want only words which appear in number of 0.1% times number of articles\n",
    "def filter_not_frequent(string_columns, filtered_idf):\n",
    "    filtered = []\n",
    "    for record in string_columns:\n",
    "        filtered.append([word for word in record if word in filtered_idf.keys()])\n",
    "    return filtered"
   ]
  },
  {
   "cell_type": "code",
   "execution_count": 26,
   "metadata": {},
   "outputs": [],
   "source": [
    "filtered = filter_not_frequent(string_columns, filtered_idf)"
   ]
  },
  {
   "cell_type": "code",
   "execution_count": 27,
   "metadata": {},
   "outputs": [],
   "source": [
    "# with open('models/input_words_emotions', 'w') as f:\n",
    "#     f.write(\"\\n\".join(unique_words))"
   ]
  },
  {
   "cell_type": "code",
   "execution_count": 28,
   "metadata": {},
   "outputs": [],
   "source": [
    "unique_words = list(set(filtered_idf.keys()))\n",
    "vocab_size = len(unique_words)"
   ]
  },
  {
   "cell_type": "code",
   "execution_count": 29,
   "metadata": {},
   "outputs": [
    {
     "data": {
      "text/plain": [
       "19730"
      ]
     },
     "execution_count": 29,
     "metadata": {},
     "output_type": "execute_result"
    }
   ],
   "source": [
    "vocab_size"
   ]
  },
  {
   "cell_type": "code",
   "execution_count": 30,
   "metadata": {},
   "outputs": [],
   "source": [
    "word2int = {}\n",
    "int2word = {}\n",
    "\n",
    "for i,word in enumerate(unique_words):\n",
    "    word2int[word] = i\n",
    "    int2word[i] = word"
   ]
  },
  {
   "cell_type": "markdown",
   "metadata": {},
   "source": [
    "##### Change words to vectors"
   ]
  },
  {
   "cell_type": "code",
   "execution_count": 31,
   "metadata": {},
   "outputs": [],
   "source": [
    "def string_x_to_tf_idf(records, idf, vocab_size, word2int):\n",
    "    dataset = []\n",
    "    for record in records:\n",
    "        tmp_vector = np.zeros(vocab_size)\n",
    "        for word, counter in Counter(record).items():\n",
    "            tmp_vector[word2int[word]] = counter / idf[word]\n",
    "        dataset.append(tmp_vector)\n",
    "    \n",
    "    return np.asarray(dataset)"
   ]
  },
  {
   "cell_type": "code",
   "execution_count": 32,
   "metadata": {},
   "outputs": [],
   "source": [
    "x = string_x_to_tf_idf(filtered, filtered_idf, vocab_size, word2int)"
   ]
  },
  {
   "cell_type": "code",
   "execution_count": 33,
   "metadata": {},
   "outputs": [
    {
     "data": {
      "text/plain": [
       "19056"
      ]
     },
     "execution_count": 33,
     "metadata": {},
     "output_type": "execute_result"
    }
   ],
   "source": [
    "len(x)"
   ]
  },
  {
   "cell_type": "code",
   "execution_count": 34,
   "metadata": {},
   "outputs": [
    {
     "data": {
      "text/plain": [
       "19056"
      ]
     },
     "execution_count": 34,
     "metadata": {},
     "output_type": "execute_result"
    }
   ],
   "source": [
    "len(articles['url'])"
   ]
  },
  {
   "cell_type": "markdown",
   "metadata": {},
   "source": [
    "## Prepare labels"
   ]
  },
  {
   "cell_type": "code",
   "execution_count": 35,
   "metadata": {},
   "outputs": [],
   "source": [
    "from labeling.emotions import rage, joy, sadness, surprise, fear, all_flag_words"
   ]
  },
  {
   "cell_type": "code",
   "execution_count": 36,
   "metadata": {},
   "outputs": [],
   "source": [
    "comments_raw = pd.concat([\n",
    "    pd.read_csv('data/processed_comments_1.csv'),\n",
    "    pd.read_csv('data/processed_comments_2.csv')\n",
    "])[['url', 'downvotes', 'upvotes', 'words']]"
   ]
  },
  {
   "cell_type": "code",
   "execution_count": 37,
   "metadata": {},
   "outputs": [
    {
     "data": {
      "text/html": [
       "<div>\n",
       "<style scoped>\n",
       "    .dataframe tbody tr th:only-of-type {\n",
       "        vertical-align: middle;\n",
       "    }\n",
       "\n",
       "    .dataframe tbody tr th {\n",
       "        vertical-align: top;\n",
       "    }\n",
       "\n",
       "    .dataframe thead th {\n",
       "        text-align: right;\n",
       "    }\n",
       "</style>\n",
       "<table border=\"1\" class=\"dataframe\">\n",
       "  <thead>\n",
       "    <tr style=\"text-align: right;\">\n",
       "      <th></th>\n",
       "      <th>url</th>\n",
       "      <th>downvotes</th>\n",
       "      <th>upvotes</th>\n",
       "      <th>words</th>\n",
       "    </tr>\n",
       "  </thead>\n",
       "  <tbody>\n",
       "    <tr>\n",
       "      <th>0</th>\n",
       "      <td>http://wyborcza.biz/biznes/7,147880,23632593,n...</td>\n",
       "      <td>0</td>\n",
       "      <td>10</td>\n",
       "      <td>['brak', 'kwartalnych', 'waloryzacji', 'kapita...</td>\n",
       "    </tr>\n",
       "  </tbody>\n",
       "</table>\n",
       "</div>"
      ],
      "text/plain": [
       "                                                 url  downvotes  upvotes  \\\n",
       "0  http://wyborcza.biz/biznes/7,147880,23632593,n...          0       10   \n",
       "\n",
       "                                               words  \n",
       "0  ['brak', 'kwartalnych', 'waloryzacji', 'kapita...  "
      ]
     },
     "execution_count": 37,
     "metadata": {},
     "output_type": "execute_result"
    }
   ],
   "source": [
    "comments_raw.head(1)"
   ]
  },
  {
   "cell_type": "code",
   "execution_count": 38,
   "metadata": {},
   "outputs": [],
   "source": [
    "comment_emotions = []\n",
    "for comment in comments_raw['words'].values:\n",
    "    record_labels = [0, 0, 0, 0, 0, 0]\n",
    "    eval_comment = eval(comment)\n",
    "    \n",
    "    for i, emotion in enumerate([rage, joy, sadness, surprise, fear]):\n",
    "        for flag_word in emotion:\n",
    "            if flag_word in eval_comment:\n",
    "                record_labels[i] += 1\n",
    "        if record_labels[i] != 0:\n",
    "            record_labels[5] += 1\n",
    "                \n",
    "    comment_emotions.append(record_labels)"
   ]
  },
  {
   "cell_type": "code",
   "execution_count": 39,
   "metadata": {},
   "outputs": [],
   "source": [
    "emotions_df = pd.DataFrame(comment_emotions, index = comments_raw.index)\n",
    "emotions_df.columns = ['rage', 'joy', 'sadness', 'surprise', 'fear', 'emotions_count']"
   ]
  },
  {
   "cell_type": "code",
   "execution_count": 40,
   "metadata": {},
   "outputs": [],
   "source": [
    "comments = pd.concat([comments_raw, emotions_df], axis = 1).drop('words', axis = 1)"
   ]
  },
  {
   "cell_type": "code",
   "execution_count": 41,
   "metadata": {},
   "outputs": [
    {
     "data": {
      "text/html": [
       "<div>\n",
       "<style scoped>\n",
       "    .dataframe tbody tr th:only-of-type {\n",
       "        vertical-align: middle;\n",
       "    }\n",
       "\n",
       "    .dataframe tbody tr th {\n",
       "        vertical-align: top;\n",
       "    }\n",
       "\n",
       "    .dataframe thead th {\n",
       "        text-align: right;\n",
       "    }\n",
       "</style>\n",
       "<table border=\"1\" class=\"dataframe\">\n",
       "  <thead>\n",
       "    <tr style=\"text-align: right;\">\n",
       "      <th></th>\n",
       "      <th>url</th>\n",
       "      <th>downvotes</th>\n",
       "      <th>upvotes</th>\n",
       "      <th>rage</th>\n",
       "      <th>joy</th>\n",
       "      <th>sadness</th>\n",
       "      <th>surprise</th>\n",
       "      <th>fear</th>\n",
       "      <th>emotions_count</th>\n",
       "    </tr>\n",
       "  </thead>\n",
       "  <tbody>\n",
       "    <tr>\n",
       "      <th>221003</th>\n",
       "      <td>http://bialystok.wyborcza.pl/bialystok/7,35241...</td>\n",
       "      <td>2</td>\n",
       "      <td>14</td>\n",
       "      <td>0</td>\n",
       "      <td>0</td>\n",
       "      <td>0</td>\n",
       "      <td>0</td>\n",
       "      <td>0</td>\n",
       "      <td>0</td>\n",
       "    </tr>\n",
       "    <tr>\n",
       "      <th>221004</th>\n",
       "      <td>http://bialystok.wyborcza.pl/bialystok/7,35241...</td>\n",
       "      <td>9</td>\n",
       "      <td>6</td>\n",
       "      <td>0</td>\n",
       "      <td>0</td>\n",
       "      <td>0</td>\n",
       "      <td>0</td>\n",
       "      <td>0</td>\n",
       "      <td>0</td>\n",
       "    </tr>\n",
       "    <tr>\n",
       "      <th>221005</th>\n",
       "      <td>http://bialystok.wyborcza.pl/bialystok/7,35241...</td>\n",
       "      <td>8</td>\n",
       "      <td>1</td>\n",
       "      <td>0</td>\n",
       "      <td>0</td>\n",
       "      <td>0</td>\n",
       "      <td>0</td>\n",
       "      <td>0</td>\n",
       "      <td>0</td>\n",
       "    </tr>\n",
       "    <tr>\n",
       "      <th>221006</th>\n",
       "      <td>http://bialystok.wyborcza.pl/bialystok/7,35241...</td>\n",
       "      <td>1</td>\n",
       "      <td>4</td>\n",
       "      <td>0</td>\n",
       "      <td>0</td>\n",
       "      <td>0</td>\n",
       "      <td>0</td>\n",
       "      <td>0</td>\n",
       "      <td>0</td>\n",
       "    </tr>\n",
       "  </tbody>\n",
       "</table>\n",
       "</div>"
      ],
      "text/plain": [
       "                                                      url  downvotes  upvotes  \\\n",
       "221003  http://bialystok.wyborcza.pl/bialystok/7,35241...          2       14   \n",
       "221004  http://bialystok.wyborcza.pl/bialystok/7,35241...          9        6   \n",
       "221005  http://bialystok.wyborcza.pl/bialystok/7,35241...          8        1   \n",
       "221006  http://bialystok.wyborcza.pl/bialystok/7,35241...          1        4   \n",
       "\n",
       "        rage  joy  sadness  surprise  fear  emotions_count  \n",
       "221003     0    0        0         0     0               0  \n",
       "221004     0    0        0         0     0               0  \n",
       "221005     0    0        0         0     0               0  \n",
       "221006     0    0        0         0     0               0  "
      ]
     },
     "execution_count": 41,
     "metadata": {},
     "output_type": "execute_result"
    }
   ],
   "source": [
    "comments[comments['url'] == 'http://bialystok.wyborcza.pl/bialystok/7,35241,23042200,komorowski-budowanie-dumy-z-polskiej-historii-konczy-sie-wstydem.html']"
   ]
  },
  {
   "cell_type": "code",
   "execution_count": 42,
   "metadata": {},
   "outputs": [],
   "source": [
    "sums = comments\\\n",
    "    .groupby('url')\\\n",
    "    .sum()"
   ]
  },
  {
   "cell_type": "code",
   "execution_count": 43,
   "metadata": {},
   "outputs": [],
   "source": [
    "counts = comments\\\n",
    "    [['url', 'downvotes']]\\\n",
    "    .groupby('url')\\\n",
    "    .count()\n",
    "counts.columns = ['replies']"
   ]
  },
  {
   "cell_type": "code",
   "execution_count": 44,
   "metadata": {},
   "outputs": [],
   "source": [
    "labels = pd.concat([counts, sums], axis = 1)\\\n",
    "    .reindex(articles['url'])\\\n",
    "    .reset_index()\\\n",
    "    .drop('url', axis = 1)"
   ]
  },
  {
   "cell_type": "code",
   "execution_count": 45,
   "metadata": {},
   "outputs": [],
   "source": [
    "labels['reactions'] = labels['upvotes'] + labels['downvotes']"
   ]
  },
  {
   "cell_type": "code",
   "execution_count": 46,
   "metadata": {},
   "outputs": [
    {
     "data": {
      "text/plain": [
       "19056"
      ]
     },
     "execution_count": 46,
     "metadata": {},
     "output_type": "execute_result"
    }
   ],
   "source": [
    "len(labels)"
   ]
  },
  {
   "cell_type": "code",
   "execution_count": 47,
   "metadata": {},
   "outputs": [
    {
     "data": {
      "text/html": [
       "<div>\n",
       "<style scoped>\n",
       "    .dataframe tbody tr th:only-of-type {\n",
       "        vertical-align: middle;\n",
       "    }\n",
       "\n",
       "    .dataframe tbody tr th {\n",
       "        vertical-align: top;\n",
       "    }\n",
       "\n",
       "    .dataframe thead th {\n",
       "        text-align: right;\n",
       "    }\n",
       "</style>\n",
       "<table border=\"1\" class=\"dataframe\">\n",
       "  <thead>\n",
       "    <tr style=\"text-align: right;\">\n",
       "      <th></th>\n",
       "      <th>replies</th>\n",
       "      <th>downvotes</th>\n",
       "      <th>upvotes</th>\n",
       "      <th>rage</th>\n",
       "      <th>joy</th>\n",
       "      <th>sadness</th>\n",
       "      <th>surprise</th>\n",
       "      <th>fear</th>\n",
       "      <th>emotions_count</th>\n",
       "      <th>reactions</th>\n",
       "    </tr>\n",
       "  </thead>\n",
       "  <tbody>\n",
       "    <tr>\n",
       "      <th>0</th>\n",
       "      <td>2.0</td>\n",
       "      <td>0.0</td>\n",
       "      <td>11.0</td>\n",
       "      <td>0.0</td>\n",
       "      <td>0.0</td>\n",
       "      <td>0.0</td>\n",
       "      <td>0.0</td>\n",
       "      <td>0.0</td>\n",
       "      <td>0.0</td>\n",
       "      <td>11.0</td>\n",
       "    </tr>\n",
       "  </tbody>\n",
       "</table>\n",
       "</div>"
      ],
      "text/plain": [
       "   replies  downvotes  upvotes  rage  joy  sadness  surprise  fear  \\\n",
       "0      2.0        0.0     11.0   0.0  0.0      0.0       0.0   0.0   \n",
       "\n",
       "   emotions_count  reactions  \n",
       "0             0.0       11.0  "
      ]
     },
     "execution_count": 47,
     "metadata": {},
     "output_type": "execute_result"
    }
   ],
   "source": [
    "labels.head(1)"
   ]
  },
  {
   "cell_type": "code",
   "execution_count": 48,
   "metadata": {},
   "outputs": [],
   "source": [
    "# Remove extreme values\n",
    "labels.loc[labels['replies'] > 200, 'replies'] = 200\n",
    "labels.loc[labels['downvotes'] > 500, 'downvotes'] = 500\n",
    "labels.loc[labels['upvotes'] > 4000, 'upvotes'] = 4000\n",
    "labels.loc[labels['reactions'] > 4500, 'reactions'] = 4500"
   ]
  },
  {
   "cell_type": "code",
   "execution_count": 49,
   "metadata": {},
   "outputs": [],
   "source": [
    "# Add categorized labels\n",
    "labels.loc[labels['replies'] < 7, 'replies_cat'] = -1\n",
    "labels.loc[(labels['replies'] <= 25)&(labels['replies'] >= 7), 'replies_cat'] = 0\n",
    "labels.loc[labels['replies'] > 25, 'replies_cat'] = 1\n",
    "\n",
    "labels.loc[labels['reactions'] < 30, 'reactions_cat'] = -1\n",
    "labels.loc[(labels['reactions'] <= 200)&(labels['reactions'] >= 30), 'reactions_cat'] = 0\n",
    "labels.loc[labels['reactions'] > 200, 'reactions_cat'] = 1\n",
    "\n",
    "means_for_balance = []\n",
    "for emotion in ['rage', 'joy', 'sadness', 'surprise', 'fear']:\n",
    "    labels.loc[labels[emotion] > 0 , emotion+'_cat'] = 1\n",
    "    labels.loc[labels[emotion] == 0, emotion+'_cat'] = -1\n",
    "    means_for_balance.append(len(labels[labels[emotion] != 1])/len(labels[labels[emotion] == 1]))"
   ]
  },
  {
   "cell_type": "code",
   "execution_count": 50,
   "metadata": {},
   "outputs": [],
   "source": [
    "# labels[(labels['rage']!=0)&\n",
    "#        (labels['joy']!=0)&\n",
    "#        (labels['sadness']!=0)&\n",
    "#        (labels['surprise']!=0)&\n",
    "#        (labels['fear']!=0)]"
   ]
  },
  {
   "cell_type": "code",
   "execution_count": 51,
   "metadata": {},
   "outputs": [],
   "source": [
    "# labels\\\n",
    "#     .groupby('fear_cat')\\\n",
    "#     .count()\\\n",
    "#     .plot(kind = 'bar')"
   ]
  },
  {
   "cell_type": "code",
   "execution_count": 52,
   "metadata": {},
   "outputs": [],
   "source": [
    "less_class_count = len(labels[labels[selected_labels[0]] == 1])\n",
    "labels_train = labels[labels[selected_labels[0]] == 1].iloc[:int(0.9*less_class_count)]\n",
    "labels_test = labels[labels[selected_labels[0]] == 1].iloc[int(0.9*less_class_count):]"
   ]
  },
  {
   "cell_type": "code",
   "execution_count": 53,
   "metadata": {},
   "outputs": [],
   "source": [
    "b = int(len(labels) * 0.9)"
   ]
  },
  {
   "cell_type": "code",
   "execution_count": 54,
   "metadata": {},
   "outputs": [],
   "source": [
    "#if selected_labels[0] in ['rage_cat', 'joy_cat', 'surprise_cat', 'fear_cat', 'sadness_cat']:\n",
    "if normalize_emotion_label == 'cut':\n",
    "    l = len(labels[labels[selected_labels[0]] == 1])\n",
    "    labels = pd.concat([\n",
    "        labels[labels[selected_labels[0]] == 1],\n",
    "        labels[labels[selected_labels[0]] == -1].iloc[:l]\n",
    "    ])\n",
    "elif normalize_emotion_label == 'multiply':\n",
    "    m = int(len(labels[labels[selected_labels[0]] == -1])/len(labels_train))\n",
    "    labels_norm = pd.concat([\n",
    "        labels_train for x in range(m)\n",
    "    ] + [labels[labels[selected_labels[0]] == -1]])\n",
    "else:\n",
    "    labels_norm = labels.iloc[:b]\n",
    "    labels_test = labels.iloc[b:]"
   ]
  },
  {
   "cell_type": "code",
   "execution_count": 55,
   "metadata": {},
   "outputs": [
    {
     "data": {
      "text/plain": [
       "<matplotlib.axes._subplots.AxesSubplot at 0x7f19d0af8278>"
      ]
     },
     "execution_count": 55,
     "metadata": {},
     "output_type": "execute_result"
    },
    {
     "data": {
      "image/png": "[encoded data removed]",
      "text/plain": [
       "<Figure size 432x288 with 1 Axes>"
      ]
     },
     "metadata": {
      "needs_background": "light"
     },
     "output_type": "display_data"
    }
   ],
   "source": [
    "labels\\\n",
    "    .groupby(selected_labels[0])\\\n",
    "    .count()\\\n",
    "    [['emotions_count']]\\\n",
    "    .plot(kind = 'bar')"
   ]
  },
  {
   "cell_type": "code",
   "execution_count": 56,
   "metadata": {},
   "outputs": [
    {
     "data": {
      "text/plain": [
       "<matplotlib.axes._subplots.AxesSubplot at 0x7f190d472f60>"
      ]
     },
     "execution_count": 56,
     "metadata": {},
     "output_type": "execute_result"
    },
    {
     "data": {
      "image/png": "[encoded data removed]",
      "text/plain": [
       "<Figure size 432x288 with 1 Axes>"
      ]
     },
     "metadata": {
      "needs_background": "light"
     },
     "output_type": "display_data"
    }
   ],
   "source": [
    "labels_norm\\\n",
    "    .groupby(selected_labels[0])\\\n",
    "    .count()\\\n",
    "    [['emotions_count']]\\\n",
    "    .plot(kind = 'bar')"
   ]
  },
  {
   "cell_type": "markdown",
   "metadata": {},
   "source": [
    "## Merge x and y"
   ]
  },
  {
   "cell_type": "code",
   "execution_count": 57,
   "metadata": {},
   "outputs": [],
   "source": [
    "labels_norm = labels_norm.sample(frac=1)\n",
    "labels_test = labels_test.sample(frac=1)"
   ]
  },
  {
   "cell_type": "code",
   "execution_count": 58,
   "metadata": {},
   "outputs": [],
   "source": [
    "labels_indices_train = labels_norm[labels_norm['reactions'].isna() == False].index.values\n",
    "labels_indices_test = labels_test[labels_test['reactions'].isna() == False].index.values"
   ]
  },
  {
   "cell_type": "code",
   "execution_count": 59,
   "metadata": {},
   "outputs": [],
   "source": [
    "labels_train = labels_norm[labels_norm['reactions'].isna() == False]"
   ]
  },
  {
   "cell_type": "code",
   "execution_count": 60,
   "metadata": {},
   "outputs": [],
   "source": [
    "train_x = x[labels_indices_train]\n",
    "train_y = labels_norm[labels_norm['reactions'].isna() == False][selected_labels[0]].values\n",
    "\n",
    "test_x = x[labels_indices_test]\n",
    "test_y = labels_test[labels_test['reactions'].isna() == False][selected_labels[0]].values"
   ]
  },
  {
   "cell_type": "code",
   "execution_count": 61,
   "metadata": {},
   "outputs": [
    {
     "name": "stdout",
     "output_type": "stream",
     "text": [
      "(15591, 19730) (15591,)\n"
     ]
    }
   ],
   "source": [
    "print(train_x.shape, train_y.shape)"
   ]
  },
  {
   "cell_type": "code",
   "execution_count": 62,
   "metadata": {},
   "outputs": [
    {
     "name": "stdout",
     "output_type": "stream",
     "text": [
      "(1736, 19730) (1736,)\n"
     ]
    }
   ],
   "source": [
    "print(test_x.shape, test_y.shape)"
   ]
  },
  {
   "cell_type": "markdown",
   "metadata": {},
   "source": [
    "## Training"
   ]
  },
  {
   "cell_type": "code",
   "execution_count": 63,
   "metadata": {},
   "outputs": [],
   "source": [
    "from tensorflow.keras import Sequential, Model, Input\n",
    "from tensorflow.keras.layers import Dense\n",
    "from tensorflow.nn import relu"
   ]
  },
  {
   "cell_type": "code",
   "execution_count": 64,
   "metadata": {},
   "outputs": [],
   "source": [
    "inputs = Input(shape = (vocab_size, ))"
   ]
  },
  {
   "cell_type": "code",
   "execution_count": 65,
   "metadata": {},
   "outputs": [
    {
     "name": "stderr",
     "output_type": "stream",
     "text": [
      "WARNING: Logging before flag parsing goes to stderr.\n",
      "W0627 21:58:24.377682 139750043383552 deprecation.py:506] From /usr/local/lib/python3.5/dist-packages/tensorflow/python/ops/init_ops.py:1251: calling VarianceScaling.__init__ (from tensorflow.python.ops.init_ops) with dtype is deprecated and will be removed in a future version.\n",
      "Instructions for updating:\n",
      "Call initializer instance with the dtype argument instead of passing it to the constructor\n"
     ]
    }
   ],
   "source": [
    "hidden_1 = Dense(vocab_size/40, activation = relu)(inputs)\n",
    "hidden_2 = Dense(vocab_size/50, activation = relu)(hidden_1)"
   ]
  },
  {
   "cell_type": "code",
   "execution_count": 66,
   "metadata": {},
   "outputs": [],
   "source": [
    "outputs = Dense(len(selected_labels))(hidden_2)"
   ]
  },
  {
   "cell_type": "code",
   "execution_count": 67,
   "metadata": {},
   "outputs": [],
   "source": [
    "model = Model(\n",
    "    inputs = inputs,\n",
    "    outputs = outputs\n",
    ")"
   ]
  },
  {
   "cell_type": "code",
   "execution_count": 68,
   "metadata": {},
   "outputs": [],
   "source": [
    "from tensorflow.keras.optimizers import RMSprop"
   ]
  },
  {
   "cell_type": "code",
   "execution_count": 69,
   "metadata": {},
   "outputs": [],
   "source": [
    "optimizer = RMSprop(0.003)"
   ]
  },
  {
   "cell_type": "code",
   "execution_count": 70,
   "metadata": {},
   "outputs": [],
   "source": [
    "from tensorflow.losses import *"
   ]
  },
  {
   "cell_type": "code",
   "execution_count": 71,
   "metadata": {},
   "outputs": [
    {
     "data": {
      "text/plain": [
       "['replies_cat']"
      ]
     },
     "execution_count": 71,
     "metadata": {},
     "output_type": "execute_result"
    }
   ],
   "source": [
    "selected_labels"
   ]
  },
  {
   "cell_type": "code",
   "execution_count": 72,
   "metadata": {},
   "outputs": [],
   "source": [
    "weights = [1,1]"
   ]
  },
  {
   "cell_type": "code",
   "execution_count": 73,
   "metadata": {},
   "outputs": [],
   "source": [
    "if normalize_emotion_label == 'weights':\n",
    "    weights = labels\\\n",
    "        [labels['reactions'].isna() == False]\\\n",
    "        .groupby(selected_labels[0])\\\n",
    "        .count()\\\n",
    "        [labels.columns[0]]\\\n",
    "        .values\n",
    "    weights = [x/max(weights) for x in weights]"
   ]
  },
  {
   "cell_type": "code",
   "execution_count": 74,
   "metadata": {},
   "outputs": [],
   "source": [
    "# my_losses = 0\n",
    "# for i, selected_label in enumerate(selected_labels):\n",
    "#     my_losses.append(\n",
    "#         mean_squared_error(labels = train_y[:,i], predictions = model.predict(train_x)[:,i])\n",
    "#     )"
   ]
  },
  {
   "cell_type": "code",
   "execution_count": 75,
   "metadata": {},
   "outputs": [],
   "source": [
    "#mean_squared_error(labels = train_y[:,i], predictions = model.predict(train_x)[:,i]) + mean_squared_error(labels = train_y[:,i], predictions = model.predict(train_x)[:,i])"
   ]
  },
  {
   "cell_type": "code",
   "execution_count": 76,
   "metadata": {},
   "outputs": [
    {
     "name": "stderr",
     "output_type": "stream",
     "text": [
      "W0627 21:58:24.709795 139750043383552 deprecation.py:323] From /usr/local/lib/python3.5/dist-packages/tensorflow/python/ops/losses/losses_impl.py:121: add_dispatch_support.<locals>.wrapper (from tensorflow.python.ops.array_ops) is deprecated and will be removed in a future version.\n",
      "Instructions for updating:\n",
      "Use tf.where in 2.0, which has the same broadcast rule as np.where\n"
     ]
    }
   ],
   "source": [
    "model.compile(\n",
    "    loss=mean_squared_error,\n",
    "    optimizer=optimizer,\n",
    "    metrics=['mean_absolute_error']\n",
    ")"
   ]
  },
  {
   "cell_type": "code",
   "execution_count": 77,
   "metadata": {},
   "outputs": [
    {
     "name": "stdout",
     "output_type": "stream",
     "text": [
      "[[ 8.4860215e-04]\n",
      " [ 7.6769979e-04]\n",
      " [-4.5649312e-04]\n",
      " [-7.3988456e-05]\n",
      " [ 1.5090671e-03]]\n"
     ]
    }
   ],
   "source": [
    "example_batch = test_x[:5]\n",
    "print(model.predict(example_batch))"
   ]
  },
  {
   "cell_type": "code",
   "execution_count": 78,
   "metadata": {},
   "outputs": [],
   "source": [
    "EPOCHS = 300"
   ]
  },
  {
   "cell_type": "code",
   "execution_count": 79,
   "metadata": {},
   "outputs": [],
   "source": [
    "from tensorflow.keras.callbacks import EarlyStopping"
   ]
  },
  {
   "cell_type": "code",
   "execution_count": 80,
   "metadata": {},
   "outputs": [],
   "source": [
    "early_stop = EarlyStopping(monitor='val_loss', patience=10)"
   ]
  },
  {
   "cell_type": "code",
   "execution_count": 81,
   "metadata": {},
   "outputs": [
    {
     "name": "stdout",
     "output_type": "stream",
     "text": [
      "Model: \"model\"\n",
      "_________________________________________________________________\n",
      "Layer (type)                 Output Shape              Param #   \n",
      "=================================================================\n",
      "input_1 (InputLayer)         [(None, 19730)]           0         \n",
      "_________________________________________________________________\n",
      "dense (Dense)                (None, 493)               9727383   \n",
      "_________________________________________________________________\n",
      "dense_1 (Dense)              (None, 394)               194636    \n",
      "_________________________________________________________________\n",
      "dense_2 (Dense)              (None, 1)                 395       \n",
      "=================================================================\n",
      "Total params: 9,922,414\n",
      "Trainable params: 9,922,414\n",
      "Non-trainable params: 0\n",
      "_________________________________________________________________\n"
     ]
    }
   ],
   "source": [
    "model.summary()"
   ]
  },
  {
   "cell_type": "code",
   "execution_count": 82,
   "metadata": {},
   "outputs": [],
   "source": [
    "history = model.fit(\n",
    "    train_x, train_y,\n",
    "    epochs=EPOCHS,\n",
    "    validation_split = 0.2, \n",
    "    verbose=0,\n",
    "    callbacks=[early_stop],\n",
    "    class_weight = list(reversed(weights))\n",
    ")"
   ]
  },
  {
   "cell_type": "code",
   "execution_count": 83,
   "metadata": {},
   "outputs": [],
   "source": [
    "import pandas as pd\n",
    "import matplotlib.pyplot as plt"
   ]
  },
  {
   "cell_type": "code",
   "execution_count": 84,
   "metadata": {},
   "outputs": [],
   "source": [
    "def plot_history(history):\n",
    "    hist = pd.DataFrame(history.history)\n",
    "    hist['epoch'] = history.epoch\n",
    "\n",
    "    plt.figure()\n",
    "    plt.xlabel('Epoch')\n",
    "    plt.ylabel('Mean Abs Error [MPG]')\n",
    "    plt.plot(hist['epoch'], hist['mean_absolute_error'],\n",
    "           label='Train Error')\n",
    "    plt.plot(hist['epoch'], hist['val_mean_absolute_error'],\n",
    "           label = 'Val Error')\n",
    "    m = max(max([history.history['mean_absolute_error'] + history.history['val_mean_absolute_error']]))\n",
    "    plt.ylim([0,m * 1.1])\n",
    "    plt.legend()"
   ]
  },
  {
   "cell_type": "code",
   "execution_count": 85,
   "metadata": {},
   "outputs": [],
   "source": [
    "loss, mae = model.evaluate(test_x, test_y, verbose=0)"
   ]
  },
  {
   "cell_type": "code",
   "execution_count": 86,
   "metadata": {},
   "outputs": [
    {
     "data": {
      "text/plain": [
       "0.6208457"
      ]
     },
     "execution_count": 86,
     "metadata": {},
     "output_type": "execute_result"
    }
   ],
   "source": [
    "mae"
   ]
  },
  {
   "cell_type": "code",
   "execution_count": 87,
   "metadata": {},
   "outputs": [
    {
     "data": {
      "image/png": "[encoded data removed]",
      "text/plain": [
       "<Figure size 432x288 with 1 Axes>"
      ]
     },
     "metadata": {
      "needs_background": "light"
     },
     "output_type": "display_data"
    }
   ],
   "source": [
    "plot_history(history)"
   ]
  },
  {
   "cell_type": "code",
   "execution_count": 88,
   "metadata": {},
   "outputs": [],
   "source": [
    "pred = model.predict(test_x)"
   ]
  },
  {
   "cell_type": "code",
   "execution_count": 89,
   "metadata": {},
   "outputs": [],
   "source": [
    "res = pd.concat([pd.DataFrame(pred), pd.DataFrame(test_y)], axis = 1)"
   ]
  },
  {
   "cell_type": "code",
   "execution_count": 90,
   "metadata": {},
   "outputs": [],
   "source": [
    "res.columns = [\"pred_\"+x for x in selected_labels] + [\"real_\"+x for x in selected_labels]"
   ]
  },
  {
   "cell_type": "code",
   "execution_count": 91,
   "metadata": {},
   "outputs": [
    {
     "data": {
      "text/html": [
       "<div>\n",
       "<style scoped>\n",
       "    .dataframe tbody tr th:only-of-type {\n",
       "        vertical-align: middle;\n",
       "    }\n",
       "\n",
       "    .dataframe tbody tr th {\n",
       "        vertical-align: top;\n",
       "    }\n",
       "\n",
       "    .dataframe thead th {\n",
       "        text-align: right;\n",
       "    }\n",
       "</style>\n",
       "<table border=\"1\" class=\"dataframe\">\n",
       "  <thead>\n",
       "    <tr style=\"text-align: right;\">\n",
       "      <th></th>\n",
       "      <th>pred_replies_cat</th>\n",
       "      <th>real_replies_cat</th>\n",
       "    </tr>\n",
       "  </thead>\n",
       "  <tbody>\n",
       "    <tr>\n",
       "      <th>1016</th>\n",
       "      <td>-0.618963</td>\n",
       "      <td>-1.0</td>\n",
       "    </tr>\n",
       "    <tr>\n",
       "      <th>547</th>\n",
       "      <td>-0.133656</td>\n",
       "      <td>0.0</td>\n",
       "    </tr>\n",
       "    <tr>\n",
       "      <th>212</th>\n",
       "      <td>-0.087136</td>\n",
       "      <td>-1.0</td>\n",
       "    </tr>\n",
       "    <tr>\n",
       "      <th>1420</th>\n",
       "      <td>0.020940</td>\n",
       "      <td>-1.0</td>\n",
       "    </tr>\n",
       "    <tr>\n",
       "      <th>9</th>\n",
       "      <td>-0.332778</td>\n",
       "      <td>-1.0</td>\n",
       "    </tr>\n",
       "    <tr>\n",
       "      <th>1086</th>\n",
       "      <td>0.968310</td>\n",
       "      <td>0.0</td>\n",
       "    </tr>\n",
       "    <tr>\n",
       "      <th>880</th>\n",
       "      <td>0.677294</td>\n",
       "      <td>0.0</td>\n",
       "    </tr>\n",
       "    <tr>\n",
       "      <th>772</th>\n",
       "      <td>-0.586873</td>\n",
       "      <td>0.0</td>\n",
       "    </tr>\n",
       "    <tr>\n",
       "      <th>392</th>\n",
       "      <td>0.087584</td>\n",
       "      <td>0.0</td>\n",
       "    </tr>\n",
       "    <tr>\n",
       "      <th>231</th>\n",
       "      <td>-1.056373</td>\n",
       "      <td>-1.0</td>\n",
       "    </tr>\n",
       "  </tbody>\n",
       "</table>\n",
       "</div>"
      ],
      "text/plain": [
       "      pred_replies_cat  real_replies_cat\n",
       "1016         -0.618963              -1.0\n",
       "547          -0.133656               0.0\n",
       "212          -0.087136              -1.0\n",
       "1420          0.020940              -1.0\n",
       "9            -0.332778              -1.0\n",
       "1086          0.968310               0.0\n",
       "880           0.677294               0.0\n",
       "772          -0.586873               0.0\n",
       "392           0.087584               0.0\n",
       "231          -1.056373              -1.0"
      ]
     },
     "execution_count": 91,
     "metadata": {},
     "output_type": "execute_result"
    }
   ],
   "source": [
    "res.sample(frac=1).head(10)"
   ]
  },
  {
   "cell_type": "code",
   "execution_count": 92,
   "metadata": {},
   "outputs": [],
   "source": [
    "from sklearn.metrics import confusion_matrix"
   ]
  },
  {
   "cell_type": "code",
   "execution_count": 93,
   "metadata": {},
   "outputs": [],
   "source": [
    "res_labels = res\n",
    "for emotion_cat in ['rage_cat', 'joy_cat', 'surprise_cat', 'fear_cat', 'sadness_cat']:\n",
    "    if \"pred_\"+emotion_cat in res.columns:\n",
    "        pred = res[\"pred_\"+emotion_cat].values\n",
    "        real = res[\"real_\"+emotion_cat].values\n",
    "        \n",
    "        final_result = []\n",
    "        pred_binary = []\n",
    "        for i, pred in enumerate(pred):\n",
    "            if pred < 0 and real[i] == -1:\n",
    "                final_result.append(1)\n",
    "                pred_binary.append(-1)\n",
    "            elif pred > 0 and real[i] == 1:\n",
    "                final_result.append(1)\n",
    "                pred_binary.append(1)\n",
    "            else:\n",
    "                final_result.append(0)\n",
    "                if pred < 0:\n",
    "                    pred_binary.append(-1)\n",
    "                else:\n",
    "                    pred_binary.append(1)\n",
    "                \n",
    "        print(emotion_cat, str(round(sum(final_result)/len(final_result)*100, 2)))\n",
    "        print(\"(tn,   fp,   fn,   tp)\")\n",
    "        print(confusion_matrix(real, pred_binary).ravel())\n",
    "        print('----------------')"
   ]
  },
  {
   "cell_type": "code",
   "execution_count": 94,
   "metadata": {},
   "outputs": [],
   "source": [
    "model.save('models/tmp')"
   ]
  },
  {
   "cell_type": "code",
   "execution_count": 85,
   "metadata": {},
   "outputs": [],
   "source": [
    "# sadness_cat 86.13\n",
    "# (tn,   fp,   fn,   tp)\n",
    "# [1085  283   59 1039]"
   ]
  },
  {
   "cell_type": "code",
   "execution_count": 86,
   "metadata": {},
   "outputs": [],
   "source": [
    "# rage_cat 97.36\n",
    "# (tn,   fp,   fn,   tp)\n",
    "# [1562   78    8 1608]"
   ]
  },
  {
   "cell_type": "code",
   "execution_count": 87,
   "metadata": {},
   "outputs": [],
   "source": [
    "# fear_cat 95.17\n",
    "# (tn,   fp,   fn,   tp)\n",
    "# [1464  125   20 1393]"
   ]
  },
  {
   "cell_type": "code",
   "execution_count": 88,
   "metadata": {},
   "outputs": [],
   "source": [
    "# surprise_cat 87.26\n",
    "# (tn,   fp,   fn,   tp)\n",
    "# [1067  221  104 1159]"
   ]
  },
  {
   "cell_type": "code",
   "execution_count": 89,
   "metadata": {},
   "outputs": [],
   "source": [
    "# joy_cat 92.11\n",
    "# (tn,   fp,   fn,   tp)\n",
    "# [1310  205   23 1351]"
   ]
  }
 ],
 "metadata": {
  "kernelspec": {
   "display_name": "Python 3",
   "language": "python",
   "name": "python3"
  },
  "language_info": {
   "codemirror_mode": {
    "name": "ipython",
    "version": 3
   },
   "file_extension": ".py",
   "mimetype": "text/x-python",
   "name": "python",
   "nbconvert_exporter": "python",
   "pygments_lexer": "ipython3",
   "version": "3.5.3"
  }
 },
 "nbformat": 4,
 "nbformat_minor": 2
}
