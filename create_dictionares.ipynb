{
 "cells": [
  {
   "cell_type": "code",
   "execution_count": 1,
   "metadata": {},
   "outputs": [],
   "source": [
    "# author, division, idf from raw comments\n",
    "# and labels like {comment_id: {\"rage\": 2, \"replies\": 3 ...}}\n",
    "# get the most frequent words as well to be able to filter word2vec file\n",
    "\n",
    "# out files:\n",
    "# - author_dict\n",
    "# - division_dict\n",
    "# - idf_dict\n",
    "\n",
    "# - file with x and y "
   ]
  },
  {
   "cell_type": "code",
   "execution_count": 21,
   "metadata": {},
   "outputs": [],
   "source": [
    "from os import listdir\n",
    "import pandas as pd\n",
    "from labeling.emotions import rage, joy, sadness, surprise, fear"
   ]
  },
  {
   "cell_type": "code",
   "execution_count": 3,
   "metadata": {},
   "outputs": [],
   "source": [
    "months = {\n",
    "    'stycznia': 1,\n",
    "    'lutego': 2,\n",
    "    'marca': 3,\n",
    "    'kwietnia': 4,\n",
    "    'maja': 5,\n",
    "    'czerwca': 6,\n",
    "    'lipca': 7,\n",
    "    'sierpnia': 8,\n",
    "    'września': 9,\n",
    "    'października': 10,\n",
    "    'listopada': 11,\n",
    "    'grudnia': 12\n",
    "}"
   ]
  },
  {
   "cell_type": "code",
   "execution_count": 4,
   "metadata": {},
   "outputs": [],
   "source": [
    "def process_date(months, date):\n",
    "    year = date.split('|')[0].split(' ')[2].strip()\n",
    "    month = str(months[date.split('|')[0].split(' ')[1].strip()])\n",
    "    day = date.split('|')[0].split(' ')[0].strip()\n",
    "    \n",
    "    hour = date.split('|')[1].strip()\n",
    "    \n",
    "    return pd.to_datetime(\" \".join([year, month, day, hour]))"
   ]
  },
  {
   "cell_type": "code",
   "execution_count": null,
   "metadata": {},
   "outputs": [],
   "source": [
    "from re import search, sub\n",
    "from unidecode import unidecode"
   ]
  },
  {
   "cell_type": "code",
   "execution_count": 35,
   "metadata": {},
   "outputs": [],
   "source": [
    "rage_regex = \"|\".join(rage)\n",
    "joy_regex = \"|\".join(joy)\n",
    "sadness_regex = \"|\".join(sadness)\n",
    "surprise_regex = \"|\".join(surprise)\n",
    "fear_regex = \"|\".join(fear)"
   ]
  },
  {
   "cell_type": "code",
   "execution_count": 34,
   "metadata": {},
   "outputs": [],
   "source": [
    "def find_emotions(emotions, body):\n",
    "    for i, emotion_regex in enumerate([rage_regex, joy_regex, sadness_regex, surprise_regex, fear_regex]):\n",
    "        if search(emotion_regex, body):\n",
    "            emotions[i] += 1\n",
    "    return emotions"
   ]
  },
  {
   "cell_type": "code",
   "execution_count": 63,
   "metadata": {},
   "outputs": [],
   "source": [
    "def label(comments):\n",
    "    replies = 0\n",
    "\n",
    "    upvotes = 0\n",
    "    downvotes = 0\n",
    "\n",
    "    emotions = [0,0,0,0,0]\n",
    "    for comment in a['comments']:\n",
    "        main = comment['main_comment']\n",
    "\n",
    "        upvotes += int(main['upvotes'])\n",
    "        downvotes += int(main['downvotes'])\n",
    "        replies += 1\n",
    "\n",
    "        emotions = find_emotions(emotions, sub(r\"[^a-z| ]\", \"\", unidecode(main['body']).lower()))\n",
    "        for subcomment in comment['sub_comments']:\n",
    "            upvotes += int(subcomment['upvotes'])\n",
    "            downvotes += int(subcomment['downvotes'])\n",
    "            replies += 1\n",
    "            emotions = find_emotions(emotions, sub(r\"[^a-z| ]\", \"\", unidecode(main['body']).lower()))\n",
    "    return [replies, upvotes, downvotes] + [emotion for emotion in emotions]"
   ]
  },
  {
   "cell_type": "code",
   "execution_count": 105,
   "metadata": {},
   "outputs": [],
   "source": [
    "def remove_specials(body):\n",
    "    return sub(r\"[^a-z| ]\", \"\", unidecode(body).lower())"
   ]
  },
  {
   "cell_type": "code",
   "execution_count": 106,
   "metadata": {},
   "outputs": [],
   "source": [
    "with open('data/polish.stopwords.txt', 'r') as f:\n",
    "    stop_words = f.read().split('\\n')"
   ]
  },
  {
   "cell_type": "code",
   "execution_count": 107,
   "metadata": {},
   "outputs": [],
   "source": [
    "def remove_stop_words(body):\n",
    "    return [word for word in body.split(' ') if word not in stop_words]"
   ]
  },
  {
   "cell_type": "code",
   "execution_count": 117,
   "metadata": {},
   "outputs": [],
   "source": [
    "def clean_words(body):\n",
    "    return \" \".join(remove_stop_words(remove_specials(body)))"
   ]
  },
  {
   "cell_type": "code",
   "execution_count": 118,
   "metadata": {},
   "outputs": [],
   "source": [
    "all_articles =[]\n",
    "for article in listdir('data/comments/'):\n",
    "    with open('data/comments/'+article) as f:\n",
    "        articles = []\n",
    "        a = eval(f.read())['row']['comments']\n",
    "        articles.append(article)\n",
    "        articles.append(a['division'])\n",
    "        articles.append(process_date(months, a['pub_date']))\n",
    "        articles.append(a['author'].split(',')[0])\n",
    "        \n",
    "        articles.append(clean_words(a['title']))\n",
    "        articles.append(clean_words(a['highlight']))\n",
    "        articles.append(clean_words(a['content']))\n",
    "        articles.append(clean_words(a['media_desc']))\n",
    "        \n",
    "        articles.append(a['media_type'])\n",
    "        for return_label in label(a['comments']):\n",
    "            articles.append(return_label)\n",
    "        all_articles.append(articles)"
   ]
  },
  {
   "cell_type": "code",
   "execution_count": 119,
   "metadata": {},
   "outputs": [],
   "source": [
    "df = pd.DataFrame(all_articles, columns = [\n",
    "    'id', 'div', 'date', 'author', 'title', \n",
    "    'highlight', 'content', 'media_desc', 'media_type',\n",
    "    'replies', 'upvotes', 'downvotes', \n",
    "    'rage', 'joy', 'sadness', 'surprise', 'fear'\n",
    "])\n",
    "df['reactions'] = df['upvotes'] + df['downvotes']\n",
    "df['reactions_sentiment'] = round(df['upvotes'] / df['reactions'], 2)"
   ]
  },
  {
   "cell_type": "code",
   "execution_count": 120,
   "metadata": {},
   "outputs": [
    {
     "data": {
      "text/html": [
       "<div>\n",
       "<style scoped>\n",
       "    .dataframe tbody tr th:only-of-type {\n",
       "        vertical-align: middle;\n",
       "    }\n",
       "\n",
       "    .dataframe tbody tr th {\n",
       "        vertical-align: top;\n",
       "    }\n",
       "\n",
       "    .dataframe thead th {\n",
       "        text-align: right;\n",
       "    }\n",
       "</style>\n",
       "<table border=\"1\" class=\"dataframe\">\n",
       "  <thead>\n",
       "    <tr style=\"text-align: right;\">\n",
       "      <th></th>\n",
       "      <th>id</th>\n",
       "      <th>div</th>\n",
       "      <th>date</th>\n",
       "      <th>author</th>\n",
       "      <th>title</th>\n",
       "      <th>highlight</th>\n",
       "      <th>content</th>\n",
       "      <th>media_desc</th>\n",
       "      <th>media_type</th>\n",
       "      <th>replies</th>\n",
       "      <th>upvotes</th>\n",
       "      <th>downvotes</th>\n",
       "      <th>rage</th>\n",
       "      <th>joy</th>\n",
       "      <th>sadness</th>\n",
       "      <th>surprise</th>\n",
       "      <th>fear</th>\n",
       "      <th>reactions</th>\n",
       "      <th>reactions_sentiment</th>\n",
       "    </tr>\n",
       "  </thead>\n",
       "  <tbody>\n",
       "    <tr>\n",
       "      <th>0</th>\n",
       "      <td>24811329</td>\n",
       "      <td>Kraj</td>\n",
       "      <td>2019-05-22 05:16:00</td>\n",
       "      <td>Agata Kondzińska</td>\n",
       "      <td>teoria spisku pis podejrzewaja ziobro mogl ins...</td>\n",
       "      <td>ujawnieniu wyborcza sprawy dzialek morawieckie...</td>\n",
       "      <td>rozmowcy pis zwracaja uwage publikacja wyborcz...</td>\n",
       "      <td>premier mateusz morawiecki minister sprawiedli...</td>\n",
       "      <td>image</td>\n",
       "      <td>116</td>\n",
       "      <td>2990</td>\n",
       "      <td>106</td>\n",
       "      <td>0</td>\n",
       "      <td>1</td>\n",
       "      <td>0</td>\n",
       "      <td>2</td>\n",
       "      <td>8</td>\n",
       "      <td>3096</td>\n",
       "      <td>0.97</td>\n",
       "    </tr>\n",
       "    <tr>\n",
       "      <th>1</th>\n",
       "      <td>24811352</td>\n",
       "      <td>Kraj</td>\n",
       "      <td>2019-05-22 05:21:00</td>\n",
       "      <td>Krzysztof Pacewicz</td>\n",
       "      <td>sondaz drugiej turze wyborow duda wygralby tus...</td>\n",
       "      <td>sondazu prezydenckim andrzej duda pokonuje don...</td>\n",
       "      <td>wynika badan kantaru wyborczej gazetapl tok fm...</td>\n",
       "      <td>marsz europy przeszedl warszawe</td>\n",
       "      <td>video</td>\n",
       "      <td>145</td>\n",
       "      <td>1630</td>\n",
       "      <td>103</td>\n",
       "      <td>0</td>\n",
       "      <td>1</td>\n",
       "      <td>1</td>\n",
       "      <td>1</td>\n",
       "      <td>0</td>\n",
       "      <td>1733</td>\n",
       "      <td>0.94</td>\n",
       "    </tr>\n",
       "    <tr>\n",
       "      <th>2</th>\n",
       "      <td>24810476</td>\n",
       "      <td>Świat</td>\n",
       "      <td>2019-05-22 05:25:00</td>\n",
       "      <td>Maria Kruczkowska</td>\n",
       "      <td>legalizacja malzenstw osob jednej plci tajwani...</td>\n",
       "      <td>choc pekin pochwalil nowa ustawe tajpej podejr...</td>\n",
       "      <td>legalizacji malzenstw homoseksualnych pisal pi...</td>\n",
       "      <td>demonstracja srodowisk lgbt tajpej grudnia r</td>\n",
       "      <td>image</td>\n",
       "      <td>7</td>\n",
       "      <td>34</td>\n",
       "      <td>9</td>\n",
       "      <td>0</td>\n",
       "      <td>0</td>\n",
       "      <td>0</td>\n",
       "      <td>0</td>\n",
       "      <td>0</td>\n",
       "      <td>43</td>\n",
       "      <td>0.79</td>\n",
       "    </tr>\n",
       "  </tbody>\n",
       "</table>\n",
       "</div>"
      ],
      "text/plain": [
       "         id    div                date              author  \\\n",
       "0  24811329   Kraj 2019-05-22 05:16:00    Agata Kondzińska   \n",
       "1  24811352   Kraj 2019-05-22 05:21:00  Krzysztof Pacewicz   \n",
       "2  24810476  Świat 2019-05-22 05:25:00   Maria Kruczkowska   \n",
       "\n",
       "                                               title  \\\n",
       "0  teoria spisku pis podejrzewaja ziobro mogl ins...   \n",
       "1  sondaz drugiej turze wyborow duda wygralby tus...   \n",
       "2  legalizacja malzenstw osob jednej plci tajwani...   \n",
       "\n",
       "                                           highlight  \\\n",
       "0  ujawnieniu wyborcza sprawy dzialek morawieckie...   \n",
       "1  sondazu prezydenckim andrzej duda pokonuje don...   \n",
       "2  choc pekin pochwalil nowa ustawe tajpej podejr...   \n",
       "\n",
       "                                             content  \\\n",
       "0  rozmowcy pis zwracaja uwage publikacja wyborcz...   \n",
       "1  wynika badan kantaru wyborczej gazetapl tok fm...   \n",
       "2  legalizacji malzenstw homoseksualnych pisal pi...   \n",
       "\n",
       "                                          media_desc media_type  replies  \\\n",
       "0  premier mateusz morawiecki minister sprawiedli...      image      116   \n",
       "1                    marsz europy przeszedl warszawe      video      145   \n",
       "2       demonstracja srodowisk lgbt tajpej grudnia r      image        7   \n",
       "\n",
       "   upvotes  downvotes  rage  joy  sadness  surprise  fear  reactions  \\\n",
       "0     2990        106     0    1        0         2     8       3096   \n",
       "1     1630        103     0    1        1         1     0       1733   \n",
       "2       34          9     0    0        0         0     0         43   \n",
       "\n",
       "   reactions_sentiment  \n",
       "0                 0.97  \n",
       "1                 0.94  \n",
       "2                 0.79  "
      ]
     },
     "execution_count": 120,
     "metadata": {},
     "output_type": "execute_result"
    }
   ],
   "source": [
    "df.head(3)"
   ]
  },
  {
   "cell_type": "code",
   "execution_count": 125,
   "metadata": {},
   "outputs": [],
   "source": [
    "def create_dict(unique):\n",
    "    return { key: value for key, value in enumerate(unique) }"
   ]
  },
  {
   "cell_type": "code",
   "execution_count": 159,
   "metadata": {},
   "outputs": [],
   "source": [
    "division_dict = create_dict(df['div'].unique())"
   ]
  },
  {
   "cell_type": "code",
   "execution_count": 160,
   "metadata": {},
   "outputs": [],
   "source": [
    "author_dict = create_dict(df['author'].unique())"
   ]
  },
  {
   "cell_type": "code",
   "execution_count": 133,
   "metadata": {},
   "outputs": [],
   "source": [
    "from collections import Counter"
   ]
  },
  {
   "cell_type": "code",
   "execution_count": 153,
   "metadata": {},
   "outputs": [],
   "source": [
    "bag_of_records = df['title'] + ' ' + df['highlight'] + ' ' + df['content'] + ' ' + df['media_desc']\n",
    "bag_of_words = [x for x in [row for row in bag_of_records] for x in x.split(' ')]"
   ]
  },
  {
   "cell_type": "code",
   "execution_count": 161,
   "metadata": {},
   "outputs": [],
   "source": [
    "idf_dict = {word:freq for word, freq in dict(Counter(bag_of_words)).items() if freq > 3}"
   ]
  },
  {
   "cell_type": "code",
   "execution_count": 162,
   "metadata": {},
   "outputs": [],
   "source": [
    "from json import dump"
   ]
  },
  {
   "cell_type": "code",
   "execution_count": 164,
   "metadata": {},
   "outputs": [],
   "source": [
    "with open('labeling/division_dict', 'w') as f:\n",
    "    dump(division_dict, f)"
   ]
  },
  {
   "cell_type": "code",
   "execution_count": 165,
   "metadata": {},
   "outputs": [],
   "source": [
    "with open('labeling/author_dict', 'w') as f:\n",
    "    dump(author_dict, f)"
   ]
  },
  {
   "cell_type": "code",
   "execution_count": 166,
   "metadata": {},
   "outputs": [],
   "source": [
    "with open('labeling/idf_dict', 'w') as f:\n",
    "    dump(idf_dict, f)"
   ]
  },
  {
   "cell_type": "code",
   "execution_count": 167,
   "metadata": {},
   "outputs": [],
   "source": [
    "df.to_csv('labeling/fresh_data.csv')"
   ]
  },
  {
   "cell_type": "code",
   "execution_count": null,
   "metadata": {},
   "outputs": [],
   "source": []
  }
 ],
 "metadata": {
  "kernelspec": {
   "display_name": "Python 3",
   "language": "python",
   "name": "python3"
  },
  "language_info": {
   "codemirror_mode": {
    "name": "ipython",
    "version": 3
   },
   "file_extension": ".py",
   "mimetype": "text/x-python",
   "name": "python",
   "nbconvert_exporter": "python",
   "pygments_lexer": "ipython3",
   "version": "3.7.2"
  }
 },
 "nbformat": 4,
 "nbformat_minor": 2
}
