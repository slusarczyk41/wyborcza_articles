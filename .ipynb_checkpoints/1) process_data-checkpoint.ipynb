{
 "cells": [
  {
   "cell_type": "code",
   "execution_count": 1,
   "metadata": {},
   "outputs": [],
   "source": [
    "# author, division, idf from raw comments\n",
    "# and labels like {comment_id: {\"rage\": 2, \"replies\": 3 ...}}\n",
    "# get the most frequent words as well to be able to filter word2vec file\n",
    "\n",
    "# out files:\n",
    "# - author_dict\n",
    "# - division_dict\n",
    "# - idf_dict\n",
    "\n",
    "# - file with x and y "
   ]
  },
  {
   "cell_type": "code",
   "execution_count": 2,
   "metadata": {},
   "outputs": [],
   "source": [
    "from os import listdir\n",
    "import pandas as pd\n",
    "from labeling.emotions import rage, joy, sadness, surprise, fear"
   ]
  },
  {
   "cell_type": "code",
   "execution_count": 3,
   "metadata": {},
   "outputs": [],
   "source": [
    "months = {\n",
    "    'stycznia': 1,\n",
    "    'lutego': 2,\n",
    "    'marca': 3,\n",
    "    'kwietnia': 4,\n",
    "    'maja': 5,\n",
    "    'czerwca': 6,\n",
    "    'lipca': 7,\n",
    "    'sierpnia': 8,\n",
    "    'września': 9,\n",
    "    'października': 10,\n",
    "    'listopada': 11,\n",
    "    'grudnia': 12\n",
    "}"
   ]
  },
  {
   "cell_type": "code",
   "execution_count": 4,
   "metadata": {},
   "outputs": [],
   "source": [
    "def process_date(months, date):\n",
    "    year = date.split('|')[0].split(' ')[2].strip()\n",
    "    month = str(months[date.split('|')[0].split(' ')[1].strip()])\n",
    "    day = date.split('|')[0].split(' ')[0].strip()\n",
    "    \n",
    "    try:\n",
    "        hour = date.split('|')[1].strip()\n",
    "        return pd.to_datetime(\" \".join([year, month, day, hour]))\n",
    "    except:\n",
    "        return None\n",
    "    \n",
    "    "
   ]
  },
  {
   "cell_type": "code",
   "execution_count": 5,
   "metadata": {},
   "outputs": [],
   "source": [
    "from re import search, sub\n",
    "from unidecode import unidecode"
   ]
  },
  {
   "cell_type": "code",
   "execution_count": 7,
   "metadata": {},
   "outputs": [],
   "source": [
    "more_emotion_keywords = pd.read_csv('labeling/nawl-analysis.csv')"
   ]
  },
  {
   "cell_type": "code",
   "execution_count": null,
   "metadata": {},
   "outputs": [],
   "source": [
    "# H - joy\n",
    "# A - rage\n",
    "# S - sadness\n",
    "# D - surprise\n",
    "# F - fear"
   ]
  },
  {
   "cell_type": "code",
   "execution_count": 21,
   "metadata": {},
   "outputs": [],
   "source": [
    "Hapiness = more_emotion_keywords[more_emotion_keywords['category'] == 'H']['word'].values.tolist()\n",
    "Anger = more_emotion_keywords[more_emotion_keywords['category'] == 'A']['word'].values.tolist()\n",
    "Sadness = more_emotion_keywords[more_emotion_keywords['category'] == 'S']['word'].values.tolist()\n",
    "Disgust = more_emotion_keywords[more_emotion_keywords['category'] == 'D']['word'].values.tolist()\n",
    "Fear = more_emotion_keywords[more_emotion_keywords['category'] == 'F']['word'].values.tolist()"
   ]
  },
  {
   "cell_type": "code",
   "execution_count": 22,
   "metadata": {},
   "outputs": [],
   "source": [
    "rage_regex = \"|\".join(rage + Anger)\n",
    "joy_regex = \"|\".join(joy + Hapiness)\n",
    "sadness_regex = \"|\".join(sadness + Sadness)\n",
    "surprise_regex = \"|\".join(surprise + Disgust)\n",
    "fear_regex = \"|\".join(fear + Fear)"
   ]
  },
  {
   "cell_type": "code",
   "execution_count": 23,
   "metadata": {},
   "outputs": [],
   "source": [
    "def find_emotions(emotions, body):\n",
    "    for i, emotion_regex in enumerate([rage_regex, joy_regex, sadness_regex, surprise_regex, fear_regex]):\n",
    "        if search(emotion_regex, body):\n",
    "            emotions[i] += 1\n",
    "    return emotions"
   ]
  },
  {
   "cell_type": "code",
   "execution_count": 24,
   "metadata": {},
   "outputs": [],
   "source": [
    "def label(comments):\n",
    "    replies = 0\n",
    "\n",
    "    upvotes = 0\n",
    "    downvotes = 0\n",
    "\n",
    "    emotions = [0,0,0,0,0]\n",
    "    for comment in a['comments']:\n",
    "        main = comment['main_comment']\n",
    "\n",
    "        upvotes += int(main['upvotes'])\n",
    "        downvotes += int(main['downvotes'])\n",
    "        replies += 1\n",
    "\n",
    "        emotions = find_emotions(emotions, sub(r\"[^a-z| ]\", \"\", unidecode(main['body']).lower()))\n",
    "        for subcomment in comment['sub_comments']:\n",
    "            try:\n",
    "                upvotes += int(subcomment['upvotes'])\n",
    "                downvotes += int(subcomment['downvotes'])\n",
    "                replies += 1\n",
    "            except:\n",
    "                return None\n",
    "            emotions = find_emotions(emotions, sub(r\"[^a-z| ]\", \"\", unidecode(main['body']).lower()))\n",
    "    return [replies, upvotes, downvotes] + [emotion for emotion in emotions]"
   ]
  },
  {
   "cell_type": "code",
   "execution_count": 25,
   "metadata": {},
   "outputs": [],
   "source": [
    "def remove_specials(body):\n",
    "    return sub(r\"[^a-z| ]\", \"\", unidecode(body).lower())"
   ]
  },
  {
   "cell_type": "code",
   "execution_count": 26,
   "metadata": {},
   "outputs": [],
   "source": [
    "with open('data/polish.stopwords.txt', 'r') as f:\n",
    "    stop_words = f.read().split('\\n')"
   ]
  },
  {
   "cell_type": "code",
   "execution_count": 27,
   "metadata": {},
   "outputs": [],
   "source": [
    "def remove_stop_words(body):\n",
    "    return [word for word in body.split(' ') if word not in stop_words and len(word) > 1]"
   ]
  },
  {
   "cell_type": "code",
   "execution_count": 28,
   "metadata": {},
   "outputs": [],
   "source": [
    "def clean_words(body):\n",
    "    return \" \".join(remove_stop_words(remove_specials(body)))"
   ]
  },
  {
   "cell_type": "code",
   "execution_count": 29,
   "metadata": {},
   "outputs": [],
   "source": [
    "all_articles =[]\n",
    "for article in listdir('data/comments/'):\n",
    "    with open('data/comments/'+article) as f:\n",
    "        articles = []\n",
    "        a = eval(f.read())['row']['comments']\n",
    "        if a['comments'] != []:\n",
    "        \n",
    "            articles.append(article)\n",
    "            articles.append(a['division'])\n",
    "            articles.append(process_date(months, a['pub_date']))\n",
    "            articles.append(a['author'].split(',')[0])\n",
    "\n",
    "            articles.append(clean_words(a['title']))\n",
    "            articles.append(clean_words(a['highlight']))\n",
    "            articles.append(clean_words(a['content']))\n",
    "            articles.append(clean_words(a['media_desc']))\n",
    "\n",
    "            articles.append(a['media_type'])\n",
    "            labels = label(a['comments'])\n",
    "            if labels:\n",
    "                for return_label in labels:\n",
    "                    articles.append(return_label)\n",
    "                all_articles.append(articles)"
   ]
  },
  {
   "cell_type": "code",
   "execution_count": 30,
   "metadata": {},
   "outputs": [],
   "source": [
    "df = pd.DataFrame(all_articles, columns = [\n",
    "    'id', 'div', 'date', 'author', 'title', \n",
    "    'highlight', 'content', 'media_desc', 'media_type',\n",
    "    'replies', 'upvotes', 'downvotes', \n",
    "    'rage', 'joy', 'sadness', 'surprise', 'fear'\n",
    "])\n",
    "df['reactions'] = df['upvotes'] + df['downvotes']\n",
    "df['reactions_sentiment'] = round(df['upvotes'] / df['reactions'], 2)"
   ]
  },
  {
   "cell_type": "code",
   "execution_count": 31,
   "metadata": {},
   "outputs": [
    {
     "data": {
      "text/plain": [
       "20274"
      ]
     },
     "execution_count": 31,
     "metadata": {},
     "output_type": "execute_result"
    }
   ],
   "source": [
    "len(df)"
   ]
  },
  {
   "cell_type": "code",
   "execution_count": 32,
   "metadata": {},
   "outputs": [
    {
     "data": {
      "text/html": [
       "<div>\n",
       "<style scoped>\n",
       "    .dataframe tbody tr th:only-of-type {\n",
       "        vertical-align: middle;\n",
       "    }\n",
       "\n",
       "    .dataframe tbody tr th {\n",
       "        vertical-align: top;\n",
       "    }\n",
       "\n",
       "    .dataframe thead th {\n",
       "        text-align: right;\n",
       "    }\n",
       "</style>\n",
       "<table border=\"1\" class=\"dataframe\">\n",
       "  <thead>\n",
       "    <tr style=\"text-align: right;\">\n",
       "      <th></th>\n",
       "      <th>id</th>\n",
       "      <th>div</th>\n",
       "      <th>date</th>\n",
       "      <th>author</th>\n",
       "      <th>title</th>\n",
       "      <th>highlight</th>\n",
       "      <th>content</th>\n",
       "      <th>media_desc</th>\n",
       "      <th>media_type</th>\n",
       "      <th>replies</th>\n",
       "      <th>upvotes</th>\n",
       "      <th>downvotes</th>\n",
       "      <th>rage</th>\n",
       "      <th>joy</th>\n",
       "      <th>sadness</th>\n",
       "      <th>surprise</th>\n",
       "      <th>fear</th>\n",
       "      <th>reactions</th>\n",
       "      <th>reactions_sentiment</th>\n",
       "    </tr>\n",
       "  </thead>\n",
       "  <tbody>\n",
       "    <tr>\n",
       "      <th>0</th>\n",
       "      <td>23632593</td>\n",
       "      <td>ZUS i emerytura</td>\n",
       "      <td>2018-07-05 06:02:00</td>\n",
       "      <td>Leszek Kostrzewski</td>\n",
       "      <td>nik alarmuje polacy maja zanizone emerytury</td>\n",
       "      <td>tysiace polakow zanizone emerytury wystapilo z...</td>\n",
       "      <td>najwyzsza izba kontroli zwraca uwage problem z...</td>\n",
       "      <td>osob maja dopisanych skladek emerytalnych czas...</td>\n",
       "      <td>image</td>\n",
       "      <td>2</td>\n",
       "      <td>11</td>\n",
       "      <td>0</td>\n",
       "      <td>0</td>\n",
       "      <td>0</td>\n",
       "      <td>0</td>\n",
       "      <td>0</td>\n",
       "      <td>1</td>\n",
       "      <td>11</td>\n",
       "      <td>1.00</td>\n",
       "    </tr>\n",
       "    <tr>\n",
       "      <th>1</th>\n",
       "      <td>23398351</td>\n",
       "      <td>Świat</td>\n",
       "      <td>2018-05-14 15:45:00</td>\n",
       "      <td>Maciej Stasiński</td>\n",
       "      <td>katalonia premiera parlament barcelonie przegl...</td>\n",
       "      <td>nowy premier obiecuje dazyc oderwania kataloni...</td>\n",
       "      <td>kryzys katalonski zazegnany parlament barcelon...</td>\n",
       "      <td>parlament barcelonie zatwierdzil quima torre n...</td>\n",
       "      <td>image</td>\n",
       "      <td>5</td>\n",
       "      <td>2</td>\n",
       "      <td>5</td>\n",
       "      <td>0</td>\n",
       "      <td>4</td>\n",
       "      <td>0</td>\n",
       "      <td>4</td>\n",
       "      <td>0</td>\n",
       "      <td>7</td>\n",
       "      <td>0.29</td>\n",
       "    </tr>\n",
       "    <tr>\n",
       "      <th>2</th>\n",
       "      <td>23602572</td>\n",
       "      <td>Nauka</td>\n",
       "      <td>2018-06-27 15:37:00</td>\n",
       "      <td>Adam Wajrak</td>\n",
       "      <td>wajrak straszcie wilkami</td>\n",
       "      <td>pojawily pierwsze informacje pogryzieniu wilka...</td>\n",
       "      <td>mysliwi zwykle trafili kula plotwiemy przynajm...</td>\n",
       "      <td>bieszczady wilk zaatakowal dzieci mial kontakt...</td>\n",
       "      <td>image</td>\n",
       "      <td>9</td>\n",
       "      <td>210</td>\n",
       "      <td>13</td>\n",
       "      <td>0</td>\n",
       "      <td>0</td>\n",
       "      <td>0</td>\n",
       "      <td>0</td>\n",
       "      <td>2</td>\n",
       "      <td>223</td>\n",
       "      <td>0.94</td>\n",
       "    </tr>\n",
       "  </tbody>\n",
       "</table>\n",
       "</div>"
      ],
      "text/plain": [
       "         id              div                date              author  \\\n",
       "0  23632593  ZUS i emerytura 2018-07-05 06:02:00  Leszek Kostrzewski   \n",
       "1  23398351            Świat 2018-05-14 15:45:00    Maciej Stasiński   \n",
       "2  23602572           Nauka  2018-06-27 15:37:00         Adam Wajrak   \n",
       "\n",
       "                                               title  \\\n",
       "0        nik alarmuje polacy maja zanizone emerytury   \n",
       "1  katalonia premiera parlament barcelonie przegl...   \n",
       "2                           wajrak straszcie wilkami   \n",
       "\n",
       "                                           highlight  \\\n",
       "0  tysiace polakow zanizone emerytury wystapilo z...   \n",
       "1  nowy premier obiecuje dazyc oderwania kataloni...   \n",
       "2  pojawily pierwsze informacje pogryzieniu wilka...   \n",
       "\n",
       "                                             content  \\\n",
       "0  najwyzsza izba kontroli zwraca uwage problem z...   \n",
       "1  kryzys katalonski zazegnany parlament barcelon...   \n",
       "2  mysliwi zwykle trafili kula plotwiemy przynajm...   \n",
       "\n",
       "                                          media_desc media_type  replies  \\\n",
       "0  osob maja dopisanych skladek emerytalnych czas...      image        2   \n",
       "1  parlament barcelonie zatwierdzil quima torre n...      image        5   \n",
       "2  bieszczady wilk zaatakowal dzieci mial kontakt...      image        9   \n",
       "\n",
       "   upvotes  downvotes  rage  joy  sadness  surprise  fear  reactions  \\\n",
       "0       11          0     0    0        0         0     1         11   \n",
       "1        2          5     0    4        0         4     0          7   \n",
       "2      210         13     0    0        0         0     2        223   \n",
       "\n",
       "   reactions_sentiment  \n",
       "0                 1.00  \n",
       "1                 0.29  \n",
       "2                 0.94  "
      ]
     },
     "execution_count": 32,
     "metadata": {},
     "output_type": "execute_result"
    }
   ],
   "source": [
    "df.head(3)"
   ]
  },
  {
   "cell_type": "code",
   "execution_count": 33,
   "metadata": {},
   "outputs": [
    {
     "name": "stdout",
     "output_type": "stream",
     "text": [
      "<class 'pandas.core.frame.DataFrame'>\n",
      "RangeIndex: 20274 entries, 0 to 20273\n",
      "Data columns (total 19 columns):\n",
      "id                     20274 non-null object\n",
      "div                    20274 non-null object\n",
      "date                   20272 non-null datetime64[ns]\n",
      "author                 20274 non-null object\n",
      "title                  20274 non-null object\n",
      "highlight              20274 non-null object\n",
      "content                20274 non-null object\n",
      "media_desc             20274 non-null object\n",
      "media_type             20274 non-null object\n",
      "replies                20274 non-null int64\n",
      "upvotes                20274 non-null int64\n",
      "downvotes              20274 non-null int64\n",
      "rage                   20274 non-null int64\n",
      "joy                    20274 non-null int64\n",
      "sadness                20274 non-null int64\n",
      "surprise               20274 non-null int64\n",
      "fear                   20274 non-null int64\n",
      "reactions              20274 non-null int64\n",
      "reactions_sentiment    19797 non-null float64\n",
      "dtypes: datetime64[ns](1), float64(1), int64(9), object(8)\n",
      "memory usage: 2.9+ MB\n"
     ]
    }
   ],
   "source": [
    "df.info()"
   ]
  },
  {
   "cell_type": "code",
   "execution_count": 35,
   "metadata": {},
   "outputs": [],
   "source": [
    "def create_dict(unique):\n",
    "    return { key: value for value, key in enumerate(unique) }"
   ]
  },
  {
   "cell_type": "code",
   "execution_count": 36,
   "metadata": {},
   "outputs": [],
   "source": [
    "division_dict = create_dict(df['div'].unique())"
   ]
  },
  {
   "cell_type": "code",
   "execution_count": 37,
   "metadata": {},
   "outputs": [],
   "source": [
    "author_dict = create_dict(df['author'].unique())"
   ]
  },
  {
   "cell_type": "code",
   "execution_count": 38,
   "metadata": {},
   "outputs": [],
   "source": [
    "media_dict = create_dict(df['media_type'].unique())"
   ]
  },
  {
   "cell_type": "code",
   "execution_count": 39,
   "metadata": {},
   "outputs": [],
   "source": [
    "from json import dump"
   ]
  },
  {
   "cell_type": "code",
   "execution_count": 40,
   "metadata": {},
   "outputs": [],
   "source": [
    "with open('labeling/division_dict', 'w') as f:\n",
    "    dump(division_dict, f)"
   ]
  },
  {
   "cell_type": "code",
   "execution_count": 41,
   "metadata": {},
   "outputs": [],
   "source": [
    "# df['div'] = df['div'].map(division_dict)"
   ]
  },
  {
   "cell_type": "code",
   "execution_count": 42,
   "metadata": {},
   "outputs": [],
   "source": [
    "with open('labeling/author_dict', 'w') as f:\n",
    "    dump(author_dict, f)"
   ]
  },
  {
   "cell_type": "code",
   "execution_count": 43,
   "metadata": {},
   "outputs": [],
   "source": [
    "# df['author'] = df['author'].map(author_dict)"
   ]
  },
  {
   "cell_type": "code",
   "execution_count": 44,
   "metadata": {},
   "outputs": [],
   "source": [
    "with open('labeling/media_dict', 'w') as f:\n",
    "    dump(media_dict, f)"
   ]
  },
  {
   "cell_type": "code",
   "execution_count": 45,
   "metadata": {},
   "outputs": [],
   "source": [
    "# df['media_type'] = df['media_type'].map(media_dict)"
   ]
  },
  {
   "cell_type": "code",
   "execution_count": 46,
   "metadata": {},
   "outputs": [
    {
     "data": {
      "text/html": [
       "<div>\n",
       "<style scoped>\n",
       "    .dataframe tbody tr th:only-of-type {\n",
       "        vertical-align: middle;\n",
       "    }\n",
       "\n",
       "    .dataframe tbody tr th {\n",
       "        vertical-align: top;\n",
       "    }\n",
       "\n",
       "    .dataframe thead th {\n",
       "        text-align: right;\n",
       "    }\n",
       "</style>\n",
       "<table border=\"1\" class=\"dataframe\">\n",
       "  <thead>\n",
       "    <tr style=\"text-align: right;\">\n",
       "      <th></th>\n",
       "      <th>id</th>\n",
       "      <th>div</th>\n",
       "      <th>date</th>\n",
       "      <th>author</th>\n",
       "      <th>title</th>\n",
       "      <th>highlight</th>\n",
       "      <th>content</th>\n",
       "      <th>media_desc</th>\n",
       "      <th>media_type</th>\n",
       "      <th>replies</th>\n",
       "      <th>upvotes</th>\n",
       "      <th>downvotes</th>\n",
       "      <th>rage</th>\n",
       "      <th>joy</th>\n",
       "      <th>sadness</th>\n",
       "      <th>surprise</th>\n",
       "      <th>fear</th>\n",
       "      <th>reactions</th>\n",
       "      <th>reactions_sentiment</th>\n",
       "    </tr>\n",
       "  </thead>\n",
       "  <tbody>\n",
       "    <tr>\n",
       "      <th>0</th>\n",
       "      <td>23632593</td>\n",
       "      <td>ZUS i emerytura</td>\n",
       "      <td>2018-07-05 06:02:00</td>\n",
       "      <td>Leszek Kostrzewski</td>\n",
       "      <td>nik alarmuje polacy maja zanizone emerytury</td>\n",
       "      <td>tysiace polakow zanizone emerytury wystapilo z...</td>\n",
       "      <td>najwyzsza izba kontroli zwraca uwage problem z...</td>\n",
       "      <td>osob maja dopisanych skladek emerytalnych czas...</td>\n",
       "      <td>image</td>\n",
       "      <td>2</td>\n",
       "      <td>11</td>\n",
       "      <td>0</td>\n",
       "      <td>0</td>\n",
       "      <td>0</td>\n",
       "      <td>0</td>\n",
       "      <td>0</td>\n",
       "      <td>1</td>\n",
       "      <td>11</td>\n",
       "      <td>1.00</td>\n",
       "    </tr>\n",
       "    <tr>\n",
       "      <th>1</th>\n",
       "      <td>23398351</td>\n",
       "      <td>Świat</td>\n",
       "      <td>2018-05-14 15:45:00</td>\n",
       "      <td>Maciej Stasiński</td>\n",
       "      <td>katalonia premiera parlament barcelonie przegl...</td>\n",
       "      <td>nowy premier obiecuje dazyc oderwania kataloni...</td>\n",
       "      <td>kryzys katalonski zazegnany parlament barcelon...</td>\n",
       "      <td>parlament barcelonie zatwierdzil quima torre n...</td>\n",
       "      <td>image</td>\n",
       "      <td>5</td>\n",
       "      <td>2</td>\n",
       "      <td>5</td>\n",
       "      <td>0</td>\n",
       "      <td>4</td>\n",
       "      <td>0</td>\n",
       "      <td>4</td>\n",
       "      <td>0</td>\n",
       "      <td>7</td>\n",
       "      <td>0.29</td>\n",
       "    </tr>\n",
       "    <tr>\n",
       "      <th>2</th>\n",
       "      <td>23602572</td>\n",
       "      <td>Nauka</td>\n",
       "      <td>2018-06-27 15:37:00</td>\n",
       "      <td>Adam Wajrak</td>\n",
       "      <td>wajrak straszcie wilkami</td>\n",
       "      <td>pojawily pierwsze informacje pogryzieniu wilka...</td>\n",
       "      <td>mysliwi zwykle trafili kula plotwiemy przynajm...</td>\n",
       "      <td>bieszczady wilk zaatakowal dzieci mial kontakt...</td>\n",
       "      <td>image</td>\n",
       "      <td>9</td>\n",
       "      <td>210</td>\n",
       "      <td>13</td>\n",
       "      <td>0</td>\n",
       "      <td>0</td>\n",
       "      <td>0</td>\n",
       "      <td>0</td>\n",
       "      <td>2</td>\n",
       "      <td>223</td>\n",
       "      <td>0.94</td>\n",
       "    </tr>\n",
       "  </tbody>\n",
       "</table>\n",
       "</div>"
      ],
      "text/plain": [
       "         id              div                date              author  \\\n",
       "0  23632593  ZUS i emerytura 2018-07-05 06:02:00  Leszek Kostrzewski   \n",
       "1  23398351            Świat 2018-05-14 15:45:00    Maciej Stasiński   \n",
       "2  23602572           Nauka  2018-06-27 15:37:00         Adam Wajrak   \n",
       "\n",
       "                                               title  \\\n",
       "0        nik alarmuje polacy maja zanizone emerytury   \n",
       "1  katalonia premiera parlament barcelonie przegl...   \n",
       "2                           wajrak straszcie wilkami   \n",
       "\n",
       "                                           highlight  \\\n",
       "0  tysiace polakow zanizone emerytury wystapilo z...   \n",
       "1  nowy premier obiecuje dazyc oderwania kataloni...   \n",
       "2  pojawily pierwsze informacje pogryzieniu wilka...   \n",
       "\n",
       "                                             content  \\\n",
       "0  najwyzsza izba kontroli zwraca uwage problem z...   \n",
       "1  kryzys katalonski zazegnany parlament barcelon...   \n",
       "2  mysliwi zwykle trafili kula plotwiemy przynajm...   \n",
       "\n",
       "                                          media_desc media_type  replies  \\\n",
       "0  osob maja dopisanych skladek emerytalnych czas...      image        2   \n",
       "1  parlament barcelonie zatwierdzil quima torre n...      image        5   \n",
       "2  bieszczady wilk zaatakowal dzieci mial kontakt...      image        9   \n",
       "\n",
       "   upvotes  downvotes  rage  joy  sadness  surprise  fear  reactions  \\\n",
       "0       11          0     0    0        0         0     1         11   \n",
       "1        2          5     0    4        0         4     0          7   \n",
       "2      210         13     0    0        0         0     2        223   \n",
       "\n",
       "   reactions_sentiment  \n",
       "0                 1.00  \n",
       "1                 0.29  \n",
       "2                 0.94  "
      ]
     },
     "execution_count": 46,
     "metadata": {},
     "output_type": "execute_result"
    }
   ],
   "source": [
    "df.head(3)"
   ]
  },
  {
   "cell_type": "code",
   "execution_count": 47,
   "metadata": {},
   "outputs": [],
   "source": [
    "df.to_csv('labeling/fresh_data.csv', index = False)"
   ]
  },
  {
   "cell_type": "code",
   "execution_count": null,
   "metadata": {},
   "outputs": [],
   "source": []
  }
 ],
 "metadata": {
  "kernelspec": {
   "display_name": "Python 3",
   "language": "python",
   "name": "python3"
  },
  "language_info": {
   "codemirror_mode": {
    "name": "ipython",
    "version": 3
   },
   "file_extension": ".py",
   "mimetype": "text/x-python",
   "name": "python",
   "nbconvert_exporter": "python",
   "pygments_lexer": "ipython3",
   "version": "3.7.2"
  }
 },
 "nbformat": 4,
 "nbformat_minor": 2
}
