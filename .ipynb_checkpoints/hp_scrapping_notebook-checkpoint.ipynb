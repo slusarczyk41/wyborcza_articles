{
 "cells": [
  {
   "cell_type": "code",
   "execution_count": 1,
   "metadata": {},
   "outputs": [],
   "source": [
    "from selenium import webdriver\n",
    "import pandas as pd\n",
    "from scrap_article import scrap_article\n",
    "from threading import Thread\n",
    "\n",
    "from datetime import datetime as dt\n",
    "from datetime import timedelta as td"
   ]
  },
  {
   "cell_type": "code",
   "execution_count": 2,
   "metadata": {},
   "outputs": [],
   "source": [
    "options = webdriver.ChromeOptions()\n",
    "options.add_argument('--headless')"
   ]
  },
  {
   "cell_type": "code",
   "execution_count": 3,
   "metadata": {},
   "outputs": [],
   "source": [
    "chrome = webdriver.Chrome(options=options)"
   ]
  },
  {
   "cell_type": "code",
   "execution_count": 4,
   "metadata": {},
   "outputs": [],
   "source": [
    "chrome.get(url = 'http://wyborcza.pl/0,75248.html')"
   ]
  },
  {
   "cell_type": "code",
   "execution_count": 5,
   "metadata": {},
   "outputs": [],
   "source": [
    "entries = []\n",
    "for entry in chrome\\\n",
    "    .find_element_by_xpath('//*[@id=\"pagetype_index\"]/section[5]/div/main/div/div[2]/div/div[2]/ul')\\\n",
    "    .find_elements_by_class_name('entry'):\n",
    "    entryContainer = {}\n",
    "    \n",
    "    entryContainer['author'] = entry.find_element_by_class_name('author').text.replace('|', '').strip()\n",
    "    header = entry.find_element_by_tag_name('h3')\\\n",
    "                .find_element_by_tag_name('a')\n",
    "    entryContainer['title'] = header.get_attribute('title')\n",
    "    entryContainer['url'] = header.get_attribute('href')\n",
    "    entryContainer['article_id'] = entryContainer['url'].split('/')[-1].split(',')[2]\n",
    "    entryContainer['lead'] = entry.find_element_by_tag_name('p').text\n",
    "    entryContainer['date'] = entry.find_element_by_class_name('when').text\n",
    "    \n",
    "    entries.append(entryContainer)"
   ]
  },
  {
   "cell_type": "code",
   "execution_count": 6,
   "metadata": {},
   "outputs": [],
   "source": [
    "scrapped_articles = pd.DataFrame(entries)\n",
    "scrapped_articles['is_new'] = True\n",
    "scrapped_articles['content'] = None"
   ]
  },
  {
   "cell_type": "code",
   "execution_count": 7,
   "metadata": {},
   "outputs": [
    {
     "data": {
      "text/html": [
       "<div>\n",
       "<style scoped>\n",
       "    .dataframe tbody tr th:only-of-type {\n",
       "        vertical-align: middle;\n",
       "    }\n",
       "\n",
       "    .dataframe tbody tr th {\n",
       "        vertical-align: top;\n",
       "    }\n",
       "\n",
       "    .dataframe thead th {\n",
       "        text-align: right;\n",
       "    }\n",
       "</style>\n",
       "<table border=\"1\" class=\"dataframe\">\n",
       "  <thead>\n",
       "    <tr style=\"text-align: right;\">\n",
       "      <th></th>\n",
       "      <th>article_id</th>\n",
       "      <th>author</th>\n",
       "      <th>date</th>\n",
       "      <th>lead</th>\n",
       "      <th>title</th>\n",
       "      <th>url</th>\n",
       "      <th>is_new</th>\n",
       "      <th>content</th>\n",
       "    </tr>\n",
       "  </thead>\n",
       "  <tbody>\n",
       "    <tr>\n",
       "      <th>0</th>\n",
       "      <td>24797627</td>\n",
       "      <td>Ewa Ivanova</td>\n",
       "      <td>17-05-2019 21:22</td>\n",
       "      <td>Żaden sąd nie jest właściwy do kontrolowania w...</td>\n",
       "      <td>Wyborcza pisze o pozwie, prezydent Duda odpowiada</td>\n",
       "      <td>http://wyborcza.pl/7,75398,24797627,wyborcza-p...</td>\n",
       "      <td>True</td>\n",
       "      <td>None</td>\n",
       "    </tr>\n",
       "    <tr>\n",
       "      <th>1</th>\n",
       "      <td>24797255</td>\n",
       "      <td>Paweł Rutkiewicz</td>\n",
       "      <td>17-05-2019 19:40</td>\n",
       "      <td>- My w tych wyborach możemy zrobić pierwszy kr...</td>\n",
       "      <td>Wybory europejskie 2019. Kaczyński w Łodzi. Pi...</td>\n",
       "      <td>http://lodz.wyborcza.pl/lodz/7,35136,24797255,...</td>\n",
       "      <td>True</td>\n",
       "      <td>None</td>\n",
       "    </tr>\n",
       "    <tr>\n",
       "      <th>2</th>\n",
       "      <td>24796693</td>\n",
       "      <td>mc</td>\n",
       "      <td>17-05-2019 17:34</td>\n",
       "      <td>Ksiądz z diecezji bydgoskiej uwikłany w pedofi...</td>\n",
       "      <td>Kapłan uwikłany w pedofilię przebywa w bydgosk...</td>\n",
       "      <td>http://bydgoszcz.wyborcza.pl/bydgoszcz/7,48722...</td>\n",
       "      <td>True</td>\n",
       "      <td>None</td>\n",
       "    </tr>\n",
       "    <tr>\n",
       "      <th>3</th>\n",
       "      <td>24797373</td>\n",
       "      <td>Marta Kielczewska-Konopka</td>\n",
       "      <td>17-05-2019 19:32</td>\n",
       "      <td>Diagnoza stanu paryskiej katedry, zdewastowane...</td>\n",
       "      <td>Odbudowa Notre Dame: 850 mln euro wystarczy? A...</td>\n",
       "      <td>http://wyborcza.pl/7,75399,24797373,odbudowa-n...</td>\n",
       "      <td>True</td>\n",
       "      <td>None</td>\n",
       "    </tr>\n",
       "    <tr>\n",
       "      <th>4</th>\n",
       "      <td>24797222</td>\n",
       "      <td>Bartosz T. Wieliński</td>\n",
       "      <td>17-05-2019 19:11</td>\n",
       "      <td>Koniec z pokorą, cierpliwością, służbą? Niemie...</td>\n",
       "      <td>Maria 2.0 wstrząsa niemieckim Kościołem</td>\n",
       "      <td>http://wyborcza.pl/7,75399,24797222,maria-2-0-...</td>\n",
       "      <td>True</td>\n",
       "      <td>None</td>\n",
       "    </tr>\n",
       "  </tbody>\n",
       "</table>\n",
       "</div>"
      ],
      "text/plain": [
       "  article_id                     author              date  \\\n",
       "0   24797627                Ewa Ivanova  17-05-2019 21:22   \n",
       "1   24797255           Paweł Rutkiewicz  17-05-2019 19:40   \n",
       "2   24796693                         mc  17-05-2019 17:34   \n",
       "3   24797373  Marta Kielczewska-Konopka  17-05-2019 19:32   \n",
       "4   24797222       Bartosz T. Wieliński  17-05-2019 19:11   \n",
       "\n",
       "                                                lead  \\\n",
       "0  Żaden sąd nie jest właściwy do kontrolowania w...   \n",
       "1  - My w tych wyborach możemy zrobić pierwszy kr...   \n",
       "2  Ksiądz z diecezji bydgoskiej uwikłany w pedofi...   \n",
       "3  Diagnoza stanu paryskiej katedry, zdewastowane...   \n",
       "4  Koniec z pokorą, cierpliwością, służbą? Niemie...   \n",
       "\n",
       "                                               title  \\\n",
       "0  Wyborcza pisze o pozwie, prezydent Duda odpowiada   \n",
       "1  Wybory europejskie 2019. Kaczyński w Łodzi. Pi...   \n",
       "2  Kapłan uwikłany w pedofilię przebywa w bydgosk...   \n",
       "3  Odbudowa Notre Dame: 850 mln euro wystarczy? A...   \n",
       "4            Maria 2.0 wstrząsa niemieckim Kościołem   \n",
       "\n",
       "                                                 url  is_new content  \n",
       "0  http://wyborcza.pl/7,75398,24797627,wyborcza-p...    True    None  \n",
       "1  http://lodz.wyborcza.pl/lodz/7,35136,24797255,...    True    None  \n",
       "2  http://bydgoszcz.wyborcza.pl/bydgoszcz/7,48722...    True    None  \n",
       "3  http://wyborcza.pl/7,75399,24797373,odbudowa-n...    True    None  \n",
       "4  http://wyborcza.pl/7,75399,24797222,maria-2-0-...    True    None  "
      ]
     },
     "execution_count": 7,
     "metadata": {},
     "output_type": "execute_result"
    }
   ],
   "source": [
    "scrapped_articles.head(5)"
   ]
  },
  {
   "cell_type": "code",
   "execution_count": 8,
   "metadata": {},
   "outputs": [],
   "source": [
    "existing_articles = pd.read_csv('articles.csv')"
   ]
  },
  {
   "cell_type": "code",
   "execution_count": 9,
   "metadata": {},
   "outputs": [
    {
     "data": {
      "text/html": [
       "<div>\n",
       "<style scoped>\n",
       "    .dataframe tbody tr th:only-of-type {\n",
       "        vertical-align: middle;\n",
       "    }\n",
       "\n",
       "    .dataframe tbody tr th {\n",
       "        vertical-align: top;\n",
       "    }\n",
       "\n",
       "    .dataframe thead th {\n",
       "        text-align: right;\n",
       "    }\n",
       "</style>\n",
       "<table border=\"1\" class=\"dataframe\">\n",
       "  <thead>\n",
       "    <tr style=\"text-align: right;\">\n",
       "      <th></th>\n",
       "      <th>author</th>\n",
       "      <th>date</th>\n",
       "      <th>lead</th>\n",
       "      <th>title</th>\n",
       "      <th>url</th>\n",
       "    </tr>\n",
       "  </thead>\n",
       "  <tbody>\n",
       "    <tr>\n",
       "      <th>0</th>\n",
       "      <td>Piotr Andrusieczko</td>\n",
       "      <td>16-05-2019 16:51</td>\n",
       "      <td>W czwartek Rada Najwyższa Ukrainy wyznaczyła i...</td>\n",
       "      <td>Data inauguracji Wołodymyra Zełenskiego w końc...</td>\n",
       "      <td>http://wyborcza.pl/7,75399,24793013,data-inaug...</td>\n",
       "    </tr>\n",
       "    <tr>\n",
       "      <th>1</th>\n",
       "      <td>Magdalena Mach</td>\n",
       "      <td>16-05-2019 16:26</td>\n",
       "      <td>Policjanci zatrzymali mężczyznę podejrzanego o...</td>\n",
       "      <td>Atakował kobiety w parku w centrum Rzeszowa. B...</td>\n",
       "      <td>http://rzeszow.wyborcza.pl/rzeszow/7,34962,247...</td>\n",
       "    </tr>\n",
       "    <tr>\n",
       "      <th>2</th>\n",
       "      <td>Jarosław Bińczyk</td>\n",
       "      <td>16-05-2019 16:35</td>\n",
       "      <td>Z siatkarskiej PlusLigi znikają znani włoscy t...</td>\n",
       "      <td>Schyłek ery w siatkówce? Polska jako etap prze...</td>\n",
       "      <td>http://wyborcza.pl/7,154903,24791353,schylek-e...</td>\n",
       "    </tr>\n",
       "    <tr>\n",
       "      <th>3</th>\n",
       "      <td>Maciej Stasiński</td>\n",
       "      <td>16-05-2019 15:47</td>\n",
       "      <td>To kolejna próba namówienia obu stron - od trz...</td>\n",
       "      <td>W Norwegii poufne rokowania z reżimem Nicolása...</td>\n",
       "      <td>http://wyborcza.pl/7,75399,24792543,w-norwegii...</td>\n",
       "    </tr>\n",
       "    <tr>\n",
       "      <th>4</th>\n",
       "      <td>key</td>\n",
       "      <td>16-05-2019 15:34</td>\n",
       "      <td>Coraz więcej trudnych pytań do bydgoskiego bis...</td>\n",
       "      <td>Bydgoski poseł pyta biskupa Tyrawę o jeszcze j...</td>\n",
       "      <td>http://bydgoszcz.wyborcza.pl/bydgoszcz/7,48722...</td>\n",
       "    </tr>\n",
       "  </tbody>\n",
       "</table>\n",
       "</div>"
      ],
      "text/plain": [
       "               author              date  \\\n",
       "0  Piotr Andrusieczko  16-05-2019 16:51   \n",
       "1      Magdalena Mach  16-05-2019 16:26   \n",
       "2    Jarosław Bińczyk  16-05-2019 16:35   \n",
       "3    Maciej Stasiński  16-05-2019 15:47   \n",
       "4                 key  16-05-2019 15:34   \n",
       "\n",
       "                                                lead  \\\n",
       "0  W czwartek Rada Najwyższa Ukrainy wyznaczyła i...   \n",
       "1  Policjanci zatrzymali mężczyznę podejrzanego o...   \n",
       "2  Z siatkarskiej PlusLigi znikają znani włoscy t...   \n",
       "3  To kolejna próba namówienia obu stron - od trz...   \n",
       "4  Coraz więcej trudnych pytań do bydgoskiego bis...   \n",
       "\n",
       "                                               title  \\\n",
       "0  Data inauguracji Wołodymyra Zełenskiego w końc...   \n",
       "1  Atakował kobiety w parku w centrum Rzeszowa. B...   \n",
       "2  Schyłek ery w siatkówce? Polska jako etap prze...   \n",
       "3  W Norwegii poufne rokowania z reżimem Nicolása...   \n",
       "4  Bydgoski poseł pyta biskupa Tyrawę o jeszcze j...   \n",
       "\n",
       "                                                 url  \n",
       "0  http://wyborcza.pl/7,75399,24793013,data-inaug...  \n",
       "1  http://rzeszow.wyborcza.pl/rzeszow/7,34962,247...  \n",
       "2  http://wyborcza.pl/7,154903,24791353,schylek-e...  \n",
       "3  http://wyborcza.pl/7,75399,24792543,w-norwegii...  \n",
       "4  http://bydgoszcz.wyborcza.pl/bydgoszcz/7,48722...  "
      ]
     },
     "execution_count": 9,
     "metadata": {},
     "output_type": "execute_result"
    }
   ],
   "source": [
    "existing_articles.head(5)"
   ]
  },
  {
   "cell_type": "code",
   "execution_count": 10,
   "metadata": {},
   "outputs": [],
   "source": [
    "combined_articles = existing_articles.append(scrapped_articles, sort=False)"
   ]
  },
  {
   "cell_type": "code",
   "execution_count": 11,
   "metadata": {},
   "outputs": [
    {
     "data": {
      "text/plain": [
       "30"
      ]
     },
     "execution_count": 11,
     "metadata": {},
     "output_type": "execute_result"
    }
   ],
   "source": [
    "len(combined_articles)"
   ]
  },
  {
   "cell_type": "code",
   "execution_count": 12,
   "metadata": {},
   "outputs": [
    {
     "data": {
      "text/plain": [
       "30"
      ]
     },
     "execution_count": 12,
     "metadata": {},
     "output_type": "execute_result"
    }
   ],
   "source": [
    "len(combined_articles.drop_duplicates(keep='first'))"
   ]
  },
  {
   "cell_type": "code",
   "execution_count": 13,
   "metadata": {},
   "outputs": [],
   "source": [
    "all_articles = combined_articles.drop_duplicates(keep='first')"
   ]
  },
  {
   "cell_type": "code",
   "execution_count": 14,
   "metadata": {},
   "outputs": [],
   "source": [
    "all_articles['date'] = pd.to_datetime(all_articles['date'])"
   ]
  },
  {
   "cell_type": "code",
   "execution_count": 17,
   "metadata": {},
   "outputs": [],
   "source": [
    "articles_to_drop = all_articles[\n",
    "    all_articles['date'] <= dt.now() - td(days=7)\n",
    "]"
   ]
  },
  {
   "cell_type": "code",
   "execution_count": 18,
   "metadata": {},
   "outputs": [],
   "source": [
    "if articles_to_drop.empty == True:\n",
    "    pass\n",
    "else:\n",
    "    existing_articles_to_drop = pd.read_csv('data/old_articles.csv')\n",
    "    existing_articles_to_drop = existing_articles_to_drop.append(articles_to_drop)\n",
    "    existing_articles_to_drop.to_csv('data/old_articles.csv', index=False)"
   ]
  },
  {
   "cell_type": "code",
   "execution_count": 19,
   "metadata": {},
   "outputs": [],
   "source": [
    "articles_to_continue = all_articles[\n",
    "    all_articles['date'] > dt.now() - td(days=7)\n",
    "]"
   ]
  },
  {
   "cell_type": "code",
   "execution_count": 24,
   "metadata": {},
   "outputs": [],
   "source": [
    "# TMP\n",
    "articles_to_continue['is_new'] = True\n",
    "articles_to_continue['last_date'] = dt.now() - td(minutes=60)"
   ]
  },
  {
   "cell_type": "code",
   "execution_count": 25,
   "metadata": {},
   "outputs": [
    {
     "data": {
      "text/html": [
       "<div>\n",
       "<style scoped>\n",
       "    .dataframe tbody tr th:only-of-type {\n",
       "        vertical-align: middle;\n",
       "    }\n",
       "\n",
       "    .dataframe tbody tr th {\n",
       "        vertical-align: top;\n",
       "    }\n",
       "\n",
       "    .dataframe thead th {\n",
       "        text-align: right;\n",
       "    }\n",
       "</style>\n",
       "<table border=\"1\" class=\"dataframe\">\n",
       "  <thead>\n",
       "    <tr style=\"text-align: right;\">\n",
       "      <th></th>\n",
       "      <th>author</th>\n",
       "      <th>date</th>\n",
       "      <th>lead</th>\n",
       "      <th>title</th>\n",
       "      <th>url</th>\n",
       "      <th>article_id</th>\n",
       "      <th>is_new</th>\n",
       "      <th>content</th>\n",
       "      <th>last_date</th>\n",
       "    </tr>\n",
       "  </thead>\n",
       "  <tbody>\n",
       "    <tr>\n",
       "      <th>0</th>\n",
       "      <td>Piotr Andrusieczko</td>\n",
       "      <td>2019-05-16 16:51:00</td>\n",
       "      <td>W czwartek Rada Najwyższa Ukrainy wyznaczyła i...</td>\n",
       "      <td>Data inauguracji Wołodymyra Zełenskiego w końc...</td>\n",
       "      <td>http://wyborcza.pl/7,75399,24793013,data-inaug...</td>\n",
       "      <td>NaN</td>\n",
       "      <td>True</td>\n",
       "      <td>NaN</td>\n",
       "      <td>2019-05-17 21:02:33.449935</td>\n",
       "    </tr>\n",
       "  </tbody>\n",
       "</table>\n",
       "</div>"
      ],
      "text/plain": [
       "               author                date  \\\n",
       "0  Piotr Andrusieczko 2019-05-16 16:51:00   \n",
       "\n",
       "                                                lead  \\\n",
       "0  W czwartek Rada Najwyższa Ukrainy wyznaczyła i...   \n",
       "\n",
       "                                               title  \\\n",
       "0  Data inauguracji Wołodymyra Zełenskiego w końc...   \n",
       "\n",
       "                                                 url article_id  is_new  \\\n",
       "0  http://wyborcza.pl/7,75399,24793013,data-inaug...        NaN    True   \n",
       "\n",
       "  content                  last_date  \n",
       "0     NaN 2019-05-17 21:02:33.449935  "
      ]
     },
     "execution_count": 25,
     "metadata": {},
     "output_type": "execute_result"
    }
   ],
   "source": [
    "articles_to_continue.head(1)"
   ]
  },
  {
   "cell_type": "code",
   "execution_count": 26,
   "metadata": {},
   "outputs": [],
   "source": [
    "def check_date(last_date, pub_date):\n",
    "    hours_since_pub = (dt.now() - pub_date).total_seconds() / 60 / 60\n",
    "    if hours_since_pub < 2:\n",
    "        interval = 10 # in minutes\n",
    "    elif hours_since_pub < 5:\n",
    "        interval = 15\n",
    "    elif hours_since_pub < 10:\n",
    "        interval = 20\n",
    "    else:\n",
    "        interval = 30\n",
    "    \n",
    "    if dt.now() - td(minutes=interval) < last_date:\n",
    "        return True\n",
    "    else:\n",
    "        return False"
   ]
  },
  {
   "cell_type": "code",
   "execution_count": 27,
   "metadata": {},
   "outputs": [],
   "source": [
    "articles_list = articles_to_continue.to_dict('rows')"
   ]
  },
  {
   "cell_type": "code",
   "execution_count": 47,
   "metadata": {},
   "outputs": [
    {
     "ename": "TypeError",
     "evalue": "write() argument must be str, not dict",
     "output_type": "error",
     "traceback": [
      "\u001b[0;31m---------------------------------------------------------------------------\u001b[0m",
      "\u001b[0;31mTypeError\u001b[0m                                 Traceback (most recent call last)",
      "\u001b[0;32m<ipython-input-47-d8d84f676a64>\u001b[0m in \u001b[0;36m<module>\u001b[0;34m()\u001b[0m\n\u001b[1;32m     24\u001b[0m         f.write({'row': {\n\u001b[1;32m     25\u001b[0m             \u001b[0;34m'comments'\u001b[0m\u001b[0;34m:\u001b[0m \u001b[0ma\u001b[0m\u001b[0;34m[\u001b[0m\u001b[0;34m'comments'\u001b[0m\u001b[0;34m]\u001b[0m\u001b[0;34m,\u001b[0m\u001b[0;34m\u001b[0m\u001b[0;34m\u001b[0m\u001b[0m\n\u001b[0;32m---> 26\u001b[0;31m             \u001b[0;34m'timestamp'\u001b[0m\u001b[0;34m:\u001b[0m \u001b[0mdt\u001b[0m\u001b[0;34m.\u001b[0m\u001b[0mtimestamp\u001b[0m\u001b[0;34m(\u001b[0m\u001b[0mdt\u001b[0m\u001b[0;34m.\u001b[0m\u001b[0mnow\u001b[0m\u001b[0;34m(\u001b[0m\u001b[0;34m)\u001b[0m\u001b[0;34m)\u001b[0m\u001b[0;34m\u001b[0m\u001b[0;34m\u001b[0m\u001b[0m\n\u001b[0m\u001b[1;32m     27\u001b[0m             }\n\u001b[1;32m     28\u001b[0m         })\n",
      "\u001b[0;31mTypeError\u001b[0m: write() argument must be str, not dict"
     ]
    }
   ],
   "source": [
    "container = []\n",
    "for article in articles_list:\n",
    "    article_id = article['url'].split('/')[-1].split(',')[2]\n",
    "    if article['is_new'] == True:\n",
    "        a = scrap_article(chrome=chrome, url=article['url'], first_time=True)\n",
    "        article['article_id'] = article_id\n",
    "        article['content'] = a['content']\n",
    "        article['division'] = a['division']\n",
    "        article['highlight'] = a['highlight']\n",
    "        article['media_type'] = a['media_type']\n",
    "        article['media_src'] = a['media_src']\n",
    "        article['media_desc'] = a['media_desc']\n",
    "        \n",
    "        article['is_new'] = False\n",
    "        \n",
    "    else:\n",
    "        if check_date(article['last_date'], article['date']):\n",
    "            a = scrap_article(chrome=chrome, url=article['url'], first_time=False)\n",
    "        else:\n",
    "            continue\n",
    "    \n",
    "    container.append(article)\n",
    "    with open('data/comments/'+article_id, 'w') as f:\n",
    "        f.write(str({'row': {\n",
    "            'comments': a['comments'],\n",
    "            'timestamp': dt.timestamp(dt.now())\n",
    "            }\n",
    "        }))\n",
    "    break"
   ]
  },
  {
   "cell_type": "code",
   "execution_count": 35,
   "metadata": {},
   "outputs": [],
   "source": [
    "articles_updated = pd.DataFrame(container)"
   ]
  },
  {
   "cell_type": "code",
   "execution_count": 36,
   "metadata": {},
   "outputs": [
    {
     "data": {
      "text/html": [
       "<div>\n",
       "<style scoped>\n",
       "    .dataframe tbody tr th:only-of-type {\n",
       "        vertical-align: middle;\n",
       "    }\n",
       "\n",
       "    .dataframe tbody tr th {\n",
       "        vertical-align: top;\n",
       "    }\n",
       "\n",
       "    .dataframe thead th {\n",
       "        text-align: right;\n",
       "    }\n",
       "</style>\n",
       "<table border=\"1\" class=\"dataframe\">\n",
       "  <thead>\n",
       "    <tr style=\"text-align: right;\">\n",
       "      <th></th>\n",
       "      <th>article_id</th>\n",
       "      <th>author</th>\n",
       "      <th>content</th>\n",
       "      <th>date</th>\n",
       "      <th>division</th>\n",
       "      <th>highlight</th>\n",
       "      <th>is_new</th>\n",
       "      <th>last_date</th>\n",
       "      <th>lead</th>\n",
       "      <th>media_desc</th>\n",
       "      <th>media_src</th>\n",
       "      <th>media_type</th>\n",
       "      <th>title</th>\n",
       "      <th>url</th>\n",
       "    </tr>\n",
       "  </thead>\n",
       "  <tbody>\n",
       "    <tr>\n",
       "      <th>0</th>\n",
       "      <td>24792543</td>\n",
       "      <td>Maciej Stasiński</td>\n",
       "      <td>Na rozmowy mediacyjne do Oslo zaprosił Wenezue...</td>\n",
       "      <td>2019-05-16 15:47:00</td>\n",
       "      <td>Świat</td>\n",
       "      <td>To kolejna próba namówienia obu stron - od trz...</td>\n",
       "      <td>False</td>\n",
       "      <td>2019-05-17 21:02:33.449935</td>\n",
       "      <td>To kolejna próba namówienia obu stron - od trz...</td>\n",
       "      <td>Przywódca wenezuelskiej opozycji, tymczasowy p...</td>\n",
       "      <td>https://bi.im-g.pl/im/41/a4/17/z24792129V,Przy...</td>\n",
       "      <td>image</td>\n",
       "      <td>W Norwegii poufne rokowania z reżimem Nicolása...</td>\n",
       "      <td>http://wyborcza.pl/7,75399,24792543,w-norwegii...</td>\n",
       "    </tr>\n",
       "  </tbody>\n",
       "</table>\n",
       "</div>"
      ],
      "text/plain": [
       "  article_id            author  \\\n",
       "0   24792543  Maciej Stasiński   \n",
       "\n",
       "                                             content                date  \\\n",
       "0  Na rozmowy mediacyjne do Oslo zaprosił Wenezue... 2019-05-16 15:47:00   \n",
       "\n",
       "  division                                          highlight  is_new  \\\n",
       "0    Świat  To kolejna próba namówienia obu stron - od trz...   False   \n",
       "\n",
       "                   last_date  \\\n",
       "0 2019-05-17 21:02:33.449935   \n",
       "\n",
       "                                                lead  \\\n",
       "0  To kolejna próba namówienia obu stron - od trz...   \n",
       "\n",
       "                                          media_desc  \\\n",
       "0  Przywódca wenezuelskiej opozycji, tymczasowy p...   \n",
       "\n",
       "                                           media_src media_type  \\\n",
       "0  https://bi.im-g.pl/im/41/a4/17/z24792129V,Przy...      image   \n",
       "\n",
       "                                               title  \\\n",
       "0  W Norwegii poufne rokowania z reżimem Nicolása...   \n",
       "\n",
       "                                                 url  \n",
       "0  http://wyborcza.pl/7,75399,24792543,w-norwegii...  "
      ]
     },
     "execution_count": 36,
     "metadata": {},
     "output_type": "execute_result"
    }
   ],
   "source": [
    "articles_updated.head()"
   ]
  },
  {
   "cell_type": "code",
   "execution_count": null,
   "metadata": {},
   "outputs": [],
   "source": []
  },
  {
   "cell_type": "code",
   "execution_count": null,
   "metadata": {},
   "outputs": [],
   "source": []
  }
 ],
 "metadata": {
  "kernelspec": {
   "display_name": "Python 3",
   "language": "python",
   "name": "python3"
  },
  "language_info": {
   "codemirror_mode": {
    "name": "ipython",
    "version": 3
   },
   "file_extension": ".py",
   "mimetype": "text/x-python",
   "name": "python",
   "nbconvert_exporter": "python",
   "pygments_lexer": "ipython3",
   "version": "3.7.2"
  }
 },
 "nbformat": 4,
 "nbformat_minor": 2
}
