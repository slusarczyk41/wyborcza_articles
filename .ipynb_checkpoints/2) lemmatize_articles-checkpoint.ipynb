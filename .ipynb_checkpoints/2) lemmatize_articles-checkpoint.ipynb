{
 "cells": [
  {
   "cell_type": "code",
   "execution_count": 1,
   "metadata": {},
   "outputs": [],
   "source": [
    "import morfeusz2\n",
    "import pandas as pd"
   ]
  },
  {
   "cell_type": "code",
   "execution_count": 2,
   "metadata": {},
   "outputs": [],
   "source": [
    "m = morfeusz2.Morfeusz()"
   ]
  },
  {
   "cell_type": "code",
   "execution_count": 3,
   "metadata": {},
   "outputs": [],
   "source": [
    "articles = pd.read_csv('labeling/fresh_data.csv')\\\n",
    "    [['id', 'title', 'highlight', 'content', 'media_desc']]\\"
   ]
  },
  {
   "cell_type": "code",
   "execution_count": 4,
   "metadata": {},
   "outputs": [
    {
     "data": {
      "text/html": [
       "<div>\n",
       "<style scoped>\n",
       "    .dataframe tbody tr th:only-of-type {\n",
       "        vertical-align: middle;\n",
       "    }\n",
       "\n",
       "    .dataframe tbody tr th {\n",
       "        vertical-align: top;\n",
       "    }\n",
       "\n",
       "    .dataframe thead th {\n",
       "        text-align: right;\n",
       "    }\n",
       "</style>\n",
       "<table border=\"1\" class=\"dataframe\">\n",
       "  <thead>\n",
       "    <tr style=\"text-align: right;\">\n",
       "      <th></th>\n",
       "      <th>id</th>\n",
       "      <th>title</th>\n",
       "      <th>highlight</th>\n",
       "      <th>content</th>\n",
       "      <th>media_desc</th>\n",
       "    </tr>\n",
       "  </thead>\n",
       "  <tbody>\n",
       "    <tr>\n",
       "      <th>0</th>\n",
       "      <td>24760624</td>\n",
       "      <td>cyrk zwierzetami gdansku mieszkancy oburzeni b...</td>\n",
       "      <td>mieszkancy osowej chca oknami wystepowal cyrk ...</td>\n",
       "      <td>wtorek gdansku wystapil cyrk zalewski udzialem...</td>\n",
       "      <td>NaN</td>\n",
       "    </tr>\n",
       "  </tbody>\n",
       "</table>\n",
       "</div>"
      ],
      "text/plain": [
       "         id                                              title  \\\n",
       "0  24760624  cyrk zwierzetami gdansku mieszkancy oburzeni b...   \n",
       "\n",
       "                                           highlight  \\\n",
       "0  mieszkancy osowej chca oknami wystepowal cyrk ...   \n",
       "\n",
       "                                             content media_desc  \n",
       "0  wtorek gdansku wystapil cyrk zalewski udzialem...        NaN  "
      ]
     },
     "execution_count": 4,
     "metadata": {},
     "output_type": "execute_result"
    }
   ],
   "source": [
    "articles.head(1)"
   ]
  },
  {
   "cell_type": "code",
   "execution_count": 5,
   "metadata": {},
   "outputs": [
    {
     "name": "stdout",
     "output_type": "stream",
     "text": [
      "<class 'pandas.core.frame.DataFrame'>\n",
      "RangeIndex: 1090 entries, 0 to 1089\n",
      "Data columns (total 5 columns):\n",
      "id            1090 non-null int64\n",
      "title         1089 non-null object\n",
      "highlight     1089 non-null object\n",
      "content       1090 non-null object\n",
      "media_desc    976 non-null object\n",
      "dtypes: int64(1), object(4)\n",
      "memory usage: 42.7+ KB\n"
     ]
    }
   ],
   "source": [
    "articles.info()"
   ]
  },
  {
   "cell_type": "code",
   "execution_count": 6,
   "metadata": {},
   "outputs": [],
   "source": [
    "from unidecode import unidecode"
   ]
  },
  {
   "cell_type": "code",
   "execution_count": 7,
   "metadata": {},
   "outputs": [],
   "source": [
    "def lemmatize_column(column):\n",
    "    lemmatized_column = [] \n",
    "    for record in column.values:\n",
    "        lemmatized_row = []\n",
    "        try:\n",
    "            for word in record.split(' '):\n",
    "                lemmatized_row.append(unidecode(m.analyse(word)[0][2][1].split(':')[0]).lower())\n",
    "            lemmatized_column.append(\" \".join(lemmatized_row))\n",
    "        except:\n",
    "            lemmatized_column.append(None)\n",
    "        \n",
    "    return pd.Series(lemmatized_column, name = column.name)"
   ]
  },
  {
   "cell_type": "code",
   "execution_count": 8,
   "metadata": {},
   "outputs": [],
   "source": [
    "lem_df_list = []\n",
    "for column in [u'content', u'highlight', u'media_desc', u'title']:\n",
    "    lem_df_list.append(lemmatize_column(articles[column]))\n",
    "lem_df_list.append(articles['id'])"
   ]
  },
  {
   "cell_type": "code",
   "execution_count": 9,
   "metadata": {},
   "outputs": [],
   "source": [
    "lem_df = pd.concat(lem_df_list, axis = 1)"
   ]
  },
  {
   "cell_type": "code",
   "execution_count": 10,
   "metadata": {},
   "outputs": [
    {
     "data": {
      "text/html": [
       "<div>\n",
       "<style scoped>\n",
       "    .dataframe tbody tr th:only-of-type {\n",
       "        vertical-align: middle;\n",
       "    }\n",
       "\n",
       "    .dataframe tbody tr th {\n",
       "        vertical-align: top;\n",
       "    }\n",
       "\n",
       "    .dataframe thead th {\n",
       "        text-align: right;\n",
       "    }\n",
       "</style>\n",
       "<table border=\"1\" class=\"dataframe\">\n",
       "  <thead>\n",
       "    <tr style=\"text-align: right;\">\n",
       "      <th></th>\n",
       "      <th>content</th>\n",
       "      <th>highlight</th>\n",
       "      <th>media_desc</th>\n",
       "      <th>title</th>\n",
       "      <th>id</th>\n",
       "    </tr>\n",
       "  </thead>\n",
       "  <tbody>\n",
       "    <tr>\n",
       "      <th>0</th>\n",
       "      <td>wtorek gdansku wystapil cyrk zalewski udzialem...</td>\n",
       "      <td>mieszkancy osowa chca okno wystepowal cyrk zwi...</td>\n",
       "      <td>None</td>\n",
       "      <td>cyrk zwierzetami gdansku mieszkancy oburzony b...</td>\n",
       "      <td>24760624</td>\n",
       "    </tr>\n",
       "    <tr>\n",
       "      <th>1</th>\n",
       "      <td>decyzja rzecznik oznaczac lekarz krzysztof pon...</td>\n",
       "      <td>natalia zaczela rodzic tydzien ciazy porod dzi...</td>\n",
       "      <td>wczesniak inkubator gramowy nadia dany trafic ...</td>\n",
       "      <td>matka obwiniac ginekolog smierc coreczki izba ...</td>\n",
       "      <td>24788214</td>\n",
       "    </tr>\n",
       "    <tr>\n",
       "      <th>2</th>\n",
       "      <td>sobotni wybory australijczyk wybierac czlonkow...</td>\n",
       "      <td>wierzylem cud powiedzial ogloszeniu wynikow pr...</td>\n",
       "      <td>premier australia scott morrison</td>\n",
       "      <td>sensacja australia centroprawica dwoch przegry...</td>\n",
       "      <td>24801435</td>\n",
       "    </tr>\n",
       "    <tr>\n",
       "      <th>3</th>\n",
       "      <td>milosierdzia zrodlem pojednanie taki haslem ob...</td>\n",
       "      <td>ideologia gender propagowac karty lgbt uderzaj...</td>\n",
       "      <td>swieto milosierdzia bozego sanktuarium lagiewn...</td>\n",
       "      <td>abp jedraszewski pedofilia kosciele musiec pot...</td>\n",
       "      <td>24708858</td>\n",
       "    </tr>\n",
       "    <tr>\n",
       "      <th>4</th>\n",
       "      <td>drugi polfinal konkurs piosenka eurowizja dobr...</td>\n",
       "      <td>czwartkowy polfinal eurowizja mogl wydawac mal...</td>\n",
       "      <td>sergey lazarev</td>\n",
       "      <td>drugi polfinal eurowizja wyzszym poziom stado ...</td>\n",
       "      <td>24794052</td>\n",
       "    </tr>\n",
       "  </tbody>\n",
       "</table>\n",
       "</div>"
      ],
      "text/plain": [
       "                                             content  \\\n",
       "0  wtorek gdansku wystapil cyrk zalewski udzialem...   \n",
       "1  decyzja rzecznik oznaczac lekarz krzysztof pon...   \n",
       "2  sobotni wybory australijczyk wybierac czlonkow...   \n",
       "3  milosierdzia zrodlem pojednanie taki haslem ob...   \n",
       "4  drugi polfinal konkurs piosenka eurowizja dobr...   \n",
       "\n",
       "                                           highlight  \\\n",
       "0  mieszkancy osowa chca okno wystepowal cyrk zwi...   \n",
       "1  natalia zaczela rodzic tydzien ciazy porod dzi...   \n",
       "2  wierzylem cud powiedzial ogloszeniu wynikow pr...   \n",
       "3  ideologia gender propagowac karty lgbt uderzaj...   \n",
       "4  czwartkowy polfinal eurowizja mogl wydawac mal...   \n",
       "\n",
       "                                          media_desc  \\\n",
       "0                                               None   \n",
       "1  wczesniak inkubator gramowy nadia dany trafic ...   \n",
       "2                   premier australia scott morrison   \n",
       "3  swieto milosierdzia bozego sanktuarium lagiewn...   \n",
       "4                                     sergey lazarev   \n",
       "\n",
       "                                               title        id  \n",
       "0  cyrk zwierzetami gdansku mieszkancy oburzony b...  24760624  \n",
       "1  matka obwiniac ginekolog smierc coreczki izba ...  24788214  \n",
       "2  sensacja australia centroprawica dwoch przegry...  24801435  \n",
       "3  abp jedraszewski pedofilia kosciele musiec pot...  24708858  \n",
       "4  drugi polfinal eurowizja wyzszym poziom stado ...  24794052  "
      ]
     },
     "execution_count": 10,
     "metadata": {},
     "output_type": "execute_result"
    }
   ],
   "source": [
    "lem_df.head(5)"
   ]
  },
  {
   "cell_type": "code",
   "execution_count": 11,
   "metadata": {},
   "outputs": [],
   "source": [
    "from collections import Counter"
   ]
  },
  {
   "cell_type": "code",
   "execution_count": 30,
   "metadata": {},
   "outputs": [],
   "source": [
    "lem_df = lem_df.fillna('')"
   ]
  },
  {
   "cell_type": "code",
   "execution_count": 31,
   "metadata": {},
   "outputs": [],
   "source": [
    "bag_of_records = lem_df['title'] + ' ' + lem_df['highlight'] + ' ' + lem_df['content'] + ' ' + lem_df['media_desc']\n",
    "bag_of_words = [x for x in [row for row in bag_of_records] for x in x.split(' ')]"
   ]
  },
  {
   "cell_type": "code",
   "execution_count": 33,
   "metadata": {},
   "outputs": [],
   "source": [
    "idf_dict = {word:freq for word, freq in dict(Counter(bag_of_words)).items() if freq > 2}"
   ]
  },
  {
   "cell_type": "code",
   "execution_count": 35,
   "metadata": {},
   "outputs": [],
   "source": [
    "from json import dump"
   ]
  },
  {
   "cell_type": "code",
   "execution_count": 36,
   "metadata": {},
   "outputs": [],
   "source": [
    "with open('labeling/idf_dict', 'w') as f:\n",
    "    dump(idf_dict, f)"
   ]
  },
  {
   "cell_type": "code",
   "execution_count": 37,
   "metadata": {},
   "outputs": [],
   "source": [
    "lem_df.to_csv('labeling/lemmatized_articles.csv', index = False)"
   ]
  },
  {
   "cell_type": "code",
   "execution_count": null,
   "metadata": {},
   "outputs": [],
   "source": []
  }
 ],
 "metadata": {
  "kernelspec": {
   "display_name": "Python 2",
   "language": "python",
   "name": "python2"
  },
  "language_info": {
   "codemirror_mode": {
    "name": "ipython",
    "version": 3
   },
   "file_extension": ".py",
   "mimetype": "text/x-python",
   "name": "python",
   "nbconvert_exporter": "python",
   "pygments_lexer": "ipython3",
   "version": "3.7.2"
  }
 },
 "nbformat": 4,
 "nbformat_minor": 2
}
