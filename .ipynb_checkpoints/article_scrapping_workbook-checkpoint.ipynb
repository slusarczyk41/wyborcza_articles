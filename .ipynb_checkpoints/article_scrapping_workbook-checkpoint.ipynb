{
 "cells": [
  {
   "cell_type": "code",
   "execution_count": 23,
   "metadata": {},
   "outputs": [],
   "source": [
    "from selenium import webdriver\n",
    "from time import sleep"
   ]
  },
  {
   "cell_type": "code",
   "execution_count": 24,
   "metadata": {},
   "outputs": [],
   "source": [
    "chrome = webdriver.Chrome()"
   ]
  },
  {
   "cell_type": "code",
   "execution_count": 25,
   "metadata": {},
   "outputs": [],
   "source": [
    "chrome.get(\n",
    "    url = 'http://wyborcza.pl/7,75398,24789120,proces-o-zmiany-w-muzeum-ii-wojny-wladzom-nie-spodobal-sie.html'\n",
    ")\n",
    "\n",
    "title = chrome.find_element_by_xpath('//*[@id=\"art-header\"]/div[2]/h1').text"
   ]
  },
  {
   "cell_type": "code",
   "execution_count": 26,
   "metadata": {},
   "outputs": [],
   "source": [
    "img_src = chrome\\\n",
    "    .find_element_by_xpath('//*[@id=\"gazeta_article_image\"]/div[1]/img')\\\n",
    "    .get_attribute(\"src\")\n",
    "\n",
    "img_desc = chrome\\\n",
    "    .find_element_by_xpath('//*[@id=\"gazeta_article_image\"]/div[1]/img')\\\n",
    "    .get_attribute(\"alt\")"
   ]
  },
  {
   "cell_type": "code",
   "execution_count": 27,
   "metadata": {},
   "outputs": [],
   "source": [
    "highlight = chrome\\\n",
    "    .find_element_by_xpath('//*[@id=\"pagetype_art\"]/div[4]/div[2]/section/article/section')\\\n",
    "    .text"
   ]
  },
  {
   "cell_type": "code",
   "execution_count": 28,
   "metadata": {},
   "outputs": [],
   "source": [
    "article = \"\"\n",
    "for section in chrome.find_elements_by_class_name('art_paragraph'):\n",
    "    article += section.text"
   ]
  },
  {
   "cell_type": "code",
   "execution_count": 29,
   "metadata": {},
   "outputs": [],
   "source": [
    "paywall = len(chrome\\\n",
    "            .find_elements_by_class_name('fade-out-article')) > 0"
   ]
  },
  {
   "cell_type": "code",
   "execution_count": 30,
   "metadata": {},
   "outputs": [
    {
     "name": "stdout",
     "output_type": "stream",
     "text": [
      "xD\n"
     ]
    }
   ],
   "source": [
    "try:\n",
    "    sleep(1)\n",
    "    chrome\\\n",
    "        .find_element_by_xpath('//*[@id=\"closeDDBox\"]')\\\n",
    "        .click()\n",
    "except:\n",
    "    print('xD')"
   ]
  },
  {
   "cell_type": "code",
   "execution_count": 31,
   "metadata": {},
   "outputs": [
    {
     "ename": "ElementNotVisibleException",
     "evalue": "Message: element not interactable\n  (Session info: chrome=73.0.3683.103)\n  (Driver info: chromedriver=73.0.3683.68 (47787ec04b6e38e22703e856e101e840b65afe72),platform=Linux 4.15.0-47-generic x86_64)\n",
     "output_type": "error",
     "traceback": [
      "\u001b[0;31m---------------------------------------------------------------------------\u001b[0m",
      "\u001b[0;31mElementNotVisibleException\u001b[0m                Traceback (most recent call last)",
      "\u001b[0;32m<ipython-input-31-b2d98168dfb5>\u001b[0m in \u001b[0;36m<module>\u001b[0;34m()\u001b[0m\n\u001b[1;32m      4\u001b[0m     \u001b[0mchrome\u001b[0m\u001b[0;34m.\u001b[0m\u001b[0mexecute_script\u001b[0m\u001b[0;34m(\u001b[0m\u001b[0;34m\"arguments[0].scrollIntoView();\"\u001b[0m\u001b[0;34m,\u001b[0m \u001b[0mmore\u001b[0m\u001b[0;34m)\u001b[0m\u001b[0;34m\u001b[0m\u001b[0;34m\u001b[0m\u001b[0m\n\u001b[1;32m      5\u001b[0m     \u001b[0mchrome\u001b[0m\u001b[0;34m.\u001b[0m\u001b[0mexecute_script\u001b[0m\u001b[0;34m(\u001b[0m\u001b[0;34m\"window.scrollBy(0, -50);\"\u001b[0m\u001b[0;34m)\u001b[0m\u001b[0;34m\u001b[0m\u001b[0;34m\u001b[0m\u001b[0m\n\u001b[0;32m----> 6\u001b[0;31m     \u001b[0mmore\u001b[0m\u001b[0;34m.\u001b[0m\u001b[0mclick\u001b[0m\u001b[0;34m(\u001b[0m\u001b[0;34m)\u001b[0m\u001b[0;34m\u001b[0m\u001b[0;34m\u001b[0m\u001b[0m\n\u001b[0m\u001b[1;32m      7\u001b[0m \u001b[0;32mexcept\u001b[0m \u001b[0mValueError\u001b[0m\u001b[0;34m:\u001b[0m\u001b[0;34m\u001b[0m\u001b[0;34m\u001b[0m\u001b[0m\n\u001b[1;32m      8\u001b[0m     \u001b[0mprint\u001b[0m\u001b[0;34m(\u001b[0m\u001b[0mValueError\u001b[0m\u001b[0;34m)\u001b[0m\u001b[0;34m\u001b[0m\u001b[0;34m\u001b[0m\u001b[0m\n",
      "\u001b[0;32m~/anaconda3/lib/python3.7/site-packages/selenium/webdriver/remote/webelement.py\u001b[0m in \u001b[0;36mclick\u001b[0;34m(self)\u001b[0m\n\u001b[1;32m     78\u001b[0m     \u001b[0;32mdef\u001b[0m \u001b[0mclick\u001b[0m\u001b[0;34m(\u001b[0m\u001b[0mself\u001b[0m\u001b[0;34m)\u001b[0m\u001b[0;34m:\u001b[0m\u001b[0;34m\u001b[0m\u001b[0;34m\u001b[0m\u001b[0m\n\u001b[1;32m     79\u001b[0m         \u001b[0;34m\"\"\"Clicks the element.\"\"\"\u001b[0m\u001b[0;34m\u001b[0m\u001b[0;34m\u001b[0m\u001b[0m\n\u001b[0;32m---> 80\u001b[0;31m         \u001b[0mself\u001b[0m\u001b[0;34m.\u001b[0m\u001b[0m_execute\u001b[0m\u001b[0;34m(\u001b[0m\u001b[0mCommand\u001b[0m\u001b[0;34m.\u001b[0m\u001b[0mCLICK_ELEMENT\u001b[0m\u001b[0;34m)\u001b[0m\u001b[0;34m\u001b[0m\u001b[0;34m\u001b[0m\u001b[0m\n\u001b[0m\u001b[1;32m     81\u001b[0m \u001b[0;34m\u001b[0m\u001b[0m\n\u001b[1;32m     82\u001b[0m     \u001b[0;32mdef\u001b[0m \u001b[0msubmit\u001b[0m\u001b[0;34m(\u001b[0m\u001b[0mself\u001b[0m\u001b[0;34m)\u001b[0m\u001b[0;34m:\u001b[0m\u001b[0;34m\u001b[0m\u001b[0;34m\u001b[0m\u001b[0m\n",
      "\u001b[0;32m~/anaconda3/lib/python3.7/site-packages/selenium/webdriver/remote/webelement.py\u001b[0m in \u001b[0;36m_execute\u001b[0;34m(self, command, params)\u001b[0m\n\u001b[1;32m    631\u001b[0m             \u001b[0mparams\u001b[0m \u001b[0;34m=\u001b[0m \u001b[0;34m{\u001b[0m\u001b[0;34m}\u001b[0m\u001b[0;34m\u001b[0m\u001b[0;34m\u001b[0m\u001b[0m\n\u001b[1;32m    632\u001b[0m         \u001b[0mparams\u001b[0m\u001b[0;34m[\u001b[0m\u001b[0;34m'id'\u001b[0m\u001b[0;34m]\u001b[0m \u001b[0;34m=\u001b[0m \u001b[0mself\u001b[0m\u001b[0;34m.\u001b[0m\u001b[0m_id\u001b[0m\u001b[0;34m\u001b[0m\u001b[0;34m\u001b[0m\u001b[0m\n\u001b[0;32m--> 633\u001b[0;31m         \u001b[0;32mreturn\u001b[0m \u001b[0mself\u001b[0m\u001b[0;34m.\u001b[0m\u001b[0m_parent\u001b[0m\u001b[0;34m.\u001b[0m\u001b[0mexecute\u001b[0m\u001b[0;34m(\u001b[0m\u001b[0mcommand\u001b[0m\u001b[0;34m,\u001b[0m \u001b[0mparams\u001b[0m\u001b[0;34m)\u001b[0m\u001b[0;34m\u001b[0m\u001b[0;34m\u001b[0m\u001b[0m\n\u001b[0m\u001b[1;32m    634\u001b[0m \u001b[0;34m\u001b[0m\u001b[0m\n\u001b[1;32m    635\u001b[0m     \u001b[0;32mdef\u001b[0m \u001b[0mfind_element\u001b[0m\u001b[0;34m(\u001b[0m\u001b[0mself\u001b[0m\u001b[0;34m,\u001b[0m \u001b[0mby\u001b[0m\u001b[0;34m=\u001b[0m\u001b[0mBy\u001b[0m\u001b[0;34m.\u001b[0m\u001b[0mID\u001b[0m\u001b[0;34m,\u001b[0m \u001b[0mvalue\u001b[0m\u001b[0;34m=\u001b[0m\u001b[0;32mNone\u001b[0m\u001b[0;34m)\u001b[0m\u001b[0;34m:\u001b[0m\u001b[0;34m\u001b[0m\u001b[0;34m\u001b[0m\u001b[0m\n",
      "\u001b[0;32m~/anaconda3/lib/python3.7/site-packages/selenium/webdriver/remote/webdriver.py\u001b[0m in \u001b[0;36mexecute\u001b[0;34m(self, driver_command, params)\u001b[0m\n\u001b[1;32m    319\u001b[0m         \u001b[0mresponse\u001b[0m \u001b[0;34m=\u001b[0m \u001b[0mself\u001b[0m\u001b[0;34m.\u001b[0m\u001b[0mcommand_executor\u001b[0m\u001b[0;34m.\u001b[0m\u001b[0mexecute\u001b[0m\u001b[0;34m(\u001b[0m\u001b[0mdriver_command\u001b[0m\u001b[0;34m,\u001b[0m \u001b[0mparams\u001b[0m\u001b[0;34m)\u001b[0m\u001b[0;34m\u001b[0m\u001b[0;34m\u001b[0m\u001b[0m\n\u001b[1;32m    320\u001b[0m         \u001b[0;32mif\u001b[0m \u001b[0mresponse\u001b[0m\u001b[0;34m:\u001b[0m\u001b[0;34m\u001b[0m\u001b[0;34m\u001b[0m\u001b[0m\n\u001b[0;32m--> 321\u001b[0;31m             \u001b[0mself\u001b[0m\u001b[0;34m.\u001b[0m\u001b[0merror_handler\u001b[0m\u001b[0;34m.\u001b[0m\u001b[0mcheck_response\u001b[0m\u001b[0;34m(\u001b[0m\u001b[0mresponse\u001b[0m\u001b[0;34m)\u001b[0m\u001b[0;34m\u001b[0m\u001b[0;34m\u001b[0m\u001b[0m\n\u001b[0m\u001b[1;32m    322\u001b[0m             response['value'] = self._unwrap_value(\n\u001b[1;32m    323\u001b[0m                 response.get('value', None))\n",
      "\u001b[0;32m~/anaconda3/lib/python3.7/site-packages/selenium/webdriver/remote/errorhandler.py\u001b[0m in \u001b[0;36mcheck_response\u001b[0;34m(self, response)\u001b[0m\n\u001b[1;32m    240\u001b[0m                 \u001b[0malert_text\u001b[0m \u001b[0;34m=\u001b[0m \u001b[0mvalue\u001b[0m\u001b[0;34m[\u001b[0m\u001b[0;34m'alert'\u001b[0m\u001b[0;34m]\u001b[0m\u001b[0;34m.\u001b[0m\u001b[0mget\u001b[0m\u001b[0;34m(\u001b[0m\u001b[0;34m'text'\u001b[0m\u001b[0;34m)\u001b[0m\u001b[0;34m\u001b[0m\u001b[0;34m\u001b[0m\u001b[0m\n\u001b[1;32m    241\u001b[0m             \u001b[0;32mraise\u001b[0m \u001b[0mexception_class\u001b[0m\u001b[0;34m(\u001b[0m\u001b[0mmessage\u001b[0m\u001b[0;34m,\u001b[0m \u001b[0mscreen\u001b[0m\u001b[0;34m,\u001b[0m \u001b[0mstacktrace\u001b[0m\u001b[0;34m,\u001b[0m \u001b[0malert_text\u001b[0m\u001b[0;34m)\u001b[0m\u001b[0;34m\u001b[0m\u001b[0;34m\u001b[0m\u001b[0m\n\u001b[0;32m--> 242\u001b[0;31m         \u001b[0;32mraise\u001b[0m \u001b[0mexception_class\u001b[0m\u001b[0;34m(\u001b[0m\u001b[0mmessage\u001b[0m\u001b[0;34m,\u001b[0m \u001b[0mscreen\u001b[0m\u001b[0;34m,\u001b[0m \u001b[0mstacktrace\u001b[0m\u001b[0;34m)\u001b[0m\u001b[0;34m\u001b[0m\u001b[0;34m\u001b[0m\u001b[0m\n\u001b[0m\u001b[1;32m    243\u001b[0m \u001b[0;34m\u001b[0m\u001b[0m\n\u001b[1;32m    244\u001b[0m     \u001b[0;32mdef\u001b[0m \u001b[0m_value_or_default\u001b[0m\u001b[0;34m(\u001b[0m\u001b[0mself\u001b[0m\u001b[0;34m,\u001b[0m \u001b[0mobj\u001b[0m\u001b[0;34m,\u001b[0m \u001b[0mkey\u001b[0m\u001b[0;34m,\u001b[0m \u001b[0mdefault\u001b[0m\u001b[0;34m)\u001b[0m\u001b[0;34m:\u001b[0m\u001b[0;34m\u001b[0m\u001b[0;34m\u001b[0m\u001b[0m\n",
      "\u001b[0;31mElementNotVisibleException\u001b[0m: Message: element not interactable\n  (Session info: chrome=73.0.3683.103)\n  (Driver info: chromedriver=73.0.3683.68 (47787ec04b6e38e22703e856e101e840b65afe72),platform=Linux 4.15.0-47-generic x86_64)\n"
     ]
    }
   ],
   "source": [
    "try:\n",
    "    sleep(1)\n",
    "    more = chrome\\\n",
    "        .find_element_by_xpath('//*[@id=\"pagetype_art\"]/main/div/section/div[2]/div[2]/section/footer/div/p/a')\n",
    "    chrome.execute_script(\"arguments[0].scrollIntoView();\", more)\n",
    "    chrome.execute_script(\"window.scrollBy(0, -50);\")\n",
    "    more.click()\n",
    "except ValueError:\n",
    "    print('e')"
   ]
  },
  {
   "cell_type": "code",
   "execution_count": null,
   "metadata": {},
   "outputs": [],
   "source": [
    "for showSubcommentsButton in chrome\\\n",
    "    .find_element_by_xpath('//*[@id=\"pagetype_art\"]/main/div/section/div[2]/div[2]/section/section')\\\n",
    "    .find_elements_by_class_name('cResShow'):\n",
    "    \n",
    "    chrome.execute_script(\"arguments[0].scrollIntoView();\", showSubcommentsButton)\n",
    "    chrome.execute_script(\"window.scrollBy(0, -50);\")\n",
    "    showSubcommentsButton.click()"
   ]
  },
  {
   "cell_type": "code",
   "execution_count": null,
   "metadata": {},
   "outputs": [],
   "source": [
    "allComments = []\n",
    "for mainCommentContainer in chrome\\\n",
    "    .find_element_by_xpath('//*[@id=\"pagetype_art\"]/main/div/section/div[2]/div[2]/section/section')\\\n",
    "    .find_elements_by_class_name('cResHidden'):\n",
    "    cContainer = {\n",
    "        'main_comment': {},\n",
    "        'sub_comments': []\n",
    "    }\n",
    "    \n",
    "    cContainer['main_comment']['id'] = mainCommentContainer\\\n",
    "                                        .get_attribute(\"itemid\")\\\n",
    "                                        .split(':')[-1]\n",
    "    cContainer['main_comment']['author'] = mainCommentContainer\\\n",
    "                                        .find_elements_by_class_name('cName')[0]\\\n",
    "                                        .text\n",
    "    cContainer['main_comment']['date'] = mainCommentContainer\\\n",
    "                                        .find_elements_by_class_name('cDate')[0]\\\n",
    "                                        .text\n",
    "    cContainer['main_comment']['body'] = mainCommentContainer\\\n",
    "                                        .find_elements_by_class_name('cBody')[0]\\\n",
    "                                        .text\\\n",
    "                                        .replace(u'\\n', ' ')\n",
    "    cContainer['main_comment']['upvotes'] = mainCommentContainer\\\n",
    "                                        .find_element_by_xpath('//span[@itemprop=\"upvoteCount\"]')\\\n",
    "                                        .text\n",
    "    cContainer['main_comment']['downvotes'] = mainCommentContainer\\\n",
    "                                        .find_element_by_xpath('//span[@itemprop=\"downvoteCount\"]')\\\n",
    "                                        .text\n",
    "    if 'flag_SUSPICIOUS' in mainCommentContainer.get_attribute(\"class\"):\n",
    "        cContainer['main_comment']['suspicious'] = True\n",
    "    else:\n",
    "        cContainer['main_comment']['suspicious'] = False\n",
    "    \n",
    "    for subComment in mainCommentContainer\\\n",
    "                        .find_elements_by_class_name('cRow'):\n",
    "        tmpCommentContainer = {}\n",
    "        tmpCommentContainer['id'] = subComment\\\n",
    "                                        .get_attribute(\"itemid\")\\\n",
    "                                        .split(':')[-1]\n",
    "        tmpCommentContainer['author'] = subComment\\\n",
    "                                        .find_element_by_class_name('cName').text\n",
    "        tmpCommentContainer['date'] = subComment\\\n",
    "                                        .find_element_by_class_name('cDate').text\n",
    "        try:\n",
    "            tmpCommentContainer['reply_to'] = subComment\\\n",
    "                                            .find_element_by_class_name('cBody')\\\n",
    "                                            .text\\\n",
    "                                            .split('\\n')[0]\\\n",
    "                                            .replace('@', '')\n",
    "            tmpCommentContainer['body'] = subComment\\\n",
    "                                            .find_element_by_class_name('cBody')\\\n",
    "                                            .text\\\n",
    "                                            .split('\\n')[1]\n",
    "        except IndexError:\n",
    "            tmpCommentContainer['body'] = subComment\\\n",
    "                                            .find_element_by_class_name('cBody')\\\n",
    "                                            .text\n",
    "        tmpCommentContainer['upvotes'] = subComment\\\n",
    "                                            .find_element_by_class_name('cVoteUp')\\\n",
    "                                            .text\n",
    "        tmpCommentContainer['downvotes'] = subComment\\\n",
    "                                            .find_element_by_class_name('cVoteDown')\\\n",
    "                                            .text\n",
    "        if 'flag_SUSPICIOUS' in subComment.get_attribute(\"class\"):\n",
    "            tmpCommentContainer['suspicious'] = True\n",
    "        else:\n",
    "            tmpCommentContainer['suspicious'] = False\n",
    "\n",
    "\n",
    "        cContainer['sub_comments'].append(tmpCommentContainer)\n",
    "\n",
    "    allComments.append(cContainer)\n"
   ]
  },
  {
   "cell_type": "code",
   "execution_count": 22,
   "metadata": {},
   "outputs": [
    {
     "data": {
      "text/plain": [
       "'pw63 15.05.2019, 21:32\\nSzamaniak...\\n1\\n0\\nOdpowiedz'"
      ]
     },
     "execution_count": 22,
     "metadata": {},
     "output_type": "execute_result"
    }
   ],
   "source": [
    "mainCommentContainer.text"
   ]
  },
  {
   "cell_type": "code",
   "execution_count": 21,
   "metadata": {},
   "outputs": [
    {
     "ename": "IndexError",
     "evalue": "list index out of range",
     "output_type": "error",
     "traceback": [
      "\u001b[0;31m---------------------------------------------------------------------------\u001b[0m",
      "\u001b[0;31mIndexError\u001b[0m                                Traceback (most recent call last)",
      "\u001b[0;32m<ipython-input-21-254245482e02>\u001b[0m in \u001b[0;36m<module>\u001b[0;34m()\u001b[0m\n\u001b[0;32m----> 1\u001b[0;31m \u001b[0mmainCommentContainer\u001b[0m\u001b[0;34m.\u001b[0m\u001b[0mfind_elements_by_class_name\u001b[0m\u001b[0;34m(\u001b[0m\u001b[0;34m'cRow'\u001b[0m\u001b[0;34m)\u001b[0m\u001b[0;34m[\u001b[0m\u001b[0;36m0\u001b[0m\u001b[0;34m]\u001b[0m\u001b[0;34m\u001b[0m\u001b[0;34m\u001b[0m\u001b[0m\n\u001b[0m",
      "\u001b[0;31mIndexError\u001b[0m: list index out of range"
     ]
    }
   ],
   "source": [
    "mainCommentContainer.find_elements_by_class_name('cRow')[0]"
   ]
  },
  {
   "cell_type": "code",
   "execution_count": null,
   "metadata": {},
   "outputs": [],
   "source": []
  },
  {
   "cell_type": "code",
   "execution_count": 204,
   "metadata": {},
   "outputs": [
    {
     "data": {
      "text/plain": [
       "36"
      ]
     },
     "execution_count": 204,
     "metadata": {},
     "output_type": "execute_result"
    }
   ],
   "source": [
    "len(allComments)"
   ]
  },
  {
   "cell_type": "code",
   "execution_count": 205,
   "metadata": {},
   "outputs": [
    {
     "data": {
      "text/plain": [
       "{'main_comment': {'id': '101589806',\n",
       "  'author': 'haszysz.com',\n",
       "  'date': '13.05.2019, 08:02',\n",
       "  'body': 'Bardzo dobrze! Trzeba się bronić przed próbami wyłudzenia.  youtube.com/watch?v=cEPN3sBerXs  Teraz czekam na minusy.',\n",
       "  'upvotes': '91',\n",
       "  'downvotes': '9',\n",
       "  'suspicious': False},\n",
       " 'sub_comments': [{'id': '101589833',\n",
       "   'author': 'believer',\n",
       "   'date': '13.05.2019, 08:12',\n",
       "   'reply_to': 'haszysz.com',\n",
       "   'body': 'Polityczne trzymanie się nogawki USA tak się właśnie skończy. Jak nie, to parę przyjacielskich sankcji położy nas na łopatki. Z drugiej strony, jakże ochoczo na Podlasiu i w Galicji ludzie rzucali się na mienie Żydów, często pomagając im w wyprowadzce?',\n",
       "   'upvotes': '26',\n",
       "   'downvotes': '0',\n",
       "   'suspicious': False},\n",
       "  {'id': '101589899',\n",
       "   'author': 'wojciech_u',\n",
       "   'date': '13.05.2019, 08:40',\n",
       "   'reply_to': 'haszysz.com',\n",
       "   'body': 'Najarałeś się? Przyznaj chociaż, dobry towar?',\n",
       "   'upvotes': '6',\n",
       "   'downvotes': '6',\n",
       "   'suspicious': False},\n",
       "  {'id': '101589912',\n",
       "   'author': 'slain',\n",
       "   'date': '13.05.2019, 08:43',\n",
       "   'reply_to': 'haszysz.com',\n",
       "   'body': 'Minusy? Kubeł i tyle ...',\n",
       "   'upvotes': '5',\n",
       "   'downvotes': '5',\n",
       "   'suspicious': True},\n",
       "  {'id': '101589929',\n",
       "   'author': 'mini1452153436705konto',\n",
       "   'date': '13.05.2019, 08:50',\n",
       "   'reply_to': 'haszysz.com',\n",
       "   'body': 'Za co miał bym Ci dawać minus ? Wyłudzenia trzeba tępić. Lecz sprawa nie jest taka prosta jakby się mogło zdawać. Jeżeli ktoś zwyczajne zawłaszczył czyli ukradł drugiemu człowiekowi, bez względu czy to jest Żyd, Arab czy Polak mienie, to słuszne jest że okradziony upomina się o zwrot. Problem jest taki, że minęło już bardzo dużo czasu. Umarli prawie w całości świadkowie, okradzeni i złodzieje. Sprawa więc dotyczy ich spadkobierców. Drugi aspekt jest taki, że mogło by się okazać, że trzeba oddać 1/4 jakiegoś miasta. Wiadomo, że do Żydów należało mnóstwo kamienic, fabryk i innych budynków. Jestem pewien całkowicie, że wykorzystując okazję wielu Żydów starać się będzie o zwrot mienia które im się nie należy, to trzeba tępić jak najbardziej. Tylko udowodnienie ponad wszelką wątpliwość własności może być podstawą do zwrotu. Musi być przy tym dogłębna analiza prawna przeprowadzona przez dobrych prawników a nie nieudaczników typu przyłębska i jej podobni.',\n",
       "   'upvotes': '16',\n",
       "   'downvotes': '2',\n",
       "   'suspicious': False},\n",
       "  {'id': '101589962',\n",
       "   'author': 'kapitan.kirk',\n",
       "   'date': '13.05.2019, 09:00',\n",
       "   'reply_to': 'mini1452153436705konto',\n",
       "   'body': 'Ale przecież tu nie chodzi o oddawanie mienia spadkobiercom - to się wszak odbywa bez przeszkód od prawie 30 lat i nikt z tym nie ma problemu. Chodzi o to, że organizacje żydowskie z USA i Izraela roszczą sobie prawa do majątków po wymordowanych obywatelach RP pochodzenia żydowskiego, który nie pozostawili spadkobierców - chociaż organizacje te ani nich członkowie nigdy nie mieli tych majątków, nie są ich spadkobiercami i w ogóle nic wspólnego z pomordowanymi nie mieli (chyba że w sensie hitlerowskich ustaw norymberskich).',\n",
       "   'upvotes': '12',\n",
       "   'downvotes': '2',\n",
       "   'suspicious': True},\n",
       "  {'id': '101590095',\n",
       "   'author': 'wh2015',\n",
       "   'date': '13.05.2019, 09:40',\n",
       "   'reply_to': 'haszysz.com',\n",
       "   'body': 'Kosz na smiecie. Persona non grata!',\n",
       "   'upvotes': '2',\n",
       "   'downvotes': '4',\n",
       "   'suspicious': True},\n",
       "  {'id': '101590202',\n",
       "   'author': 'mini1452153436705konto',\n",
       "   'date': '13.05.2019, 10:05',\n",
       "   'reply_to': 'kapitan.kirk',\n",
       "   'body': 'To właśnie miałem na myśli. Takie działania ze strony Żydów to właśnie będzie wyłudzenie.',\n",
       "   'upvotes': '5',\n",
       "   'downvotes': '0',\n",
       "   'suspicious': False}]}"
      ]
     },
     "execution_count": 205,
     "metadata": {},
     "output_type": "execute_result"
    }
   ],
   "source": [
    "allComments[2]"
   ]
  },
  {
   "cell_type": "code",
   "execution_count": null,
   "metadata": {},
   "outputs": [],
   "source": []
  },
  {
   "cell_type": "code",
   "execution_count": 129,
   "metadata": {},
   "outputs": [],
   "source": [
    "chrome.close()"
   ]
  },
  {
   "cell_type": "code",
   "execution_count": null,
   "metadata": {},
   "outputs": [],
   "source": []
  }
 ],
 "metadata": {
  "kernelspec": {
   "display_name": "Python 3",
   "language": "python",
   "name": "python3"
  },
  "language_info": {
   "codemirror_mode": {
    "name": "ipython",
    "version": 3
   },
   "file_extension": ".py",
   "mimetype": "text/x-python",
   "name": "python",
   "nbconvert_exporter": "python",
   "pygments_lexer": "ipython3",
   "version": "3.7.2"
  }
 },
 "nbformat": 4,
 "nbformat_minor": 2
}
