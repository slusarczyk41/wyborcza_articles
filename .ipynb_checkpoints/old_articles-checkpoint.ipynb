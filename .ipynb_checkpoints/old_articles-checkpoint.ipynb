{
 "cells": [
  {
   "cell_type": "code",
   "execution_count": 1,
   "metadata": {},
   "outputs": [],
   "source": [
    "from selenium import webdriver\n",
    "import pandas as pd\n",
    "from scrap_article_current_tab import scrap_article\n",
    "\n",
    "from datetime import datetime as dt\n",
    "from datetime import timedelta as td\n",
    "from os import makedirs\n",
    "from os.path import exists\n",
    "from time import sleep\n",
    "from json import loads"
   ]
  },
  {
   "cell_type": "code",
   "execution_count": 2,
   "metadata": {},
   "outputs": [],
   "source": [
    "now = dt.now()\n",
    "year = now.year\n",
    "month = now.month\n",
    "day = now.day\n",
    "ts = str(int(round(now.timestamp())))"
   ]
  },
  {
   "cell_type": "code",
   "execution_count": 3,
   "metadata": {},
   "outputs": [],
   "source": [
    "options = webdriver.ChromeOptions()\n",
    "options.add_argument('--headless')\n",
    "chrome = webdriver.Chrome(options=options)"
   ]
  },
  {
   "cell_type": "code",
   "execution_count": 3,
   "metadata": {},
   "outputs": [],
   "source": [
    "# chrome = webdriver.Chrome()"
   ]
  },
  {
   "cell_type": "code",
   "execution_count": 4,
   "metadata": {},
   "outputs": [],
   "source": [
    "chrome.get(url = 'http://wyborcza.pl/0,75248.html?str=100_23719317')"
   ]
  },
  {
   "cell_type": "code",
   "execution_count": 5,
   "metadata": {},
   "outputs": [],
   "source": [
    "sleep(10)"
   ]
  },
  {
   "cell_type": "code",
   "execution_count": 6,
   "metadata": {},
   "outputs": [],
   "source": [
    "# try to click rodo (first click opens sometimes an ad also)\n",
    "for i in range(3):\n",
    "    try:\n",
    "        sleep(3)\n",
    "        chrome.find_element_by_xpath('//*[@id=\"rodoNotificationWrapper\"]/div[1]/div/p[2]')\\\n",
    "            .click()\n",
    "    except:\n",
    "        pass"
   ]
  },
  {
   "cell_type": "code",
   "execution_count": 7,
   "metadata": {},
   "outputs": [],
   "source": [
    "# close new window if exists\n",
    "try:\n",
    "    chrome.switch_to.window(chrome.window_handles[1])\n",
    "    chrome.close()\n",
    "except:\n",
    "    pass"
   ]
  },
  {
   "cell_type": "code",
   "execution_count": 8,
   "metadata": {},
   "outputs": [],
   "source": [
    "chrome.switch_to.window(chrome.window_handles[0])"
   ]
  },
  {
   "cell_type": "code",
   "execution_count": 9,
   "metadata": {},
   "outputs": [],
   "source": [
    "chrome.get('https://login.wyborcza.pl/')"
   ]
  },
  {
   "cell_type": "code",
   "execution_count": 16,
   "metadata": {},
   "outputs": [],
   "source": [
    "chrome\\\n",
    "    .find_element_by_xpath('//*[@id=\"wyborczaEmail\"]')\\\n",
    "    .send_keys('slusarczyk1@wp.pl')"
   ]
  },
  {
   "cell_type": "code",
   "execution_count": 19,
   "metadata": {},
   "outputs": [],
   "source": [
    "chrome\\\n",
    "    .find_element_by_xpath('//*[@id=\"wyborczaPassword\"]')\\\n",
    "    .send_keys('Sraniejebanko1')"
   ]
  },
  {
   "cell_type": "code",
   "execution_count": 20,
   "metadata": {},
   "outputs": [],
   "source": [
    "chrome\\\n",
    "    .find_element_by_xpath('/html/body/section/section[1]/form/div[4]/button')\\\n",
    "    .click()"
   ]
  },
  {
   "cell_type": "code",
   "execution_count": 21,
   "metadata": {},
   "outputs": [],
   "source": [
    "sleep(5)"
   ]
  },
  {
   "cell_type": "code",
   "execution_count": 22,
   "metadata": {},
   "outputs": [],
   "source": [
    "urls = []\n",
    "for i in range(100, 1000):\n",
    "    chrome.get(url = 'http://wyborcza.pl/0,75248.html?str='+str(i)+'_23719317')\n",
    "    for entry in chrome\\\n",
    "        .find_element_by_xpath('//*[@id=\"pagetype_index\"]/section[5]/div/main/div/div[2]/div/div[2]/ul')\\\n",
    "        .find_elements_by_class_name('entry'):\n",
    "        \n",
    "        url = entry.find_element_by_tag_name('h3')\\\n",
    "                .find_element_by_tag_name('a')\\\n",
    "                .get_attribute('href')\n",
    "        #scrap_article(chrome, url, first_time)\n",
    "        urls.append(url)\n",
    "    break\n",
    "    "
   ]
  },
  {
   "cell_type": "code",
   "execution_count": 24,
   "metadata": {},
   "outputs": [],
   "source": [
    "import pandas as pd"
   ]
  },
  {
   "cell_type": "code",
   "execution_count": 25,
   "metadata": {},
   "outputs": [],
   "source": [
    "# df = pd.DataFrame(urls, columns = ['urls'])"
   ]
  },
  {
   "cell_type": "code",
   "execution_count": 26,
   "metadata": {},
   "outputs": [],
   "source": [
    "# df.to_csv('old_urls.csv')"
   ]
  },
  {
   "cell_type": "code",
   "execution_count": 27,
   "metadata": {},
   "outputs": [],
   "source": [
    "df = pd.read_csv('old_urls.csv')"
   ]
  },
  {
   "cell_type": "code",
   "execution_count": 28,
   "metadata": {},
   "outputs": [],
   "source": [
    "errors = []"
   ]
  },
  {
   "cell_type": "code",
   "execution_count": null,
   "metadata": {},
   "outputs": [],
   "source": [
    "for url in df['urls'].values:\n",
    "    print(url)\n",
    "    try:\n",
    "        a = scrap_article(chrome, url, True)\n",
    "        with open('data/comments/'+a['url'].split('/')[-1].split(',')[2], 'w') as f:\n",
    "            f.write(str({'row': {\n",
    "               'comments': a,\n",
    "               'timestamp': dt.timestamp(dt.now())\n",
    "               }\n",
    "            }))\n",
    "    except:\n",
    "        errors.append(url)\n",
    "    print(a['url'].split('/')[-1].split(',')[2])"
   ]
  },
  {
   "cell_type": "code",
   "execution_count": 30,
   "metadata": {},
   "outputs": [
    {
     "data": {
      "text/plain": [
       "{'url': 'http://krakow.wyborcza.pl/krakow/7,44425,24667232,radni-starego-miasta-chca-zatrudnic-sokolnika-do-ploszenia-golebi.html',\n",
       " 'division': 'Stare Miasto',\n",
       " 'pub_date': '16 kwietnia 2019 | 14:41',\n",
       " 'author': 'Aleksander Gurgul',\n",
       " 'title': 'Radni Starego Miasta chcą zatrudnić sokolnika do płoszenia gołębi. Ornitolodzy: \"Nonsens\"',\n",
       " 'highlight': 'Radni ze Starego Miasta chcą, by prezydent Krakowa zatrudnił sokolnika, który np. na Plantach będzie odławiał niechciane ptaki, w tym gołębie. - To tak jakby zatrudnić na etacie osobę z packą na muchy, której zadaniem by było tępienie owadów - odpowiadają na ich pomysł ornitolodzy.',\n",
       " 'content': 'Radni Dzielnicy I na najbliższej sesji zajmą się projektem uchwały, w której proszą prezydenta Krakowa o zatrudnienie sokolnika. Miałby on pracować w strukturach Zarządu Zieleni Miejskiej i pomagać w ogrodzie zoologicznym.„Celem działania sokolnika miejskiego byłoby przepłaszanie dużych ptaków (kruki, gawrony, gołębie), które w ostatnich latach szczególnie upodobały sobie rejon Starego Miasta, czyniąc zniszczenie zarówno zabytków, jak i terenów zielonych” – piszą radni w projekcie, który podpisał Jacek Balcewicz, przewodniczący dzielnicowej komisji ochrony zabytków i środowiska.„Użycie odpowiednio wytrenowanych ptaków, które są w przyrodzie naturalnymi wrogami, jest jedynym obecnie skutecznym, ale też humanitarnym i społecznie akceptowanym sposobem regulacji ilości niepożądanych gatunków” – ocenia w dalszej części uzasadnienia do uchwały radny.Ornitolog dr Kazimierz Walasz uważa pomysł za nietrafiony. Porównuje go do zatrudnienia na etacie osoby z packą na muchy, której zadaniem by było tępienie owadów. Jego zdaniem powinien najpierw powstać zespół specjalistów, którzy zdefiniują problem, a następnie dobiorą odpowiednie narzędzia do jego rozwiązania.Walasz uważa, że tak drastyczna metoda ingerująca w dziką przyrodę nie przyniesie oczekiwanego skutku. Za większy problem uważa dokarmianie gołębi.– Zdefiniujmy, jaki jest nasz cel, czyli gdzie i w jakim zakresie chcemy ograniczyć występowanie gołębi. Miasto mogłoby zacząć od wyznaczenia stref, w których dokarmianie ptaków będzie zakazane. Wystarczy, że te przepisy będą egzekwowane przez straż miejską – mówi Walasz w rozmowie z „Wyborczą”. I przywołuje przykład jego zdaniem nieudanego działania: – Przez lata przyklejaliśmy sylwetki ptaków drapieżnych na ekrany akustyczne, ale to nie przyniosło efektów. W wyniku badań ustalono, że skuteczne są pionowe paski.Walasz zwraca przy tym uwagę, że gołębie żyją i rozmnażają się właśnie blisko miejsc, w których znajdują pożywienie. Po wyeliminowaniu albo ograniczeniu dokarmiania po prostu się przeniosą. Osobiście uważa przy tym, że w ostatnich latach właściciele zabytkowych budynków dużo zrobili, by uniemożliwić im gniazdowanie.– Pozamykane zostały okienka strychów. Stosowane są też inne metody, na parapetach i gzymsach montuje się kolce, spiralki, stosuje żele albo druty pod napięciem, które odstraszają ptaki – wymienia ornitolog.Dodaje przy tym, że znacznie trudniejsze będzie przepłoszenie kawek albo gawronów, które licznie nocują na Plantach w okresie pozalęgowym. – Zatrudnienie do tego sokolnika nie będzie skuteczne.',\n",
       " 'media_src': 'https://bi.im-g.pl/im/fa/78/14/z21465594V,Sokol.jpg',\n",
       " 'media_desc': 'Sokół',\n",
       " 'media_type': 'image',\n",
       " 'comments': [{'main_comment': {'id': '101511175',\n",
       "    'author': 'Hormar',\n",
       "    'date': '16.04.2019, 21:49',\n",
       "    'body': 'Czy ktoś mi może wytłumaczyć co złego z gołebiami? Jeśli jest coś złego to wypłaszanie ich z miejsca A do B gó... da.',\n",
       "    'upvotes': '1',\n",
       "    'downvotes': '6',\n",
       "    'suspicious': False},\n",
       "   'sub_comments': []},\n",
       "  {'main_comment': {'id': '101510104',\n",
       "    'author': 'nikanor',\n",
       "    'date': '16.04.2019, 15:25',\n",
       "    'body': 'Jak grad wyłoży pszenicę i żyto w polu to co najpierw trzeba zebrać, panie ornitologu Walasz? No egzekutywę, oczywiście!',\n",
       "    'upvotes': '2',\n",
       "    'downvotes': '5',\n",
       "    'suspicious': False},\n",
       "   'sub_comments': []},\n",
       "  {'main_comment': {'id': '101511480',\n",
       "    'author': 'a_gdybym_zgolil_ten_was',\n",
       "    'date': '16.04.2019, 23:33',\n",
       "    'body': 'Gołąb miastowy nie kojarzy sokoła z poważnym zagrożeniem, bo zwyczajnie jest za tępy.',\n",
       "    'upvotes': '2',\n",
       "    'downvotes': '0',\n",
       "    'suspicious': False},\n",
       "   'sub_comments': []},\n",
       "  {'main_comment': {'id': '101511201',\n",
       "    'author': 'Hormar',\n",
       "    'date': '16.04.2019, 21:55',\n",
       "    'body': 'Krakowskie zarobki  Gołębiami brukowany Kraków, Gó... ma z tych ptaków. (Jan Sztaudynger)  To chyba już zabytek bo 50+ lat stare.',\n",
       "    'upvotes': '1',\n",
       "    'downvotes': '0',\n",
       "    'suspicious': False},\n",
       "   'sub_comments': []},\n",
       "  {'main_comment': {'id': '101511095',\n",
       "    'author': 'stoczek',\n",
       "    'date': '16.04.2019, 21:20',\n",
       "    'body': 'Może w ZZM należy utworzyć specjalny pion ds. zajętości Rynku Starego Miasta przez gołębie?',\n",
       "    'upvotes': '1',\n",
       "    'downvotes': '0',\n",
       "    'suspicious': False},\n",
       "   'sub_comments': []}]}"
      ]
     },
     "execution_count": 30,
     "metadata": {},
     "output_type": "execute_result"
    }
   ],
   "source": [
    "a"
   ]
  },
  {
   "cell_type": "code",
   "execution_count": null,
   "metadata": {},
   "outputs": [],
   "source": [
    "pd.DataFrame(errors, columns = ['urls']).to_csv('error_urls.csv')"
   ]
  },
  {
   "cell_type": "code",
   "execution_count": null,
   "metadata": {},
   "outputs": [],
   "source": []
  }
 ],
 "metadata": {
  "kernelspec": {
   "display_name": "Python 3",
   "language": "python",
   "name": "python3"
  },
  "language_info": {
   "codemirror_mode": {
    "name": "ipython",
    "version": 3
   },
   "file_extension": ".py",
   "mimetype": "text/x-python",
   "name": "python",
   "nbconvert_exporter": "python",
   "pygments_lexer": "ipython3",
   "version": "3.7.2"
  }
 },
 "nbformat": 4,
 "nbformat_minor": 2
}
