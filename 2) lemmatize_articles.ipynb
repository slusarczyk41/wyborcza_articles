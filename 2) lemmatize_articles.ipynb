{
 "cells": [
  {
   "cell_type": "code",
   "execution_count": 1,
   "metadata": {},
   "outputs": [],
   "source": [
    "import morfeusz2\n",
    "import pandas as pd"
   ]
  },
  {
   "cell_type": "code",
   "execution_count": 2,
   "metadata": {},
   "outputs": [],
   "source": [
    "m = morfeusz2.Morfeusz()"
   ]
  },
  {
   "cell_type": "code",
   "execution_count": 3,
   "metadata": {},
   "outputs": [],
   "source": [
    "articles = pd.read_csv('labeling/fresh_data.csv')\\\n",
    "    [['id', 'title', 'highlight', 'content', 'media_desc']]\\"
   ]
  },
  {
   "cell_type": "code",
   "execution_count": 4,
   "metadata": {},
   "outputs": [
    {
     "data": {
      "text/html": [
       "<div>\n",
       "<style scoped>\n",
       "    .dataframe tbody tr th:only-of-type {\n",
       "        vertical-align: middle;\n",
       "    }\n",
       "\n",
       "    .dataframe tbody tr th {\n",
       "        vertical-align: top;\n",
       "    }\n",
       "\n",
       "    .dataframe thead th {\n",
       "        text-align: right;\n",
       "    }\n",
       "</style>\n",
       "<table border=\"1\" class=\"dataframe\">\n",
       "  <thead>\n",
       "    <tr style=\"text-align: right;\">\n",
       "      <th></th>\n",
       "      <th>id</th>\n",
       "      <th>title</th>\n",
       "      <th>highlight</th>\n",
       "      <th>content</th>\n",
       "      <th>media_desc</th>\n",
       "    </tr>\n",
       "  </thead>\n",
       "  <tbody>\n",
       "    <tr>\n",
       "      <th>0</th>\n",
       "      <td>24162636</td>\n",
       "      <td>poznaniu powroci ul lutego wojewoda zbigniew h...</td>\n",
       "      <td>ostateczna decyzja nazwa ul lutego wrocic mape...</td>\n",
       "      <td>rok temu wojewoda wielkopolski zbigniew hoffma...</td>\n",
       "      <td>poznaniu najwieksze kontrowersje wzbudzila zmi...</td>\n",
       "    </tr>\n",
       "  </tbody>\n",
       "</table>\n",
       "</div>"
      ],
      "text/plain": [
       "         id                                              title  \\\n",
       "0  24162636  poznaniu powroci ul lutego wojewoda zbigniew h...   \n",
       "\n",
       "                                           highlight  \\\n",
       "0  ostateczna decyzja nazwa ul lutego wrocic mape...   \n",
       "\n",
       "                                             content  \\\n",
       "0  rok temu wojewoda wielkopolski zbigniew hoffma...   \n",
       "\n",
       "                                          media_desc  \n",
       "0  poznaniu najwieksze kontrowersje wzbudzila zmi...  "
      ]
     },
     "execution_count": 4,
     "metadata": {},
     "output_type": "execute_result"
    }
   ],
   "source": [
    "articles.head(1)"
   ]
  },
  {
   "cell_type": "code",
   "execution_count": 5,
   "metadata": {},
   "outputs": [
    {
     "name": "stdout",
     "output_type": "stream",
     "text": [
      "<class 'pandas.core.frame.DataFrame'>\n",
      "RangeIndex: 14412 entries, 0 to 14411\n",
      "Data columns (total 5 columns):\n",
      "id            14412 non-null int64\n",
      "title         14411 non-null object\n",
      "highlight     14411 non-null object\n",
      "content       14412 non-null object\n",
      "media_desc    12983 non-null object\n",
      "dtypes: int64(1), object(4)\n",
      "memory usage: 563.0+ KB\n"
     ]
    }
   ],
   "source": [
    "articles.info()"
   ]
  },
  {
   "cell_type": "code",
   "execution_count": 6,
   "metadata": {},
   "outputs": [],
   "source": [
    "from unidecode import unidecode"
   ]
  },
  {
   "cell_type": "code",
   "execution_count": 7,
   "metadata": {},
   "outputs": [],
   "source": [
    "def lemmatize_column(column):\n",
    "    lemmatized_column = [] \n",
    "    for record in column.values:\n",
    "        lemmatized_row = []\n",
    "        try:\n",
    "            for word in record.split(' '):\n",
    "                lemmatized_row.append(unidecode(m.analyse(word)[0][2][1].split(':')[0]).lower())\n",
    "            lemmatized_column.append(\" \".join(lemmatized_row))\n",
    "        except:\n",
    "            lemmatized_column.append(None)\n",
    "        \n",
    "    return pd.Series(lemmatized_column, name = column.name)"
   ]
  },
  {
   "cell_type": "code",
   "execution_count": 8,
   "metadata": {},
   "outputs": [],
   "source": [
    "lem_df_list = []\n",
    "for column in [u'content', u'highlight', u'media_desc', u'title']:\n",
    "    lem_df_list.append(lemmatize_column(articles[column]))\n",
    "lem_df_list.append(articles['id'])"
   ]
  },
  {
   "cell_type": "code",
   "execution_count": 9,
   "metadata": {},
   "outputs": [],
   "source": [
    "lem_df = pd.concat(lem_df_list, axis = 1)"
   ]
  },
  {
   "cell_type": "code",
   "execution_count": 10,
   "metadata": {},
   "outputs": [
    {
     "data": {
      "text/html": [
       "<div>\n",
       "<style scoped>\n",
       "    .dataframe tbody tr th:only-of-type {\n",
       "        vertical-align: middle;\n",
       "    }\n",
       "\n",
       "    .dataframe tbody tr th {\n",
       "        vertical-align: top;\n",
       "    }\n",
       "\n",
       "    .dataframe thead th {\n",
       "        text-align: right;\n",
       "    }\n",
       "</style>\n",
       "<table border=\"1\" class=\"dataframe\">\n",
       "  <thead>\n",
       "    <tr style=\"text-align: right;\">\n",
       "      <th></th>\n",
       "      <th>content</th>\n",
       "      <th>highlight</th>\n",
       "      <th>media_desc</th>\n",
       "      <th>title</th>\n",
       "      <th>id</th>\n",
       "    </tr>\n",
       "  </thead>\n",
       "  <tbody>\n",
       "    <tr>\n",
       "      <th>0</th>\n",
       "      <td>rok ten wojewoda wielkopolski zbigniew hoffman...</td>\n",
       "      <td>ostateczny decyzja nazwa ul luty wrocic mape p...</td>\n",
       "      <td>poznanie najwieksze kontrowersja wzbudzila zmi...</td>\n",
       "      <td>poznanie powroci ul luty wojewoda zbigniew hof...</td>\n",
       "      <td>24162636</td>\n",
       "    </tr>\n",
       "    <tr>\n",
       "      <th>1</th>\n",
       "      <td>szef rad europejski donald tusk oglosil decyzj...</td>\n",
       "      <td>ue odsunac brexit maja izba gmin poprzec umowy...</td>\n",
       "      <td>brexitowy uber jadac brytyjczyk</td>\n",
       "      <td>merkel macrona chciec zebysmy przeszly histori...</td>\n",
       "      <td>24573799</td>\n",
       "    </tr>\n",
       "    <tr>\n",
       "      <th>2</th>\n",
       "      <td>wtorek gdansku wystapil cyrk zalewski udzialem...</td>\n",
       "      <td>mieszkancy osowa chca okno wystepowal cyrk zwi...</td>\n",
       "      <td>None</td>\n",
       "      <td>cyrk zwierzetami gdansku mieszkancy oburzony b...</td>\n",
       "      <td>24760624</td>\n",
       "    </tr>\n",
       "    <tr>\n",
       "      <th>3</th>\n",
       "      <td>wielki imienie rosja haslem kryc trwajaca pocz...</td>\n",
       "      <td>konca listopad rosjanin internetowy glosowac w...</td>\n",
       "      <td>szeremietiewo terminal glowne miedzynarodowe l...</td>\n",
       "      <td>chca kant kant rosja wybierac podniebny patronow</td>\n",
       "      <td>24203973</td>\n",
       "    </tr>\n",
       "    <tr>\n",
       "      <th>4</th>\n",
       "      <td>polityk partia rzadzacej mowia wprost mama czy...</td>\n",
       "      <td>seria pozarow skladowisk smieci calej polska m...</td>\n",
       "      <td>skawina dogaszac skladowiska smieci</td>\n",
       "      <td>krakowianka sklada skarge komisja europejski p...</td>\n",
       "      <td>23716514</td>\n",
       "    </tr>\n",
       "  </tbody>\n",
       "</table>\n",
       "</div>"
      ],
      "text/plain": [
       "                                             content  \\\n",
       "0  rok ten wojewoda wielkopolski zbigniew hoffman...   \n",
       "1  szef rad europejski donald tusk oglosil decyzj...   \n",
       "2  wtorek gdansku wystapil cyrk zalewski udzialem...   \n",
       "3  wielki imienie rosja haslem kryc trwajaca pocz...   \n",
       "4  polityk partia rzadzacej mowia wprost mama czy...   \n",
       "\n",
       "                                           highlight  \\\n",
       "0  ostateczny decyzja nazwa ul luty wrocic mape p...   \n",
       "1  ue odsunac brexit maja izba gmin poprzec umowy...   \n",
       "2  mieszkancy osowa chca okno wystepowal cyrk zwi...   \n",
       "3  konca listopad rosjanin internetowy glosowac w...   \n",
       "4  seria pozarow skladowisk smieci calej polska m...   \n",
       "\n",
       "                                          media_desc  \\\n",
       "0  poznanie najwieksze kontrowersja wzbudzila zmi...   \n",
       "1                    brexitowy uber jadac brytyjczyk   \n",
       "2                                               None   \n",
       "3  szeremietiewo terminal glowne miedzynarodowe l...   \n",
       "4                skawina dogaszac skladowiska smieci   \n",
       "\n",
       "                                               title        id  \n",
       "0  poznanie powroci ul luty wojewoda zbigniew hof...  24162636  \n",
       "1  merkel macrona chciec zebysmy przeszly histori...  24573799  \n",
       "2  cyrk zwierzetami gdansku mieszkancy oburzony b...  24760624  \n",
       "3   chca kant kant rosja wybierac podniebny patronow  24203973  \n",
       "4  krakowianka sklada skarge komisja europejski p...  23716514  "
      ]
     },
     "execution_count": 10,
     "metadata": {},
     "output_type": "execute_result"
    }
   ],
   "source": [
    "lem_df.head(5)"
   ]
  },
  {
   "cell_type": "code",
   "execution_count": 11,
   "metadata": {},
   "outputs": [],
   "source": [
    "from collections import Counter"
   ]
  },
  {
   "cell_type": "code",
   "execution_count": 12,
   "metadata": {},
   "outputs": [],
   "source": [
    "lem_df = lem_df.fillna('')"
   ]
  },
  {
   "cell_type": "code",
   "execution_count": 13,
   "metadata": {},
   "outputs": [],
   "source": [
    "bag_of_records = lem_df['title'] + ' ' + lem_df['highlight'] + ' ' + lem_df['content'] + ' ' + lem_df['media_desc']\n",
    "bag_of_words = [x for x in [row for row in bag_of_records] for x in x.split(' ')]"
   ]
  },
  {
   "cell_type": "code",
   "execution_count": 14,
   "metadata": {},
   "outputs": [],
   "source": [
    "idf_dict = {word:freq for word, freq in dict(Counter(bag_of_words)).items() if freq > 2}"
   ]
  },
  {
   "cell_type": "code",
   "execution_count": 15,
   "metadata": {},
   "outputs": [],
   "source": [
    "from json import dump"
   ]
  },
  {
   "cell_type": "code",
   "execution_count": 16,
   "metadata": {},
   "outputs": [],
   "source": [
    "with open('labeling/idf_dict', 'w') as f:\n",
    "    dump(idf_dict, f)"
   ]
  },
  {
   "cell_type": "code",
   "execution_count": 17,
   "metadata": {},
   "outputs": [],
   "source": [
    "lem_df.to_csv('labeling/lemmatized_articles.csv', index = False)"
   ]
  },
  {
   "cell_type": "code",
   "execution_count": null,
   "metadata": {},
   "outputs": [],
   "source": []
  }
 ],
 "metadata": {
  "kernelspec": {
   "display_name": "Python 2",
   "language": "python",
   "name": "python2"
  },
  "language_info": {
   "codemirror_mode": {
    "name": "ipython",
    "version": 3
   },
   "file_extension": ".py",
   "mimetype": "text/x-python",
   "name": "python",
   "nbconvert_exporter": "python",
   "pygments_lexer": "ipython3",
   "version": "3.7.2"
  }
 },
 "nbformat": 4,
 "nbformat_minor": 2
}
