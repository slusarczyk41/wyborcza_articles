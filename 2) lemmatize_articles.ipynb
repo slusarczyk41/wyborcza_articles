{
 "cells": [
  {
   "cell_type": "code",
   "execution_count": 1,
   "metadata": {},
   "outputs": [],
   "source": [
    "import morfeusz2\n",
    "import pandas as pd"
   ]
  },
  {
   "cell_type": "code",
   "execution_count": 2,
   "metadata": {},
   "outputs": [],
   "source": [
    "m = morfeusz2.Morfeusz()"
   ]
  },
  {
   "cell_type": "code",
   "execution_count": 3,
   "metadata": {},
   "outputs": [],
   "source": [
    "articles = pd.read_csv('labeling/fresh_data.csv')\\\n",
    "    [['id', 'title', 'highlight', 'content', 'media_desc']]\\"
   ]
  },
  {
   "cell_type": "code",
   "execution_count": 4,
   "metadata": {},
   "outputs": [
    {
     "data": {
      "text/html": [
       "<div>\n",
       "<style scoped>\n",
       "    .dataframe tbody tr th:only-of-type {\n",
       "        vertical-align: middle;\n",
       "    }\n",
       "\n",
       "    .dataframe tbody tr th {\n",
       "        vertical-align: top;\n",
       "    }\n",
       "\n",
       "    .dataframe thead th {\n",
       "        text-align: right;\n",
       "    }\n",
       "</style>\n",
       "<table border=\"1\" class=\"dataframe\">\n",
       "  <thead>\n",
       "    <tr style=\"text-align: right;\">\n",
       "      <th></th>\n",
       "      <th>id</th>\n",
       "      <th>title</th>\n",
       "      <th>highlight</th>\n",
       "      <th>content</th>\n",
       "      <th>media_desc</th>\n",
       "    </tr>\n",
       "  </thead>\n",
       "  <tbody>\n",
       "    <tr>\n",
       "      <th>0</th>\n",
       "      <td>24247530</td>\n",
       "      <td>czas wyczekiwany final dekomunizacji ulic piat...</td>\n",
       "      <td>naczelny sad administracyjny rozny finalizuje ...</td>\n",
       "      <td>piatkowej wokandzie nsa figuruje nazw stoleczn...</td>\n",
       "      <td>marzec zakladanie nowych tablic dawnej al armi...</td>\n",
       "    </tr>\n",
       "  </tbody>\n",
       "</table>\n",
       "</div>"
      ],
      "text/plain": [
       "         id                                              title  \\\n",
       "0  24247530  czas wyczekiwany final dekomunizacji ulic piat...   \n",
       "\n",
       "                                           highlight  \\\n",
       "0  naczelny sad administracyjny rozny finalizuje ...   \n",
       "\n",
       "                                             content  \\\n",
       "0  piatkowej wokandzie nsa figuruje nazw stoleczn...   \n",
       "\n",
       "                                          media_desc  \n",
       "0  marzec zakladanie nowych tablic dawnej al armi...  "
      ]
     },
     "execution_count": 4,
     "metadata": {},
     "output_type": "execute_result"
    }
   ],
   "source": [
    "articles.head(1)"
   ]
  },
  {
   "cell_type": "code",
   "execution_count": 5,
   "metadata": {},
   "outputs": [
    {
     "name": "stdout",
     "output_type": "stream",
     "text": [
      "<class 'pandas.core.frame.DataFrame'>\n",
      "RangeIndex: 35233 entries, 0 to 35232\n",
      "Data columns (total 5 columns):\n",
      "id            35233 non-null int64\n",
      "title         35231 non-null object\n",
      "highlight     35231 non-null object\n",
      "content       35225 non-null object\n",
      "media_desc    31554 non-null object\n",
      "dtypes: int64(1), object(4)\n",
      "memory usage: 1.3+ MB\n"
     ]
    }
   ],
   "source": [
    "articles.info()"
   ]
  },
  {
   "cell_type": "code",
   "execution_count": 6,
   "metadata": {},
   "outputs": [],
   "source": [
    "from unidecode import unidecode"
   ]
  },
  {
   "cell_type": "code",
   "execution_count": 7,
   "metadata": {},
   "outputs": [],
   "source": [
    "def lemmatize_column(column):\n",
    "    lemmatized_column = [] \n",
    "    for record in column.values:\n",
    "        lemmatized_row = []\n",
    "        try:\n",
    "            for word in record.split(' '):\n",
    "                lemmatized_row.append(unidecode(m.analyse(word)[0][2][1].split(':')[0]).lower())\n",
    "            lemmatized_column.append(\" \".join(lemmatized_row))\n",
    "        except:\n",
    "            lemmatized_column.append(None)\n",
    "        \n",
    "    return pd.Series(lemmatized_column, name = column.name)"
   ]
  },
  {
   "cell_type": "code",
   "execution_count": 8,
   "metadata": {},
   "outputs": [],
   "source": [
    "lem_df_list = []\n",
    "for column in [u'content', u'highlight', u'media_desc', u'title']:\n",
    "    lem_df_list.append(lemmatize_column(articles[column]))\n",
    "lem_df_list.append(articles['id'])"
   ]
  },
  {
   "cell_type": "code",
   "execution_count": 9,
   "metadata": {},
   "outputs": [],
   "source": [
    "lem_df = pd.concat(lem_df_list, axis = 1)"
   ]
  },
  {
   "cell_type": "code",
   "execution_count": 10,
   "metadata": {},
   "outputs": [
    {
     "data": {
      "text/html": [
       "<div>\n",
       "<style scoped>\n",
       "    .dataframe tbody tr th:only-of-type {\n",
       "        vertical-align: middle;\n",
       "    }\n",
       "\n",
       "    .dataframe tbody tr th {\n",
       "        vertical-align: top;\n",
       "    }\n",
       "\n",
       "    .dataframe thead th {\n",
       "        text-align: right;\n",
       "    }\n",
       "</style>\n",
       "<table border=\"1\" class=\"dataframe\">\n",
       "  <thead>\n",
       "    <tr style=\"text-align: right;\">\n",
       "      <th></th>\n",
       "      <th>content</th>\n",
       "      <th>highlight</th>\n",
       "      <th>media_desc</th>\n",
       "      <th>title</th>\n",
       "      <th>id</th>\n",
       "    </tr>\n",
       "  </thead>\n",
       "  <tbody>\n",
       "    <tr>\n",
       "      <th>0</th>\n",
       "      <td>piatkowej wokanda nsa figurowac nazwa stoleczn...</td>\n",
       "      <td>naczelny sad administracyjny rozny finalizowac...</td>\n",
       "      <td>marzec zakladanie nowy tablica dawny al armia ...</td>\n",
       "      <td>czas wyczekiwac final dekomunizacja ulica piat...</td>\n",
       "      <td>24247530</td>\n",
       "    </tr>\n",
       "    <tr>\n",
       "      <th>1</th>\n",
       "      <td>mezczyzni dzialali zorganizowac grupa przestep...</td>\n",
       "      <td>rzeszowski delegatura centralny biuro antykoru...</td>\n",
       "      <td>cba</td>\n",
       "      <td>cba zatrzymalo pieciu podkarpacki przedsiebior...</td>\n",
       "      <td>24593465</td>\n",
       "    </tr>\n",
       "    <tr>\n",
       "      <th>2</th>\n",
       "      <td>kazde morderstwo tragedia pawela adamowicz wie...</td>\n",
       "      <td>stanac pogodzic mowa nienawisci rozprzestrzeni...</td>\n",
       "      <td>prezydent miasto pawela adamowicz zyje</td>\n",
       "      <td>swieca pawla wyprzec ciemnosc</td>\n",
       "      <td>24376781</td>\n",
       "    </tr>\n",
       "    <tr>\n",
       "      <th>3</th>\n",
       "      <td>letni jacek kuzminski mieszkac wielki brytania...</td>\n",
       "      <td>spodziewalem taki odzew nadziac zly mowi jacek...</td>\n",
       "      <td>jacek kuzminski lewy pomagajacy lukasz grodzki</td>\n",
       "      <td>pobic oksford polak stracil prace wyladowal ul...</td>\n",
       "      <td>22852664</td>\n",
       "    </tr>\n",
       "    <tr>\n",
       "      <th>4</th>\n",
       "      <td>wedlug dany opublikowac poniedzialek irlandzki...</td>\n",
       "      <td>niepewnosc zwiazana wyjsciem wielki brytania u...</td>\n",
       "      <td>brexit rosnie liczba brytyjczykow ubiegajacych...</td>\n",
       "      <td>brexit rosnie liczba brytyjczykow ubiegajacych...</td>\n",
       "      <td>24320164</td>\n",
       "    </tr>\n",
       "  </tbody>\n",
       "</table>\n",
       "</div>"
      ],
      "text/plain": [
       "                                             content  \\\n",
       "0  piatkowej wokanda nsa figurowac nazwa stoleczn...   \n",
       "1  mezczyzni dzialali zorganizowac grupa przestep...   \n",
       "2  kazde morderstwo tragedia pawela adamowicz wie...   \n",
       "3  letni jacek kuzminski mieszkac wielki brytania...   \n",
       "4  wedlug dany opublikowac poniedzialek irlandzki...   \n",
       "\n",
       "                                           highlight  \\\n",
       "0  naczelny sad administracyjny rozny finalizowac...   \n",
       "1  rzeszowski delegatura centralny biuro antykoru...   \n",
       "2  stanac pogodzic mowa nienawisci rozprzestrzeni...   \n",
       "3  spodziewalem taki odzew nadziac zly mowi jacek...   \n",
       "4  niepewnosc zwiazana wyjsciem wielki brytania u...   \n",
       "\n",
       "                                          media_desc  \\\n",
       "0  marzec zakladanie nowy tablica dawny al armia ...   \n",
       "1                                                cba   \n",
       "2             prezydent miasto pawela adamowicz zyje   \n",
       "3     jacek kuzminski lewy pomagajacy lukasz grodzki   \n",
       "4  brexit rosnie liczba brytyjczykow ubiegajacych...   \n",
       "\n",
       "                                               title        id  \n",
       "0  czas wyczekiwac final dekomunizacja ulica piat...  24247530  \n",
       "1  cba zatrzymalo pieciu podkarpacki przedsiebior...  24593465  \n",
       "2                      swieca pawla wyprzec ciemnosc  24376781  \n",
       "3  pobic oksford polak stracil prace wyladowal ul...  22852664  \n",
       "4  brexit rosnie liczba brytyjczykow ubiegajacych...  24320164  "
      ]
     },
     "execution_count": 10,
     "metadata": {},
     "output_type": "execute_result"
    }
   ],
   "source": [
    "lem_df.head(5)"
   ]
  },
  {
   "cell_type": "code",
   "execution_count": 11,
   "metadata": {},
   "outputs": [],
   "source": [
    "from collections import Counter"
   ]
  },
  {
   "cell_type": "code",
   "execution_count": 12,
   "metadata": {},
   "outputs": [],
   "source": [
    "lem_df = lem_df.fillna('')"
   ]
  },
  {
   "cell_type": "code",
   "execution_count": 13,
   "metadata": {},
   "outputs": [],
   "source": [
    "bag_of_records = lem_df['title'] + ' ' + lem_df['highlight'] + ' ' + lem_df['content'] + ' ' + lem_df['media_desc']\n",
    "bag_of_words = [x for x in [row for row in bag_of_records] for x in x.split(' ')]"
   ]
  },
  {
   "cell_type": "code",
   "execution_count": 14,
   "metadata": {},
   "outputs": [],
   "source": [
    "idf_dict = {word:freq for word, freq in dict(Counter(bag_of_words)).items() if freq > 2}"
   ]
  },
  {
   "cell_type": "code",
   "execution_count": 15,
   "metadata": {},
   "outputs": [],
   "source": [
    "from json import dump"
   ]
  },
  {
   "cell_type": "code",
   "execution_count": 16,
   "metadata": {},
   "outputs": [],
   "source": [
    "with open('labeling/idf_dict', 'w') as f:\n",
    "    dump(idf_dict, f)"
   ]
  },
  {
   "cell_type": "code",
   "execution_count": 17,
   "metadata": {},
   "outputs": [],
   "source": [
    "lem_df.to_csv('labeling/lemmatized_articles.csv', index = False)"
   ]
  },
  {
   "cell_type": "code",
   "execution_count": null,
   "metadata": {},
   "outputs": [],
   "source": []
  }
 ],
 "metadata": {
  "kernelspec": {
   "display_name": "Python 2",
   "language": "python",
   "name": "python2"
  },
  "language_info": {
   "codemirror_mode": {
    "name": "ipython",
    "version": 3
   },
   "file_extension": ".py",
   "mimetype": "text/x-python",
   "name": "python",
   "nbconvert_exporter": "python",
   "pygments_lexer": "ipython3",
   "version": "3.5.3"
  }
 },
 "nbformat": 4,
 "nbformat_minor": 2
}
