{
 "cells": [
  {
   "cell_type": "code",
   "execution_count": 1,
   "metadata": {},
   "outputs": [],
   "source": [
    "from os import listdir"
   ]
  },
  {
   "cell_type": "code",
   "execution_count": 2,
   "metadata": {},
   "outputs": [],
   "source": [
    "from json import loads, dumps"
   ]
  },
  {
   "cell_type": "code",
   "execution_count": 3,
   "metadata": {},
   "outputs": [],
   "source": [
    "from unidecode import unidecode"
   ]
  },
  {
   "cell_type": "code",
   "execution_count": 4,
   "metadata": {},
   "outputs": [],
   "source": [
    "comments_content = []\n",
    "for comment in listdir('comments/'):\n",
    "    with open('comments/'+comment) as f:\n",
    "        content = f.read()\n",
    "    for main_comment in eval(content)['row']['comments']['comments']:\n",
    "        comments_content.append(unidecode(main_comment['main_comment']['body']))\n",
    "        for sub_comment in main_comment['sub_comments']:\n",
    "            comments_content.append(unidecode(sub_comment['body']))"
   ]
  },
  {
   "cell_type": "code",
   "execution_count": 5,
   "metadata": {},
   "outputs": [
    {
     "data": {
      "text/plain": [
       "'Raczej kota.'"
      ]
     },
     "execution_count": 5,
     "metadata": {},
     "output_type": "execute_result"
    }
   ],
   "source": [
    "comments_content[1]"
   ]
  },
  {
   "cell_type": "code",
   "execution_count": 6,
   "metadata": {},
   "outputs": [],
   "source": [
    "with open('polish.stopwords.txt', 'r') as f:\n",
    "    stop_words = f.read().split('\\n')"
   ]
  },
  {
   "cell_type": "code",
   "execution_count": 7,
   "metadata": {},
   "outputs": [],
   "source": [
    "from re import sub"
   ]
  },
  {
   "cell_type": "code",
   "execution_count": 8,
   "metadata": {},
   "outputs": [],
   "source": [
    "cleaned_comments = []\n",
    "for comment in comments_content:\n",
    "    cleaned_comments.append(\n",
    "        \" \".join(\n",
    "            [sub(r\"[^a-z]\", \"\", word.lower()) for word in comment.split(' ') if word not in stop_words and sub(r\"[^a-z]\", \"\", word.lower()) != '']\n",
    "        )\n",
    "    )"
   ]
  },
  {
   "cell_type": "code",
   "execution_count": 9,
   "metadata": {},
   "outputs": [
    {
     "data": {
      "text/plain": [
       "'jak przewidzenianad ciemnogrodzka unosi smrod panikiszukanie winnych nieuchronnej kleski kulawego najlepszym dowodemjest objaw strachuutraty totalnej wladzy zapominaja prawi psypochacize watazka wybral premiera ulubionego bykato tez poslusznie poparli'"
      ]
     },
     "execution_count": 9,
     "metadata": {},
     "output_type": "execute_result"
    }
   ],
   "source": [
    "cleaned_comments[0]"
   ]
  },
  {
   "cell_type": "code",
   "execution_count": 10,
   "metadata": {},
   "outputs": [],
   "source": [
    "with open('all_raw_comments_with_id', 'w') as f:\n",
    "    for comment in cleaned_comments:\n",
    "        f.write(\"%s\\n\" % comment)"
   ]
  },
  {
   "cell_type": "code",
   "execution_count": 13,
   "metadata": {},
   "outputs": [
    {
     "name": "stdout",
     "output_type": "stream",
     "text": [
      "jak przewidzenianad ciemnogrodzka unosi smrod panikiszukanie winnych nieuchronnej kleski kulawego na\n"
     ]
    }
   ],
   "source": [
    "with open('all_raw_comments_with_id') as f:\n",
    "    print(f.read()[:100])"
   ]
  },
  {
   "cell_type": "code",
   "execution_count": null,
   "metadata": {},
   "outputs": [],
   "source": []
  }
 ],
 "metadata": {
  "kernelspec": {
   "display_name": "Python 3",
   "language": "python",
   "name": "python3"
  },
  "language_info": {
   "codemirror_mode": {
    "name": "ipython",
    "version": 3
   },
   "file_extension": ".py",
   "mimetype": "text/x-python",
   "name": "python",
   "nbconvert_exporter": "python",
   "pygments_lexer": "ipython3",
   "version": "3.7.2"
  }
 },
 "nbformat": 4,
 "nbformat_minor": 2
}
