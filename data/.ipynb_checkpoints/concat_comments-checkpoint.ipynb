{
 "cells": [
  {
   "cell_type": "code",
   "execution_count": 11,
   "metadata": {},
   "outputs": [],
   "source": [
    "from os import listdir"
   ]
  },
  {
   "cell_type": "code",
   "execution_count": 12,
   "metadata": {},
   "outputs": [],
   "source": [
    "from json import loads, dumps"
   ]
  },
  {
   "cell_type": "code",
   "execution_count": 13,
   "metadata": {},
   "outputs": [],
   "source": [
    "from unidecode import unidecode"
   ]
  },
  {
   "cell_type": "code",
   "execution_count": 14,
   "metadata": {},
   "outputs": [],
   "source": [
    "comments_content = []\n",
    "for comment in listdir('comments/'):\n",
    "    with open('comments/'+comment) as f:\n",
    "        content = f.read()\n",
    "    for main_comment in eval(content)['row']['comments']['comments']:\n",
    "        comments_content.append(unidecode(main_comment['main_comment']['body']))\n",
    "        for sub_comment in main_comment['sub_comments']:\n",
    "            comments_content.append(unidecode(sub_comment['body']))"
   ]
  },
  {
   "cell_type": "code",
   "execution_count": 16,
   "metadata": {},
   "outputs": [
    {
     "data": {
      "text/plain": [
       "'chyle czola;'"
      ]
     },
     "execution_count": 16,
     "metadata": {},
     "output_type": "execute_result"
    }
   ],
   "source": [
    "comments_content[1]"
   ]
  },
  {
   "cell_type": "code",
   "execution_count": 33,
   "metadata": {},
   "outputs": [],
   "source": [
    "with open('polish.stopwords.txt', 'r') as f:\n",
    "    stop_words = f.read().split('\\n')"
   ]
  },
  {
   "cell_type": "code",
   "execution_count": 34,
   "metadata": {},
   "outputs": [],
   "source": [
    "from re import sub"
   ]
  },
  {
   "cell_type": "code",
   "execution_count": 35,
   "metadata": {},
   "outputs": [],
   "source": [
    "cleaned_comments = []\n",
    "for comment in comments_content:\n",
    "    cleaned_comments.append(\n",
    "        \" \".join(\n",
    "            [sub(r\"[^a-z]\", \"\", word.lower()) for word in comment.split(' ') if word not in stop_words and sub(r\"[^a-z]\", \"\", word.lower()) != '']\n",
    "        )\n",
    "    )"
   ]
  },
  {
   "cell_type": "code",
   "execution_count": 37,
   "metadata": {},
   "outputs": [
    {
     "data": {
      "text/plain": [
       "'czytajac historie zastanawiam bym zrobila wystarczyloby odwagi strasznie boje nie'"
      ]
     },
     "execution_count": 37,
     "metadata": {},
     "output_type": "execute_result"
    }
   ],
   "source": [
    "cleaned_comments[0]"
   ]
  },
  {
   "cell_type": "code",
   "execution_count": 38,
   "metadata": {},
   "outputs": [],
   "source": [
    "with open('all_raw_comments_with_id', 'w') as f:\n",
    "    for comment in cleaned_comments:\n",
    "        f.write(\"%s\\n\" % comment)"
   ]
  },
  {
   "cell_type": "code",
   "execution_count": 39,
   "metadata": {},
   "outputs": [
    {
     "name": "stdout",
     "output_type": "stream",
     "text": [
      "czytajac historie zastanawiam bym zrobila wystarczyloby odwagi strasznie boje nie\n",
      "chyle czola\n",
      "poza ciekawe prawacy maja tepe dziwaczne przestraszone ryje czesto tez fikusne brodki oprawki okularow nie\n"
     ]
    }
   ],
   "source": [
    "with open('all_raw_comments_with_id') as f:\n",
    "    print(f.read()[:200])"
   ]
  },
  {
   "cell_type": "code",
   "execution_count": null,
   "metadata": {},
   "outputs": [],
   "source": []
  }
 ],
 "metadata": {
  "kernelspec": {
   "display_name": "Python 3",
   "language": "python",
   "name": "python3"
  },
  "language_info": {
   "codemirror_mode": {
    "name": "ipython",
    "version": 3
   },
   "file_extension": ".py",
   "mimetype": "text/x-python",
   "name": "python",
   "nbconvert_exporter": "python",
   "pygments_lexer": "ipython3",
   "version": "3.7.2"
  }
 },
 "nbformat": 4,
 "nbformat_minor": 2
}
