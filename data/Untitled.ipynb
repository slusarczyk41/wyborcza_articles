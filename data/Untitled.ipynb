{
 "cells": [
  {
   "cell_type": "code",
   "execution_count": 20,
   "metadata": {},
   "outputs": [],
   "source": [
    "import pandas as pd"
   ]
  },
  {
   "cell_type": "code",
   "execution_count": 24,
   "metadata": {},
   "outputs": [],
   "source": [
    "df = pd.read_csv('processed_articles.csv')"
   ]
  },
  {
   "cell_type": "code",
   "execution_count": 25,
   "metadata": {},
   "outputs": [
    {
     "data": {
      "text/html": [
       "<div>\n",
       "<style scoped>\n",
       "    .dataframe tbody tr th:only-of-type {\n",
       "        vertical-align: middle;\n",
       "    }\n",
       "\n",
       "    .dataframe tbody tr th {\n",
       "        vertical-align: top;\n",
       "    }\n",
       "\n",
       "    .dataframe thead th {\n",
       "        text-align: right;\n",
       "    }\n",
       "</style>\n",
       "<table border=\"1\" class=\"dataframe\">\n",
       "  <thead>\n",
       "    <tr style=\"text-align: right;\">\n",
       "      <th></th>\n",
       "      <th>content</th>\n",
       "      <th>division</th>\n",
       "      <th>highlight</th>\n",
       "      <th>media_desc</th>\n",
       "      <th>title</th>\n",
       "      <th>url</th>\n",
       "    </tr>\n",
       "  </thead>\n",
       "  <tbody>\n",
       "    <tr>\n",
       "      <th>0</th>\n",
       "      <td>najwyzsza izba kontroli zwraca uwage problem z...</td>\n",
       "      <td>zus emerytura</td>\n",
       "      <td>tysiace polakow zanizone emerytury wystapilo z...</td>\n",
       "      <td>osob maja dopisanych skladek emerytalnych czas...</td>\n",
       "      <td>nik alarmuje polacy maja zanizone emerytury</td>\n",
       "      <td>http://wyborcza.biz/biznes/7,147880,23632593,n...</td>\n",
       "    </tr>\n",
       "    <tr>\n",
       "      <th>1</th>\n",
       "      <td>kryzys katalonski zazegnany parlament barcelon...</td>\n",
       "      <td>swiat</td>\n",
       "      <td>nowy premier obiecuje dazyc oderwania kataloni...</td>\n",
       "      <td>parlament barcelonie zatwierdzil quima torre n...</td>\n",
       "      <td>katalonia premiera parlament barcelonie przegl...</td>\n",
       "      <td>http://wyborcza.pl/7,75399,23398351,katalonia-...</td>\n",
       "    </tr>\n",
       "    <tr>\n",
       "      <th>2</th>\n",
       "      <td>sokol wedrowny najrzadszych gatunkow polsce na...</td>\n",
       "      <td>wiadomosci wroclawia</td>\n",
       "      <td>trzy mlode samce samica sokolow wedrownych wyl...</td>\n",
       "      <td>mlode sokoly wedrowne lasach miliczem</td>\n",
       "      <td>sokoly maja mlode sukces naleza jednego najrza...</td>\n",
       "      <td>http://wroclaw.wyborcza.pl/wroclaw/7,35771,234...</td>\n",
       "    </tr>\n",
       "    <tr>\n",
       "      <th>3</th>\n",
       "      <td>aktualizacja niedziele godz odbyly ostatnie ne...</td>\n",
       "      <td>strajk nauczycieli</td>\n",
       "      <td>niedziele godz odbyly rozmowy ostatniej szansy...</td>\n",
       "      <td>wroclaw wspiera nauczycieli demonstracja pregi...</td>\n",
       "      <td>wroclaw wspiera nauczycieli demonstracja pregi...</td>\n",
       "      <td>http://wroclaw.wyborcza.pl/wroclaw/7,35771,246...</td>\n",
       "    </tr>\n",
       "    <tr>\n",
       "      <th>4</th>\n",
       "      <td>rok temu wojewoda wielkopolski zbigniew hoffma...</td>\n",
       "      <td>wiadomosci poznania</td>\n",
       "      <td>ostateczna decyzja nazwa ul lutego wrocic mape...</td>\n",
       "      <td>poznaniu najwieksze kontrowersje wzbudzila zmi...</td>\n",
       "      <td>poznaniu powroci ul lutego wojewoda zbigniew h...</td>\n",
       "      <td>http://poznan.wyborcza.pl/poznan/7,36001,24162...</td>\n",
       "    </tr>\n",
       "  </tbody>\n",
       "</table>\n",
       "</div>"
      ],
      "text/plain": [
       "                                             content              division  \\\n",
       "0  najwyzsza izba kontroli zwraca uwage problem z...         zus emerytura   \n",
       "1  kryzys katalonski zazegnany parlament barcelon...                 swiat   \n",
       "2  sokol wedrowny najrzadszych gatunkow polsce na...  wiadomosci wroclawia   \n",
       "3  aktualizacja niedziele godz odbyly ostatnie ne...    strajk nauczycieli   \n",
       "4  rok temu wojewoda wielkopolski zbigniew hoffma...   wiadomosci poznania   \n",
       "\n",
       "                                           highlight  \\\n",
       "0  tysiace polakow zanizone emerytury wystapilo z...   \n",
       "1  nowy premier obiecuje dazyc oderwania kataloni...   \n",
       "2  trzy mlode samce samica sokolow wedrownych wyl...   \n",
       "3  niedziele godz odbyly rozmowy ostatniej szansy...   \n",
       "4  ostateczna decyzja nazwa ul lutego wrocic mape...   \n",
       "\n",
       "                                          media_desc  \\\n",
       "0  osob maja dopisanych skladek emerytalnych czas...   \n",
       "1  parlament barcelonie zatwierdzil quima torre n...   \n",
       "2              mlode sokoly wedrowne lasach miliczem   \n",
       "3  wroclaw wspiera nauczycieli demonstracja pregi...   \n",
       "4  poznaniu najwieksze kontrowersje wzbudzila zmi...   \n",
       "\n",
       "                                               title  \\\n",
       "0        nik alarmuje polacy maja zanizone emerytury   \n",
       "1  katalonia premiera parlament barcelonie przegl...   \n",
       "2  sokoly maja mlode sukces naleza jednego najrza...   \n",
       "3  wroclaw wspiera nauczycieli demonstracja pregi...   \n",
       "4  poznaniu powroci ul lutego wojewoda zbigniew h...   \n",
       "\n",
       "                                                 url  \n",
       "0  http://wyborcza.biz/biznes/7,147880,23632593,n...  \n",
       "1  http://wyborcza.pl/7,75399,23398351,katalonia-...  \n",
       "2  http://wroclaw.wyborcza.pl/wroclaw/7,35771,234...  \n",
       "3  http://wroclaw.wyborcza.pl/wroclaw/7,35771,246...  \n",
       "4  http://poznan.wyborcza.pl/poznan/7,36001,24162...  "
      ]
     },
     "execution_count": 25,
     "metadata": {},
     "output_type": "execute_result"
    }
   ],
   "source": [
    "df.head(5)"
   ]
  },
  {
   "cell_type": "code",
   "execution_count": null,
   "metadata": {},
   "outputs": [],
   "source": []
  },
  {
   "cell_type": "code",
   "execution_count": null,
   "metadata": {},
   "outputs": [],
   "source": []
  }
 ],
 "metadata": {
  "kernelspec": {
   "display_name": "Python 3",
   "language": "python",
   "name": "python3"
  },
  "language_info": {
   "codemirror_mode": {
    "name": "ipython",
    "version": 3
   },
   "file_extension": ".py",
   "mimetype": "text/x-python",
   "name": "python",
   "nbconvert_exporter": "python",
   "pygments_lexer": "ipython3",
   "version": "3.7.2"
  }
 },
 "nbformat": 4,
 "nbformat_minor": 2
}
