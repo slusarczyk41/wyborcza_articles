{
 "cells": [
  {
   "cell_type": "markdown",
   "metadata": {},
   "source": [
    "## Read data"
   ]
  },
  {
   "cell_type": "code",
   "execution_count": 1,
   "metadata": {},
   "outputs": [],
   "source": [
    "from os import listdir"
   ]
  },
  {
   "cell_type": "code",
   "execution_count": 8,
   "metadata": {},
   "outputs": [],
   "source": [
    "comments_batch = []\n",
    "for file_name in listdir('comments'):\n",
    "    with open('comments/'+file_name, 'r') as f:\n",
    "        comments_batch.append(eval(f.read()))"
   ]
  },
  {
   "cell_type": "code",
   "execution_count": 9,
   "metadata": {},
   "outputs": [
    {
     "data": {
      "text/plain": [
       "'23742136'"
      ]
     },
     "execution_count": 9,
     "metadata": {},
     "output_type": "execute_result"
    }
   ],
   "source": [
    "file_name"
   ]
  },
  {
   "cell_type": "code",
   "execution_count": 10,
   "metadata": {},
   "outputs": [],
   "source": [
    "from unidecode import unidecode\n",
    "from re import sub"
   ]
  },
  {
   "cell_type": "code",
   "execution_count": 11,
   "metadata": {},
   "outputs": [],
   "source": [
    "with open('polish.stopwords.txt', 'r') as f:\n",
    "    stop_words = f.read().split('\\n')"
   ]
  },
  {
   "cell_type": "markdown",
   "metadata": {},
   "source": [
    "## Extract article content and url"
   ]
  },
  {
   "cell_type": "code",
   "execution_count": 19,
   "metadata": {},
   "outputs": [],
   "source": [
    "all_articles = []\n",
    "for j in comments_batch:\n",
    "    tmp = ({\n",
    "        'url': j['row']['comments']['url']\n",
    "    })\n",
    "    \n",
    "    for data_column in ['author', 'content', 'title', 'division', 'highlight', 'media_desc', 'media_type']:\n",
    "        if j['row']['comments'][data_column]:\n",
    "            no_polish_letters = unidecode(j['row']['comments'][data_column])\n",
    "            no_special_chars  = sub(r\"[^a-z| ]\", \"\", no_polish_letters.lower())\n",
    "            no_stop_words     = \" \".join([word.strip() for word in no_special_chars.split(' ') if word.strip() not in stop_words])\n",
    "            tmp[data_column] = no_stop_words\n",
    "    all_articles.append(tmp)"
   ]
  },
  {
   "cell_type": "code",
   "execution_count": 20,
   "metadata": {},
   "outputs": [],
   "source": [
    "import pandas as pd"
   ]
  },
  {
   "cell_type": "code",
   "execution_count": 21,
   "metadata": {},
   "outputs": [],
   "source": [
    "articles = pd.DataFrame(all_articles)"
   ]
  },
  {
   "cell_type": "code",
   "execution_count": 22,
   "metadata": {},
   "outputs": [
    {
     "data": {
      "text/html": [
       "<div>\n",
       "<style scoped>\n",
       "    .dataframe tbody tr th:only-of-type {\n",
       "        vertical-align: middle;\n",
       "    }\n",
       "\n",
       "    .dataframe tbody tr th {\n",
       "        vertical-align: top;\n",
       "    }\n",
       "\n",
       "    .dataframe thead th {\n",
       "        text-align: right;\n",
       "    }\n",
       "</style>\n",
       "<table border=\"1\" class=\"dataframe\">\n",
       "  <thead>\n",
       "    <tr style=\"text-align: right;\">\n",
       "      <th></th>\n",
       "      <th>author</th>\n",
       "      <th>content</th>\n",
       "      <th>division</th>\n",
       "      <th>highlight</th>\n",
       "      <th>media_desc</th>\n",
       "      <th>media_type</th>\n",
       "      <th>title</th>\n",
       "      <th>url</th>\n",
       "    </tr>\n",
       "  </thead>\n",
       "  <tbody>\n",
       "    <tr>\n",
       "      <th>0</th>\n",
       "      <td>leszek kostrzewski</td>\n",
       "      <td>najwyzsza izba kontroli zwraca uwage problem z...</td>\n",
       "      <td>zus emerytura</td>\n",
       "      <td>tysiace polakow zanizone emerytury wystapilo z...</td>\n",
       "      <td>osob maja dopisanych skladek emerytalnych czas...</td>\n",
       "      <td>image</td>\n",
       "      <td>nik alarmuje polacy maja zanizone emerytury</td>\n",
       "      <td>http://wyborcza.biz/biznes/7,147880,23632593,n...</td>\n",
       "    </tr>\n",
       "    <tr>\n",
       "      <th>1</th>\n",
       "      <td>maciej stasinski</td>\n",
       "      <td>kryzys katalonski zazegnany parlament barcelon...</td>\n",
       "      <td>swiat</td>\n",
       "      <td>nowy premier obiecuje dazyc oderwania kataloni...</td>\n",
       "      <td>parlament barcelonie zatwierdzil quima torre n...</td>\n",
       "      <td>image</td>\n",
       "      <td>katalonia premiera parlament barcelonie przegl...</td>\n",
       "      <td>http://wyborcza.pl/7,75399,23398351,katalonia-...</td>\n",
       "    </tr>\n",
       "    <tr>\n",
       "      <th>2</th>\n",
       "      <td>uj</td>\n",
       "      <td>sokol wedrowny najrzadszych gatunkow polsce na...</td>\n",
       "      <td>wiadomosci wroclawia</td>\n",
       "      <td>trzy mlode samce samica sokolow wedrownych wyl...</td>\n",
       "      <td>mlode sokoly wedrowne lasach miliczem</td>\n",
       "      <td>image</td>\n",
       "      <td>sokoly maja mlode sukces naleza jednego najrza...</td>\n",
       "      <td>http://wroclaw.wyborcza.pl/wroclaw/7,35771,234...</td>\n",
       "    </tr>\n",
       "    <tr>\n",
       "      <th>3</th>\n",
       "      <td>ujkoz</td>\n",
       "      <td>aktualizacja niedziele godz odbyly ostatnie ne...</td>\n",
       "      <td>strajk nauczycieli</td>\n",
       "      <td>niedziele godz odbyly rozmowy ostatniej szansy...</td>\n",
       "      <td>wroclaw wspiera nauczycieli demonstracja pregi...</td>\n",
       "      <td>image</td>\n",
       "      <td>wroclaw wspiera nauczycieli demonstracja pregi...</td>\n",
       "      <td>http://wroclaw.wyborcza.pl/wroclaw/7,35771,246...</td>\n",
       "    </tr>\n",
       "  </tbody>\n",
       "</table>\n",
       "</div>"
      ],
      "text/plain": [
       "               author                                            content  \\\n",
       "0  leszek kostrzewski  najwyzsza izba kontroli zwraca uwage problem z...   \n",
       "1    maciej stasinski  kryzys katalonski zazegnany parlament barcelon...   \n",
       "2                  uj  sokol wedrowny najrzadszych gatunkow polsce na...   \n",
       "3               ujkoz  aktualizacja niedziele godz odbyly ostatnie ne...   \n",
       "\n",
       "               division                                          highlight  \\\n",
       "0         zus emerytura  tysiace polakow zanizone emerytury wystapilo z...   \n",
       "1                 swiat  nowy premier obiecuje dazyc oderwania kataloni...   \n",
       "2  wiadomosci wroclawia  trzy mlode samce samica sokolow wedrownych wyl...   \n",
       "3    strajk nauczycieli  niedziele godz odbyly rozmowy ostatniej szansy...   \n",
       "\n",
       "                                          media_desc media_type  \\\n",
       "0  osob maja dopisanych skladek emerytalnych czas...      image   \n",
       "1  parlament barcelonie zatwierdzil quima torre n...      image   \n",
       "2              mlode sokoly wedrowne lasach miliczem      image   \n",
       "3  wroclaw wspiera nauczycieli demonstracja pregi...      image   \n",
       "\n",
       "                                               title  \\\n",
       "0        nik alarmuje polacy maja zanizone emerytury   \n",
       "1  katalonia premiera parlament barcelonie przegl...   \n",
       "2  sokoly maja mlode sukces naleza jednego najrza...   \n",
       "3  wroclaw wspiera nauczycieli demonstracja pregi...   \n",
       "\n",
       "                                                 url  \n",
       "0  http://wyborcza.biz/biznes/7,147880,23632593,n...  \n",
       "1  http://wyborcza.pl/7,75399,23398351,katalonia-...  \n",
       "2  http://wroclaw.wyborcza.pl/wroclaw/7,35771,234...  \n",
       "3  http://wroclaw.wyborcza.pl/wroclaw/7,35771,246...  "
      ]
     },
     "execution_count": 22,
     "metadata": {},
     "output_type": "execute_result"
    }
   ],
   "source": [
    "articles.head(4)"
   ]
  },
  {
   "cell_type": "code",
   "execution_count": 23,
   "metadata": {},
   "outputs": [
    {
     "data": {
      "text/html": [
       "<div>\n",
       "<style scoped>\n",
       "    .dataframe tbody tr th:only-of-type {\n",
       "        vertical-align: middle;\n",
       "    }\n",
       "\n",
       "    .dataframe tbody tr th {\n",
       "        vertical-align: top;\n",
       "    }\n",
       "\n",
       "    .dataframe thead th {\n",
       "        text-align: right;\n",
       "    }\n",
       "</style>\n",
       "<table border=\"1\" class=\"dataframe\">\n",
       "  <thead>\n",
       "    <tr style=\"text-align: right;\">\n",
       "      <th></th>\n",
       "      <th>author</th>\n",
       "      <th>content</th>\n",
       "      <th>division</th>\n",
       "      <th>highlight</th>\n",
       "      <th>media_desc</th>\n",
       "      <th>title</th>\n",
       "      <th>url</th>\n",
       "    </tr>\n",
       "    <tr>\n",
       "      <th>media_type</th>\n",
       "      <th></th>\n",
       "      <th></th>\n",
       "      <th></th>\n",
       "      <th></th>\n",
       "      <th></th>\n",
       "      <th></th>\n",
       "      <th></th>\n",
       "    </tr>\n",
       "  </thead>\n",
       "  <tbody>\n",
       "    <tr>\n",
       "      <th>image</th>\n",
       "      <td>20454</td>\n",
       "      <td>20459</td>\n",
       "      <td>20455</td>\n",
       "      <td>20460</td>\n",
       "      <td>18152</td>\n",
       "      <td>20460</td>\n",
       "      <td>20460</td>\n",
       "    </tr>\n",
       "    <tr>\n",
       "      <th>multipleimages</th>\n",
       "      <td>407</td>\n",
       "      <td>408</td>\n",
       "      <td>407</td>\n",
       "      <td>407</td>\n",
       "      <td>356</td>\n",
       "      <td>407</td>\n",
       "      <td>408</td>\n",
       "    </tr>\n",
       "    <tr>\n",
       "      <th>video</th>\n",
       "      <td>585</td>\n",
       "      <td>586</td>\n",
       "      <td>586</td>\n",
       "      <td>586</td>\n",
       "      <td>586</td>\n",
       "      <td>586</td>\n",
       "      <td>586</td>\n",
       "    </tr>\n",
       "  </tbody>\n",
       "</table>\n",
       "</div>"
      ],
      "text/plain": [
       "                author  content  division  highlight  media_desc  title    url\n",
       "media_type                                                                    \n",
       "image            20454    20459     20455      20460       18152  20460  20460\n",
       "multipleimages     407      408       407        407         356    407    408\n",
       "video              585      586       586        586         586    586    586"
      ]
     },
     "execution_count": 23,
     "metadata": {},
     "output_type": "execute_result"
    }
   ],
   "source": [
    "articles.groupby('media_type').count()"
   ]
  },
  {
   "cell_type": "code",
   "execution_count": 9,
   "metadata": {},
   "outputs": [
    {
     "data": {
      "text/plain": [
       "21454"
      ]
     },
     "execution_count": 9,
     "metadata": {},
     "output_type": "execute_result"
    }
   ],
   "source": [
    "len(articles)"
   ]
  },
  {
   "cell_type": "code",
   "execution_count": 10,
   "metadata": {},
   "outputs": [],
   "source": [
    "articles = articles.dropna()"
   ]
  },
  {
   "cell_type": "code",
   "execution_count": 11,
   "metadata": {},
   "outputs": [
    {
     "data": {
      "text/plain": [
       "19087"
      ]
     },
     "execution_count": 11,
     "metadata": {},
     "output_type": "execute_result"
    }
   ],
   "source": [
    "len(articles)"
   ]
  },
  {
   "cell_type": "code",
   "execution_count": 12,
   "metadata": {},
   "outputs": [],
   "source": [
    "articles.to_csv('processed_articles.csv', index = False)"
   ]
  },
  {
   "cell_type": "code",
   "execution_count": null,
   "metadata": {},
   "outputs": [],
   "source": []
  }
 ],
 "metadata": {
  "kernelspec": {
   "display_name": "Python 3",
   "language": "python",
   "name": "python3"
  },
  "language_info": {
   "codemirror_mode": {
    "name": "ipython",
    "version": 3
   },
   "file_extension": ".py",
   "mimetype": "text/x-python",
   "name": "python",
   "nbconvert_exporter": "python",
   "pygments_lexer": "ipython3",
   "version": "3.7.2"
  }
 },
 "nbformat": 4,
 "nbformat_minor": 2
}
