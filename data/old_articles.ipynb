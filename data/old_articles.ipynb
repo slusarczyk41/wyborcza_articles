{
 "cells": [
  {
   "cell_type": "code",
   "execution_count": null,
   "metadata": {},
   "outputs": [],
   "source": [
    "page_from = 1\n",
    "# http://wyborcza.pl/0,75248.html?str=1_23719317\n",
    "page_to = 10\n",
    "# http://wyborcza.pl/0,75248.html?str=10_23719317"
   ]
  },
  {
   "cell_type": "code",
   "execution_count": 2,
   "metadata": {},
   "outputs": [],
   "source": [
    "from selenium import webdriver\n",
    "import pandas as pd\n",
    "from scrap_article_current_tab import scrap_article\n",
    "\n",
    "from datetime import datetime as dt\n",
    "from datetime import timedelta as td\n",
    "from os import makedirs\n",
    "from os.path import exists\n",
    "from time import sleep\n",
    "from json import loads"
   ]
  },
  {
   "cell_type": "code",
   "execution_count": 3,
   "metadata": {},
   "outputs": [],
   "source": [
    "now = dt.now()\n",
    "year = now.year\n",
    "month = now.month\n",
    "day = now.day\n",
    "ts = str(int(round(now.timestamp())))"
   ]
  },
  {
   "cell_type": "code",
   "execution_count": 4,
   "metadata": {},
   "outputs": [],
   "source": [
    "options = webdriver.ChromeOptions()\n",
    "options.add_argument('--headless')\n",
    "chrome = webdriver.Chrome(options=options)"
   ]
  },
  {
   "cell_type": "code",
   "execution_count": 5,
   "metadata": {},
   "outputs": [],
   "source": [
    "# chrome = webdriver.Chrome()"
   ]
  },
  {
   "cell_type": "code",
   "execution_count": 6,
   "metadata": {},
   "outputs": [],
   "source": [
    "chrome.get(url = 'http://wyborcza.pl/0,75248.html?str=100_23719317')"
   ]
  },
  {
   "cell_type": "code",
   "execution_count": 7,
   "metadata": {},
   "outputs": [],
   "source": [
    "sleep(10)"
   ]
  },
  {
   "cell_type": "code",
   "execution_count": 8,
   "metadata": {},
   "outputs": [],
   "source": [
    "# try to click rodo (first click opens sometimes an ad also)\n",
    "for i in range(3):\n",
    "    try:\n",
    "        sleep(3)\n",
    "        chrome.find_element_by_xpath('//*[@id=\"rodoNotificationWrapper\"]/div[1]/div/p[2]')\\\n",
    "            .click()\n",
    "    except:\n",
    "        pass"
   ]
  },
  {
   "cell_type": "code",
   "execution_count": 9,
   "metadata": {},
   "outputs": [],
   "source": [
    "# close new window if exists\n",
    "try:\n",
    "    chrome.switch_to.window(chrome.window_handles[1])\n",
    "    chrome.close()\n",
    "except:\n",
    "    pass"
   ]
  },
  {
   "cell_type": "code",
   "execution_count": 10,
   "metadata": {},
   "outputs": [],
   "source": [
    "chrome.switch_to.window(chrome.window_handles[0])"
   ]
  },
  {
   "cell_type": "code",
   "execution_count": 11,
   "metadata": {},
   "outputs": [],
   "source": [
    "chrome.get('https://login.wyborcza.pl/')"
   ]
  },
  {
   "cell_type": "code",
   "execution_count": 12,
   "metadata": {},
   "outputs": [],
   "source": [
    "chrome\\\n",
    "    .find_element_by_xpath('//*[@id=\"wyborczaEmail\"]')\\\n",
    "    .send_keys('slusarczyk1@wp.pl')"
   ]
  },
  {
   "cell_type": "code",
   "execution_count": 13,
   "metadata": {},
   "outputs": [],
   "source": [
    "chrome\\\n",
    "    .find_element_by_xpath('//*[@id=\"wyborczaPassword\"]')\\\n",
    "    .send_keys('Sraniejebanko1')"
   ]
  },
  {
   "cell_type": "code",
   "execution_count": 14,
   "metadata": {},
   "outputs": [],
   "source": [
    "chrome\\\n",
    "    .find_element_by_xpath('/html/body/section/section[1]/form/div[4]/button')\\\n",
    "    .click()"
   ]
  },
  {
   "cell_type": "code",
   "execution_count": 15,
   "metadata": {},
   "outputs": [],
   "source": [
    "sleep(3)"
   ]
  },
  {
   "cell_type": "code",
   "execution_count": 16,
   "metadata": {},
   "outputs": [],
   "source": [
    "# http://wyborcza.pl/0,93566.html?str=2_23721352 for video"
   ]
  },
  {
   "cell_type": "code",
   "execution_count": 17,
   "metadata": {},
   "outputs": [],
   "source": [
    "urls = []\n",
    "# NUMBERS TO CHANGE \\/\n",
    "for i in range(page_from, page_to):\n",
    "    chrome.get(url = 'http://wyborcza.pl/0,75248.html?str='+str(i)+'_23719317')\n",
    "    for entry in chrome\\\n",
    "        .find_element_by_xpath('//*[@id=\"pagetype_index\"]/section[5]/div/main/div/div[2]/div/div[2]/ul')\\\n",
    "        .find_elements_by_class_name('entry'):\n",
    "        \n",
    "        url = entry.find_element_by_tag_name('h3')\\\n",
    "                .find_element_by_tag_name('a')\\\n",
    "                .get_attribute('href')\n",
    "        #scrap_article(chrome, url, first_time)\n",
    "        urls.append(url)"
   ]
  },
  {
   "cell_type": "code",
   "execution_count": 18,
   "metadata": {},
   "outputs": [],
   "source": [
    "import pandas as pd"
   ]
  },
  {
   "cell_type": "code",
   "execution_count": 19,
   "metadata": {},
   "outputs": [],
   "source": [
    "df = pd.DataFrame(urls, columns = ['urls'])"
   ]
  },
  {
   "cell_type": "code",
   "execution_count": 20,
   "metadata": {},
   "outputs": [],
   "source": [
    "# backup\n",
    "df.to_csv('FILENAME_WITH_SCRAPPED_URLS_TO_SAVE.csv')"
   ]
  },
  {
   "cell_type": "code",
   "execution_count": 21,
   "metadata": {},
   "outputs": [],
   "source": [
    "df = pd.read_csv('FILENAME_WITH_SCRAPPED_URLS_TO_SAVE.csv')"
   ]
  },
  {
   "cell_type": "code",
   "execution_count": 22,
   "metadata": {},
   "outputs": [],
   "source": [
    "errors = []"
   ]
  },
  {
   "cell_type": "code",
   "execution_count": 23,
   "metadata": {},
   "outputs": [
    {
     "name": "stdout",
     "output_type": "stream",
     "text": [
      "http://lublin.wyborcza.pl/lublin/7,48724,24793298,w-dolhobyczowie-platforma-otworzyla-granice-z-ukraina-przyszedl.html\n",
      "http://wyborcza.pl/7,75399,24800431,beda-przedterminowe-wybory-w-austrii-koniec-romansu-chadecji.html\n",
      "http://wyborcza.pl/7,75398,24799022,premier-morawiecki-zakonczenie-roku-szkolnego-dwa-dni-wczesniej.html\n",
      "http://wyborcza.pl/7,75398,24798828,tusk-glosujac-na-europe-glosujecie-tez-na-wolna-demokratyczna.html\n",
      "http://kielce.wyborcza.pl/kielce/7,47262,24798558,dwoch-policjantow-rannych-podczas-interwencji-jeden-z-napastnikow.html\n",
      "http://wyborcza.pl/7,75399,24798352,polityczne-trzesienie-ziemi-w-wiedniu-beda-nowe-wybory.html\n",
      "http://wyborcza.pl/7,75400,24797843,krwawa-zemsta-na-hiszpanach-350-czlonkow-karawany-hernana-cortesa.html\n",
      "http://wyborcza.pl/7,75399,24796962,australijscy-aborygeni-skarza-swoj-rzad-do-onz-po-raz-pierwszy.html\n",
      "http://wyborcza.pl/7,155287,24796353,tak-zarabia-sie-dzis-na-mieszkaniach-kupujesz-remontujesz.html\n",
      "http://wyborcza.pl/7,75398,24797627,wyborcza-pisze-o-pozwie-prezydent-duda-odpowiada.html\n"
     ]
    }
   ],
   "source": [
    "for i, url in enumerate(df['urls']):\n",
    "    #print(url)\n",
    "    try:\n",
    "        a = scrap_article(chrome, url, True)\n",
    "        with open('comments/'+a['url'].split('/')[-1].split(',')[2], 'w') as f:\n",
    "            f.write(str({'row': {\n",
    "               'comments': a,\n",
    "               'timestamp': dt.timestamp(dt.now())\n",
    "               }\n",
    "            }))\n",
    "        #print(a['url'].split('/')[-1].split(',')[2])\n",
    "\n",
    "    except:\n",
    "        errors.append(url)\n",
    "        "
   ]
  },
  {
   "cell_type": "code",
   "execution_count": 25,
   "metadata": {},
   "outputs": [],
   "source": [
    "pd.DataFrame(errors, columns = ['urls']).to_csv('error_urls.csv')"
   ]
  },
  {
   "cell_type": "code",
   "execution_count": null,
   "metadata": {},
   "outputs": [],
   "source": []
  }
 ],
 "metadata": {
  "kernelspec": {
   "display_name": "Python 3",
   "language": "python",
   "name": "python3"
  },
  "language_info": {
   "codemirror_mode": {
    "name": "ipython",
    "version": 3
   },
   "file_extension": ".py",
   "mimetype": "text/x-python",
   "name": "python",
   "nbconvert_exporter": "python",
   "pygments_lexer": "ipython3",
   "version": "3.7.2"
  }
 },
 "nbformat": 4,
 "nbformat_minor": 2
}
