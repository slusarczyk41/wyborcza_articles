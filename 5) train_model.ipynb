{
 "cells": [
  {
   "cell_type": "code",
   "execution_count": 37,
   "metadata": {},
   "outputs": [],
   "source": [
    "from sklearn.feature_selection import SelectPercentile, SelectKBest\n",
    "from sklearn.feature_selection import f_classif\n",
    "from sklearn.decomposition import PCA\n",
    "\n",
    "from tensorflow.keras import Sequential, Model, Input\n",
    "from tensorflow.keras.layers import Dense, Dropout\n",
    "from tensorflow.nn import relu\n",
    "\n",
    "import pandas as pd\n",
    "import matplotlib.pyplot as plt\n",
    "from json import load as json_load\n",
    "from json import dump as json_dump"
   ]
  },
  {
   "cell_type": "markdown",
   "metadata": {},
   "source": [
    "## Training parameters"
   ]
  },
  {
   "cell_type": "code",
   "execution_count": 2,
   "metadata": {},
   "outputs": [],
   "source": [
    "# limit of input data size\n",
    "rows_limit = 40000\n",
    "\n",
    "# which features and label to consider\n",
    "selected_features = ['dates', 'categories', 'vectors', 'tfidf'] # ['dates', 'categories', 'vectors', 'tfidf']\n",
    "selected_label = 'rage_cat'\n",
    "\n",
    "# min count for idf\n",
    "min_count = 100\n",
    "\n",
    "# features selection\n",
    "select_method = 'percents' # 'percents'\n",
    "no_features = 10000\n",
    "features_percentile = 70\n",
    "\n",
    "#       ['replies', 'upvotes', 'downvotes', 'rage', 'joy', 'sadness', 'surprise',\n",
    "#        'fear', 'reactions', 'reactions_sentiment', 'replies_cat',\n",
    "#        'upvotes_cat', 'downvotes_cat', 'reactions_cat',\n",
    "#        'reactions_sentiment_cat', 'rage_cat', 'joy_cat', 'sadness_cat',\n",
    "#        'surprise_cat', 'fear_cat']"
   ]
  },
  {
   "cell_type": "markdown",
   "metadata": {},
   "source": [
    "## Data reading"
   ]
  },
  {
   "cell_type": "code",
   "execution_count": 3,
   "metadata": {},
   "outputs": [],
   "source": [
    "df = pd.read_csv('labeling/fresh_data.csv', nrows = rows_limit)\\\n",
    "    .set_index('id')\\\n",
    "    .drop_duplicates(keep = 'first')\n",
    "df = df.drop(['title', 'highlight', 'content', 'media_desc'], axis = 1)"
   ]
  },
  {
   "cell_type": "code",
   "execution_count": 4,
   "metadata": {},
   "outputs": [
    {
     "data": {
      "text/html": [
       "<div>\n",
       "<style scoped>\n",
       "    .dataframe tbody tr th:only-of-type {\n",
       "        vertical-align: middle;\n",
       "    }\n",
       "\n",
       "    .dataframe tbody tr th {\n",
       "        vertical-align: top;\n",
       "    }\n",
       "\n",
       "    .dataframe thead th {\n",
       "        text-align: right;\n",
       "    }\n",
       "</style>\n",
       "<table border=\"1\" class=\"dataframe\">\n",
       "  <thead>\n",
       "    <tr style=\"text-align: right;\">\n",
       "      <th></th>\n",
       "      <th>div</th>\n",
       "      <th>date</th>\n",
       "      <th>author</th>\n",
       "      <th>media_type</th>\n",
       "      <th>replies</th>\n",
       "      <th>upvotes</th>\n",
       "      <th>downvotes</th>\n",
       "      <th>rage</th>\n",
       "      <th>joy</th>\n",
       "      <th>sadness</th>\n",
       "      <th>surprise</th>\n",
       "      <th>fear</th>\n",
       "      <th>reactions</th>\n",
       "      <th>reactions_sentiment</th>\n",
       "    </tr>\n",
       "    <tr>\n",
       "      <th>id</th>\n",
       "      <th></th>\n",
       "      <th></th>\n",
       "      <th></th>\n",
       "      <th></th>\n",
       "      <th></th>\n",
       "      <th></th>\n",
       "      <th></th>\n",
       "      <th></th>\n",
       "      <th></th>\n",
       "      <th></th>\n",
       "      <th></th>\n",
       "      <th></th>\n",
       "      <th></th>\n",
       "      <th></th>\n",
       "    </tr>\n",
       "  </thead>\n",
       "  <tbody>\n",
       "    <tr>\n",
       "      <th>24247530</th>\n",
       "      <td>dekomunizacja ulic</td>\n",
       "      <td>2018-12-06 13:00:00</td>\n",
       "      <td>Jarosław Osowski</td>\n",
       "      <td>image</td>\n",
       "      <td>7</td>\n",
       "      <td>44</td>\n",
       "      <td>1</td>\n",
       "      <td>0</td>\n",
       "      <td>2</td>\n",
       "      <td>0</td>\n",
       "      <td>0</td>\n",
       "      <td>2</td>\n",
       "      <td>45</td>\n",
       "      <td>0.98</td>\n",
       "    </tr>\n",
       "    <tr>\n",
       "      <th>24593465</th>\n",
       "      <td>CBA</td>\n",
       "      <td>2019-03-28 13:40:00</td>\n",
       "      <td>mch</td>\n",
       "      <td>image</td>\n",
       "      <td>3</td>\n",
       "      <td>9</td>\n",
       "      <td>0</td>\n",
       "      <td>0</td>\n",
       "      <td>0</td>\n",
       "      <td>0</td>\n",
       "      <td>0</td>\n",
       "      <td>0</td>\n",
       "      <td>9</td>\n",
       "      <td>1.00</td>\n",
       "    </tr>\n",
       "    <tr>\n",
       "      <th>24376781</th>\n",
       "      <td>Kraj</td>\n",
       "      <td>2019-01-18 14:17:00</td>\n",
       "      <td>Antonio Tajani</td>\n",
       "      <td>image</td>\n",
       "      <td>28</td>\n",
       "      <td>567</td>\n",
       "      <td>10</td>\n",
       "      <td>0</td>\n",
       "      <td>3</td>\n",
       "      <td>0</td>\n",
       "      <td>0</td>\n",
       "      <td>8</td>\n",
       "      <td>577</td>\n",
       "      <td>0.98</td>\n",
       "    </tr>\n",
       "  </tbody>\n",
       "</table>\n",
       "</div>"
      ],
      "text/plain": [
       "                         div                 date            author  \\\n",
       "id                                                                    \n",
       "24247530  dekomunizacja ulic  2018-12-06 13:00:00  Jarosław Osowski   \n",
       "24593465                 CBA  2019-03-28 13:40:00               mch   \n",
       "24376781               Kraj   2019-01-18 14:17:00    Antonio Tajani   \n",
       "\n",
       "         media_type  replies  upvotes  downvotes  rage  joy  sadness  \\\n",
       "id                                                                     \n",
       "24247530      image        7       44          1     0    2        0   \n",
       "24593465      image        3        9          0     0    0        0   \n",
       "24376781      image       28      567         10     0    3        0   \n",
       "\n",
       "          surprise  fear  reactions  reactions_sentiment  \n",
       "id                                                        \n",
       "24247530         0     2         45                 0.98  \n",
       "24593465         0     0          9                 1.00  \n",
       "24376781         0     8        577                 0.98  "
      ]
     },
     "execution_count": 4,
     "metadata": {},
     "output_type": "execute_result"
    }
   ],
   "source": [
    "df.head(3)"
   ]
  },
  {
   "cell_type": "markdown",
   "metadata": {},
   "source": [
    "## Data preparation"
   ]
  },
  {
   "cell_type": "code",
   "execution_count": 5,
   "metadata": {},
   "outputs": [],
   "source": [
    "labels_columns = ['replies', 'upvotes', 'downvotes', 'rage', 'joy', 'sadness', 'surprise', \n",
    "                  'fear', 'reactions', 'reactions_sentiment']\n",
    "labels_df = df[[selected_label.split('_')[0]]]\n",
    "df = df.drop(labels_columns, axis = 1)"
   ]
  },
  {
   "cell_type": "code",
   "execution_count": 6,
   "metadata": {},
   "outputs": [],
   "source": [
    "def process_dates(df):\n",
    "    df['date'] = pd.to_datetime(df['date'])\n",
    "    df = pd.concat([\n",
    "        df,\n",
    "        pd.get_dummies(df['date'].dt.weekday, prefix = 'weekday'),\n",
    "        pd.get_dummies(df['date'].dt.hour, prefix = 'hour'),\n",
    "    ], axis = 1)\n",
    "    return df"
   ]
  },
  {
   "cell_type": "code",
   "execution_count": 7,
   "metadata": {},
   "outputs": [
    {
     "data": {
      "text/plain": [
       "(35233, 4)"
      ]
     },
     "execution_count": 7,
     "metadata": {},
     "output_type": "execute_result"
    }
   ],
   "source": [
    "df.shape"
   ]
  },
  {
   "cell_type": "code",
   "execution_count": 8,
   "metadata": {},
   "outputs": [],
   "source": [
    "if 'dates' in selected_features:\n",
    "    df = process_dates(df)\n",
    "df = df.drop('date', axis = 1)"
   ]
  },
  {
   "cell_type": "code",
   "execution_count": 9,
   "metadata": {},
   "outputs": [
    {
     "data": {
      "text/plain": [
       "(35233, 34)"
      ]
     },
     "execution_count": 9,
     "metadata": {},
     "output_type": "execute_result"
    }
   ],
   "source": [
    "df.shape"
   ]
  },
  {
   "cell_type": "code",
   "execution_count": 33,
   "metadata": {},
   "outputs": [],
   "source": [
    "def process_author_div_and_media_type(df):\n",
    "    column_names = {}\n",
    "    column_names[\"author\"] = pd.get_dummies(df['author']).columns.tolist()\n",
    "    column_names[\"div\"] = pd.get_dummies(df['div']).columns.tolist()\n",
    "    column_names[\"media_type\"] = pd.get_dummies(df['media_type']).columns.tolist()\n",
    "    df = pd.concat([\n",
    "        df,\n",
    "        pd.get_dummies(df['author'], prefix = 'author'),\n",
    "        pd.get_dummies(df['div'], prefix = 'div'),\n",
    "        pd.get_dummies(df['media_type'], prefix = 'media_type')\n",
    "    ], axis = 1)\n",
    "    return df, column_names"
   ]
  },
  {
   "cell_type": "code",
   "execution_count": 34,
   "metadata": {},
   "outputs": [],
   "source": [
    "if 'categories' in selected_features:\n",
    "    df, column_names = process_author_div_and_media_type(df)\n",
    "df = df.drop(['author', 'div', 'media_type'], axis = 1)"
   ]
  },
  {
   "cell_type": "code",
   "execution_count": 40,
   "metadata": {},
   "outputs": [
    {
     "name": "stdout",
     "output_type": "stream",
     "text": [
      "3837\n",
      "div\n",
      "3\n",
      "media_type\n",
      "1475\n",
      "author\n"
     ]
    }
   ],
   "source": [
    "for d_key, d_list in column_names.items():\n",
    "    with open('labeling/'+d_key+\"_dict\", 'w') as f:\n",
    "        json_dump(d_list, f)\n",
    "        print(len(d_list))\n",
    "        print(d_key)"
   ]
  },
  {
   "cell_type": "code",
   "execution_count": 13,
   "metadata": {},
   "outputs": [
    {
     "data": {
      "text/plain": [
       "(35233, 5346)"
      ]
     },
     "execution_count": 13,
     "metadata": {},
     "output_type": "execute_result"
    }
   ],
   "source": [
    "df.shape"
   ]
  },
  {
   "cell_type": "code",
   "execution_count": 16,
   "metadata": {},
   "outputs": [
    {
     "data": {
      "text/plain": [
       "5315"
      ]
     },
     "execution_count": 16,
     "metadata": {},
     "output_type": "execute_result"
    }
   ],
   "source": [
    "5346 - 34 + 3"
   ]
  },
  {
   "cell_type": "code",
   "execution_count": 15,
   "metadata": {},
   "outputs": [
    {
     "data": {
      "text/plain": [
       "5317"
      ]
     },
     "execution_count": 15,
     "metadata": {},
     "output_type": "execute_result"
    }
   ],
   "source": [
    "1476 + 3 + 3838"
   ]
  },
  {
   "cell_type": "code",
   "execution_count": 11,
   "metadata": {},
   "outputs": [
    {
     "data": {
      "text/html": [
       "<div>\n",
       "<style scoped>\n",
       "    .dataframe tbody tr th:only-of-type {\n",
       "        vertical-align: middle;\n",
       "    }\n",
       "\n",
       "    .dataframe tbody tr th {\n",
       "        vertical-align: top;\n",
       "    }\n",
       "\n",
       "    .dataframe thead th {\n",
       "        text-align: right;\n",
       "    }\n",
       "</style>\n",
       "<table border=\"1\" class=\"dataframe\">\n",
       "  <thead>\n",
       "    <tr style=\"text-align: right;\">\n",
       "      <th></th>\n",
       "      <th>weekday_0.0</th>\n",
       "      <th>weekday_1.0</th>\n",
       "      <th>weekday_2.0</th>\n",
       "      <th>weekday_3.0</th>\n",
       "      <th>weekday_4.0</th>\n",
       "      <th>weekday_5.0</th>\n",
       "      <th>weekday_6.0</th>\n",
       "      <th>hour_0.0</th>\n",
       "      <th>hour_1.0</th>\n",
       "      <th>hour_2.0</th>\n",
       "      <th>...</th>\n",
       "      <th>div_żuławski tulipan</th>\n",
       "      <th>div_żuławy</th>\n",
       "      <th>div_żużel</th>\n",
       "      <th>div_żydzi</th>\n",
       "      <th>div_żydzi w warszawie</th>\n",
       "      <th>div_żywność</th>\n",
       "      <th>div_żłobki</th>\n",
       "      <th>media_type_image</th>\n",
       "      <th>media_type_multiple_images</th>\n",
       "      <th>media_type_video</th>\n",
       "    </tr>\n",
       "    <tr>\n",
       "      <th>id</th>\n",
       "      <th></th>\n",
       "      <th></th>\n",
       "      <th></th>\n",
       "      <th></th>\n",
       "      <th></th>\n",
       "      <th></th>\n",
       "      <th></th>\n",
       "      <th></th>\n",
       "      <th></th>\n",
       "      <th></th>\n",
       "      <th></th>\n",
       "      <th></th>\n",
       "      <th></th>\n",
       "      <th></th>\n",
       "      <th></th>\n",
       "      <th></th>\n",
       "      <th></th>\n",
       "      <th></th>\n",
       "      <th></th>\n",
       "      <th></th>\n",
       "      <th></th>\n",
       "    </tr>\n",
       "  </thead>\n",
       "  <tbody>\n",
       "    <tr>\n",
       "      <th>24247530</th>\n",
       "      <td>0</td>\n",
       "      <td>0</td>\n",
       "      <td>0</td>\n",
       "      <td>1</td>\n",
       "      <td>0</td>\n",
       "      <td>0</td>\n",
       "      <td>0</td>\n",
       "      <td>0</td>\n",
       "      <td>0</td>\n",
       "      <td>0</td>\n",
       "      <td>...</td>\n",
       "      <td>0</td>\n",
       "      <td>0</td>\n",
       "      <td>0</td>\n",
       "      <td>0</td>\n",
       "      <td>0</td>\n",
       "      <td>0</td>\n",
       "      <td>0</td>\n",
       "      <td>1</td>\n",
       "      <td>0</td>\n",
       "      <td>0</td>\n",
       "    </tr>\n",
       "    <tr>\n",
       "      <th>24593465</th>\n",
       "      <td>0</td>\n",
       "      <td>0</td>\n",
       "      <td>0</td>\n",
       "      <td>1</td>\n",
       "      <td>0</td>\n",
       "      <td>0</td>\n",
       "      <td>0</td>\n",
       "      <td>0</td>\n",
       "      <td>0</td>\n",
       "      <td>0</td>\n",
       "      <td>...</td>\n",
       "      <td>0</td>\n",
       "      <td>0</td>\n",
       "      <td>0</td>\n",
       "      <td>0</td>\n",
       "      <td>0</td>\n",
       "      <td>0</td>\n",
       "      <td>0</td>\n",
       "      <td>1</td>\n",
       "      <td>0</td>\n",
       "      <td>0</td>\n",
       "    </tr>\n",
       "    <tr>\n",
       "      <th>24376781</th>\n",
       "      <td>0</td>\n",
       "      <td>0</td>\n",
       "      <td>0</td>\n",
       "      <td>0</td>\n",
       "      <td>1</td>\n",
       "      <td>0</td>\n",
       "      <td>0</td>\n",
       "      <td>0</td>\n",
       "      <td>0</td>\n",
       "      <td>0</td>\n",
       "      <td>...</td>\n",
       "      <td>0</td>\n",
       "      <td>0</td>\n",
       "      <td>0</td>\n",
       "      <td>0</td>\n",
       "      <td>0</td>\n",
       "      <td>0</td>\n",
       "      <td>0</td>\n",
       "      <td>1</td>\n",
       "      <td>0</td>\n",
       "      <td>0</td>\n",
       "    </tr>\n",
       "  </tbody>\n",
       "</table>\n",
       "<p>3 rows × 5346 columns</p>\n",
       "</div>"
      ],
      "text/plain": [
       "          weekday_0.0  weekday_1.0  weekday_2.0  weekday_3.0  weekday_4.0  \\\n",
       "id                                                                          \n",
       "24247530            0            0            0            1            0   \n",
       "24593465            0            0            0            1            0   \n",
       "24376781            0            0            0            0            1   \n",
       "\n",
       "          weekday_5.0  weekday_6.0  hour_0.0  hour_1.0  hour_2.0  ...  \\\n",
       "id                                                                ...   \n",
       "24247530            0            0         0         0         0  ...   \n",
       "24593465            0            0         0         0         0  ...   \n",
       "24376781            0            0         0         0         0  ...   \n",
       "\n",
       "          div_żuławski tulipan  div_żuławy  div_żużel  div_żydzi  \\\n",
       "id                                                                 \n",
       "24247530                     0           0          0          0   \n",
       "24593465                     0           0          0          0   \n",
       "24376781                     0           0          0          0   \n",
       "\n",
       "          div_żydzi w warszawie  div_żywność  div_żłobki  media_type_image  \\\n",
       "id                                                                           \n",
       "24247530                      0            0           0                 1   \n",
       "24593465                      0            0           0                 1   \n",
       "24376781                      0            0           0                 1   \n",
       "\n",
       "          media_type_multiple_images  media_type_video  \n",
       "id                                                      \n",
       "24247530                           0                 0  \n",
       "24593465                           0                 0  \n",
       "24376781                           0                 0  \n",
       "\n",
       "[3 rows x 5346 columns]"
      ]
     },
     "execution_count": 11,
     "metadata": {},
     "output_type": "execute_result"
    }
   ],
   "source": [
    "df.head(3)"
   ]
  },
  {
   "cell_type": "code",
   "execution_count": 12,
   "metadata": {},
   "outputs": [
    {
     "data": {
      "text/plain": [
       "(35233, 5346)"
      ]
     },
     "execution_count": 12,
     "metadata": {},
     "output_type": "execute_result"
    }
   ],
   "source": [
    "df.shape"
   ]
  },
  {
   "cell_type": "code",
   "execution_count": 13,
   "metadata": {},
   "outputs": [],
   "source": [
    "def add_vectors(columns, index, labels_df):\n",
    "    column_vectors = []\n",
    "    pca_dict = {}\n",
    "    for column in columns:\n",
    "        tmp = pd.read_csv('labeling/'+column+'_vec').set_index('id').reindex(index)\n",
    "        pca = PCA(n_components = 50)\n",
    "        pca.fit(tmp.values, labels_df.values)\n",
    "        tmp_values = pca.transform(tmp.values)\n",
    "        tmp = pd.DataFrame(tmp_values, index = index)\n",
    "        tmp.columns = [column+\"_\"+str(x) for x in range(len(tmp.columns))]\n",
    "        column_vectors.append(tmp)\n",
    "        pca_dict[column] = pca\n",
    "    return pd.concat(column_vectors, axis = 1), pca_dict"
   ]
  },
  {
   "cell_type": "code",
   "execution_count": 14,
   "metadata": {},
   "outputs": [],
   "source": [
    "if 'vectors' in selected_features:\n",
    "    vectors, pca_vectors = add_vectors(['content', 'highlight', 'title', 'media_desc'], df.index, labels_df)\n",
    "    df = pd.concat([df, vectors], axis = 1)"
   ]
  },
  {
   "cell_type": "code",
   "execution_count": 17,
   "metadata": {},
   "outputs": [
    {
     "data": {
      "text/html": [
       "<div>\n",
       "<style scoped>\n",
       "    .dataframe tbody tr th:only-of-type {\n",
       "        vertical-align: middle;\n",
       "    }\n",
       "\n",
       "    .dataframe tbody tr th {\n",
       "        vertical-align: top;\n",
       "    }\n",
       "\n",
       "    .dataframe thead th {\n",
       "        text-align: right;\n",
       "    }\n",
       "</style>\n",
       "<table border=\"1\" class=\"dataframe\">\n",
       "  <thead>\n",
       "    <tr style=\"text-align: right;\">\n",
       "      <th></th>\n",
       "      <th>weekday_0.0</th>\n",
       "      <th>weekday_1.0</th>\n",
       "      <th>weekday_2.0</th>\n",
       "      <th>weekday_3.0</th>\n",
       "      <th>weekday_4.0</th>\n",
       "      <th>weekday_5.0</th>\n",
       "      <th>weekday_6.0</th>\n",
       "      <th>hour_0.0</th>\n",
       "      <th>hour_1.0</th>\n",
       "      <th>hour_2.0</th>\n",
       "      <th>...</th>\n",
       "      <th>media_desc_40</th>\n",
       "      <th>media_desc_41</th>\n",
       "      <th>media_desc_42</th>\n",
       "      <th>media_desc_43</th>\n",
       "      <th>media_desc_44</th>\n",
       "      <th>media_desc_45</th>\n",
       "      <th>media_desc_46</th>\n",
       "      <th>media_desc_47</th>\n",
       "      <th>media_desc_48</th>\n",
       "      <th>media_desc_49</th>\n",
       "    </tr>\n",
       "    <tr>\n",
       "      <th>id</th>\n",
       "      <th></th>\n",
       "      <th></th>\n",
       "      <th></th>\n",
       "      <th></th>\n",
       "      <th></th>\n",
       "      <th></th>\n",
       "      <th></th>\n",
       "      <th></th>\n",
       "      <th></th>\n",
       "      <th></th>\n",
       "      <th></th>\n",
       "      <th></th>\n",
       "      <th></th>\n",
       "      <th></th>\n",
       "      <th></th>\n",
       "      <th></th>\n",
       "      <th></th>\n",
       "      <th></th>\n",
       "      <th></th>\n",
       "      <th></th>\n",
       "      <th></th>\n",
       "    </tr>\n",
       "  </thead>\n",
       "  <tbody>\n",
       "    <tr>\n",
       "      <th>24247530</th>\n",
       "      <td>0</td>\n",
       "      <td>0</td>\n",
       "      <td>0</td>\n",
       "      <td>1</td>\n",
       "      <td>0</td>\n",
       "      <td>0</td>\n",
       "      <td>0</td>\n",
       "      <td>0</td>\n",
       "      <td>0</td>\n",
       "      <td>0</td>\n",
       "      <td>...</td>\n",
       "      <td>-0.052617</td>\n",
       "      <td>-0.087159</td>\n",
       "      <td>0.007548</td>\n",
       "      <td>-0.000144</td>\n",
       "      <td>0.023022</td>\n",
       "      <td>-0.137771</td>\n",
       "      <td>-0.245355</td>\n",
       "      <td>0.046738</td>\n",
       "      <td>-0.002610</td>\n",
       "      <td>0.126668</td>\n",
       "    </tr>\n",
       "    <tr>\n",
       "      <th>24593465</th>\n",
       "      <td>0</td>\n",
       "      <td>0</td>\n",
       "      <td>0</td>\n",
       "      <td>1</td>\n",
       "      <td>0</td>\n",
       "      <td>0</td>\n",
       "      <td>0</td>\n",
       "      <td>0</td>\n",
       "      <td>0</td>\n",
       "      <td>0</td>\n",
       "      <td>...</td>\n",
       "      <td>-0.003857</td>\n",
       "      <td>-0.001148</td>\n",
       "      <td>0.010434</td>\n",
       "      <td>0.007388</td>\n",
       "      <td>-0.004525</td>\n",
       "      <td>0.001568</td>\n",
       "      <td>0.002805</td>\n",
       "      <td>0.001702</td>\n",
       "      <td>0.001177</td>\n",
       "      <td>-0.000242</td>\n",
       "    </tr>\n",
       "    <tr>\n",
       "      <th>24376781</th>\n",
       "      <td>0</td>\n",
       "      <td>0</td>\n",
       "      <td>0</td>\n",
       "      <td>0</td>\n",
       "      <td>1</td>\n",
       "      <td>0</td>\n",
       "      <td>0</td>\n",
       "      <td>0</td>\n",
       "      <td>0</td>\n",
       "      <td>0</td>\n",
       "      <td>...</td>\n",
       "      <td>0.130681</td>\n",
       "      <td>0.029628</td>\n",
       "      <td>-0.022455</td>\n",
       "      <td>-0.355337</td>\n",
       "      <td>0.096901</td>\n",
       "      <td>0.111422</td>\n",
       "      <td>0.005927</td>\n",
       "      <td>0.072138</td>\n",
       "      <td>-0.023228</td>\n",
       "      <td>-0.032665</td>\n",
       "    </tr>\n",
       "    <tr>\n",
       "      <th>22852664</th>\n",
       "      <td>0</td>\n",
       "      <td>0</td>\n",
       "      <td>1</td>\n",
       "      <td>0</td>\n",
       "      <td>0</td>\n",
       "      <td>0</td>\n",
       "      <td>0</td>\n",
       "      <td>0</td>\n",
       "      <td>0</td>\n",
       "      <td>0</td>\n",
       "      <td>...</td>\n",
       "      <td>-0.150608</td>\n",
       "      <td>0.050769</td>\n",
       "      <td>-0.029463</td>\n",
       "      <td>0.043296</td>\n",
       "      <td>-0.187217</td>\n",
       "      <td>0.152652</td>\n",
       "      <td>0.279605</td>\n",
       "      <td>-0.075095</td>\n",
       "      <td>-0.034097</td>\n",
       "      <td>0.075607</td>\n",
       "    </tr>\n",
       "    <tr>\n",
       "      <th>24320164</th>\n",
       "      <td>1</td>\n",
       "      <td>0</td>\n",
       "      <td>0</td>\n",
       "      <td>0</td>\n",
       "      <td>0</td>\n",
       "      <td>0</td>\n",
       "      <td>0</td>\n",
       "      <td>0</td>\n",
       "      <td>0</td>\n",
       "      <td>0</td>\n",
       "      <td>...</td>\n",
       "      <td>0.082357</td>\n",
       "      <td>0.076234</td>\n",
       "      <td>-0.089086</td>\n",
       "      <td>0.149493</td>\n",
       "      <td>-0.009153</td>\n",
       "      <td>-0.207634</td>\n",
       "      <td>0.165732</td>\n",
       "      <td>0.064681</td>\n",
       "      <td>0.035481</td>\n",
       "      <td>0.019499</td>\n",
       "    </tr>\n",
       "  </tbody>\n",
       "</table>\n",
       "<p>5 rows × 5546 columns</p>\n",
       "</div>"
      ],
      "text/plain": [
       "          weekday_0.0  weekday_1.0  weekday_2.0  weekday_3.0  weekday_4.0  \\\n",
       "id                                                                          \n",
       "24247530            0            0            0            1            0   \n",
       "24593465            0            0            0            1            0   \n",
       "24376781            0            0            0            0            1   \n",
       "22852664            0            0            1            0            0   \n",
       "24320164            1            0            0            0            0   \n",
       "\n",
       "          weekday_5.0  weekday_6.0  hour_0.0  hour_1.0  hour_2.0  ...  \\\n",
       "id                                                                ...   \n",
       "24247530            0            0         0         0         0  ...   \n",
       "24593465            0            0         0         0         0  ...   \n",
       "24376781            0            0         0         0         0  ...   \n",
       "22852664            0            0         0         0         0  ...   \n",
       "24320164            0            0         0         0         0  ...   \n",
       "\n",
       "          media_desc_40  media_desc_41  media_desc_42  media_desc_43  \\\n",
       "id                                                                     \n",
       "24247530      -0.052617      -0.087159       0.007548      -0.000144   \n",
       "24593465      -0.003857      -0.001148       0.010434       0.007388   \n",
       "24376781       0.130681       0.029628      -0.022455      -0.355337   \n",
       "22852664      -0.150608       0.050769      -0.029463       0.043296   \n",
       "24320164       0.082357       0.076234      -0.089086       0.149493   \n",
       "\n",
       "          media_desc_44  media_desc_45  media_desc_46  media_desc_47  \\\n",
       "id                                                                     \n",
       "24247530       0.023022      -0.137771      -0.245355       0.046738   \n",
       "24593465      -0.004525       0.001568       0.002805       0.001702   \n",
       "24376781       0.096901       0.111422       0.005927       0.072138   \n",
       "22852664      -0.187217       0.152652       0.279605      -0.075095   \n",
       "24320164      -0.009153      -0.207634       0.165732       0.064681   \n",
       "\n",
       "          media_desc_48  media_desc_49  \n",
       "id                                      \n",
       "24247530      -0.002610       0.126668  \n",
       "24593465       0.001177      -0.000242  \n",
       "24376781      -0.023228      -0.032665  \n",
       "22852664      -0.034097       0.075607  \n",
       "24320164       0.035481       0.019499  \n",
       "\n",
       "[5 rows x 5546 columns]"
      ]
     },
     "execution_count": 17,
     "metadata": {},
     "output_type": "execute_result"
    }
   ],
   "source": [
    "df.head(5)"
   ]
  },
  {
   "cell_type": "code",
   "execution_count": 18,
   "metadata": {},
   "outputs": [
    {
     "data": {
      "text/plain": [
       "(35233, 5546)"
      ]
     },
     "execution_count": 18,
     "metadata": {},
     "output_type": "execute_result"
    }
   ],
   "source": [
    "df.shape"
   ]
  },
  {
   "cell_type": "code",
   "execution_count": 19,
   "metadata": {},
   "outputs": [],
   "source": [
    "from json import load\n",
    "import numpy as np\n",
    "from collections import Counter"
   ]
  },
  {
   "cell_type": "code",
   "execution_count": 20,
   "metadata": {},
   "outputs": [],
   "source": [
    "with open('labeling/idf_dict', 'r') as f:\n",
    "    idf = {key: value for key, value in load(f).items() if value >= min_count}\n",
    "    idf_voc = idf.keys()"
   ]
  },
  {
   "cell_type": "code",
   "execution_count": 21,
   "metadata": {},
   "outputs": [],
   "source": [
    "lemmas = pd.read_csv('labeling/lemmatized_articles.csv', nrows = rows_limit).set_index('id').fillna('')"
   ]
  },
  {
   "cell_type": "code",
   "execution_count": 22,
   "metadata": {},
   "outputs": [
    {
     "data": {
      "text/html": [
       "<div>\n",
       "<style scoped>\n",
       "    .dataframe tbody tr th:only-of-type {\n",
       "        vertical-align: middle;\n",
       "    }\n",
       "\n",
       "    .dataframe tbody tr th {\n",
       "        vertical-align: top;\n",
       "    }\n",
       "\n",
       "    .dataframe thead th {\n",
       "        text-align: right;\n",
       "    }\n",
       "</style>\n",
       "<table border=\"1\" class=\"dataframe\">\n",
       "  <thead>\n",
       "    <tr style=\"text-align: right;\">\n",
       "      <th></th>\n",
       "      <th>content</th>\n",
       "      <th>highlight</th>\n",
       "      <th>media_desc</th>\n",
       "      <th>title</th>\n",
       "    </tr>\n",
       "    <tr>\n",
       "      <th>id</th>\n",
       "      <th></th>\n",
       "      <th></th>\n",
       "      <th></th>\n",
       "      <th></th>\n",
       "    </tr>\n",
       "  </thead>\n",
       "  <tbody>\n",
       "    <tr>\n",
       "      <th>24247530</th>\n",
       "      <td>piatkowej wokanda nsa figurowac nazwa stoleczn...</td>\n",
       "      <td>naczelny sad administracyjny rozny finalizowac...</td>\n",
       "      <td>marzec zakladanie nowy tablica dawny al armia ...</td>\n",
       "      <td>czas wyczekiwac final dekomunizacja ulica piat...</td>\n",
       "    </tr>\n",
       "  </tbody>\n",
       "</table>\n",
       "</div>"
      ],
      "text/plain": [
       "                                                    content  \\\n",
       "id                                                            \n",
       "24247530  piatkowej wokanda nsa figurowac nazwa stoleczn...   \n",
       "\n",
       "                                                  highlight  \\\n",
       "id                                                            \n",
       "24247530  naczelny sad administracyjny rozny finalizowac...   \n",
       "\n",
       "                                                 media_desc  \\\n",
       "id                                                            \n",
       "24247530  marzec zakladanie nowy tablica dawny al armia ...   \n",
       "\n",
       "                                                      title  \n",
       "id                                                           \n",
       "24247530  czas wyczekiwac final dekomunizacja ulica piat...  "
      ]
     },
     "execution_count": 22,
     "metadata": {},
     "output_type": "execute_result"
    }
   ],
   "source": [
    "lemmas.head(1)"
   ]
  },
  {
   "cell_type": "code",
   "execution_count": 23,
   "metadata": {},
   "outputs": [],
   "source": [
    "def add_tf_idf(columns, index, labels_df):\n",
    "    whole_string = ''\n",
    "    for column in columns:\n",
    "        whole_string = whole_string + lemmas[column] + ' '\n",
    "    tf_idf = []\n",
    "    for record in whole_string.values:\n",
    "        return_record = []\n",
    "        counts = dict(Counter(record.split(' ')))\n",
    "        for feature_word in idf_voc:\n",
    "            if feature_word in counts.keys():\n",
    "                return_record.append(counts[feature_word]/idf[feature_word])\n",
    "            else:\n",
    "                return_record.append(0)\n",
    "        tf_idf.append(return_record)\n",
    "        \n",
    "    tmp = pd.DataFrame(tf_idf, index = index)\n",
    "    pca = PCA(n_components = int(len(tmp.columns)*0.2))\n",
    "    pca.fit(tmp.values, labels_df.values)\n",
    "    tmp_values = pca.transform(tmp.values)\n",
    "    tmp = pd.DataFrame(tmp_values, index = index)\n",
    "    tmp.columns = ['tf_idf_'+str(x) for x in range(len(tmp.columns))]\n",
    "    \n",
    "    return tmp, pca"
   ]
  },
  {
   "cell_type": "code",
   "execution_count": 24,
   "metadata": {
    "scrolled": true
   },
   "outputs": [],
   "source": [
    "if 'tfidf' in selected_features:\n",
    "    tfidf_col, tfidf_pca = add_tf_idf(['content', 'highlight', 'title', 'media_desc'], df.index, labels_df)\n",
    "    df = pd.concat([df, tfidf_col], axis = 1)"
   ]
  },
  {
   "cell_type": "code",
   "execution_count": 25,
   "metadata": {},
   "outputs": [
    {
     "data": {
      "text/plain": [
       "(35233, 6905)"
      ]
     },
     "execution_count": 25,
     "metadata": {},
     "output_type": "execute_result"
    }
   ],
   "source": [
    "df.shape"
   ]
  },
  {
   "cell_type": "code",
   "execution_count": 26,
   "metadata": {},
   "outputs": [
    {
     "data": {
      "text/plain": [
       "(35233, 1)"
      ]
     },
     "execution_count": 26,
     "metadata": {},
     "output_type": "execute_result"
    }
   ],
   "source": [
    "labels_df.shape"
   ]
  },
  {
   "cell_type": "markdown",
   "metadata": {},
   "source": [
    "## Categorize labels"
   ]
  },
  {
   "cell_type": "code",
   "execution_count": 27,
   "metadata": {},
   "outputs": [],
   "source": [
    "import matplotlib.pyplot as plt"
   ]
  },
  {
   "cell_type": "code",
   "execution_count": 28,
   "metadata": {},
   "outputs": [
    {
     "data": {
      "image/png": "[encoded data removed]",
      "text/plain": [
       "<Figure size 432x288 with 4 Axes>"
      ]
     },
     "metadata": {
      "needs_background": "light"
     },
     "output_type": "display_data"
    }
   ],
   "source": [
    "fig, axes = plt.subplots(4)\n",
    "for i, column in enumerate(['replies', 'upvotes', 'downvotes', 'reactions']):\n",
    "    try:\n",
    "        threshold = labels_df[column].quantile(0.9)\n",
    "        print(threshold)\n",
    "        labels_df.loc[labels_df[column] > threshold, column] = threshold\n",
    "        labels_df[column].plot(kind = 'hist', bins = 100, figsize= (15,10), title = column, ax = axes[i])\n",
    "    except:\n",
    "        pass"
   ]
  },
  {
   "cell_type": "code",
   "execution_count": 29,
   "metadata": {},
   "outputs": [],
   "source": [
    "try:\n",
    "    labels_df['reactions_sentiment'] = labels_df['reactions_sentiment'].fillna(0)\n",
    "except:\n",
    "    pass"
   ]
  },
  {
   "cell_type": "code",
   "execution_count": 30,
   "metadata": {},
   "outputs": [],
   "source": [
    "categories = []\n",
    "categories_columns = ['replies', 'upvotes', 'downvotes', 'reactions', \n",
    "                      'reactions_sentiment', 'rage', 'joy', 'sadness',\n",
    "                      'surprise', 'fear']\n",
    "for column in categories_columns:\n",
    "    try:\n",
    "        categories.append(pd.qcut(labels_df[column], 3, labels = [-1, 0, 1]))\n",
    "    except:\n",
    "        pass\n",
    "try:\n",
    "    tmp_cat = pd.concat(categories, axis = 1)\n",
    "    tmp_cat.columns = [selected_label.split('_')[0]+\"_cat_3\"]\n",
    "    labels_df = pd.concat([labels_df, tmp_cat], axis = 1)\n",
    "except:\n",
    "    pass"
   ]
  },
  {
   "cell_type": "code",
   "execution_count": 31,
   "metadata": {},
   "outputs": [
    {
     "data": {
      "text/html": [
       "<div>\n",
       "<style scoped>\n",
       "    .dataframe tbody tr th:only-of-type {\n",
       "        vertical-align: middle;\n",
       "    }\n",
       "\n",
       "    .dataframe tbody tr th {\n",
       "        vertical-align: top;\n",
       "    }\n",
       "\n",
       "    .dataframe thead th {\n",
       "        text-align: right;\n",
       "    }\n",
       "</style>\n",
       "<table border=\"1\" class=\"dataframe\">\n",
       "  <thead>\n",
       "    <tr style=\"text-align: right;\">\n",
       "      <th></th>\n",
       "      <th>rage</th>\n",
       "    </tr>\n",
       "    <tr>\n",
       "      <th>id</th>\n",
       "      <th></th>\n",
       "    </tr>\n",
       "  </thead>\n",
       "  <tbody>\n",
       "    <tr>\n",
       "      <th>24247530</th>\n",
       "      <td>0</td>\n",
       "    </tr>\n",
       "    <tr>\n",
       "      <th>24593465</th>\n",
       "      <td>0</td>\n",
       "    </tr>\n",
       "    <tr>\n",
       "      <th>24376781</th>\n",
       "      <td>0</td>\n",
       "    </tr>\n",
       "  </tbody>\n",
       "</table>\n",
       "</div>"
      ],
      "text/plain": [
       "          rage\n",
       "id            \n",
       "24247530     0\n",
       "24593465     0\n",
       "24376781     0"
      ]
     },
     "execution_count": 31,
     "metadata": {},
     "output_type": "execute_result"
    }
   ],
   "source": [
    "labels_df.head(3)"
   ]
  },
  {
   "cell_type": "code",
   "execution_count": 32,
   "metadata": {},
   "outputs": [],
   "source": [
    "for emotion in ['rage', 'joy', 'sadness', 'surprise', 'fear']:\n",
    "    try:\n",
    "        labels_df.loc[labels_df[emotion] == 0, emotion+'_cat'] = 0\n",
    "        labels_df.loc[labels_df[emotion] != 0, emotion+'_cat'] = 1\n",
    "    except:\n",
    "        pass"
   ]
  },
  {
   "cell_type": "code",
   "execution_count": 33,
   "metadata": {},
   "outputs": [],
   "source": [
    "try:\n",
    "    labels_df.loc[labels_df['replies'] > 10, 'replies_cat'] = 1\n",
    "    labels_df.loc[labels_df['replies'] <= 10, 'replies_cat'] = 0\n",
    "except:\n",
    "    pass"
   ]
  },
  {
   "cell_type": "code",
   "execution_count": 34,
   "metadata": {},
   "outputs": [],
   "source": [
    "# fig, axes = plt.subplots(1, 5, figsize = (20,3))\n",
    "# for i, emotion_cat in enumerate(['rage_cat', 'joy_cat', 'sadness_cat', 'surprise_cat', 'fear_cat']):\n",
    "#     labels_df[[emotion_cat]].reset_index().groupby(emotion_cat).count().plot(kind = 'bar', ax = axes[i])"
   ]
  },
  {
   "cell_type": "markdown",
   "metadata": {},
   "source": [
    "### Check for NaN"
   ]
  },
  {
   "cell_type": "code",
   "execution_count": 35,
   "metadata": {},
   "outputs": [
    {
     "data": {
      "text/html": [
       "<div>\n",
       "<style scoped>\n",
       "    .dataframe tbody tr th:only-of-type {\n",
       "        vertical-align: middle;\n",
       "    }\n",
       "\n",
       "    .dataframe tbody tr th {\n",
       "        vertical-align: top;\n",
       "    }\n",
       "\n",
       "    .dataframe thead th {\n",
       "        text-align: right;\n",
       "    }\n",
       "</style>\n",
       "<table border=\"1\" class=\"dataframe\">\n",
       "  <thead>\n",
       "    <tr style=\"text-align: right;\">\n",
       "      <th></th>\n",
       "      <th>weekday_0.0</th>\n",
       "      <th>weekday_1.0</th>\n",
       "      <th>weekday_2.0</th>\n",
       "      <th>weekday_3.0</th>\n",
       "      <th>weekday_4.0</th>\n",
       "      <th>weekday_5.0</th>\n",
       "      <th>weekday_6.0</th>\n",
       "      <th>hour_0.0</th>\n",
       "      <th>hour_1.0</th>\n",
       "      <th>hour_2.0</th>\n",
       "      <th>...</th>\n",
       "      <th>tf_idf_1349</th>\n",
       "      <th>tf_idf_1350</th>\n",
       "      <th>tf_idf_1351</th>\n",
       "      <th>tf_idf_1352</th>\n",
       "      <th>tf_idf_1353</th>\n",
       "      <th>tf_idf_1354</th>\n",
       "      <th>tf_idf_1355</th>\n",
       "      <th>tf_idf_1356</th>\n",
       "      <th>tf_idf_1357</th>\n",
       "      <th>tf_idf_1358</th>\n",
       "    </tr>\n",
       "    <tr>\n",
       "      <th>id</th>\n",
       "      <th></th>\n",
       "      <th></th>\n",
       "      <th></th>\n",
       "      <th></th>\n",
       "      <th></th>\n",
       "      <th></th>\n",
       "      <th></th>\n",
       "      <th></th>\n",
       "      <th></th>\n",
       "      <th></th>\n",
       "      <th></th>\n",
       "      <th></th>\n",
       "      <th></th>\n",
       "      <th></th>\n",
       "      <th></th>\n",
       "      <th></th>\n",
       "      <th></th>\n",
       "      <th></th>\n",
       "      <th></th>\n",
       "      <th></th>\n",
       "      <th></th>\n",
       "    </tr>\n",
       "  </thead>\n",
       "  <tbody>\n",
       "  </tbody>\n",
       "</table>\n",
       "<p>0 rows × 6905 columns</p>\n",
       "</div>"
      ],
      "text/plain": [
       "Empty DataFrame\n",
       "Columns: [weekday_0.0, weekday_1.0, weekday_2.0, weekday_3.0, weekday_4.0, weekday_5.0, weekday_6.0, hour_0.0, hour_1.0, hour_2.0, hour_3.0, hour_4.0, hour_5.0, hour_6.0, hour_7.0, hour_8.0, hour_9.0, hour_10.0, hour_11.0, hour_12.0, hour_13.0, hour_14.0, hour_15.0, hour_16.0, hour_17.0, hour_18.0, hour_19.0, hour_20.0, hour_21.0, hour_22.0, hour_23.0, author_ Krystyna Naszkowska, author_ Małgorzata Kolińska- Dąbrowska, author_*, author_*Lubosz Palata, author_-, author_., author_ACH, author_AD, author_ADA, author_ADRIANA ROZWADOWSKA, author_AFP, author_AGATA KONDZIŃSKA, author_AGNIESZKA KUBLIK, author_ALEKSANDER GURGUL, author_AN, author_ANDRZEJ KRAŚNICKI JR, author_ANDRZEJ KUBLIK, author_ANGELINA KOSIEK , author_ANITA KARWOWSKA, author_ANNA GORCZYCA, author_ANNA POPIOŁEK, author_AP, author_AS, author_Ada Chojnowska, author_Adam Bodnar, author_Adam Domagała, author_Adam Kompowski, author_Adam Leszczyński, author_Adam Małachowski, author_Adam Michnik, author_Adam Pakieła, author_Adam Soboczynski, author_Adam Wajrak, author_Adam Zadworny, author_Adrian Burtan, author_Adriana Rozwadowska, author_Agata Diduszko, author_Agata Diduszko-Zyglewska, author_Agata Kondzińska, author_Agata Kondzińska Iwona Szpala, author_Agata Kozłowska, author_Agata Kołodziej, author_Agata Kulczycka, author_Agata Kupracz, author_Agata Saraczyńska, author_Agieszka Dobkiewicz, author_Agnieszka Berny, author_Agnieszka Dobkeiwicz, author_Agnieszka Dobkiewicz, author_Agnieszka Drabikowska, author_Agnieszka Kublik, author_Agnieszka Kublik , author_Agnieszka Kwiatkowska, author_Agnieszka Kępka, author_Agnieszka M. Lisik, author_Agnieszka M. Lisik (Bruksela), author_Agnieszka Rostkowska, author_Agnieszka Stefaniak-Zubko, author_Agnieszka Urazińsk, author_Agnieszka Urazińska, author_Alaksander Gurgul, author_Aleksander Gurgul, author_Aleksander Gurgul Gabriela Łazarczyk, author_Aleksandra Brzezińska, author_Aleksandra Klich, author_Aleksandra Lewińska, author_Aleksandra Lipczak, author_Aleksandra Postoła, author_Aleksandra Pucułek, ...]\n",
       "Index: []\n",
       "\n",
       "[0 rows x 6905 columns]"
      ]
     },
     "execution_count": 35,
     "metadata": {},
     "output_type": "execute_result"
    }
   ],
   "source": [
    "df[df.isna().any(axis=1)]"
   ]
  },
  {
   "cell_type": "code",
   "execution_count": 36,
   "metadata": {},
   "outputs": [
    {
     "data": {
      "text/html": [
       "<div>\n",
       "<style scoped>\n",
       "    .dataframe tbody tr th:only-of-type {\n",
       "        vertical-align: middle;\n",
       "    }\n",
       "\n",
       "    .dataframe tbody tr th {\n",
       "        vertical-align: top;\n",
       "    }\n",
       "\n",
       "    .dataframe thead th {\n",
       "        text-align: right;\n",
       "    }\n",
       "</style>\n",
       "<table border=\"1\" class=\"dataframe\">\n",
       "  <thead>\n",
       "    <tr style=\"text-align: right;\">\n",
       "      <th></th>\n",
       "      <th>rage</th>\n",
       "      <th>rage_cat</th>\n",
       "    </tr>\n",
       "    <tr>\n",
       "      <th>id</th>\n",
       "      <th></th>\n",
       "      <th></th>\n",
       "    </tr>\n",
       "  </thead>\n",
       "  <tbody>\n",
       "  </tbody>\n",
       "</table>\n",
       "</div>"
      ],
      "text/plain": [
       "Empty DataFrame\n",
       "Columns: [rage, rage_cat]\n",
       "Index: []"
      ]
     },
     "execution_count": 36,
     "metadata": {},
     "output_type": "execute_result"
    }
   ],
   "source": [
    "labels_df[labels_df.isna().any(axis=1)]"
   ]
  },
  {
   "cell_type": "markdown",
   "metadata": {},
   "source": [
    "## Normalize labels"
   ]
  },
  {
   "cell_type": "code",
   "execution_count": 37,
   "metadata": {},
   "outputs": [],
   "source": [
    "def normalize_labels(df, labels_df, selected_label):\n",
    "    label_counts = labels_df[[selected_label]]\\\n",
    "        .reset_index()\\\n",
    "        .groupby(selected_label)\\\n",
    "        .count()\\\n",
    "        .sort_values('id')\n",
    "    \n",
    "    less_label_name = label_counts\\\n",
    "        .iloc[0]\\\n",
    "        .name\n",
    "    \n",
    "    multiplier = round(label_counts.iloc[1].id/label_counts.iloc[0].id)\n",
    "    \n",
    "    less_label_df = labels_df[labels_df[selected_label] == less_label_name]\n",
    "    main_df_less_labels_records = df[df.index.isin(less_label_df.index)]\n",
    "    \n",
    "    for i in range(int(multiplier)):\n",
    "        labels_df = labels_df.append(less_label_df)\n",
    "        df = df.append(main_df_less_labels_records)\n",
    "    \n",
    "    label_counts = labels_df[[selected_label]]\\\n",
    "        .reset_index()\\\n",
    "        .groupby(selected_label)\\\n",
    "        .count()\\\n",
    "        .sort_values('id')\\\n",
    "        .reset_index()\n",
    "    \n",
    "    flatten_more = label_counts[label_counts[selected_label] == less_label_name].id.values[0]\n",
    "    flatten_less = label_counts[label_counts[selected_label] != less_label_name].id.values[0]\n",
    "    excess = flatten_more - flatten_less\n",
    "    \n",
    "    labels_df = labels_df.iloc[:len(labels_df) - excess]\n",
    "    df = df.iloc[:len(df) - excess]\n",
    "    \n",
    "    labels_df = labels_df.reset_index().sample(frac = 1)\n",
    "    df = df.reset_index().reindex(labels_df.index)\n",
    "    \n",
    "    return df, labels_df"
   ]
  },
  {
   "cell_type": "code",
   "execution_count": 38,
   "metadata": {},
   "outputs": [],
   "source": [
    "if selected_label.split('_')[0] in ('fear', 'sadness', 'joy', 'surprise', 'rage'):\n",
    "    df, labels_df = normalize_labels(df, labels_df, selected_label)"
   ]
  },
  {
   "cell_type": "code",
   "execution_count": 39,
   "metadata": {},
   "outputs": [
    {
     "data": {
      "text/plain": [
       "(58168, 3)"
      ]
     },
     "execution_count": 39,
     "metadata": {},
     "output_type": "execute_result"
    }
   ],
   "source": [
    "labels_df.shape"
   ]
  },
  {
   "cell_type": "code",
   "execution_count": 40,
   "metadata": {},
   "outputs": [
    {
     "data": {
      "text/plain": [
       "(58168, 6906)"
      ]
     },
     "execution_count": 40,
     "metadata": {},
     "output_type": "execute_result"
    }
   ],
   "source": [
    "df.shape"
   ]
  },
  {
   "cell_type": "markdown",
   "metadata": {},
   "source": [
    "## Features selection"
   ]
  },
  {
   "cell_type": "code",
   "execution_count": 41,
   "metadata": {},
   "outputs": [],
   "source": [
    "try:\n",
    "    df = df.drop('id', axis = 1)\n",
    "    labels_df = labels_df.drop('id', axis = 1)\n",
    "except:\n",
    "    pass"
   ]
  },
  {
   "cell_type": "code",
   "execution_count": 42,
   "metadata": {},
   "outputs": [],
   "source": [
    "X = df.values"
   ]
  },
  {
   "cell_type": "code",
   "execution_count": 43,
   "metadata": {},
   "outputs": [],
   "source": [
    "Y = labels_df[[selected_label]].values"
   ]
  },
  {
   "cell_type": "code",
   "execution_count": 44,
   "metadata": {},
   "outputs": [
    {
     "name": "stderr",
     "output_type": "stream",
     "text": [
      "/usr/local/lib/python3.5/dist-packages/sklearn/utils/validation.py:724: DataConversionWarning: A column-vector y was passed when a 1d array was expected. Please change the shape of y to (n_samples, ), for example using ravel().\n",
      "  y = column_or_1d(y, warn=True)\n"
     ]
    }
   ],
   "source": [
    "if select_method == 'kbest':\n",
    "    clf = SelectKBest(f_classif, k=no_features).fit(X, Y)\n",
    "elif select_method == 'percents':\n",
    "    clf = SelectPercentile(f_classif, percentile = features_percentile).fit(X, Y)"
   ]
  },
  {
   "cell_type": "code",
   "execution_count": 45,
   "metadata": {},
   "outputs": [],
   "source": [
    "selected_columns = df.columns[clf.get_support()].tolist()"
   ]
  },
  {
   "cell_type": "code",
   "execution_count": 46,
   "metadata": {},
   "outputs": [
    {
     "data": {
      "text/plain": [
       "(58168, 6905)"
      ]
     },
     "execution_count": 46,
     "metadata": {},
     "output_type": "execute_result"
    }
   ],
   "source": [
    "X.shape"
   ]
  },
  {
   "cell_type": "code",
   "execution_count": 47,
   "metadata": {},
   "outputs": [],
   "source": [
    "X = clf.transform(X)"
   ]
  },
  {
   "cell_type": "code",
   "execution_count": 48,
   "metadata": {},
   "outputs": [
    {
     "data": {
      "text/plain": [
       "(58168, 4833)"
      ]
     },
     "execution_count": 48,
     "metadata": {},
     "output_type": "execute_result"
    }
   ],
   "source": [
    "X.shape"
   ]
  },
  {
   "cell_type": "code",
   "execution_count": 49,
   "metadata": {},
   "outputs": [
    {
     "data": {
      "text/plain": [
       "(58168, 1)"
      ]
     },
     "execution_count": 49,
     "metadata": {},
     "output_type": "execute_result"
    }
   ],
   "source": [
    "Y.shape"
   ]
  },
  {
   "cell_type": "markdown",
   "metadata": {},
   "source": [
    "## Define X and Y for training/testing"
   ]
  },
  {
   "cell_type": "code",
   "execution_count": 50,
   "metadata": {},
   "outputs": [],
   "source": [
    "s = int(len(df)*0.95)"
   ]
  },
  {
   "cell_type": "code",
   "execution_count": 51,
   "metadata": {},
   "outputs": [
    {
     "data": {
      "text/plain": [
       "55259"
      ]
     },
     "execution_count": 51,
     "metadata": {},
     "output_type": "execute_result"
    }
   ],
   "source": [
    "s"
   ]
  },
  {
   "cell_type": "code",
   "execution_count": 52,
   "metadata": {},
   "outputs": [],
   "source": [
    "train_x = X[:s]\n",
    "train_y = Y[:s]"
   ]
  },
  {
   "cell_type": "code",
   "execution_count": 53,
   "metadata": {},
   "outputs": [],
   "source": [
    "test_x = X[s:]\n",
    "test_y = Y[s:]"
   ]
  },
  {
   "cell_type": "markdown",
   "metadata": {},
   "source": [
    "## Training"
   ]
  },
  {
   "cell_type": "code",
   "execution_count": 54,
   "metadata": {},
   "outputs": [],
   "source": [
    "inputs = Input(shape = (X.shape[1], ))"
   ]
  },
  {
   "cell_type": "code",
   "execution_count": 55,
   "metadata": {},
   "outputs": [
    {
     "name": "stderr",
     "output_type": "stream",
     "text": [
      "WARNING: Logging before flag parsing goes to stderr.\n",
      "W0806 08:53:50.437872 139806765098752 deprecation.py:506] From /usr/local/lib/python3.5/dist-packages/tensorflow/python/ops/init_ops.py:1251: calling VarianceScaling.__init__ (from tensorflow.python.ops.init_ops) with dtype is deprecated and will be removed in a future version.\n",
      "Instructions for updating:\n",
      "Call initializer instance with the dtype argument instead of passing it to the constructor\n"
     ]
    }
   ],
   "source": [
    "hidden_1 = Dense(int(X.shape[1]/20)+60, activation = relu)(inputs)\n",
    "dropout_1 = Dropout(0.1)(hidden_1)\n",
    "hidden_2 = Dense(int(X.shape[1]/100)+30, activation = relu)(dropout_1)\n",
    "dropout_2 = Dropout(0.1)(hidden_2)\n",
    "hidden_3 = Dense(int(X.shape[1]/500)+5, activation = relu)(dropout_2)"
   ]
  },
  {
   "cell_type": "code",
   "execution_count": 56,
   "metadata": {},
   "outputs": [],
   "source": [
    "outputs = Dense(1)(hidden_3)"
   ]
  },
  {
   "cell_type": "code",
   "execution_count": 57,
   "metadata": {},
   "outputs": [],
   "source": [
    "model = Model(\n",
    "    inputs = inputs,\n",
    "    outputs = outputs\n",
    ")"
   ]
  },
  {
   "cell_type": "code",
   "execution_count": 58,
   "metadata": {},
   "outputs": [],
   "source": [
    "from tensorflow.keras.optimizers import RMSprop"
   ]
  },
  {
   "cell_type": "code",
   "execution_count": 59,
   "metadata": {},
   "outputs": [],
   "source": [
    "optimizer = RMSprop(0.0005)"
   ]
  },
  {
   "cell_type": "code",
   "execution_count": 60,
   "metadata": {},
   "outputs": [],
   "source": [
    "from tensorflow.losses import *"
   ]
  },
  {
   "cell_type": "code",
   "execution_count": 61,
   "metadata": {},
   "outputs": [
    {
     "name": "stderr",
     "output_type": "stream",
     "text": [
      "W0806 08:53:50.654711 139806765098752 deprecation.py:323] From /usr/local/lib/python3.5/dist-packages/tensorflow/python/ops/losses/losses_impl.py:121: add_dispatch_support.<locals>.wrapper (from tensorflow.python.ops.array_ops) is deprecated and will be removed in a future version.\n",
      "Instructions for updating:\n",
      "Use tf.where in 2.0, which has the same broadcast rule as np.where\n"
     ]
    }
   ],
   "source": [
    "model.compile(\n",
    "    loss=mean_squared_error,\n",
    "    optimizer=optimizer,\n",
    "    metrics=['mean_absolute_error']\n",
    ")"
   ]
  },
  {
   "cell_type": "code",
   "execution_count": 62,
   "metadata": {},
   "outputs": [
    {
     "name": "stdout",
     "output_type": "stream",
     "text": [
      "[[-0.00185085]\n",
      " [ 0.05504609]\n",
      " [ 0.04935109]\n",
      " [ 0.04774774]\n",
      " [ 0.02664548]]\n"
     ]
    }
   ],
   "source": [
    "example_batch = test_x[:5]\n",
    "print(model.predict(example_batch))"
   ]
  },
  {
   "cell_type": "code",
   "execution_count": 63,
   "metadata": {},
   "outputs": [],
   "source": [
    "EPOCHS = 100"
   ]
  },
  {
   "cell_type": "code",
   "execution_count": 64,
   "metadata": {},
   "outputs": [],
   "source": [
    "from tensorflow.keras.callbacks import EarlyStopping"
   ]
  },
  {
   "cell_type": "code",
   "execution_count": 65,
   "metadata": {},
   "outputs": [],
   "source": [
    "early_stop = EarlyStopping(monitor='val_loss', patience=10)"
   ]
  },
  {
   "cell_type": "code",
   "execution_count": 66,
   "metadata": {},
   "outputs": [
    {
     "name": "stdout",
     "output_type": "stream",
     "text": [
      "Model: \"model\"\n",
      "_________________________________________________________________\n",
      "Layer (type)                 Output Shape              Param #   \n",
      "=================================================================\n",
      "input_1 (InputLayer)         [(None, 4833)]            0         \n",
      "_________________________________________________________________\n",
      "dense (Dense)                (None, 301)               1455034   \n",
      "_________________________________________________________________\n",
      "dropout (Dropout)            (None, 301)               0         \n",
      "_________________________________________________________________\n",
      "dense_1 (Dense)              (None, 78)                23556     \n",
      "_________________________________________________________________\n",
      "dropout_1 (Dropout)          (None, 78)                0         \n",
      "_________________________________________________________________\n",
      "dense_2 (Dense)              (None, 14)                1106      \n",
      "_________________________________________________________________\n",
      "dense_3 (Dense)              (None, 1)                 15        \n",
      "=================================================================\n",
      "Total params: 1,479,711\n",
      "Trainable params: 1,479,711\n",
      "Non-trainable params: 0\n",
      "_________________________________________________________________\n"
     ]
    }
   ],
   "source": [
    "model.summary()"
   ]
  },
  {
   "cell_type": "code",
   "execution_count": 67,
   "metadata": {},
   "outputs": [],
   "source": [
    "history = model.fit(\n",
    "    train_x, train_y,\n",
    "    epochs = EPOCHS,\n",
    "    validation_split = 0.15, \n",
    "    verbose = 0,\n",
    "    callbacks = [early_stop],\n",
    ")"
   ]
  },
  {
   "cell_type": "code",
   "execution_count": 68,
   "metadata": {},
   "outputs": [],
   "source": [
    "def plot_history(history):\n",
    "    hist = pd.DataFrame(history.history)\n",
    "    hist['epoch'] = history.epoch\n",
    "\n",
    "    plt.figure()\n",
    "    plt.xlabel('Epoch')\n",
    "    plt.ylabel('Mean Abs Error [MPG]')\n",
    "    plt.plot(hist['epoch'], hist['mean_absolute_error'],\n",
    "           label='Train Error')\n",
    "    plt.plot(hist['epoch'], hist['val_mean_absolute_error'],\n",
    "           label = 'Val Error')\n",
    "    m = max(max([history.history['mean_absolute_error'] + history.history['val_mean_absolute_error']]))\n",
    "    plt.ylim([0,m * 1.1])\n",
    "    plt.legend()"
   ]
  },
  {
   "cell_type": "code",
   "execution_count": 69,
   "metadata": {},
   "outputs": [],
   "source": [
    "loss, mae = model.evaluate(test_x, test_y, verbose=0)"
   ]
  },
  {
   "cell_type": "code",
   "execution_count": 70,
   "metadata": {},
   "outputs": [
    {
     "data": {
      "text/plain": [
       "0.11232338"
      ]
     },
     "execution_count": 70,
     "metadata": {},
     "output_type": "execute_result"
    }
   ],
   "source": [
    "mae"
   ]
  },
  {
   "cell_type": "code",
   "execution_count": 71,
   "metadata": {},
   "outputs": [
    {
     "data": {
      "image/png": "[encoded data removed]",
      "text/plain": [
       "<Figure size 432x288 with 1 Axes>"
      ]
     },
     "metadata": {
      "needs_background": "light"
     },
     "output_type": "display_data"
    }
   ],
   "source": [
    "plot_history(history)"
   ]
  },
  {
   "cell_type": "code",
   "execution_count": 72,
   "metadata": {},
   "outputs": [],
   "source": [
    "res = pd.concat([pd.DataFrame(model.predict(test_x)), pd.DataFrame(test_y)], axis = 1)\n",
    "res.columns = ['prediction', 'real']\n",
    "no_categories = len(res['real'].unique())"
   ]
  },
  {
   "cell_type": "code",
   "execution_count": 73,
   "metadata": {},
   "outputs": [],
   "source": [
    "if no_categories == 2:\n",
    "    mean = res['prediction'].mean()\n",
    "    res.loc[res['prediction'] < mean, 'prediction_cat'] = 0\n",
    "    res.loc[res['prediction'] >= mean, 'prediction_cat'] = 1\n",
    "elif no_categories == 3:\n",
    "    res.loc[res['prediction'] < -0.66, 'prediction_cat'] = -1\n",
    "    res.loc[res['prediction'] >  0.66, 'prediction_cat'] = 1\n",
    "    res['prediction_cat'] = res['prediction_cat'].fillna(0)"
   ]
  },
  {
   "cell_type": "code",
   "execution_count": 74,
   "metadata": {},
   "outputs": [],
   "source": [
    "res.loc[res['real'] == res['prediction_cat'], 'if_ok'] = 1\n",
    "res['if_ok'] = res['if_ok'].fillna(0)"
   ]
  },
  {
   "cell_type": "code",
   "execution_count": 75,
   "metadata": {},
   "outputs": [
    {
     "data": {
      "text/html": [
       "<div>\n",
       "<style scoped>\n",
       "    .dataframe tbody tr th:only-of-type {\n",
       "        vertical-align: middle;\n",
       "    }\n",
       "\n",
       "    .dataframe tbody tr th {\n",
       "        vertical-align: top;\n",
       "    }\n",
       "\n",
       "    .dataframe thead th {\n",
       "        text-align: right;\n",
       "    }\n",
       "</style>\n",
       "<table border=\"1\" class=\"dataframe\">\n",
       "  <thead>\n",
       "    <tr style=\"text-align: right;\">\n",
       "      <th></th>\n",
       "      <th>prediction</th>\n",
       "      <th>real</th>\n",
       "      <th>prediction_cat</th>\n",
       "      <th>if_ok</th>\n",
       "    </tr>\n",
       "  </thead>\n",
       "  <tbody>\n",
       "    <tr>\n",
       "      <th>2152</th>\n",
       "      <td>0.455007</td>\n",
       "      <td>0.0</td>\n",
       "      <td>0.0</td>\n",
       "      <td>1.0</td>\n",
       "    </tr>\n",
       "    <tr>\n",
       "      <th>2195</th>\n",
       "      <td>0.979551</td>\n",
       "      <td>1.0</td>\n",
       "      <td>1.0</td>\n",
       "      <td>1.0</td>\n",
       "    </tr>\n",
       "    <tr>\n",
       "      <th>220</th>\n",
       "      <td>0.430218</td>\n",
       "      <td>0.0</td>\n",
       "      <td>0.0</td>\n",
       "      <td>1.0</td>\n",
       "    </tr>\n",
       "    <tr>\n",
       "      <th>291</th>\n",
       "      <td>0.976277</td>\n",
       "      <td>1.0</td>\n",
       "      <td>1.0</td>\n",
       "      <td>1.0</td>\n",
       "    </tr>\n",
       "    <tr>\n",
       "      <th>836</th>\n",
       "      <td>0.020026</td>\n",
       "      <td>0.0</td>\n",
       "      <td>0.0</td>\n",
       "      <td>1.0</td>\n",
       "    </tr>\n",
       "    <tr>\n",
       "      <th>2704</th>\n",
       "      <td>0.968865</td>\n",
       "      <td>1.0</td>\n",
       "      <td>1.0</td>\n",
       "      <td>1.0</td>\n",
       "    </tr>\n",
       "    <tr>\n",
       "      <th>1557</th>\n",
       "      <td>0.963540</td>\n",
       "      <td>1.0</td>\n",
       "      <td>1.0</td>\n",
       "      <td>1.0</td>\n",
       "    </tr>\n",
       "    <tr>\n",
       "      <th>1492</th>\n",
       "      <td>0.961025</td>\n",
       "      <td>1.0</td>\n",
       "      <td>1.0</td>\n",
       "      <td>1.0</td>\n",
       "    </tr>\n",
       "    <tr>\n",
       "      <th>1300</th>\n",
       "      <td>0.966960</td>\n",
       "      <td>1.0</td>\n",
       "      <td>1.0</td>\n",
       "      <td>1.0</td>\n",
       "    </tr>\n",
       "    <tr>\n",
       "      <th>1187</th>\n",
       "      <td>0.968383</td>\n",
       "      <td>1.0</td>\n",
       "      <td>1.0</td>\n",
       "      <td>1.0</td>\n",
       "    </tr>\n",
       "  </tbody>\n",
       "</table>\n",
       "</div>"
      ],
      "text/plain": [
       "      prediction  real  prediction_cat  if_ok\n",
       "2152    0.455007   0.0             0.0    1.0\n",
       "2195    0.979551   1.0             1.0    1.0\n",
       "220     0.430218   0.0             0.0    1.0\n",
       "291     0.976277   1.0             1.0    1.0\n",
       "836     0.020026   0.0             0.0    1.0\n",
       "2704    0.968865   1.0             1.0    1.0\n",
       "1557    0.963540   1.0             1.0    1.0\n",
       "1492    0.961025   1.0             1.0    1.0\n",
       "1300    0.966960   1.0             1.0    1.0\n",
       "1187    0.968383   1.0             1.0    1.0"
      ]
     },
     "execution_count": 75,
     "metadata": {},
     "output_type": "execute_result"
    }
   ],
   "source": [
    "res.sample(frac=1).head(10)"
   ]
  },
  {
   "cell_type": "code",
   "execution_count": 76,
   "metadata": {},
   "outputs": [
    {
     "data": {
      "text/plain": [
       "<matplotlib.axes._subplots.AxesSubplot at 0x7f26d8b85d30>"
      ]
     },
     "execution_count": 76,
     "metadata": {},
     "output_type": "execute_result"
    },
    {
     "data": {
      "image/png": "[encoded data removed]",
      "text/plain": [
       "<Figure size 432x288 with 1 Axes>"
      ]
     },
     "metadata": {
      "needs_background": "light"
     },
     "output_type": "display_data"
    }
   ],
   "source": [
    "res['prediction'].plot(kind = 'hist', bins = 100)"
   ]
  },
  {
   "cell_type": "code",
   "execution_count": 77,
   "metadata": {},
   "outputs": [
    {
     "name": "stdout",
     "output_type": "stream",
     "text": [
      "accuracy:  91.58 %\n"
     ]
    }
   ],
   "source": [
    "print('accuracy: ',round(res['if_ok'].sum()/len(res)*100, 2), '%')"
   ]
  },
  {
   "cell_type": "code",
   "execution_count": 78,
   "metadata": {},
   "outputs": [],
   "source": [
    "from sklearn.metrics import confusion_matrix\n",
    "from seaborn import heatmap"
   ]
  },
  {
   "cell_type": "code",
   "execution_count": 79,
   "metadata": {},
   "outputs": [],
   "source": [
    "if no_categories == 2:\n",
    "    c = [0,1]\n",
    "else:\n",
    "    c = [-1,0,1]"
   ]
  },
  {
   "cell_type": "code",
   "execution_count": 80,
   "metadata": {},
   "outputs": [],
   "source": [
    "confusion_data = confusion_matrix(res['real'], res['prediction_cat'])"
   ]
  },
  {
   "cell_type": "code",
   "execution_count": 81,
   "metadata": {},
   "outputs": [
    {
     "data": {
      "text/plain": [
       "<matplotlib.axes._subplots.AxesSubplot at 0x7f26d89b43c8>"
      ]
     },
     "execution_count": 81,
     "metadata": {},
     "output_type": "execute_result"
    },
    {
     "data": {
      "image/png": "[encoded data removed]",
      "text/plain": [
       "<Figure size 432x288 with 2 Axes>"
      ]
     },
     "metadata": {
      "needs_background": "light"
     },
     "output_type": "display_data"
    }
   ],
   "source": [
    "heatmap(np.multiply(np.divide(confusion_data, confusion_data.sum()), 100), xticklabels = c, yticklabels = c, annot=True)"
   ]
  },
  {
   "cell_type": "code",
   "execution_count": 82,
   "metadata": {},
   "outputs": [],
   "source": [
    "from joblib import dump"
   ]
  },
  {
   "cell_type": "code",
   "execution_count": 83,
   "metadata": {},
   "outputs": [
    {
     "data": {
      "text/plain": [
       "['feature_selection_rage_cat']"
      ]
     },
     "execution_count": 83,
     "metadata": {},
     "output_type": "execute_result"
    }
   ],
   "source": [
    "model.save('models/'+selected_label)\n",
    "dump(tfidf_pca,'tfidf_pca_'+selected_label)\n",
    "dump(pca_vectors,'vectors_pca_'+selected_label)\n",
    "dump(clf,'feature_selection_'+selected_label)"
   ]
  },
  {
   "cell_type": "code",
   "execution_count": null,
   "metadata": {},
   "outputs": [],
   "source": []
  },
  {
   "cell_type": "markdown",
   "metadata": {},
   "source": [
    "#AAA"
   ]
  },
  {
   "cell_type": "code",
   "execution_count": 97,
   "metadata": {},
   "outputs": [],
   "source": [
    "from joblib import load"
   ]
  },
  {
   "cell_type": "code",
   "execution_count": 98,
   "metadata": {},
   "outputs": [],
   "source": [
    "pca = load('models/vectors_pca_rage_cat')"
   ]
  },
  {
   "cell_type": "code",
   "execution_count": null,
   "metadata": {},
   "outputs": [],
   "source": []
  },
  {
   "cell_type": "code",
   "execution_count": null,
   "metadata": {},
   "outputs": [],
   "source": []
  },
  {
   "cell_type": "code",
   "execution_count": null,
   "metadata": {},
   "outputs": [],
   "source": []
  },
  {
   "cell_type": "code",
   "execution_count": 95,
   "metadata": {},
   "outputs": [],
   "source": [
    "from tensorflow.keras.models import load_model"
   ]
  },
  {
   "cell_type": "code",
   "execution_count": 96,
   "metadata": {},
   "outputs": [
    {
     "name": "stderr",
     "output_type": "stream",
     "text": [
      "W0806 11:51:58.152657 139806765098752 deprecation.py:506] From /usr/local/lib/python3.5/dist-packages/tensorflow/python/ops/init_ops.py:97: calling GlorotUniform.__init__ (from tensorflow.python.ops.init_ops) with dtype is deprecated and will be removed in a future version.\n",
      "Instructions for updating:\n",
      "Call initializer instance with the dtype argument instead of passing it to the constructor\n",
      "W0806 11:51:58.154669 139806765098752 deprecation.py:506] From /usr/local/lib/python3.5/dist-packages/tensorflow/python/ops/init_ops.py:97: calling Zeros.__init__ (from tensorflow.python.ops.init_ops) with dtype is deprecated and will be removed in a future version.\n",
      "Instructions for updating:\n",
      "Call initializer instance with the dtype argument instead of passing it to the constructor\n"
     ]
    }
   ],
   "source": [
    "a = load_model('models/rage_cat')"
   ]
  },
  {
   "cell_type": "code",
   "execution_count": null,
   "metadata": {},
   "outputs": [],
   "source": []
  }
 ],
 "metadata": {
  "kernelspec": {
   "display_name": "Python 3",
   "language": "python",
   "name": "python3"
  },
  "language_info": {
   "codemirror_mode": {
    "name": "ipython",
    "version": 3
   },
   "file_extension": ".py",
   "mimetype": "text/x-python",
   "name": "python",
   "nbconvert_exporter": "python",
   "pygments_lexer": "ipython3",
   "version": "3.5.3"
  }
 },
 "nbformat": 4,
 "nbformat_minor": 2
}
