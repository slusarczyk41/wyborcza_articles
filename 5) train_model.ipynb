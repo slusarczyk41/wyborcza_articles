{
 "cells": [
  {
   "cell_type": "code",
   "execution_count": 51,
   "metadata": {},
   "outputs": [],
   "source": [
    "import pandas as pd"
   ]
  },
  {
   "cell_type": "code",
   "execution_count": 53,
   "metadata": {},
   "outputs": [],
   "source": [
    "df = pd.read_csv('labeling/fresh_data.csv').set_index('id')\n",
    "df = df.drop(['title', 'highlight', 'content', 'media_desc'], axis = 1)"
   ]
  },
  {
   "cell_type": "code",
   "execution_count": 54,
   "metadata": {},
   "outputs": [
    {
     "data": {
      "text/html": [
       "<div>\n",
       "<style scoped>\n",
       "    .dataframe tbody tr th:only-of-type {\n",
       "        vertical-align: middle;\n",
       "    }\n",
       "\n",
       "    .dataframe tbody tr th {\n",
       "        vertical-align: top;\n",
       "    }\n",
       "\n",
       "    .dataframe thead th {\n",
       "        text-align: right;\n",
       "    }\n",
       "</style>\n",
       "<table border=\"1\" class=\"dataframe\">\n",
       "  <thead>\n",
       "    <tr style=\"text-align: right;\">\n",
       "      <th></th>\n",
       "      <th>div</th>\n",
       "      <th>date</th>\n",
       "      <th>author</th>\n",
       "      <th>media_type</th>\n",
       "      <th>replies</th>\n",
       "      <th>upvotes</th>\n",
       "      <th>downvotes</th>\n",
       "      <th>rage</th>\n",
       "      <th>joy</th>\n",
       "      <th>sadness</th>\n",
       "      <th>surprise</th>\n",
       "      <th>fear</th>\n",
       "      <th>reactions</th>\n",
       "      <th>reactions_sentiment</th>\n",
       "    </tr>\n",
       "    <tr>\n",
       "      <th>id</th>\n",
       "      <th></th>\n",
       "      <th></th>\n",
       "      <th></th>\n",
       "      <th></th>\n",
       "      <th></th>\n",
       "      <th></th>\n",
       "      <th></th>\n",
       "      <th></th>\n",
       "      <th></th>\n",
       "      <th></th>\n",
       "      <th></th>\n",
       "      <th></th>\n",
       "      <th></th>\n",
       "      <th></th>\n",
       "    </tr>\n",
       "  </thead>\n",
       "  <tbody>\n",
       "    <tr>\n",
       "      <th>24760624</th>\n",
       "      <td>cyrk</td>\n",
       "      <td>2019-05-08 07:02:00</td>\n",
       "      <td>Anna Dobiegała</td>\n",
       "      <td>image</td>\n",
       "      <td>5</td>\n",
       "      <td>51</td>\n",
       "      <td>9</td>\n",
       "      <td>0</td>\n",
       "      <td>0</td>\n",
       "      <td>0</td>\n",
       "      <td>0</td>\n",
       "      <td>0</td>\n",
       "      <td>60</td>\n",
       "      <td>0.85</td>\n",
       "    </tr>\n",
       "    <tr>\n",
       "      <th>24788214</th>\n",
       "      <td>porodówka</td>\n",
       "      <td>2019-05-15 16:30:00</td>\n",
       "      <td>mag</td>\n",
       "      <td>image</td>\n",
       "      <td>5</td>\n",
       "      <td>52</td>\n",
       "      <td>27</td>\n",
       "      <td>0</td>\n",
       "      <td>0</td>\n",
       "      <td>0</td>\n",
       "      <td>0</td>\n",
       "      <td>0</td>\n",
       "      <td>79</td>\n",
       "      <td>0.66</td>\n",
       "    </tr>\n",
       "    <tr>\n",
       "      <th>24801435</th>\n",
       "      <td>Świat</td>\n",
       "      <td>2019-05-19 08:43:00</td>\n",
       "      <td>Maciej Czarnecki</td>\n",
       "      <td>image</td>\n",
       "      <td>15</td>\n",
       "      <td>82</td>\n",
       "      <td>27</td>\n",
       "      <td>0</td>\n",
       "      <td>0</td>\n",
       "      <td>0</td>\n",
       "      <td>0</td>\n",
       "      <td>0</td>\n",
       "      <td>109</td>\n",
       "      <td>0.75</td>\n",
       "    </tr>\n",
       "  </tbody>\n",
       "</table>\n",
       "</div>"
      ],
      "text/plain": [
       "                div                 date            author media_type  \\\n",
       "id                                                                      \n",
       "24760624       cyrk  2019-05-08 07:02:00    Anna Dobiegała      image   \n",
       "24788214  porodówka  2019-05-15 16:30:00               mag      image   \n",
       "24801435      Świat  2019-05-19 08:43:00  Maciej Czarnecki      image   \n",
       "\n",
       "          replies  upvotes  downvotes  rage  joy  sadness  surprise  fear  \\\n",
       "id                                                                          \n",
       "24760624        5       51          9     0    0        0         0     0   \n",
       "24788214        5       52         27     0    0        0         0     0   \n",
       "24801435       15       82         27     0    0        0         0     0   \n",
       "\n",
       "          reactions  reactions_sentiment  \n",
       "id                                        \n",
       "24760624         60                 0.85  \n",
       "24788214         79                 0.66  \n",
       "24801435        109                 0.75  "
      ]
     },
     "execution_count": 54,
     "metadata": {},
     "output_type": "execute_result"
    }
   ],
   "source": [
    "df.head(3)"
   ]
  },
  {
   "cell_type": "markdown",
   "metadata": {},
   "source": [
    "## Data preparation"
   ]
  },
  {
   "cell_type": "code",
   "execution_count": 55,
   "metadata": {},
   "outputs": [],
   "source": [
    "labels_columns = ['replies', 'upvotes', 'downvotes', 'rage', 'joy', 'sadness', 'surprise', \n",
    "                  'fear', 'reactions', 'reactions_sentiment']\n",
    "labels_df = df[labels_columns]\n",
    "df = df.drop(labels_columns, axis = 1)"
   ]
  },
  {
   "cell_type": "code",
   "execution_count": 56,
   "metadata": {},
   "outputs": [],
   "source": [
    "def process_dates(df):\n",
    "    df['date'] = pd.to_datetime(df['date'])\n",
    "    df = pd.concat([\n",
    "        df,\n",
    "        pd.get_dummies(df['date'].dt.weekday, prefix = 'weekday'),\n",
    "        pd.get_dummies(df['date'].dt.hour, prefix = 'hour'),\n",
    "    ], axis = 1)\n",
    "    df = df.drop('date', axis = 1)\n",
    "    return df"
   ]
  },
  {
   "cell_type": "code",
   "execution_count": 57,
   "metadata": {},
   "outputs": [],
   "source": [
    "df = process_dates(df)"
   ]
  },
  {
   "cell_type": "code",
   "execution_count": 58,
   "metadata": {},
   "outputs": [
    {
     "data": {
      "text/plain": [
       "(1090, 32)"
      ]
     },
     "execution_count": 58,
     "metadata": {},
     "output_type": "execute_result"
    }
   ],
   "source": [
    "df.shape"
   ]
  },
  {
   "cell_type": "code",
   "execution_count": 59,
   "metadata": {},
   "outputs": [],
   "source": [
    "def process_author_div_and_media_type(df):\n",
    "    df = pd.concat([\n",
    "        df,\n",
    "        pd.get_dummies(df['author'], prefix = 'author'),\n",
    "        pd.get_dummies(df['div'], prefix = 'div'),\n",
    "        pd.get_dummies(df['media_type'], prefix = 'media_type')\n",
    "    ], axis = 1)\n",
    "    df = df.drop(['author', 'div', 'media_type'], axis = 1)\n",
    "    return df"
   ]
  },
  {
   "cell_type": "code",
   "execution_count": 60,
   "metadata": {},
   "outputs": [],
   "source": [
    "df = process_author_div_and_media_type(df)"
   ]
  },
  {
   "cell_type": "code",
   "execution_count": 61,
   "metadata": {},
   "outputs": [
    {
     "data": {
      "text/plain": [
       "(1090, 697)"
      ]
     },
     "execution_count": 61,
     "metadata": {},
     "output_type": "execute_result"
    }
   ],
   "source": [
    "df.shape"
   ]
  },
  {
   "cell_type": "code",
   "execution_count": 64,
   "metadata": {},
   "outputs": [],
   "source": [
    "def add_vectors(columns):\n",
    "    column_vectors = []\n",
    "    for column in columns:\n",
    "        tmp = pd.read_csv('labeling/'+column+'_vec').set_index('id')\n",
    "        tmp.columns = [column+\"_\"+x for x in tmp.columns]\n",
    "        column_vectors.append(tmp)\n",
    "    return pd.concat(column_vectors, axis = 1)"
   ]
  },
  {
   "cell_type": "code",
   "execution_count": 65,
   "metadata": {},
   "outputs": [],
   "source": [
    "df = pd.concat([df, add_vectors(['content', 'highlight', 'title', 'media_desc'])], axis = 1)"
   ]
  },
  {
   "cell_type": "code",
   "execution_count": 66,
   "metadata": {},
   "outputs": [
    {
     "data": {
      "text/plain": [
       "(1090, 1897)"
      ]
     },
     "execution_count": 66,
     "metadata": {},
     "output_type": "execute_result"
    }
   ],
   "source": [
    "df.shape"
   ]
  },
  {
   "cell_type": "code",
   "execution_count": 77,
   "metadata": {},
   "outputs": [],
   "source": [
    "from json import load\n",
    "import numpy as np\n",
    "from collections import Counter"
   ]
  },
  {
   "cell_type": "code",
   "execution_count": 75,
   "metadata": {},
   "outputs": [],
   "source": [
    "with open('labeling/idf_dict', 'r') as f:\n",
    "    idf = load(f)\n",
    "    idf_voc = idf.keys()"
   ]
  },
  {
   "cell_type": "code",
   "execution_count": 73,
   "metadata": {},
   "outputs": [],
   "source": [
    "lemmas = pd.read_csv('labeling/lemmatized_articles.csv').set_index('id').fillna('')"
   ]
  },
  {
   "cell_type": "code",
   "execution_count": 74,
   "metadata": {},
   "outputs": [
    {
     "data": {
      "text/html": [
       "<div>\n",
       "<style scoped>\n",
       "    .dataframe tbody tr th:only-of-type {\n",
       "        vertical-align: middle;\n",
       "    }\n",
       "\n",
       "    .dataframe tbody tr th {\n",
       "        vertical-align: top;\n",
       "    }\n",
       "\n",
       "    .dataframe thead th {\n",
       "        text-align: right;\n",
       "    }\n",
       "</style>\n",
       "<table border=\"1\" class=\"dataframe\">\n",
       "  <thead>\n",
       "    <tr style=\"text-align: right;\">\n",
       "      <th></th>\n",
       "      <th>content</th>\n",
       "      <th>highlight</th>\n",
       "      <th>media_desc</th>\n",
       "      <th>title</th>\n",
       "    </tr>\n",
       "    <tr>\n",
       "      <th>id</th>\n",
       "      <th></th>\n",
       "      <th></th>\n",
       "      <th></th>\n",
       "      <th></th>\n",
       "    </tr>\n",
       "  </thead>\n",
       "  <tbody>\n",
       "    <tr>\n",
       "      <th>24760624</th>\n",
       "      <td>wtorek gdansku wystapil cyrk zalewski udzialem...</td>\n",
       "      <td>mieszkancy osowa chca okno wystepowal cyrk zwi...</td>\n",
       "      <td></td>\n",
       "      <td>cyrk zwierzetami gdansku mieszkancy oburzony b...</td>\n",
       "    </tr>\n",
       "  </tbody>\n",
       "</table>\n",
       "</div>"
      ],
      "text/plain": [
       "                                                    content  \\\n",
       "id                                                            \n",
       "24760624  wtorek gdansku wystapil cyrk zalewski udzialem...   \n",
       "\n",
       "                                                  highlight media_desc  \\\n",
       "id                                                                       \n",
       "24760624  mieszkancy osowa chca okno wystepowal cyrk zwi...              \n",
       "\n",
       "                                                      title  \n",
       "id                                                           \n",
       "24760624  cyrk zwierzetami gdansku mieszkancy oburzony b...  "
      ]
     },
     "execution_count": 74,
     "metadata": {},
     "output_type": "execute_result"
    }
   ],
   "source": [
    "lemmas.head(1)"
   ]
  },
  {
   "cell_type": "code",
   "execution_count": 104,
   "metadata": {},
   "outputs": [],
   "source": [
    "def add_tf_idf(columns):\n",
    "    whole_string = ''\n",
    "    for column in columns:\n",
    "        whole_string = whole_string + lemmas[column] + ' '\n",
    "    tf_idf = []\n",
    "    for record in whole_string.values:\n",
    "        return_record = []\n",
    "        counts = dict(Counter(record.split(' ')))\n",
    "        for feature_word in idf_voc:\n",
    "            if feature_word in counts.keys():\n",
    "                return_record.append(counts[feature_word]/idf[feature_word])\n",
    "            else:\n",
    "                return_record.append(0)\n",
    "        tf_idf.append(return_record)\n",
    "        \n",
    "    tmp = pd.DataFrame(tf_idf, index = lemmas.index)\n",
    "    tmp.columns = ['tf_idf_'+x for x in idf_voc]\n",
    "    \n",
    "    return tmp"
   ]
  },
  {
   "cell_type": "code",
   "execution_count": 107,
   "metadata": {
    "scrolled": true
   },
   "outputs": [],
   "source": [
    "df = pd.concat([df, add_tf_idf(['content', 'highlight', 'title', 'media_desc'])], axis = 1)"
   ]
  },
  {
   "cell_type": "code",
   "execution_count": 109,
   "metadata": {},
   "outputs": [
    {
     "data": {
      "text/plain": [
       "(1090, 11052)"
      ]
     },
     "execution_count": 109,
     "metadata": {},
     "output_type": "execute_result"
    }
   ],
   "source": [
    "df.shape"
   ]
  },
  {
   "cell_type": "code",
   "execution_count": 110,
   "metadata": {},
   "outputs": [
    {
     "data": {
      "text/plain": [
       "(1090, 10)"
      ]
     },
     "execution_count": 110,
     "metadata": {},
     "output_type": "execute_result"
    }
   ],
   "source": [
    "labels_df.shape"
   ]
  },
  {
   "cell_type": "markdown",
   "metadata": {},
   "source": [
    "## Features selection"
   ]
  },
  {
   "cell_type": "code",
   "execution_count": null,
   "metadata": {},
   "outputs": [],
   "source": []
  },
  {
   "cell_type": "code",
   "execution_count": null,
   "metadata": {},
   "outputs": [],
   "source": []
  },
  {
   "cell_type": "markdown",
   "metadata": {},
   "source": [
    "## Training"
   ]
  },
  {
   "cell_type": "code",
   "execution_count": null,
   "metadata": {},
   "outputs": [],
   "source": []
  },
  {
   "cell_type": "code",
   "execution_count": null,
   "metadata": {},
   "outputs": [],
   "source": []
  },
  {
   "cell_type": "markdown",
   "metadata": {},
   "source": [
    "## Validation"
   ]
  },
  {
   "cell_type": "code",
   "execution_count": null,
   "metadata": {},
   "outputs": [],
   "source": []
  },
  {
   "cell_type": "code",
   "execution_count": null,
   "metadata": {},
   "outputs": [],
   "source": []
  }
 ],
 "metadata": {
  "kernelspec": {
   "display_name": "Python 3",
   "language": "python",
   "name": "python3"
  },
  "language_info": {
   "codemirror_mode": {
    "name": "ipython",
    "version": 3
   },
   "file_extension": ".py",
   "mimetype": "text/x-python",
   "name": "python",
   "nbconvert_exporter": "python",
   "pygments_lexer": "ipython3",
   "version": "3.7.2"
  }
 },
 "nbformat": 4,
 "nbformat_minor": 2
}
