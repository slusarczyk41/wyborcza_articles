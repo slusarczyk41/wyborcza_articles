{
 "cells": [
  {
   "cell_type": "markdown",
   "metadata": {},
   "source": [
    "# Emotions and corresponding words"
   ]
  },
  {
   "cell_type": "code",
   "execution_count": 1,
   "metadata": {},
   "outputs": [],
   "source": [
    "# A few words per emotion I picked becacuse I thing are the most important\n",
    "from emotions import all_flag_words"
   ]
  },
  {
   "cell_type": "markdown",
   "metadata": {},
   "source": [
    "## SVD\n",
    "https://www.youtube.com/watch?v=ASn7ExxLZws"
   ]
  },
  {
   "cell_type": "markdown",
   "metadata": {},
   "source": [
    "### Data (matrix) preparation"
   ]
  },
  {
   "cell_type": "code",
   "execution_count": 2,
   "metadata": {},
   "outputs": [],
   "source": [
    "import pandas as pd\n",
    "import numpy as np"
   ]
  },
  {
   "cell_type": "code",
   "execution_count": 3,
   "metadata": {},
   "outputs": [],
   "source": [
    "df = pd.read_csv('../processed_comments_1.csv', nrows = 20000)[['words']]"
   ]
  },
  {
   "cell_type": "code",
   "execution_count": 4,
   "metadata": {},
   "outputs": [],
   "source": [
    "# I need only to process comments which contains my flag words\n",
    "df = df[df['words'].str.contains(r'|'.join(all_flag_words))]"
   ]
  },
  {
   "cell_type": "code",
   "execution_count": 5,
   "metadata": {},
   "outputs": [],
   "source": [
    "words_dict_counter = {}\n",
    "# this container will store information how offen a word occured with others, like\n",
    "{\n",
    "    \"flag_word\": {\n",
    "        \"corresponding_word_1\": 1,\n",
    "        \"corresponding_wrod_2\": 2,\n",
    "    }\n",
    "}\n",
    "\n",
    "# how far we want to look around word\n",
    "step = 5\n",
    "\n",
    "for comment in df['words']: # let's to first iteration\n",
    "    listed_comment = eval(comment) # ['a', 'b', 'c']\n",
    "\n",
    "    for i, word in enumerate(listed_comment): # 1, 'a'\n",
    "\n",
    "        if word not in words_dict_counter.keys(): # create 'a' key in container\n",
    "            words_dict_counter[word] = {}\n",
    "\n",
    "        if i-step < 0: # if the beginning of the comment\n",
    "            first_index = 0 # get first words\n",
    "            to_delete = i # and delete middle one\n",
    "        else:\n",
    "            first_index = i-step\n",
    "            to_delete = step\n",
    "\n",
    "        corresponding_words = listed_comment[first_index: i+step+1] # ['a', 'b', 'c']\n",
    "        del corresponding_words[to_delete] # ['b', 'c']\n",
    "        \n",
    "        for corresponding_word in corresponding_words:\n",
    "            if corresponding_word not in words_dict_counter[word].keys():\n",
    "                words_dict_counter[word][corresponding_word] = 1 # {'b': 1}, {'c': 1} \n",
    "            else:\n",
    "                words_dict_counter[word][corresponding_word] += 1"
   ]
  },
  {
   "cell_type": "code",
   "execution_count": 6,
   "metadata": {},
   "outputs": [],
   "source": [
    "words_to_stay_in_matrix = [] # we need unique words to create matrix\n",
    "for needed_word in all_flag_words:\n",
    "    if needed_word in words_dict_counter.keys():\n",
    "        words_to_stay_in_matrix.append(needed_word)\n",
    "        for found_word in words_dict_counter[needed_word]:\n",
    "            words_to_stay_in_matrix.append(found_word)"
   ]
  },
  {
   "cell_type": "code",
   "execution_count": 7,
   "metadata": {},
   "outputs": [],
   "source": [
    "# for SVD we need mirror matrix like\n",
    "[\n",
    "    [0, 1, 2],\n",
    "    [1, 0, 0],\n",
    "    [2, 0, 0],\n",
    "]\n",
    "matrix = []\n",
    "for i, ordered_word_i in enumerate(words_to_stay_in_matrix):\n",
    "    proximity = words_dict_counter[ordered_word_i]\n",
    "    ordered_row = []\n",
    "    for j, ordered_word_j in enumerate(words_to_stay_in_matrix):\n",
    "        if i == j:\n",
    "            ordered_row.append(0)\n",
    "            continue\n",
    "        if ordered_word_j in proximity.keys():\n",
    "            ordered_row.append(proximity[ordered_word_j])\n",
    "        else:\n",
    "            ordered_row.append(0)\n",
    "    matrix.append(ordered_row)"
   ]
  },
  {
   "cell_type": "code",
   "execution_count": 8,
   "metadata": {},
   "outputs": [],
   "source": [
    "word_matrix = np.array(matrix).astype('float32') # numpy's svd model won't accept integers"
   ]
  },
  {
   "cell_type": "code",
   "execution_count": 9,
   "metadata": {},
   "outputs": [
    {
     "data": {
      "text/plain": [
       "(5294, 5294)"
      ]
     },
     "execution_count": 9,
     "metadata": {},
     "output_type": "execute_result"
    }
   ],
   "source": [
    "word_matrix.shape"
   ]
  },
  {
   "cell_type": "markdown",
   "metadata": {},
   "source": [
    "### SVD evaluation"
   ]
  },
  {
   "cell_type": "code",
   "execution_count": 10,
   "metadata": {},
   "outputs": [],
   "source": [
    "import matplotlib.pyplot as plt"
   ]
  },
  {
   "cell_type": "code",
   "execution_count": 11,
   "metadata": {},
   "outputs": [],
   "source": [
    "U, s, V = np.linalg.svd(word_matrix, full_matrices=False)"
   ]
  },
  {
   "cell_type": "code",
   "execution_count": 12,
   "metadata": {},
   "outputs": [
    {
     "data": {
      "text/plain": [
       "(5294, 5294)"
      ]
     },
     "execution_count": 12,
     "metadata": {},
     "output_type": "execute_result"
    }
   ],
   "source": [
    "U.shape"
   ]
  },
  {
   "cell_type": "code",
   "execution_count": 13,
   "metadata": {},
   "outputs": [
    {
     "data": {
      "text/plain": [
       "[-0.08, 0.08, -0.08, 0.08]"
      ]
     },
     "execution_count": 13,
     "metadata": {},
     "output_type": "execute_result"
    },
    {
     "data": {
      "image/png": "[encoded data removed]",
      "text/plain": [
       "<Figure size 432x288 with 1 Axes>"
      ]
     },
     "metadata": {
      "needs_background": "light"
     },
     "output_type": "display_data"
    }
   ],
   "source": [
    "a = 0.08\n",
    "for i, word in enumerate(words_to_stay_in_matrix):\n",
    "    if word in all_flag_words:\n",
    "        plt.text(U[i, 0], U[i, 1], word, color='r')\n",
    "    else:\n",
    "        plt.text(U[i, 0], U[i, 1], word)\n",
    "plt.axis([-a, a, -a, a])"
   ]
  },
  {
   "cell_type": "markdown",
   "metadata": {},
   "source": [
    "Having so many comments it is not possible for me to make it work for whole dataset, and it seems that it won't give me a good results. Let's try another algorithm, word2vec."
   ]
  },
  {
   "cell_type": "code",
   "execution_count": null,
   "metadata": {},
   "outputs": [],
   "source": []
  }
 ],
 "metadata": {
  "kernelspec": {
   "display_name": "Python 3",
   "language": "python",
   "name": "python3"
  },
  "language_info": {
   "codemirror_mode": {
    "name": "ipython",
    "version": 3
   },
   "file_extension": ".py",
   "mimetype": "text/x-python",
   "name": "python",
   "nbconvert_exporter": "python",
   "pygments_lexer": "ipython3",
   "version": "3.7.2"
  }
 },
 "nbformat": 4,
 "nbformat_minor": 2
}
