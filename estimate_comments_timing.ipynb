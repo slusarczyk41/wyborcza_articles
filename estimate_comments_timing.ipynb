{
 "cells": [
  {
   "cell_type": "code",
   "execution_count": 1,
   "metadata": {},
   "outputs": [],
   "source": [
    "from pyspark.sql import SparkSession"
   ]
  },
  {
   "cell_type": "code",
   "execution_count": 2,
   "metadata": {},
   "outputs": [],
   "source": [
    "from pyspark.sql.functions import *\n",
    "from pyspark.sql.types import *"
   ]
  },
  {
   "cell_type": "code",
   "execution_count": 3,
   "metadata": {},
   "outputs": [],
   "source": [
    "spark = SparkSession\\\n",
    "    .builder\\\n",
    "    .master('local[2]')\\\n",
    "    .getOrCreate()"
   ]
  },
  {
   "cell_type": "code",
   "execution_count": 4,
   "metadata": {},
   "outputs": [
    {
     "data": {
      "text/html": [
       "\n",
       "            <div>\n",
       "                <p><b>SparkSession - in-memory</b></p>\n",
       "                \n",
       "        <div>\n",
       "            <p><b>SparkContext</b></p>\n",
       "\n",
       "            <p><a href=\"http://192.168.0.227:4040\">Spark UI</a></p>\n",
       "\n",
       "            <dl>\n",
       "              <dt>Version</dt>\n",
       "                <dd><code>v2.4.0</code></dd>\n",
       "              <dt>Master</dt>\n",
       "                <dd><code>local[2]</code></dd>\n",
       "              <dt>AppName</dt>\n",
       "                <dd><code>pyspark-shell</code></dd>\n",
       "            </dl>\n",
       "        </div>\n",
       "        \n",
       "            </div>\n",
       "        "
      ],
      "text/plain": [
       "<pyspark.sql.session.SparkSession at 0x7ff2278eaa90>"
      ]
     },
     "execution_count": 4,
     "metadata": {},
     "output_type": "execute_result"
    }
   ],
   "source": [
    "spark"
   ]
  },
  {
   "cell_type": "code",
   "execution_count": 6,
   "metadata": {},
   "outputs": [],
   "source": [
    "df = spark.read.json('data/comments/a_eve').cache()"
   ]
  },
  {
   "cell_type": "code",
   "execution_count": 8,
   "metadata": {},
   "outputs": [
    {
     "name": "stdout",
     "output_type": "stream",
     "text": [
      "root\n",
      " |-- comments: array (nullable = true)\n",
      " |    |-- element: struct (containsNull = true)\n",
      " |    |    |-- main_comment: struct (nullable = true)\n",
      " |    |    |    |-- author: string (nullable = true)\n",
      " |    |    |    |-- body: string (nullable = true)\n",
      " |    |    |    |-- date: string (nullable = true)\n",
      " |    |    |    |-- downvotes: string (nullable = true)\n",
      " |    |    |    |-- id: string (nullable = true)\n",
      " |    |    |    |-- suspicious: boolean (nullable = true)\n",
      " |    |    |    |-- upvotes: string (nullable = true)\n",
      " |    |    |-- sub_comments: array (nullable = true)\n",
      " |    |    |    |-- element: struct (containsNull = true)\n",
      " |    |    |    |    |-- author: string (nullable = true)\n",
      " |    |    |    |    |-- body: string (nullable = true)\n",
      " |    |    |    |    |-- date: string (nullable = true)\n",
      " |    |    |    |    |-- downvotes: string (nullable = true)\n",
      " |    |    |    |    |-- id: string (nullable = true)\n",
      " |    |    |    |    |-- reply_to: string (nullable = true)\n",
      " |    |    |    |    |-- suspicious: boolean (nullable = true)\n",
      " |    |    |    |    |-- upvotes: string (nullable = true)\n",
      " |-- content: string (nullable = true)\n",
      " |-- division: string (nullable = true)\n",
      " |-- highlight: string (nullable = true)\n",
      " |-- media_desc: string (nullable = true)\n",
      " |-- media_src: string (nullable = true)\n",
      " |-- media_type: string (nullable = true)\n",
      "\n"
     ]
    }
   ],
   "source": [
    "df.printSchema()"
   ]
  },
  {
   "cell_type": "code",
   "execution_count": 20,
   "metadata": {},
   "outputs": [
    {
     "name": "stdout",
     "output_type": "stream",
     "text": [
      "+--------------------+\n",
      "|                date|\n",
      "+--------------------+\n",
      "|[20.05.2019, 16:4...|\n",
      "|[20.05.2019, 16:4...|\n",
      "|[20.05.2019, 16:4...|\n",
      "|[20.05.2019, 16:4...|\n",
      "|[20.05.2019, 16:4...|\n",
      "|[20.05.2019, 16:4...|\n",
      "|[20.05.2019, 16:4...|\n",
      "|[20.05.2019, 16:4...|\n",
      "|[20.05.2019, 16:4...|\n",
      "|[20.05.2019, 16:4...|\n",
      "|[20.05.2019, 16:4...|\n",
      "|[20.05.2019, 16:4...|\n",
      "|[20.05.2019, 16:4...|\n",
      "|[20.05.2019, 16:4...|\n",
      "|[20.05.2019, 16:4...|\n",
      "|[20.05.2019, 16:4...|\n",
      "|[20.05.2019, 16:4...|\n",
      "|[20.05.2019, 16:4...|\n",
      "|[20.05.2019, 16:4...|\n",
      "|[20.05.2019, 16:4...|\n",
      "|[20.05.2019, 16:4...|\n",
      "|[20.05.2019, 16:4...|\n",
      "|[20.05.2019, 16:4...|\n",
      "|[20.05.2019, 16:4...|\n",
      "|[20.05.2019, 16:4...|\n",
      "|[20.05.2019, 16:4...|\n",
      "|[20.05.2019, 16:4...|\n",
      "|[20.05.2019, 16:4...|\n",
      "|[20.05.2019, 16:4...|\n",
      "|[20.05.2019, 16:4...|\n",
      "|[20.05.2019, 16:4...|\n",
      "|[20.05.2019, 16:4...|\n",
      "|[20.05.2019, 16:4...|\n",
      "|[20.05.2019, 16:4...|\n",
      "|[20.05.2019, 16:4...|\n",
      "|[20.05.2019, 16:4...|\n",
      "|[20.05.2019, 16:4...|\n",
      "|[20.05.2019, 16:4...|\n",
      "|[20.05.2019, 16:4...|\n",
      "|[20.05.2019, 16:4...|\n",
      "|[20.05.2019, 16:4...|\n",
      "|[20.05.2019, 16:4...|\n",
      "|[20.05.2019, 16:4...|\n",
      "|[20.05.2019, 16:4...|\n",
      "|[20.05.2019, 16:4...|\n",
      "|[20.05.2019, 16:4...|\n",
      "|[20.05.2019, 16:4...|\n",
      "|[20.05.2019, 16:4...|\n",
      "|[20.05.2019, 16:4...|\n",
      "|[20.05.2019, 16:4...|\n",
      "|[20.05.2019, 16:4...|\n",
      "|[20.05.2019, 16:4...|\n",
      "|[20.05.2019, 16:4...|\n",
      "|[20.05.2019, 16:4...|\n",
      "|[20.05.2019, 16:4...|\n",
      "|[20.05.2019, 16:4...|\n",
      "|[20.05.2019, 17:4...|\n",
      "|[20.05.2019, 17:4...|\n",
      "|[20.05.2019, 17:4...|\n",
      "|[20.05.2019, 17:4...|\n",
      "|[20.05.2019, 17:4...|\n",
      "|[20.05.2019, 17:4...|\n",
      "|[20.05.2019, 17:4...|\n",
      "|[20.05.2019, 17:4...|\n",
      "|[20.05.2019, 17:4...|\n",
      "|[20.05.2019, 17:4...|\n",
      "|[20.05.2019, 17:4...|\n",
      "|[20.05.2019, 17:4...|\n",
      "|[20.05.2019, 17:4...|\n",
      "|[20.05.2019, 17:4...|\n",
      "|[20.05.2019, 17:4...|\n",
      "|[20.05.2019, 17:4...|\n",
      "|[20.05.2019, 17:4...|\n",
      "|[20.05.2019, 17:4...|\n",
      "|[20.05.2019, 17:4...|\n",
      "|[20.05.2019, 17:4...|\n",
      "|[20.05.2019, 17:4...|\n",
      "|[20.05.2019, 17:4...|\n",
      "|[20.05.2019, 17:4...|\n",
      "|[20.05.2019, 17:4...|\n",
      "|[20.05.2019, 17:4...|\n",
      "|[20.05.2019, 17:4...|\n",
      "+--------------------+\n",
      "\n"
     ]
    }
   ],
   "source": [
    "df\\\n",
    "    .select('comments.main_comment.date')\\\n",
    "    .show()"
   ]
  },
  {
   "cell_type": "code",
   "execution_count": null,
   "metadata": {},
   "outputs": [],
   "source": []
  },
  {
   "cell_type": "code",
   "execution_count": null,
   "metadata": {},
   "outputs": [],
   "source": []
  },
  {
   "cell_type": "code",
   "execution_count": null,
   "metadata": {},
   "outputs": [],
   "source": []
  }
 ],
 "metadata": {
  "kernelspec": {
   "display_name": "Python 3",
   "language": "python",
   "name": "python3"
  },
  "language_info": {
   "codemirror_mode": {
    "name": "ipython",
    "version": 3
   },
   "file_extension": ".py",
   "mimetype": "text/x-python",
   "name": "python",
   "nbconvert_exporter": "python",
   "pygments_lexer": "ipython3",
   "version": "3.7.2"
  }
 },
 "nbformat": 4,
 "nbformat_minor": 2
}
