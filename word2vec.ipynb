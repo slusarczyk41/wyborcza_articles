{
 "cells": [
  {
   "cell_type": "code",
   "execution_count": 1,
   "metadata": {},
   "outputs": [],
   "source": [
    "# theory: https://www.youtube.com/watch?v=ERibwqs9p38\n",
    "# practice:\n",
    "\n",
    "# algorithms: \n",
    "# SG - Skip grams (predit context based on word)\n",
    "# CBOW - Countinous bag of words (predict word based on context)\n",
    "\n",
    "# training:\n",
    "# Hierarchical softmax\n",
    "# Negative sampling\n",
    "# Naive softmax ???\n",
    "\n",
    "# backpropagation ~ chain rule of derivatives\n",
    "# sparse coding for context words\n",
    "\n",
    "# I will use it to create vectors (or use SVD or GloVe)\n",
    "# Do pca to draw a graph\n",
    "# Pick a few words for each emotion\n",
    "# Mark them on chart and pick surrouding words\n",
    "# The more close it is the bigger weight has\n",
    "\n",
    "# And then I have more emotionaly sensed words for classification \n",
    "# from which I can label each comment\n",
    "# And train model to classify comment based on TF*ITF"
   ]
  },
  {
   "cell_type": "markdown",
   "metadata": {},
   "source": [
    "## Data type preparation"
   ]
  },
  {
   "cell_type": "code",
   "execution_count": 2,
   "metadata": {},
   "outputs": [],
   "source": [
    "import pandas as pd"
   ]
  },
  {
   "cell_type": "code",
   "execution_count": 3,
   "metadata": {},
   "outputs": [],
   "source": [
    "import numpy as np"
   ]
  },
  {
   "cell_type": "code",
   "execution_count": 4,
   "metadata": {},
   "outputs": [],
   "source": [
    "df = pd.read_csv('processed_comments.csv', nrows=1000)[['words']]"
   ]
  },
  {
   "cell_type": "code",
   "execution_count": 5,
   "metadata": {},
   "outputs": [],
   "source": [
    "words_dict_counter = {}\n",
    "step = 3\n",
    "\n",
    "for comment in df['words']:\n",
    "    listed_comment = eval(comment)\n",
    "    for i, word in enumerate(listed_comment):\n",
    "        if word not in words_dict_counter.keys():\n",
    "            words_dict_counter[word] = {}\n",
    "            \n",
    "        if i-step < 0:\n",
    "            first_index = 0\n",
    "            to_delete = i\n",
    "        else:\n",
    "            first_index = i-step\n",
    "            to_delete = step\n",
    "            \n",
    "        corresponding_words = listed_comment[first_index: i+step+1]\n",
    "        del corresponding_words[to_delete]\n",
    "        \n",
    "        for corresponding_word in corresponding_words:\n",
    "            if corresponding_word not in words_dict_counter[word].keys():\n",
    "                words_dict_counter[word][corresponding_word] = 1\n",
    "            else:\n",
    "                words_dict_counter[word][corresponding_word] += 1"
   ]
  },
  {
   "cell_type": "code",
   "execution_count": 6,
   "metadata": {},
   "outputs": [],
   "source": [
    "word_order = words_dict_counter.keys()"
   ]
  },
  {
   "cell_type": "code",
   "execution_count": 7,
   "metadata": {},
   "outputs": [],
   "source": [
    "matrix = []\n",
    "for i, ordered_word_i in enumerate(word_order):\n",
    "    proximity = words_dict_counter[ordered_word_i]\n",
    "    ordered_row = []\n",
    "    for j, ordered_word_j in enumerate(word_order):\n",
    "        if i == j:\n",
    "            ordered_row.append(0)\n",
    "            continue\n",
    "        if ordered_word_j in proximity.keys():\n",
    "            ordered_row.append(proximity[ordered_word_j])\n",
    "        else:\n",
    "            ordered_row.append(0)\n",
    "    matrix.append(ordered_row)"
   ]
  },
  {
   "cell_type": "code",
   "execution_count": 8,
   "metadata": {},
   "outputs": [],
   "source": [
    "word_matrix = np.array(matrix).astype('float32')"
   ]
  },
  {
   "cell_type": "markdown",
   "metadata": {},
   "source": [
    "## Emotions"
   ]
  },
  {
   "cell_type": "code",
   "execution_count": 9,
   "metadata": {},
   "outputs": [],
   "source": [
    "# Articles about terrorism or murder\n",
    "rage = ['nienawidze', 'zabic']\n",
    "# Goverment changes something to bettter\n",
    "joy = ['dziekuje', 'swietnie']\n",
    "# Tragedy\n",
    "sadness = ['dolujace', 'smutne']\n",
    "# Celebretities gossips\n",
    "surprise = ['zaskoczylo', 'dziwne']\n",
    "# Scary news\n",
    "fear = ['boje']\n",
    "\n",
    "# \n",
    "neutral = ['']"
   ]
  },
  {
   "cell_type": "markdown",
   "metadata": {},
   "source": [
    "## Word assosiations"
   ]
  },
  {
   "cell_type": "code",
   "execution_count": null,
   "metadata": {},
   "outputs": [],
   "source": [
    "import matplotlib.plot as plt"
   ]
  },
  {
   "cell_type": "markdown",
   "metadata": {},
   "source": [
    "## SVD\n",
    "https://www.tensorflow.org/api_docs/python/tf/linalg/svd"
   ]
  },
  {
   "cell_type": "code",
   "execution_count": 16,
   "metadata": {},
   "outputs": [],
   "source": [
    "# s, u, v = tf.linalg.svd(word_matrix)"
   ]
  },
  {
   "cell_type": "code",
   "execution_count": null,
   "metadata": {},
   "outputs": [],
   "source": [
    "U, s, V = np.linalg.svd(word_matrix, full_matrices=False)"
   ]
  },
  {
   "cell_type": "code",
   "execution_count": null,
   "metadata": {},
   "outputs": [],
   "source": [
    "for i, word in enumerate(word_order):\n",
    "    "
   ]
  },
  {
   "cell_type": "code",
   "execution_count": null,
   "metadata": {},
   "outputs": [],
   "source": []
  },
  {
   "cell_type": "markdown",
   "metadata": {},
   "source": [
    "## Word2Vec"
   ]
  },
  {
   "cell_type": "code",
   "execution_count": null,
   "metadata": {},
   "outputs": [],
   "source": []
  },
  {
   "cell_type": "code",
   "execution_count": null,
   "metadata": {},
   "outputs": [],
   "source": []
  },
  {
   "cell_type": "markdown",
   "metadata": {},
   "source": [
    "## GloVe"
   ]
  },
  {
   "cell_type": "code",
   "execution_count": null,
   "metadata": {},
   "outputs": [],
   "source": []
  },
  {
   "cell_type": "code",
   "execution_count": null,
   "metadata": {},
   "outputs": [],
   "source": []
  },
  {
   "cell_type": "markdown",
   "metadata": {},
   "source": [
    "## Pick a few emotion words and their proimity from models"
   ]
  },
  {
   "cell_type": "code",
   "execution_count": null,
   "metadata": {},
   "outputs": [],
   "source": []
  },
  {
   "cell_type": "code",
   "execution_count": null,
   "metadata": {},
   "outputs": [],
   "source": []
  },
  {
   "cell_type": "markdown",
   "metadata": {},
   "source": [
    "## Assign labels to comments"
   ]
  },
  {
   "cell_type": "code",
   "execution_count": null,
   "metadata": {},
   "outputs": [],
   "source": []
  },
  {
   "cell_type": "code",
   "execution_count": null,
   "metadata": {},
   "outputs": [],
   "source": []
  }
 ],
 "metadata": {
  "kernelspec": {
   "display_name": "Python 3",
   "language": "python",
   "name": "python3"
  },
  "language_info": {
   "codemirror_mode": {
    "name": "ipython",
    "version": 3
   },
   "file_extension": ".py",
   "mimetype": "text/x-python",
   "name": "python",
   "nbconvert_exporter": "python",
   "pygments_lexer": "ipython3",
   "version": "3.7.2"
  }
 },
 "nbformat": 4,
 "nbformat_minor": 2
}
